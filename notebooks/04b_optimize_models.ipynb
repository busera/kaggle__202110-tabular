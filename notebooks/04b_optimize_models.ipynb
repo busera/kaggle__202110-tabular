{
 "cells": [
  {
   "cell_type": "markdown",
   "metadata": {},
   "source": [
    "04b: Version with PCA\n",
    "\n",
    "2021-10-25: \n",
    "  - Testing MLFlow integration\n",
    "  - Testing 12 clusters and poly degree 3 incl poly for clusters\n",
    "  - Started new approach for evaluation metrics (not fully implemented yet)\n",
    "  - Changed to conda environment (with pip only dependencies)"
   ]
  },
  {
   "cell_type": "code",
   "execution_count": 15,
   "id": "7e6e82a2",
   "metadata": {
    "_cell_guid": "b1076dfc-b9ad-4769-8c92-a6c4dae69d19",
    "_uuid": "8f2839f25d086af736a60e9eeb907d3b93b6e0e5",
    "execution": {
     "iopub.execute_input": "2021-10-17T14:10:49.100187Z",
     "iopub.status.busy": "2021-10-17T14:10:49.099085Z",
     "iopub.status.idle": "2021-10-17T14:10:50.363556Z",
     "shell.execute_reply": "2021-10-17T14:10:50.362751Z",
     "shell.execute_reply.started": "2021-10-17T14:02:39.499327Z"
    },
    "papermill": {
     "duration": 1.296891,
     "end_time": "2021-10-17T14:10:50.363730",
     "exception": false,
     "start_time": "2021-10-17T14:10:49.066839",
     "status": "completed"
    },
    "tags": []
   },
   "outputs": [
    {
     "name": "stdout",
     "output_type": "stream",
     "text": [
      "The watermark extension is already loaded. To reload it, use:\n",
      "  %reload_ext watermark\n"
     ]
    }
   ],
   "source": [
    "# The rest of the modules are loaded when required.\n",
    "# To ensure a standalone character (for easier reusability).\n",
    "\n",
    "import os # for detecting CPU cores\n",
    "import configparser # to load standard config and parameters\n",
    "import pandas as pd\n",
    "import numpy as np\n",
    "import warnings\n",
    "\n",
    "# Visualization\n",
    "import matplotlib.pyplot as plt\n",
    "import seaborn as sns\n",
    "import plotly.figure_factory as ff\n",
    "import plotly.express as px\n",
    "\n",
    "import mlflow\n",
    "import mlflow.xgboost\n",
    "from urllib.parse import urlparse\n",
    "\n",
    "# Debugging\n",
    "from icecream import ic\n",
    "\n",
    "warnings.filterwarnings('ignore')\n",
    "%load_ext watermark\n",
    "%matplotlib inline"
   ]
  },
  {
   "cell_type": "code",
   "execution_count": 16,
   "metadata": {},
   "outputs": [
    {
     "name": "stdout",
     "output_type": "stream",
     "text": [
      "True\n",
      "True\n",
      "[PhysicalDevice(name='/physical_device:GPU:0', device_type='GPU')]\n"
     ]
    }
   ],
   "source": [
    "# importing the tensorflow package\n",
    "import tensorflow as tf\n",
    "\n",
    "# Checking GPU support\n",
    "print(tf.test.is_built_with_cuda()) # True\n",
    "print(tf.test.is_gpu_available(cuda_only=False, min_cuda_compute_capability=None)) # True\n",
    "print(tf.config.list_physical_devices('GPU'))"
   ]
  },
  {
   "cell_type": "code",
   "execution_count": 17,
   "metadata": {},
   "outputs": [
    {
     "name": "stdout",
     "output_type": "stream",
     "text": [
      "Number of CPUs used: 16\n"
     ]
    }
   ],
   "source": [
    "import os\n",
    "import configparser\n",
    "\n",
    "# Load external config file\n",
    "config = configparser.ConfigParser()\n",
    "config.read(\"../resources/config.ini\")\n",
    "\n",
    "PATH_DATA_RAW = config[\"PATHS\"][\"PATH_DATA_RAW\"]\n",
    "PATH_DATA_INT = config[\"PATHS\"][\"PATH_DATA_INT\"]\n",
    "PATH_DATA_PRO = config[\"PATHS\"][\"PATH_DATA_PRO\"]\n",
    "PATH_REPORTS = config[\"PATHS\"][\"PATH_REPORTS\"]\n",
    "PATH_MODELS = config[\"PATHS\"][\"PATH_MODELS\"]\n",
    "PATH_SUB = config[\"PATHS\"][\"PATH_SUB\"]\n",
    "\n",
    "# Telegram Bot\n",
    "token = config[\"TELEGRAM\"][\"token\"]\n",
    "chat_id = config[\"TELEGRAM\"][\"chat_id\"]\n",
    "FILENAME_NB = \"02_baseline_models\" # for Telegram messages\n",
    "\n",
    "# Set global randome state\n",
    "rnd_state = 42\n",
    "\n",
    "# Define available cpu cores\n",
    "n_cpu = os.cpu_count()\n",
    "print(\"Number of CPUs used:\", n_cpu)"
   ]
  },
  {
   "cell_type": "code",
   "execution_count": 18,
   "metadata": {},
   "outputs": [],
   "source": [
    "train_df = pd.read_csv(PATH_DATA_RAW+'train.csv',index_col=0)\n",
    "test_df = pd.read_csv(PATH_DATA_RAW+'test.csv',index_col=0)\n",
    "sample_df = pd.read_csv(PATH_DATA_RAW+'sample_submission.csv')"
   ]
  },
  {
   "cell_type": "code",
   "execution_count": 19,
   "metadata": {},
   "outputs": [
    {
     "data": {
      "text/html": [
       "<div>\n",
       "<style scoped>\n",
       "    .dataframe tbody tr th:only-of-type {\n",
       "        vertical-align: middle;\n",
       "    }\n",
       "\n",
       "    .dataframe tbody tr th {\n",
       "        vertical-align: top;\n",
       "    }\n",
       "\n",
       "    .dataframe thead th {\n",
       "        text-align: right;\n",
       "    }\n",
       "</style>\n",
       "<table border=\"1\" class=\"dataframe\">\n",
       "  <thead>\n",
       "    <tr style=\"text-align: right;\">\n",
       "      <th></th>\n",
       "      <th>f0</th>\n",
       "      <th>f1</th>\n",
       "      <th>f2</th>\n",
       "      <th>f3</th>\n",
       "      <th>f4</th>\n",
       "      <th>f5</th>\n",
       "      <th>f6</th>\n",
       "      <th>f7</th>\n",
       "      <th>f8</th>\n",
       "      <th>f9</th>\n",
       "      <th>...</th>\n",
       "      <th>f276</th>\n",
       "      <th>f277</th>\n",
       "      <th>f278</th>\n",
       "      <th>f279</th>\n",
       "      <th>f280</th>\n",
       "      <th>f281</th>\n",
       "      <th>f282</th>\n",
       "      <th>f283</th>\n",
       "      <th>f284</th>\n",
       "      <th>target</th>\n",
       "    </tr>\n",
       "    <tr>\n",
       "      <th>id</th>\n",
       "      <th></th>\n",
       "      <th></th>\n",
       "      <th></th>\n",
       "      <th></th>\n",
       "      <th></th>\n",
       "      <th></th>\n",
       "      <th></th>\n",
       "      <th></th>\n",
       "      <th></th>\n",
       "      <th></th>\n",
       "      <th></th>\n",
       "      <th></th>\n",
       "      <th></th>\n",
       "      <th></th>\n",
       "      <th></th>\n",
       "      <th></th>\n",
       "      <th></th>\n",
       "      <th></th>\n",
       "      <th></th>\n",
       "      <th></th>\n",
       "      <th></th>\n",
       "    </tr>\n",
       "  </thead>\n",
       "  <tbody>\n",
       "    <tr>\n",
       "      <th>0</th>\n",
       "      <td>0.205979</td>\n",
       "      <td>0.410993</td>\n",
       "      <td>0.176775</td>\n",
       "      <td>0.223581</td>\n",
       "      <td>0.423543</td>\n",
       "      <td>0.476140</td>\n",
       "      <td>0.413590</td>\n",
       "      <td>0.612021</td>\n",
       "      <td>0.534873</td>\n",
       "      <td>0.147295</td>\n",
       "      <td>...</td>\n",
       "      <td>0</td>\n",
       "      <td>1</td>\n",
       "      <td>0</td>\n",
       "      <td>0</td>\n",
       "      <td>0</td>\n",
       "      <td>0</td>\n",
       "      <td>0</td>\n",
       "      <td>0</td>\n",
       "      <td>0</td>\n",
       "      <td>1</td>\n",
       "    </tr>\n",
       "    <tr>\n",
       "      <th>1</th>\n",
       "      <td>0.181004</td>\n",
       "      <td>0.473119</td>\n",
       "      <td>0.011734</td>\n",
       "      <td>0.213657</td>\n",
       "      <td>0.619678</td>\n",
       "      <td>0.441593</td>\n",
       "      <td>0.230407</td>\n",
       "      <td>0.686013</td>\n",
       "      <td>0.281971</td>\n",
       "      <td>0.238509</td>\n",
       "      <td>...</td>\n",
       "      <td>0</td>\n",
       "      <td>1</td>\n",
       "      <td>0</td>\n",
       "      <td>0</td>\n",
       "      <td>0</td>\n",
       "      <td>0</td>\n",
       "      <td>0</td>\n",
       "      <td>0</td>\n",
       "      <td>0</td>\n",
       "      <td>1</td>\n",
       "    </tr>\n",
       "    <tr>\n",
       "      <th>2</th>\n",
       "      <td>0.182583</td>\n",
       "      <td>0.307431</td>\n",
       "      <td>0.325950</td>\n",
       "      <td>0.207116</td>\n",
       "      <td>0.605699</td>\n",
       "      <td>0.309695</td>\n",
       "      <td>0.493337</td>\n",
       "      <td>0.751107</td>\n",
       "      <td>0.536272</td>\n",
       "      <td>0.286813</td>\n",
       "      <td>...</td>\n",
       "      <td>0</td>\n",
       "      <td>0</td>\n",
       "      <td>0</td>\n",
       "      <td>1</td>\n",
       "      <td>1</td>\n",
       "      <td>0</td>\n",
       "      <td>0</td>\n",
       "      <td>0</td>\n",
       "      <td>0</td>\n",
       "      <td>1</td>\n",
       "    </tr>\n",
       "    <tr>\n",
       "      <th>3</th>\n",
       "      <td>0.180240</td>\n",
       "      <td>0.494592</td>\n",
       "      <td>0.008367</td>\n",
       "      <td>0.223580</td>\n",
       "      <td>0.760618</td>\n",
       "      <td>0.439211</td>\n",
       "      <td>0.432055</td>\n",
       "      <td>0.776147</td>\n",
       "      <td>0.483958</td>\n",
       "      <td>0.260886</td>\n",
       "      <td>...</td>\n",
       "      <td>0</td>\n",
       "      <td>0</td>\n",
       "      <td>0</td>\n",
       "      <td>0</td>\n",
       "      <td>1</td>\n",
       "      <td>0</td>\n",
       "      <td>0</td>\n",
       "      <td>0</td>\n",
       "      <td>0</td>\n",
       "      <td>1</td>\n",
       "    </tr>\n",
       "    <tr>\n",
       "      <th>4</th>\n",
       "      <td>0.177172</td>\n",
       "      <td>0.495513</td>\n",
       "      <td>0.014263</td>\n",
       "      <td>0.548819</td>\n",
       "      <td>0.625396</td>\n",
       "      <td>0.562493</td>\n",
       "      <td>0.117158</td>\n",
       "      <td>0.561255</td>\n",
       "      <td>0.077115</td>\n",
       "      <td>0.158321</td>\n",
       "      <td>...</td>\n",
       "      <td>0</td>\n",
       "      <td>1</td>\n",
       "      <td>1</td>\n",
       "      <td>0</td>\n",
       "      <td>1</td>\n",
       "      <td>0</td>\n",
       "      <td>0</td>\n",
       "      <td>1</td>\n",
       "      <td>0</td>\n",
       "      <td>1</td>\n",
       "    </tr>\n",
       "  </tbody>\n",
       "</table>\n",
       "<p>5 rows × 286 columns</p>\n",
       "</div>"
      ],
      "text/plain": [
       "          f0        f1        f2        f3        f4        f5        f6  \\\n",
       "id                                                                         \n",
       "0   0.205979  0.410993  0.176775  0.223581  0.423543  0.476140  0.413590   \n",
       "1   0.181004  0.473119  0.011734  0.213657  0.619678  0.441593  0.230407   \n",
       "2   0.182583  0.307431  0.325950  0.207116  0.605699  0.309695  0.493337   \n",
       "3   0.180240  0.494592  0.008367  0.223580  0.760618  0.439211  0.432055   \n",
       "4   0.177172  0.495513  0.014263  0.548819  0.625396  0.562493  0.117158   \n",
       "\n",
       "          f7        f8        f9  ...  f276  f277  f278  f279  f280  f281  \\\n",
       "id                                ...                                       \n",
       "0   0.612021  0.534873  0.147295  ...     0     1     0     0     0     0   \n",
       "1   0.686013  0.281971  0.238509  ...     0     1     0     0     0     0   \n",
       "2   0.751107  0.536272  0.286813  ...     0     0     0     1     1     0   \n",
       "3   0.776147  0.483958  0.260886  ...     0     0     0     0     1     0   \n",
       "4   0.561255  0.077115  0.158321  ...     0     1     1     0     1     0   \n",
       "\n",
       "    f282  f283  f284  target  \n",
       "id                            \n",
       "0      0     0     0       1  \n",
       "1      0     0     0       1  \n",
       "2      0     0     0       1  \n",
       "3      0     0     0       1  \n",
       "4      0     1     0       1  \n",
       "\n",
       "[5 rows x 286 columns]"
      ]
     },
     "execution_count": 19,
     "metadata": {},
     "output_type": "execute_result"
    }
   ],
   "source": [
    "train_df.head()"
   ]
  },
  {
   "cell_type": "code",
   "execution_count": 20,
   "metadata": {},
   "outputs": [
    {
     "data": {
      "text/plain": [
       "2189.63623046875"
      ]
     },
     "execution_count": 20,
     "metadata": {},
     "output_type": "execute_result"
    }
   ],
   "source": [
    "memory_usage = train_df.memory_usage(deep=True) / 1024 ** 2\n",
    "start_mem = memory_usage.sum()\n",
    "start_mem"
   ]
  },
  {
   "cell_type": "code",
   "execution_count": 21,
   "id": "56f120a1",
   "metadata": {
    "execution": {
     "iopub.execute_input": "2021-10-17T14:12:29.537157Z",
     "iopub.status.busy": "2021-10-17T14:12:29.536402Z",
     "iopub.status.idle": "2021-10-17T14:14:15.272246Z",
     "shell.execute_reply": "2021-10-17T14:14:15.271300Z",
     "shell.execute_reply.started": "2021-10-17T14:03:51.505616Z"
    },
    "papermill": {
     "duration": 105.759009,
     "end_time": "2021-10-17T14:14:15.272456",
     "exception": false,
     "start_time": "2021-10-17T14:12:29.513447",
     "status": "completed"
    },
    "tags": []
   },
   "outputs": [
    {
     "name": "stderr",
     "output_type": "stream",
     "text": [
      "ic| len(feature_cols): 285\n",
      "ic| len(cnt_features): 240\n",
      "ic| len(cat_features): 45\n"
     ]
    }
   ],
   "source": [
    "feature_cols = train_df.drop(['target'], axis=1).columns.tolist()\n",
    "cnt_features = train_df.drop(['target'], axis=1).select_dtypes(exclude=['int64']).columns.tolist()\n",
    "cat_features = train_df.drop(['target'], axis=1).select_dtypes(exclude=['float64']).columns.tolist()\n",
    "\n",
    "ic(len(feature_cols))\n",
    "ic(len(cnt_features))\n",
    "ic(len(cat_features));"
   ]
  },
  {
   "cell_type": "code",
   "execution_count": 22,
   "metadata": {},
   "outputs": [
    {
     "name": "stderr",
     "output_type": "stream",
     "text": [
      "ic| len(useful_features): 13\n"
     ]
    }
   ],
   "source": [
    "#useful_features = useful_features = [\"f22\", \"f179\", \"f69\", \"f58\", \"f214\", \"f78\", \"f136\", \"f156\", \"f8\", \"f3\", \"f77\", \"f200\", \"f92\", \"f185\", \"f142\", \"f115\", \"f284\"]\n",
    "useful_features = pd.read_csv(PATH_DATA_INT+'features_selected_6way_140.csv')['Feature'].head(13).tolist()\n",
    "ic(len(useful_features));"
   ]
  },
  {
   "cell_type": "code",
   "execution_count": 23,
   "metadata": {},
   "outputs": [],
   "source": [
    "#feature_cols = useful_features"
   ]
  },
  {
   "cell_type": "code",
   "execution_count": 24,
   "metadata": {},
   "outputs": [],
   "source": [
    "train_df[cnt_features] = train_df[cnt_features].astype('float32')\n",
    "train_df[cat_features] = train_df[cat_features].astype('uint8')\n",
    "\n",
    "test_df[cnt_features] = test_df[cnt_features].astype('float32')\n",
    "test_df[cat_features] = test_df[cat_features].astype('uint8')"
   ]
  },
  {
   "cell_type": "code",
   "execution_count": 25,
   "metadata": {},
   "outputs": [
    {
     "data": {
      "text/plain": [
       "973.7014770507812"
      ]
     },
     "execution_count": 25,
     "metadata": {},
     "output_type": "execute_result"
    }
   ],
   "source": [
    "memory_usage = train_df.memory_usage(deep=True) / 1024 ** 2\n",
    "end_mem = memory_usage.sum()\n",
    "end_mem"
   ]
  },
  {
   "cell_type": "code",
   "execution_count": 26,
   "id": "0488ea1f",
   "metadata": {
    "execution": {
     "iopub.execute_input": "2021-10-17T14:14:15.300157Z",
     "iopub.status.busy": "2021-10-17T14:14:15.299447Z",
     "iopub.status.idle": "2021-10-17T14:14:15.302612Z",
     "shell.execute_reply": "2021-10-17T14:14:15.303123Z",
     "shell.execute_reply.started": "2021-10-17T14:05:38.232603Z"
    },
    "papermill": {
     "duration": 0.019794,
     "end_time": "2021-10-17T14:14:15.303309",
     "exception": false,
     "start_time": "2021-10-17T14:14:15.283515",
     "status": "completed"
    },
    "tags": []
   },
   "outputs": [
    {
     "name": "stdout",
     "output_type": "stream",
     "text": [
      "Mem. usage decreased from 2189.64 MB to 973.70 MB (55.53% reduction)\n"
     ]
    }
   ],
   "source": [
    "print(\"Mem. usage decreased from {:.2f} MB to {:.2f} MB ({:.2f}% reduction)\".format(start_mem, end_mem, 100 * (start_mem - end_mem) / start_mem))"
   ]
  },
  {
   "cell_type": "markdown",
   "metadata": {},
   "source": [
    "# Feature Engineering"
   ]
  },
  {
   "cell_type": "markdown",
   "metadata": {},
   "source": [
    "## KMeans Clustering"
   ]
  },
  {
   "cell_type": "code",
   "execution_count": 27,
   "metadata": {},
   "outputs": [
    {
     "name": "stderr",
     "output_type": "stream",
     "text": [
      "ic| n_clusters_1: 12\n",
      "ic| cluster_cols: ['cluster1',\n",
      "                   'cluster2',\n",
      "                   'cluster3',\n",
      "                   'cluster4',\n",
      "                   'cluster5',\n",
      "                   'cluster6',\n",
      "                   'cluster7',\n",
      "                   'cluster8',\n",
      "                   'cluster9',\n",
      "                   'cluster10',\n",
      "                   'cluster11',\n",
      "                   'cluster12']\n"
     ]
    }
   ],
   "source": [
    "from sklearn.cluster import KMeans\n",
    "\n",
    "n_clusters_1 = 12\n",
    "cluster_cols = [f\"cluster{i+1}\" for i in range(n_clusters_1)]\n",
    "kmeans = KMeans(n_clusters=n_clusters_1, n_init=50, max_iter=500, random_state=rnd_state)\n",
    "\n",
    "ic(n_clusters_1)\n",
    "#ic(cluster_cols);"
   ]
  },
  {
   "cell_type": "code",
   "execution_count": 28,
   "id": "c204f8bf",
   "metadata": {
    "execution": {
     "iopub.execute_input": "2021-10-17T14:14:15.336900Z",
     "iopub.status.busy": "2021-10-17T14:14:15.336109Z",
     "iopub.status.idle": "2021-10-17T14:15:10.593911Z",
     "shell.execute_reply": "2021-10-17T14:15:10.593190Z",
     "shell.execute_reply.started": "2021-10-17T14:05:38.239391Z"
    },
    "papermill": {
     "duration": 55.27928,
     "end_time": "2021-10-17T14:15:10.594081",
     "exception": false,
     "start_time": "2021-10-17T14:14:15.314801",
     "status": "completed"
    },
    "tags": []
   },
   "outputs": [],
   "source": [
    "# cluster distance instead of cluster number\n",
    "\n",
    "# train\n",
    "X_cd = kmeans.fit_transform(train_df[useful_features])\n",
    "X_cd = pd.DataFrame(X_cd, columns=cluster_cols, index=train_df.index)\n",
    "train = train_df.join(X_cd)\n",
    "\n",
    "# test\n",
    "X_cd = kmeans.transform(test_df[useful_features])\n",
    "X_cd = pd.DataFrame(X_cd, columns=cluster_cols, index=test_df.index)\n",
    "test = test_df.join(X_cd)"
   ]
  },
  {
   "cell_type": "code",
   "execution_count": 29,
   "metadata": {},
   "outputs": [
    {
     "data": {
      "text/html": [
       "<div>\n",
       "<style scoped>\n",
       "    .dataframe tbody tr th:only-of-type {\n",
       "        vertical-align: middle;\n",
       "    }\n",
       "\n",
       "    .dataframe tbody tr th {\n",
       "        vertical-align: top;\n",
       "    }\n",
       "\n",
       "    .dataframe thead th {\n",
       "        text-align: right;\n",
       "    }\n",
       "</style>\n",
       "<table border=\"1\" class=\"dataframe\">\n",
       "  <thead>\n",
       "    <tr style=\"text-align: right;\">\n",
       "      <th></th>\n",
       "      <th>f0</th>\n",
       "      <th>f1</th>\n",
       "      <th>f2</th>\n",
       "      <th>f3</th>\n",
       "      <th>f4</th>\n",
       "      <th>f5</th>\n",
       "      <th>f6</th>\n",
       "      <th>f7</th>\n",
       "      <th>f8</th>\n",
       "      <th>f9</th>\n",
       "      <th>...</th>\n",
       "      <th>cluster3</th>\n",
       "      <th>cluster4</th>\n",
       "      <th>cluster5</th>\n",
       "      <th>cluster6</th>\n",
       "      <th>cluster7</th>\n",
       "      <th>cluster8</th>\n",
       "      <th>cluster9</th>\n",
       "      <th>cluster10</th>\n",
       "      <th>cluster11</th>\n",
       "      <th>cluster12</th>\n",
       "    </tr>\n",
       "    <tr>\n",
       "      <th>id</th>\n",
       "      <th></th>\n",
       "      <th></th>\n",
       "      <th></th>\n",
       "      <th></th>\n",
       "      <th></th>\n",
       "      <th></th>\n",
       "      <th></th>\n",
       "      <th></th>\n",
       "      <th></th>\n",
       "      <th></th>\n",
       "      <th></th>\n",
       "      <th></th>\n",
       "      <th></th>\n",
       "      <th></th>\n",
       "      <th></th>\n",
       "      <th></th>\n",
       "      <th></th>\n",
       "      <th></th>\n",
       "      <th></th>\n",
       "      <th></th>\n",
       "      <th></th>\n",
       "    </tr>\n",
       "  </thead>\n",
       "  <tbody>\n",
       "    <tr>\n",
       "      <th>0</th>\n",
       "      <td>0.205979</td>\n",
       "      <td>0.410993</td>\n",
       "      <td>0.176775</td>\n",
       "      <td>0.223581</td>\n",
       "      <td>0.423543</td>\n",
       "      <td>0.476140</td>\n",
       "      <td>0.413590</td>\n",
       "      <td>0.612021</td>\n",
       "      <td>0.534873</td>\n",
       "      <td>0.147295</td>\n",
       "      <td>...</td>\n",
       "      <td>0.441040</td>\n",
       "      <td>0.293589</td>\n",
       "      <td>1.129853</td>\n",
       "      <td>0.182741</td>\n",
       "      <td>1.031259</td>\n",
       "      <td>0.436314</td>\n",
       "      <td>1.012759</td>\n",
       "      <td>1.078041</td>\n",
       "      <td>0.239853</td>\n",
       "      <td>0.220649</td>\n",
       "    </tr>\n",
       "    <tr>\n",
       "      <th>1</th>\n",
       "      <td>0.181004</td>\n",
       "      <td>0.473119</td>\n",
       "      <td>0.011734</td>\n",
       "      <td>0.213657</td>\n",
       "      <td>0.619678</td>\n",
       "      <td>0.441593</td>\n",
       "      <td>0.230407</td>\n",
       "      <td>0.686013</td>\n",
       "      <td>0.281971</td>\n",
       "      <td>0.238509</td>\n",
       "      <td>...</td>\n",
       "      <td>0.366144</td>\n",
       "      <td>0.261555</td>\n",
       "      <td>1.147521</td>\n",
       "      <td>0.281341</td>\n",
       "      <td>1.030607</td>\n",
       "      <td>0.358476</td>\n",
       "      <td>1.067667</td>\n",
       "      <td>1.058062</td>\n",
       "      <td>0.423008</td>\n",
       "      <td>0.393181</td>\n",
       "    </tr>\n",
       "    <tr>\n",
       "      <th>2</th>\n",
       "      <td>0.182583</td>\n",
       "      <td>0.307431</td>\n",
       "      <td>0.325950</td>\n",
       "      <td>0.207116</td>\n",
       "      <td>0.605699</td>\n",
       "      <td>0.309695</td>\n",
       "      <td>0.493337</td>\n",
       "      <td>0.751107</td>\n",
       "      <td>0.536272</td>\n",
       "      <td>0.286813</td>\n",
       "      <td>...</td>\n",
       "      <td>1.176883</td>\n",
       "      <td>1.132071</td>\n",
       "      <td>0.177941</td>\n",
       "      <td>1.127270</td>\n",
       "      <td>0.522586</td>\n",
       "      <td>1.176573</td>\n",
       "      <td>0.482276</td>\n",
       "      <td>0.601561</td>\n",
       "      <td>1.138741</td>\n",
       "      <td>1.109048</td>\n",
       "    </tr>\n",
       "    <tr>\n",
       "      <th>3</th>\n",
       "      <td>0.180240</td>\n",
       "      <td>0.494592</td>\n",
       "      <td>0.008367</td>\n",
       "      <td>0.223580</td>\n",
       "      <td>0.760618</td>\n",
       "      <td>0.439211</td>\n",
       "      <td>0.432055</td>\n",
       "      <td>0.776147</td>\n",
       "      <td>0.483958</td>\n",
       "      <td>0.260886</td>\n",
       "      <td>...</td>\n",
       "      <td>0.365145</td>\n",
       "      <td>0.257832</td>\n",
       "      <td>1.137282</td>\n",
       "      <td>0.307820</td>\n",
       "      <td>1.032645</td>\n",
       "      <td>0.442391</td>\n",
       "      <td>1.024758</td>\n",
       "      <td>1.055140</td>\n",
       "      <td>0.319115</td>\n",
       "      <td>0.196916</td>\n",
       "    </tr>\n",
       "    <tr>\n",
       "      <th>4</th>\n",
       "      <td>0.177172</td>\n",
       "      <td>0.495513</td>\n",
       "      <td>0.014263</td>\n",
       "      <td>0.548819</td>\n",
       "      <td>0.625396</td>\n",
       "      <td>0.562493</td>\n",
       "      <td>0.117158</td>\n",
       "      <td>0.561255</td>\n",
       "      <td>0.077115</td>\n",
       "      <td>0.158321</td>\n",
       "      <td>...</td>\n",
       "      <td>1.187567</td>\n",
       "      <td>1.077309</td>\n",
       "      <td>0.702856</td>\n",
       "      <td>1.145182</td>\n",
       "      <td>0.409222</td>\n",
       "      <td>1.188239</td>\n",
       "      <td>0.577344</td>\n",
       "      <td>0.618212</td>\n",
       "      <td>1.128277</td>\n",
       "      <td>1.159471</td>\n",
       "    </tr>\n",
       "  </tbody>\n",
       "</table>\n",
       "<p>5 rows × 298 columns</p>\n",
       "</div>"
      ],
      "text/plain": [
       "          f0        f1        f2        f3        f4        f5        f6  \\\n",
       "id                                                                         \n",
       "0   0.205979  0.410993  0.176775  0.223581  0.423543  0.476140  0.413590   \n",
       "1   0.181004  0.473119  0.011734  0.213657  0.619678  0.441593  0.230407   \n",
       "2   0.182583  0.307431  0.325950  0.207116  0.605699  0.309695  0.493337   \n",
       "3   0.180240  0.494592  0.008367  0.223580  0.760618  0.439211  0.432055   \n",
       "4   0.177172  0.495513  0.014263  0.548819  0.625396  0.562493  0.117158   \n",
       "\n",
       "          f7        f8        f9  ...  cluster3  cluster4  cluster5  cluster6  \\\n",
       "id                                ...                                           \n",
       "0   0.612021  0.534873  0.147295  ...  0.441040  0.293589  1.129853  0.182741   \n",
       "1   0.686013  0.281971  0.238509  ...  0.366144  0.261555  1.147521  0.281341   \n",
       "2   0.751107  0.536272  0.286813  ...  1.176883  1.132071  0.177941  1.127270   \n",
       "3   0.776147  0.483958  0.260886  ...  0.365145  0.257832  1.137282  0.307820   \n",
       "4   0.561255  0.077115  0.158321  ...  1.187567  1.077309  0.702856  1.145182   \n",
       "\n",
       "    cluster7  cluster8  cluster9  cluster10  cluster11  cluster12  \n",
       "id                                                                 \n",
       "0   1.031259  0.436314  1.012759   1.078041   0.239853   0.220649  \n",
       "1   1.030607  0.358476  1.067667   1.058062   0.423008   0.393181  \n",
       "2   0.522586  1.176573  0.482276   0.601561   1.138741   1.109048  \n",
       "3   1.032645  0.442391  1.024758   1.055140   0.319115   0.196916  \n",
       "4   0.409222  1.188239  0.577344   0.618212   1.128277   1.159471  \n",
       "\n",
       "[5 rows x 298 columns]"
      ]
     },
     "execution_count": 29,
     "metadata": {},
     "output_type": "execute_result"
    }
   ],
   "source": [
    "feature_cols += cluster_cols\n",
    "train.head()"
   ]
  },
  {
   "cell_type": "code",
   "execution_count": 30,
   "metadata": {},
   "outputs": [
    {
     "name": "stderr",
     "output_type": "stream",
     "text": [
      "ic| len(feature_cols): 297\n"
     ]
    },
    {
     "data": {
      "text/plain": [
       "297"
      ]
     },
     "execution_count": 30,
     "metadata": {},
     "output_type": "execute_result"
    }
   ],
   "source": [
    "ic(len(feature_cols))\n",
    "#ic(feature_cols);"
   ]
  },
  {
   "cell_type": "code",
   "execution_count": 31,
   "id": "8b84523b",
   "metadata": {
    "execution": {
     "iopub.execute_input": "2021-10-17T14:15:10.630725Z",
     "iopub.status.busy": "2021-10-17T14:15:10.629915Z",
     "iopub.status.idle": "2021-10-17T14:15:53.671949Z",
     "shell.execute_reply": "2021-10-17T14:15:53.672502Z",
     "shell.execute_reply.started": "2021-10-17T14:06:29.782411Z"
    },
    "papermill": {
     "duration": 43.064334,
     "end_time": "2021-10-17T14:15:53.672686",
     "exception": false,
     "start_time": "2021-10-17T14:15:10.608352",
     "status": "completed"
    },
    "tags": []
   },
   "outputs": [
    {
     "data": {
      "image/png": "[encoded data removed]",
      "text/plain": [
       "<Figure size 720x360 with 1 Axes>"
      ]
     },
     "metadata": {},
     "output_type": "display_data"
    }
   ],
   "source": [
    "sns.set_style('darkgrid')\n",
    "fig = plt.figure(figsize = (10,5))\n",
    "sns.kdeplot(data=train[cluster_cols])\n",
    "plt.show()"
   ]
  },
  {
   "cell_type": "markdown",
   "metadata": {},
   "source": [
    "## PCA"
   ]
  },
  {
   "cell_type": "code",
   "execution_count": 32,
   "metadata": {},
   "outputs": [
    {
     "data": {
      "text/plain": [
       "'\\nfrom sklearn.decomposition import PCA\\n\\npca = PCA()\\nX_pca = pca.fit_transform(train[useful_features])\\nT_pca = pca.transform(test[useful_features])\\n\\npca_cols = [f\"PC{i+1}\" for i in range(X_pca.shape[1])]\\n\\nX_pca = pd.DataFrame(X_pca, columns=pca_cols, index=train.index)\\nT_pca = pd.DataFrame(T_pca, columns=pca_cols, index=test.index)\\n\\ntrain = pd.concat([train, X_pca], axis=1)\\ntest = pd.concat([test, T_pca], axis=1)\\n'"
      ]
     },
     "execution_count": 32,
     "metadata": {},
     "output_type": "execute_result"
    }
   ],
   "source": [
    "\"\"\"\n",
    "from sklearn.decomposition import PCA\n",
    "\n",
    "pca = PCA()\n",
    "X_pca = pca.fit_transform(train[useful_features])\n",
    "T_pca = pca.transform(test[useful_features])\n",
    "\n",
    "pca_cols = [f\"PC{i+1}\" for i in range(X_pca.shape[1])]\n",
    "\n",
    "X_pca = pd.DataFrame(X_pca, columns=pca_cols, index=train.index)\n",
    "T_pca = pd.DataFrame(T_pca, columns=pca_cols, index=test.index)\n",
    "\n",
    "train = pd.concat([train, X_pca], axis=1)\n",
    "test = pd.concat([test, T_pca], axis=1)\n",
    "\"\"\""
   ]
  },
  {
   "cell_type": "code",
   "execution_count": 33,
   "metadata": {},
   "outputs": [
    {
     "data": {
      "text/html": [
       "<div>\n",
       "<style scoped>\n",
       "    .dataframe tbody tr th:only-of-type {\n",
       "        vertical-align: middle;\n",
       "    }\n",
       "\n",
       "    .dataframe tbody tr th {\n",
       "        vertical-align: top;\n",
       "    }\n",
       "\n",
       "    .dataframe thead th {\n",
       "        text-align: right;\n",
       "    }\n",
       "</style>\n",
       "<table border=\"1\" class=\"dataframe\">\n",
       "  <thead>\n",
       "    <tr style=\"text-align: right;\">\n",
       "      <th></th>\n",
       "      <th>f0</th>\n",
       "      <th>f1</th>\n",
       "      <th>f2</th>\n",
       "      <th>f3</th>\n",
       "      <th>f4</th>\n",
       "      <th>f5</th>\n",
       "      <th>f6</th>\n",
       "      <th>f7</th>\n",
       "      <th>f8</th>\n",
       "      <th>f9</th>\n",
       "      <th>...</th>\n",
       "      <th>cluster3</th>\n",
       "      <th>cluster4</th>\n",
       "      <th>cluster5</th>\n",
       "      <th>cluster6</th>\n",
       "      <th>cluster7</th>\n",
       "      <th>cluster8</th>\n",
       "      <th>cluster9</th>\n",
       "      <th>cluster10</th>\n",
       "      <th>cluster11</th>\n",
       "      <th>cluster12</th>\n",
       "    </tr>\n",
       "    <tr>\n",
       "      <th>id</th>\n",
       "      <th></th>\n",
       "      <th></th>\n",
       "      <th></th>\n",
       "      <th></th>\n",
       "      <th></th>\n",
       "      <th></th>\n",
       "      <th></th>\n",
       "      <th></th>\n",
       "      <th></th>\n",
       "      <th></th>\n",
       "      <th></th>\n",
       "      <th></th>\n",
       "      <th></th>\n",
       "      <th></th>\n",
       "      <th></th>\n",
       "      <th></th>\n",
       "      <th></th>\n",
       "      <th></th>\n",
       "      <th></th>\n",
       "      <th></th>\n",
       "      <th></th>\n",
       "    </tr>\n",
       "  </thead>\n",
       "  <tbody>\n",
       "    <tr>\n",
       "      <th>0</th>\n",
       "      <td>0.205979</td>\n",
       "      <td>0.410993</td>\n",
       "      <td>0.176775</td>\n",
       "      <td>0.223581</td>\n",
       "      <td>0.423543</td>\n",
       "      <td>0.476140</td>\n",
       "      <td>0.413590</td>\n",
       "      <td>0.612021</td>\n",
       "      <td>0.534873</td>\n",
       "      <td>0.147295</td>\n",
       "      <td>...</td>\n",
       "      <td>0.441040</td>\n",
       "      <td>0.293589</td>\n",
       "      <td>1.129853</td>\n",
       "      <td>0.182741</td>\n",
       "      <td>1.031259</td>\n",
       "      <td>0.436314</td>\n",
       "      <td>1.012759</td>\n",
       "      <td>1.078041</td>\n",
       "      <td>0.239853</td>\n",
       "      <td>0.220649</td>\n",
       "    </tr>\n",
       "    <tr>\n",
       "      <th>1</th>\n",
       "      <td>0.181004</td>\n",
       "      <td>0.473119</td>\n",
       "      <td>0.011734</td>\n",
       "      <td>0.213657</td>\n",
       "      <td>0.619678</td>\n",
       "      <td>0.441593</td>\n",
       "      <td>0.230407</td>\n",
       "      <td>0.686013</td>\n",
       "      <td>0.281971</td>\n",
       "      <td>0.238509</td>\n",
       "      <td>...</td>\n",
       "      <td>0.366144</td>\n",
       "      <td>0.261555</td>\n",
       "      <td>1.147521</td>\n",
       "      <td>0.281341</td>\n",
       "      <td>1.030607</td>\n",
       "      <td>0.358476</td>\n",
       "      <td>1.067667</td>\n",
       "      <td>1.058062</td>\n",
       "      <td>0.423008</td>\n",
       "      <td>0.393181</td>\n",
       "    </tr>\n",
       "    <tr>\n",
       "      <th>2</th>\n",
       "      <td>0.182583</td>\n",
       "      <td>0.307431</td>\n",
       "      <td>0.325950</td>\n",
       "      <td>0.207116</td>\n",
       "      <td>0.605699</td>\n",
       "      <td>0.309695</td>\n",
       "      <td>0.493337</td>\n",
       "      <td>0.751107</td>\n",
       "      <td>0.536272</td>\n",
       "      <td>0.286813</td>\n",
       "      <td>...</td>\n",
       "      <td>1.176883</td>\n",
       "      <td>1.132071</td>\n",
       "      <td>0.177941</td>\n",
       "      <td>1.127270</td>\n",
       "      <td>0.522586</td>\n",
       "      <td>1.176573</td>\n",
       "      <td>0.482276</td>\n",
       "      <td>0.601561</td>\n",
       "      <td>1.138741</td>\n",
       "      <td>1.109048</td>\n",
       "    </tr>\n",
       "    <tr>\n",
       "      <th>3</th>\n",
       "      <td>0.180240</td>\n",
       "      <td>0.494592</td>\n",
       "      <td>0.008367</td>\n",
       "      <td>0.223580</td>\n",
       "      <td>0.760618</td>\n",
       "      <td>0.439211</td>\n",
       "      <td>0.432055</td>\n",
       "      <td>0.776147</td>\n",
       "      <td>0.483958</td>\n",
       "      <td>0.260886</td>\n",
       "      <td>...</td>\n",
       "      <td>0.365145</td>\n",
       "      <td>0.257832</td>\n",
       "      <td>1.137282</td>\n",
       "      <td>0.307820</td>\n",
       "      <td>1.032645</td>\n",
       "      <td>0.442391</td>\n",
       "      <td>1.024758</td>\n",
       "      <td>1.055140</td>\n",
       "      <td>0.319115</td>\n",
       "      <td>0.196916</td>\n",
       "    </tr>\n",
       "    <tr>\n",
       "      <th>4</th>\n",
       "      <td>0.177172</td>\n",
       "      <td>0.495513</td>\n",
       "      <td>0.014263</td>\n",
       "      <td>0.548819</td>\n",
       "      <td>0.625396</td>\n",
       "      <td>0.562493</td>\n",
       "      <td>0.117158</td>\n",
       "      <td>0.561255</td>\n",
       "      <td>0.077115</td>\n",
       "      <td>0.158321</td>\n",
       "      <td>...</td>\n",
       "      <td>1.187567</td>\n",
       "      <td>1.077309</td>\n",
       "      <td>0.702856</td>\n",
       "      <td>1.145182</td>\n",
       "      <td>0.409222</td>\n",
       "      <td>1.188239</td>\n",
       "      <td>0.577344</td>\n",
       "      <td>0.618212</td>\n",
       "      <td>1.128277</td>\n",
       "      <td>1.159471</td>\n",
       "    </tr>\n",
       "  </tbody>\n",
       "</table>\n",
       "<p>5 rows × 298 columns</p>\n",
       "</div>"
      ],
      "text/plain": [
       "          f0        f1        f2        f3        f4        f5        f6  \\\n",
       "id                                                                         \n",
       "0   0.205979  0.410993  0.176775  0.223581  0.423543  0.476140  0.413590   \n",
       "1   0.181004  0.473119  0.011734  0.213657  0.619678  0.441593  0.230407   \n",
       "2   0.182583  0.307431  0.325950  0.207116  0.605699  0.309695  0.493337   \n",
       "3   0.180240  0.494592  0.008367  0.223580  0.760618  0.439211  0.432055   \n",
       "4   0.177172  0.495513  0.014263  0.548819  0.625396  0.562493  0.117158   \n",
       "\n",
       "          f7        f8        f9  ...  cluster3  cluster4  cluster5  cluster6  \\\n",
       "id                                ...                                           \n",
       "0   0.612021  0.534873  0.147295  ...  0.441040  0.293589  1.129853  0.182741   \n",
       "1   0.686013  0.281971  0.238509  ...  0.366144  0.261555  1.147521  0.281341   \n",
       "2   0.751107  0.536272  0.286813  ...  1.176883  1.132071  0.177941  1.127270   \n",
       "3   0.776147  0.483958  0.260886  ...  0.365145  0.257832  1.137282  0.307820   \n",
       "4   0.561255  0.077115  0.158321  ...  1.187567  1.077309  0.702856  1.145182   \n",
       "\n",
       "    cluster7  cluster8  cluster9  cluster10  cluster11  cluster12  \n",
       "id                                                                 \n",
       "0   1.031259  0.436314  1.012759   1.078041   0.239853   0.220649  \n",
       "1   1.030607  0.358476  1.067667   1.058062   0.423008   0.393181  \n",
       "2   0.522586  1.176573  0.482276   0.601561   1.138741   1.109048  \n",
       "3   1.032645  0.442391  1.024758   1.055140   0.319115   0.196916  \n",
       "4   0.409222  1.188239  0.577344   0.618212   1.128277   1.159471  \n",
       "\n",
       "[5 rows x 298 columns]"
      ]
     },
     "execution_count": 33,
     "metadata": {},
     "output_type": "execute_result"
    }
   ],
   "source": [
    "train.head()"
   ]
  },
  {
   "cell_type": "code",
   "execution_count": 34,
   "metadata": {},
   "outputs": [
    {
     "data": {
      "text/plain": [
       "\"\\nloadings = pd.DataFrame(pca.components_, index=pca_cols, columns=train[useful_features].columns)\\nloadings.style.bar(align='mid', color=['#d65f5f', '#5fba7d'])\\n\""
      ]
     },
     "execution_count": 34,
     "metadata": {},
     "output_type": "execute_result"
    }
   ],
   "source": [
    "\"\"\"\n",
    "loadings = pd.DataFrame(pca.components_, index=pca_cols, columns=train[useful_features].columns)\n",
    "loadings.style.bar(align='mid', color=['#d65f5f', '#5fba7d'])\n",
    "\"\"\""
   ]
  },
  {
   "cell_type": "code",
   "execution_count": 35,
   "metadata": {},
   "outputs": [],
   "source": [
    "#feature_cols += [\"PC1\"]\n",
    "#feature_cols += pca_cols\n"
   ]
  },
  {
   "cell_type": "markdown",
   "metadata": {},
   "source": [
    "## Polynomial Features"
   ]
  },
  {
   "cell_type": "markdown",
   "metadata": {},
   "source": [
    "- https://scikit-learn.org/stable/modules/generated/sklearn.preprocessing.PolynomialFeatures.html"
   ]
  },
  {
   "cell_type": "markdown",
   "metadata": {},
   "source": [
    "### Useful Features"
   ]
  },
  {
   "cell_type": "code",
   "execution_count": 36,
   "metadata": {},
   "outputs": [],
   "source": [
    "from sklearn.preprocessing import PolynomialFeatures\n",
    "\n",
    "poly = PolynomialFeatures(degree=3, interaction_only=True)\n",
    "\n",
    "X_poly = poly.fit_transform(train[useful_features])\n",
    "T_poly = poly.transform(test[useful_features])\n",
    "\n",
    "poly_cols = [f\"poly{i+1}\" for i in range(X_poly.shape[1])]\n",
    "\n",
    "X_poly_df = pd.DataFrame(X_poly, columns=poly_cols, index=train.index)\n",
    "T_poly_df = pd.DataFrame(T_poly, columns=poly_cols, index=test.index)\n",
    "\n",
    "train = pd.concat([train, X_poly_df], axis=1)\n",
    "test = pd.concat([test, T_poly_df], axis=1)\n"
   ]
  },
  {
   "cell_type": "code",
   "execution_count": 37,
   "metadata": {},
   "outputs": [
    {
     "data": {
      "text/html": [
       "<div>\n",
       "<style scoped>\n",
       "    .dataframe tbody tr th:only-of-type {\n",
       "        vertical-align: middle;\n",
       "    }\n",
       "\n",
       "    .dataframe tbody tr th {\n",
       "        vertical-align: top;\n",
       "    }\n",
       "\n",
       "    .dataframe thead th {\n",
       "        text-align: right;\n",
       "    }\n",
       "</style>\n",
       "<table border=\"1\" class=\"dataframe\">\n",
       "  <thead>\n",
       "    <tr style=\"text-align: right;\">\n",
       "      <th></th>\n",
       "      <th>f0</th>\n",
       "      <th>f1</th>\n",
       "      <th>f2</th>\n",
       "      <th>f3</th>\n",
       "      <th>f4</th>\n",
       "      <th>f5</th>\n",
       "      <th>f6</th>\n",
       "      <th>f7</th>\n",
       "      <th>f8</th>\n",
       "      <th>f9</th>\n",
       "      <th>...</th>\n",
       "      <th>poly369</th>\n",
       "      <th>poly370</th>\n",
       "      <th>poly371</th>\n",
       "      <th>poly372</th>\n",
       "      <th>poly373</th>\n",
       "      <th>poly374</th>\n",
       "      <th>poly375</th>\n",
       "      <th>poly376</th>\n",
       "      <th>poly377</th>\n",
       "      <th>poly378</th>\n",
       "    </tr>\n",
       "    <tr>\n",
       "      <th>id</th>\n",
       "      <th></th>\n",
       "      <th></th>\n",
       "      <th></th>\n",
       "      <th></th>\n",
       "      <th></th>\n",
       "      <th></th>\n",
       "      <th></th>\n",
       "      <th></th>\n",
       "      <th></th>\n",
       "      <th></th>\n",
       "      <th></th>\n",
       "      <th></th>\n",
       "      <th></th>\n",
       "      <th></th>\n",
       "      <th></th>\n",
       "      <th></th>\n",
       "      <th></th>\n",
       "      <th></th>\n",
       "      <th></th>\n",
       "      <th></th>\n",
       "      <th></th>\n",
       "    </tr>\n",
       "  </thead>\n",
       "  <tbody>\n",
       "    <tr>\n",
       "      <th>0</th>\n",
       "      <td>0.205979</td>\n",
       "      <td>0.410993</td>\n",
       "      <td>0.176775</td>\n",
       "      <td>0.223581</td>\n",
       "      <td>0.423543</td>\n",
       "      <td>0.476140</td>\n",
       "      <td>0.413590</td>\n",
       "      <td>0.612021</td>\n",
       "      <td>0.534873</td>\n",
       "      <td>0.147295</td>\n",
       "      <td>...</td>\n",
       "      <td>0.000680</td>\n",
       "      <td>0.000647</td>\n",
       "      <td>0.000158</td>\n",
       "      <td>0.004962</td>\n",
       "      <td>0.001212</td>\n",
       "      <td>0.001153</td>\n",
       "      <td>0.080186</td>\n",
       "      <td>0.019589</td>\n",
       "      <td>0.018634</td>\n",
       "      <td>0.142876</td>\n",
       "    </tr>\n",
       "    <tr>\n",
       "      <th>1</th>\n",
       "      <td>0.181004</td>\n",
       "      <td>0.473119</td>\n",
       "      <td>0.011734</td>\n",
       "      <td>0.213657</td>\n",
       "      <td>0.619678</td>\n",
       "      <td>0.441593</td>\n",
       "      <td>0.230407</td>\n",
       "      <td>0.686013</td>\n",
       "      <td>0.281971</td>\n",
       "      <td>0.238509</td>\n",
       "      <td>...</td>\n",
       "      <td>0.001157</td>\n",
       "      <td>0.001096</td>\n",
       "      <td>0.000310</td>\n",
       "      <td>0.117024</td>\n",
       "      <td>0.033062</td>\n",
       "      <td>0.031302</td>\n",
       "      <td>0.005771</td>\n",
       "      <td>0.001630</td>\n",
       "      <td>0.001544</td>\n",
       "      <td>0.164867</td>\n",
       "    </tr>\n",
       "    <tr>\n",
       "      <th>2</th>\n",
       "      <td>0.182583</td>\n",
       "      <td>0.307431</td>\n",
       "      <td>0.325950</td>\n",
       "      <td>0.207116</td>\n",
       "      <td>0.605699</td>\n",
       "      <td>0.309695</td>\n",
       "      <td>0.493337</td>\n",
       "      <td>0.751107</td>\n",
       "      <td>0.536272</td>\n",
       "      <td>0.286813</td>\n",
       "      <td>...</td>\n",
       "      <td>0.000050</td>\n",
       "      <td>0.000101</td>\n",
       "      <td>0.000031</td>\n",
       "      <td>0.003605</td>\n",
       "      <td>0.001091</td>\n",
       "      <td>0.002223</td>\n",
       "      <td>0.003721</td>\n",
       "      <td>0.001126</td>\n",
       "      <td>0.002295</td>\n",
       "      <td>0.081546</td>\n",
       "    </tr>\n",
       "    <tr>\n",
       "      <th>3</th>\n",
       "      <td>0.180240</td>\n",
       "      <td>0.494592</td>\n",
       "      <td>0.008367</td>\n",
       "      <td>0.223580</td>\n",
       "      <td>0.760618</td>\n",
       "      <td>0.439211</td>\n",
       "      <td>0.432055</td>\n",
       "      <td>0.776147</td>\n",
       "      <td>0.483958</td>\n",
       "      <td>0.260886</td>\n",
       "      <td>...</td>\n",
       "      <td>0.000117</td>\n",
       "      <td>0.000109</td>\n",
       "      <td>0.000038</td>\n",
       "      <td>0.007411</td>\n",
       "      <td>0.002601</td>\n",
       "      <td>0.002439</td>\n",
       "      <td>0.009255</td>\n",
       "      <td>0.003248</td>\n",
       "      <td>0.003046</td>\n",
       "      <td>0.206254</td>\n",
       "    </tr>\n",
       "    <tr>\n",
       "      <th>4</th>\n",
       "      <td>0.177172</td>\n",
       "      <td>0.495513</td>\n",
       "      <td>0.014263</td>\n",
       "      <td>0.548819</td>\n",
       "      <td>0.625396</td>\n",
       "      <td>0.562493</td>\n",
       "      <td>0.117158</td>\n",
       "      <td>0.561255</td>\n",
       "      <td>0.077115</td>\n",
       "      <td>0.158321</td>\n",
       "      <td>...</td>\n",
       "      <td>0.000635</td>\n",
       "      <td>0.000604</td>\n",
       "      <td>0.000195</td>\n",
       "      <td>0.002763</td>\n",
       "      <td>0.000892</td>\n",
       "      <td>0.000849</td>\n",
       "      <td>0.133969</td>\n",
       "      <td>0.043246</td>\n",
       "      <td>0.041156</td>\n",
       "      <td>0.188262</td>\n",
       "    </tr>\n",
       "  </tbody>\n",
       "</table>\n",
       "<p>5 rows × 676 columns</p>\n",
       "</div>"
      ],
      "text/plain": [
       "          f0        f1        f2        f3        f4        f5        f6  \\\n",
       "id                                                                         \n",
       "0   0.205979  0.410993  0.176775  0.223581  0.423543  0.476140  0.413590   \n",
       "1   0.181004  0.473119  0.011734  0.213657  0.619678  0.441593  0.230407   \n",
       "2   0.182583  0.307431  0.325950  0.207116  0.605699  0.309695  0.493337   \n",
       "3   0.180240  0.494592  0.008367  0.223580  0.760618  0.439211  0.432055   \n",
       "4   0.177172  0.495513  0.014263  0.548819  0.625396  0.562493  0.117158   \n",
       "\n",
       "          f7        f8        f9  ...   poly369   poly370   poly371   poly372  \\\n",
       "id                                ...                                           \n",
       "0   0.612021  0.534873  0.147295  ...  0.000680  0.000647  0.000158  0.004962   \n",
       "1   0.686013  0.281971  0.238509  ...  0.001157  0.001096  0.000310  0.117024   \n",
       "2   0.751107  0.536272  0.286813  ...  0.000050  0.000101  0.000031  0.003605   \n",
       "3   0.776147  0.483958  0.260886  ...  0.000117  0.000109  0.000038  0.007411   \n",
       "4   0.561255  0.077115  0.158321  ...  0.000635  0.000604  0.000195  0.002763   \n",
       "\n",
       "     poly373   poly374   poly375   poly376   poly377   poly378  \n",
       "id                                                              \n",
       "0   0.001212  0.001153  0.080186  0.019589  0.018634  0.142876  \n",
       "1   0.033062  0.031302  0.005771  0.001630  0.001544  0.164867  \n",
       "2   0.001091  0.002223  0.003721  0.001126  0.002295  0.081546  \n",
       "3   0.002601  0.002439  0.009255  0.003248  0.003046  0.206254  \n",
       "4   0.000892  0.000849  0.133969  0.043246  0.041156  0.188262  \n",
       "\n",
       "[5 rows x 676 columns]"
      ]
     },
     "execution_count": 37,
     "metadata": {},
     "output_type": "execute_result"
    }
   ],
   "source": [
    "#feature_cols += [\"poly79\", \"poly82\", \"poly66\", \"poly32\", \"poly81\", \"poly80\", \"poly42\", \"poly78\", \"poly59\"]\n",
    "feature_cols += poly_cols\n",
    "train.head()"
   ]
  },
  {
   "cell_type": "markdown",
   "metadata": {},
   "source": [
    "### Clusters"
   ]
  },
  {
   "cell_type": "markdown",
   "metadata": {},
   "source": [
    "- TODO: Perform poly for clusters"
   ]
  },
  {
   "cell_type": "code",
   "execution_count": null,
   "metadata": {},
   "outputs": [],
   "source": []
  },
  {
   "cell_type": "markdown",
   "metadata": {},
   "source": [
    "## Add New Features"
   ]
  },
  {
   "cell_type": "code",
   "execution_count": 38,
   "id": "c4320e47",
   "metadata": {
    "execution": {
     "iopub.execute_input": "2021-10-17T14:15:53.732516Z",
     "iopub.status.busy": "2021-10-17T14:15:53.731773Z",
     "iopub.status.idle": "2021-10-17T14:15:53.928994Z",
     "shell.execute_reply": "2021-10-17T14:15:53.929535Z",
     "shell.execute_reply.started": "2021-10-17T14:08:59.825855Z"
    },
    "papermill": {
     "duration": 0.21512,
     "end_time": "2021-10-17T14:15:53.929729",
     "exception": false,
     "start_time": "2021-10-17T14:15:53.714609",
     "status": "completed"
    },
    "tags": []
   },
   "outputs": [
    {
     "data": {
      "text/plain": [
       "'\\ndef add_feature(df):\\n    df[\"new_f1\"] = df[\"cluster1\"]/df[\"cluster3\"]\\n    df[\"new_f2\"] = df[\"cluster5\"]/df[\"cluster6\"]\\n    df[\"new_f3\"] = df[\"cluster5\"]/df[\"cluster2\"]\\n    df[\"new_f4\"] = df[\"cluster6\"]/df[\"cluster4\"]\\n    return df\\n\\nnew_features = [\"new_f1\", \"new_f2\", \"new_f3\",\"new_f4\"]\\ntrain = add_feature(train)\\ntest = add_feature(test)\\nfeature_cols += new_features\\ntrain.head()\\n'"
      ]
     },
     "execution_count": 38,
     "metadata": {},
     "output_type": "execute_result"
    }
   ],
   "source": [
    "\"\"\"\n",
    "def add_feature(df):\n",
    "    df[\"new_f1\"] = df[\"cluster1\"]/df[\"cluster3\"]\n",
    "    df[\"new_f2\"] = df[\"cluster5\"]/df[\"cluster6\"]\n",
    "    df[\"new_f3\"] = df[\"cluster5\"]/df[\"cluster2\"]\n",
    "    df[\"new_f4\"] = df[\"cluster6\"]/df[\"cluster4\"]\n",
    "    return df\n",
    "\n",
    "new_features = [\"new_f1\", \"new_f2\", \"new_f3\",\"new_f4\"]\n",
    "train = add_feature(train)\n",
    "test = add_feature(test)\n",
    "feature_cols += new_features\n",
    "train.head()\n",
    "\"\"\""
   ]
  },
  {
   "cell_type": "markdown",
   "metadata": {},
   "source": [
    "## Mutual Information"
   ]
  },
  {
   "cell_type": "code",
   "execution_count": 39,
   "id": "ebcb7161",
   "metadata": {
    "execution": {
     "iopub.execute_input": "2021-10-17T14:15:53.966372Z",
     "iopub.status.busy": "2021-10-17T14:15:53.965587Z",
     "iopub.status.idle": "2021-10-17T14:16:34.695532Z",
     "shell.execute_reply": "2021-10-17T14:16:34.696066Z",
     "shell.execute_reply.started": "2021-10-17T14:09:07.201281Z"
    },
    "papermill": {
     "duration": 40.751608,
     "end_time": "2021-10-17T14:16:34.696244",
     "exception": false,
     "start_time": "2021-10-17T14:15:53.944636",
     "status": "completed"
    },
    "tags": []
   },
   "outputs": [],
   "source": [
    "from sklearn.feature_selection import mutual_info_regression\n",
    "\n",
    "x = train.iloc[:5000,:][feature_cols] #.copy()\n",
    "y = train.iloc[:5000,:]['target'] #.copy()\n",
    "mi_scores = mutual_info_regression(x, y)\n",
    "mi_scores = pd.Series(mi_scores, name=\"MI Scores\", index=x.columns)\n",
    "mi_scores = mi_scores.sort_values(ascending=False)"
   ]
  },
  {
   "cell_type": "code",
   "execution_count": 40,
   "id": "2096d2a0",
   "metadata": {
    "execution": {
     "iopub.execute_input": "2021-10-17T14:16:34.730031Z",
     "iopub.status.busy": "2021-10-17T14:16:34.729399Z",
     "iopub.status.idle": "2021-10-17T14:16:38.377932Z",
     "shell.execute_reply": "2021-10-17T14:16:38.377385Z",
     "shell.execute_reply.started": "2021-10-17T14:09:44.766206Z"
    },
    "papermill": {
     "duration": 3.666617,
     "end_time": "2021-10-17T14:16:38.378081",
     "exception": false,
     "start_time": "2021-10-17T14:16:34.711464",
     "status": "completed"
    },
    "tags": []
   },
   "outputs": [
    {
     "data": {
      "application/vnd.plotly.v1+json": {
       "config": {
        "plotlyServerURL": "https://plot.ly"
       },
       "data": [
        {
         "alignmentgroup": "True",
         "hovertemplate": "x=%{x}<br>y=%{y}<extra></extra>",
         "legendgroup": "",
         "marker": {
          "color": "#636efa",
          "pattern": {
           "shape": ""
          }
         },
         "name": "",
         "offsetgroup": "",
         "orientation": "h",
         "showlegend": false,
         "textposition": "auto",
         "type": "bar",
         "x": [
          0.1660540463078357,
          0.16202323834394594,
          0.16155473060992165,
          0.16007225185442486,
          0.15883265046706363,
          0.1587023367697089,
          0.15579905390553073,
          0.15506651866333776,
          0.1540269286079532,
          0.153395036080072,
          0.1533906366420883,
          0.15288763510357395,
          0.15199169140531055,
          0.15133846181197796,
          0.15097506456679266,
          0.1507291646959752,
          0.15032828199650616,
          0.15016236306328778,
          0.15009081348836695,
          0.14990693103537112
         ],
         "xaxis": "x",
         "y": [
          "poly296",
          "poly345",
          "poly145",
          "poly268",
          "poly281",
          "poly333",
          "poly365",
          "cluster7",
          "poly367",
          "cluster3",
          "poly144",
          "poly193",
          "poly362",
          "poly245",
          "poly309",
          "cluster4",
          "poly232",
          "poly274",
          "poly282",
          "poly79"
         ],
         "yaxis": "y"
        }
       ],
       "layout": {
        "barmode": "relative",
        "colorway": [
         "blue"
        ],
        "legend": {
         "tracegroupgap": 0
        },
        "margin": {
         "t": 60
        },
        "template": {
         "data": {
          "bar": [
           {
            "error_x": {
             "color": "#2a3f5f"
            },
            "error_y": {
             "color": "#2a3f5f"
            },
            "marker": {
             "line": {
              "color": "#E5ECF6",
              "width": 0.5
             },
             "pattern": {
              "fillmode": "overlay",
              "size": 10,
              "solidity": 0.2
             }
            },
            "type": "bar"
           }
          ],
          "barpolar": [
           {
            "marker": {
             "line": {
              "color": "#E5ECF6",
              "width": 0.5
             },
             "pattern": {
              "fillmode": "overlay",
              "size": 10,
              "solidity": 0.2
             }
            },
            "type": "barpolar"
           }
          ],
          "carpet": [
           {
            "aaxis": {
             "endlinecolor": "#2a3f5f",
             "gridcolor": "white",
             "linecolor": "white",
             "minorgridcolor": "white",
             "startlinecolor": "#2a3f5f"
            },
            "baxis": {
             "endlinecolor": "#2a3f5f",
             "gridcolor": "white",
             "linecolor": "white",
             "minorgridcolor": "white",
             "startlinecolor": "#2a3f5f"
            },
            "type": "carpet"
           }
          ],
          "choropleth": [
           {
            "colorbar": {
             "outlinewidth": 0,
             "ticks": ""
            },
            "type": "choropleth"
           }
          ],
          "contour": [
           {
            "colorbar": {
             "outlinewidth": 0,
             "ticks": ""
            },
            "colorscale": [
             [
              0,
              "#0d0887"
             ],
             [
              0.1111111111111111,
              "#46039f"
             ],
             [
              0.2222222222222222,
              "#7201a8"
             ],
             [
              0.3333333333333333,
              "#9c179e"
             ],
             [
              0.4444444444444444,
              "#bd3786"
             ],
             [
              0.5555555555555556,
              "#d8576b"
             ],
             [
              0.6666666666666666,
              "#ed7953"
             ],
             [
              0.7777777777777778,
              "#fb9f3a"
             ],
             [
              0.8888888888888888,
              "#fdca26"
             ],
             [
              1,
              "#f0f921"
             ]
            ],
            "type": "contour"
           }
          ],
          "contourcarpet": [
           {
            "colorbar": {
             "outlinewidth": 0,
             "ticks": ""
            },
            "type": "contourcarpet"
           }
          ],
          "heatmap": [
           {
            "colorbar": {
             "outlinewidth": 0,
             "ticks": ""
            },
            "colorscale": [
             [
              0,
              "#0d0887"
             ],
             [
              0.1111111111111111,
              "#46039f"
             ],
             [
              0.2222222222222222,
              "#7201a8"
             ],
             [
              0.3333333333333333,
              "#9c179e"
             ],
             [
              0.4444444444444444,
              "#bd3786"
             ],
             [
              0.5555555555555556,
              "#d8576b"
             ],
             [
              0.6666666666666666,
              "#ed7953"
             ],
             [
              0.7777777777777778,
              "#fb9f3a"
             ],
             [
              0.8888888888888888,
              "#fdca26"
             ],
             [
              1,
              "#f0f921"
             ]
            ],
            "type": "heatmap"
           }
          ],
          "heatmapgl": [
           {
            "colorbar": {
             "outlinewidth": 0,
             "ticks": ""
            },
            "colorscale": [
             [
              0,
              "#0d0887"
             ],
             [
              0.1111111111111111,
              "#46039f"
             ],
             [
              0.2222222222222222,
              "#7201a8"
             ],
             [
              0.3333333333333333,
              "#9c179e"
             ],
             [
              0.4444444444444444,
              "#bd3786"
             ],
             [
              0.5555555555555556,
              "#d8576b"
             ],
             [
              0.6666666666666666,
              "#ed7953"
             ],
             [
              0.7777777777777778,
              "#fb9f3a"
             ],
             [
              0.8888888888888888,
              "#fdca26"
             ],
             [
              1,
              "#f0f921"
             ]
            ],
            "type": "heatmapgl"
           }
          ],
          "histogram": [
           {
            "marker": {
             "pattern": {
              "fillmode": "overlay",
              "size": 10,
              "solidity": 0.2
             }
            },
            "type": "histogram"
           }
          ],
          "histogram2d": [
           {
            "colorbar": {
             "outlinewidth": 0,
             "ticks": ""
            },
            "colorscale": [
             [
              0,
              "#0d0887"
             ],
             [
              0.1111111111111111,
              "#46039f"
             ],
             [
              0.2222222222222222,
              "#7201a8"
             ],
             [
              0.3333333333333333,
              "#9c179e"
             ],
             [
              0.4444444444444444,
              "#bd3786"
             ],
             [
              0.5555555555555556,
              "#d8576b"
             ],
             [
              0.6666666666666666,
              "#ed7953"
             ],
             [
              0.7777777777777778,
              "#fb9f3a"
             ],
             [
              0.8888888888888888,
              "#fdca26"
             ],
             [
              1,
              "#f0f921"
             ]
            ],
            "type": "histogram2d"
           }
          ],
          "histogram2dcontour": [
           {
            "colorbar": {
             "outlinewidth": 0,
             "ticks": ""
            },
            "colorscale": [
             [
              0,
              "#0d0887"
             ],
             [
              0.1111111111111111,
              "#46039f"
             ],
             [
              0.2222222222222222,
              "#7201a8"
             ],
             [
              0.3333333333333333,
              "#9c179e"
             ],
             [
              0.4444444444444444,
              "#bd3786"
             ],
             [
              0.5555555555555556,
              "#d8576b"
             ],
             [
              0.6666666666666666,
              "#ed7953"
             ],
             [
              0.7777777777777778,
              "#fb9f3a"
             ],
             [
              0.8888888888888888,
              "#fdca26"
             ],
             [
              1,
              "#f0f921"
             ]
            ],
            "type": "histogram2dcontour"
           }
          ],
          "mesh3d": [
           {
            "colorbar": {
             "outlinewidth": 0,
             "ticks": ""
            },
            "type": "mesh3d"
           }
          ],
          "parcoords": [
           {
            "line": {
             "colorbar": {
              "outlinewidth": 0,
              "ticks": ""
             }
            },
            "type": "parcoords"
           }
          ],
          "pie": [
           {
            "automargin": true,
            "type": "pie"
           }
          ],
          "scatter": [
           {
            "marker": {
             "colorbar": {
              "outlinewidth": 0,
              "ticks": ""
             }
            },
            "type": "scatter"
           }
          ],
          "scatter3d": [
           {
            "line": {
             "colorbar": {
              "outlinewidth": 0,
              "ticks": ""
             }
            },
            "marker": {
             "colorbar": {
              "outlinewidth": 0,
              "ticks": ""
             }
            },
            "type": "scatter3d"
           }
          ],
          "scattercarpet": [
           {
            "marker": {
             "colorbar": {
              "outlinewidth": 0,
              "ticks": ""
             }
            },
            "type": "scattercarpet"
           }
          ],
          "scattergeo": [
           {
            "marker": {
             "colorbar": {
              "outlinewidth": 0,
              "ticks": ""
             }
            },
            "type": "scattergeo"
           }
          ],
          "scattergl": [
           {
            "marker": {
             "colorbar": {
              "outlinewidth": 0,
              "ticks": ""
             }
            },
            "type": "scattergl"
           }
          ],
          "scattermapbox": [
           {
            "marker": {
             "colorbar": {
              "outlinewidth": 0,
              "ticks": ""
             }
            },
            "type": "scattermapbox"
           }
          ],
          "scatterpolar": [
           {
            "marker": {
             "colorbar": {
              "outlinewidth": 0,
              "ticks": ""
             }
            },
            "type": "scatterpolar"
           }
          ],
          "scatterpolargl": [
           {
            "marker": {
             "colorbar": {
              "outlinewidth": 0,
              "ticks": ""
             }
            },
            "type": "scatterpolargl"
           }
          ],
          "scatterternary": [
           {
            "marker": {
             "colorbar": {
              "outlinewidth": 0,
              "ticks": ""
             }
            },
            "type": "scatterternary"
           }
          ],
          "surface": [
           {
            "colorbar": {
             "outlinewidth": 0,
             "ticks": ""
            },
            "colorscale": [
             [
              0,
              "#0d0887"
             ],
             [
              0.1111111111111111,
              "#46039f"
             ],
             [
              0.2222222222222222,
              "#7201a8"
             ],
             [
              0.3333333333333333,
              "#9c179e"
             ],
             [
              0.4444444444444444,
              "#bd3786"
             ],
             [
              0.5555555555555556,
              "#d8576b"
             ],
             [
              0.6666666666666666,
              "#ed7953"
             ],
             [
              0.7777777777777778,
              "#fb9f3a"
             ],
             [
              0.8888888888888888,
              "#fdca26"
             ],
             [
              1,
              "#f0f921"
             ]
            ],
            "type": "surface"
           }
          ],
          "table": [
           {
            "cells": {
             "fill": {
              "color": "#EBF0F8"
             },
             "line": {
              "color": "white"
             }
            },
            "header": {
             "fill": {
              "color": "#C8D4E3"
             },
             "line": {
              "color": "white"
             }
            },
            "type": "table"
           }
          ]
         },
         "layout": {
          "annotationdefaults": {
           "arrowcolor": "#2a3f5f",
           "arrowhead": 0,
           "arrowwidth": 1
          },
          "autotypenumbers": "strict",
          "coloraxis": {
           "colorbar": {
            "outlinewidth": 0,
            "ticks": ""
           }
          },
          "colorscale": {
           "diverging": [
            [
             0,
             "#8e0152"
            ],
            [
             0.1,
             "#c51b7d"
            ],
            [
             0.2,
             "#de77ae"
            ],
            [
             0.3,
             "#f1b6da"
            ],
            [
             0.4,
             "#fde0ef"
            ],
            [
             0.5,
             "#f7f7f7"
            ],
            [
             0.6,
             "#e6f5d0"
            ],
            [
             0.7,
             "#b8e186"
            ],
            [
             0.8,
             "#7fbc41"
            ],
            [
             0.9,
             "#4d9221"
            ],
            [
             1,
             "#276419"
            ]
           ],
           "sequential": [
            [
             0,
             "#0d0887"
            ],
            [
             0.1111111111111111,
             "#46039f"
            ],
            [
             0.2222222222222222,
             "#7201a8"
            ],
            [
             0.3333333333333333,
             "#9c179e"
            ],
            [
             0.4444444444444444,
             "#bd3786"
            ],
            [
             0.5555555555555556,
             "#d8576b"
            ],
            [
             0.6666666666666666,
             "#ed7953"
            ],
            [
             0.7777777777777778,
             "#fb9f3a"
            ],
            [
             0.8888888888888888,
             "#fdca26"
            ],
            [
             1,
             "#f0f921"
            ]
           ],
           "sequentialminus": [
            [
             0,
             "#0d0887"
            ],
            [
             0.1111111111111111,
             "#46039f"
            ],
            [
             0.2222222222222222,
             "#7201a8"
            ],
            [
             0.3333333333333333,
             "#9c179e"
            ],
            [
             0.4444444444444444,
             "#bd3786"
            ],
            [
             0.5555555555555556,
             "#d8576b"
            ],
            [
             0.6666666666666666,
             "#ed7953"
            ],
            [
             0.7777777777777778,
             "#fb9f3a"
            ],
            [
             0.8888888888888888,
             "#fdca26"
            ],
            [
             1,
             "#f0f921"
            ]
           ]
          },
          "colorway": [
           "#636efa",
           "#EF553B",
           "#00cc96",
           "#ab63fa",
           "#FFA15A",
           "#19d3f3",
           "#FF6692",
           "#B6E880",
           "#FF97FF",
           "#FECB52"
          ],
          "font": {
           "color": "#2a3f5f"
          },
          "geo": {
           "bgcolor": "white",
           "lakecolor": "white",
           "landcolor": "#E5ECF6",
           "showlakes": true,
           "showland": true,
           "subunitcolor": "white"
          },
          "hoverlabel": {
           "align": "left"
          },
          "hovermode": "closest",
          "mapbox": {
           "style": "light"
          },
          "paper_bgcolor": "white",
          "plot_bgcolor": "#E5ECF6",
          "polar": {
           "angularaxis": {
            "gridcolor": "white",
            "linecolor": "white",
            "ticks": ""
           },
           "bgcolor": "#E5ECF6",
           "radialaxis": {
            "gridcolor": "white",
            "linecolor": "white",
            "ticks": ""
           }
          },
          "scene": {
           "xaxis": {
            "backgroundcolor": "#E5ECF6",
            "gridcolor": "white",
            "gridwidth": 2,
            "linecolor": "white",
            "showbackground": true,
            "ticks": "",
            "zerolinecolor": "white"
           },
           "yaxis": {
            "backgroundcolor": "#E5ECF6",
            "gridcolor": "white",
            "gridwidth": 2,
            "linecolor": "white",
            "showbackground": true,
            "ticks": "",
            "zerolinecolor": "white"
           },
           "zaxis": {
            "backgroundcolor": "#E5ECF6",
            "gridcolor": "white",
            "gridwidth": 2,
            "linecolor": "white",
            "showbackground": true,
            "ticks": "",
            "zerolinecolor": "white"
           }
          },
          "shapedefaults": {
           "line": {
            "color": "#2a3f5f"
           }
          },
          "ternary": {
           "aaxis": {
            "gridcolor": "white",
            "linecolor": "white",
            "ticks": ""
           },
           "baxis": {
            "gridcolor": "white",
            "linecolor": "white",
            "ticks": ""
           },
           "bgcolor": "#E5ECF6",
           "caxis": {
            "gridcolor": "white",
            "linecolor": "white",
            "ticks": ""
           }
          },
          "title": {
           "x": 0.05
          },
          "xaxis": {
           "automargin": true,
           "gridcolor": "white",
           "linecolor": "white",
           "ticks": "",
           "title": {
            "standoff": 15
           },
           "zerolinecolor": "white",
           "zerolinewidth": 2
          },
          "yaxis": {
           "automargin": true,
           "gridcolor": "white",
           "linecolor": "white",
           "ticks": "",
           "title": {
            "standoff": 15
           },
           "zerolinecolor": "white",
           "zerolinewidth": 2
          }
         }
        },
        "title": {
         "text": "Top 20 Strong Relationships Between Feature Columns and Target Column"
        },
        "xaxis": {
         "anchor": "y",
         "domain": [
          0,
          1
         ],
         "title": {
          "text": "Relationship with Target"
         }
        },
        "yaxis": {
         "anchor": "x",
         "categoryorder": "total ascending",
         "domain": [
          0,
          1
         ],
         "title": {
          "text": "Feature Columns"
         }
        }
       }
      }
     },
     "metadata": {},
     "output_type": "display_data"
    }
   ],
   "source": [
    "import plotly.figure_factory as ff\n",
    "import plotly.express as px\n",
    "\n",
    "top = 20\n",
    "fig = px.bar(mi_scores, x=mi_scores.values[:top], y=mi_scores.index[:top])\n",
    "fig.update_layout(\n",
    "    title=f\"Top {top} Strong Relationships Between Feature Columns and Target Column\",\n",
    "    xaxis_title=\"Relationship with Target\",\n",
    "    yaxis_title=\"Feature Columns\",\n",
    "    yaxis={'categoryorder':'total ascending'},\n",
    "    colorway=[\"blue\"]\n",
    ")\n",
    "fig.show()"
   ]
  },
  {
   "cell_type": "code",
   "execution_count": 41,
   "metadata": {},
   "outputs": [
    {
     "name": "stderr",
     "output_type": "stream",
     "text": [
      "ic| len(feature_cols): 675\n"
     ]
    },
    {
     "data": {
      "text/plain": [
       "675"
      ]
     },
     "execution_count": 41,
     "metadata": {},
     "output_type": "execute_result"
    }
   ],
   "source": [
    "ic(len(feature_cols))"
   ]
  },
  {
   "cell_type": "markdown",
   "metadata": {},
   "source": [
    "# Model Training"
   ]
  },
  {
   "cell_type": "markdown",
   "metadata": {},
   "source": [
    "## Functions"
   ]
  },
  {
   "cell_type": "code",
   "execution_count": 42,
   "metadata": {},
   "outputs": [],
   "source": [
    "# TODO: New approach for evaluation metrics (not fully implemented yet)\n",
    "\n",
    "from sklearn.metrics import roc_auc_score\n",
    "from sklearn.metrics import mean_squared_error\n",
    "from sklearn.metrics import mean_absolute_error\n",
    "from sklearn.metrics import roc_auc_score\n",
    "from sklearn.metrics import r2_score\n",
    "\n",
    "def evaluation_metrics(actual, pred):\n",
    "    rmse = np.sqrt(mean_squared_error(actual, pred))\n",
    "    mae = mean_absolute_error(actual, pred)\n",
    "    r2 = r2_score(actual, pred)\n",
    "\n",
    "    print(\"RMSE: %s\" % rmse)\n",
    "    print(\"MAE: %s\" % mae)\n",
    "    print(\"R2: %s\" % r2)\n",
    "\n",
    "    return rmse, mae, r2"
   ]
  },
  {
   "cell_type": "markdown",
   "metadata": {},
   "source": [
    "## Baseline Score"
   ]
  },
  {
   "cell_type": "code",
   "execution_count": 44,
   "metadata": {},
   "outputs": [
    {
     "name": "stdout",
     "output_type": "stream",
     "text": [
      "--\n",
      "run_id: a9cc7c1193e44fc3b7971bf25a885268; status: RUNNING\n",
      "ROC AUC Score: 0.8569846382791737\n",
      "RMSE: 0.4797707786016151\n",
      "MAE: 0.23018\n",
      "R2: 0.07927913726245395\n"
     ]
    }
   ],
   "source": [
    "from xgboost import XGBClassifier\n",
    "from sklearn.model_selection import train_test_split\n",
    "from sklearn.metrics import roc_auc_score\n",
    "\n",
    "X = train.drop([\"target\"], axis=1)\n",
    "X = X[feature_cols].values\n",
    "y = train[\"target\"].values\n",
    "\n",
    "X_train, X_valid, y_train, y_valid = train_test_split(\n",
    "    X, y, test_size=0.25, random_state=rnd_state, stratify=y\n",
    ")\n",
    "\n",
    "print(\"--\")\n",
    "# mlflow.autolog()\n",
    "# mlflow.xgboost.autolog()\n",
    "mlflow.start_run()\n",
    "run = mlflow.active_run()\n",
    "\n",
    "# Log text to a file under the run's root artifact directory\n",
    "mlflow.log_text(\"Test\", \"comments.txt\")\n",
    "\n",
    "# Print run id\n",
    "print(\"run_id: {}; status: {}\\n\".format(run.info.run_id, run.info.status))\n",
    "\n",
    "params = {\n",
    "    \"eval_metric\": \"auc\",\n",
    "    \"objective\": \"binary:logistic\",\n",
    "    \"tree_method\": \"gpu_hist\",\n",
    "    \"gpu_id\": 0,\n",
    "    # \"n_jobs\": n_cpu,\n",
    "    \"predictor\": \"gpu_predictor\",\n",
    "    \"n_estimators\": 10000,\n",
    "    \"learning_rate\": 0.01063045229441343,\n",
    "    \"gamma\": 0.24652519525750877,\n",
    "    \"max_depth\": 4,\n",
    "    \"seed\": rnd_state,\n",
    "    \"min_child_weight\": 366,\n",
    "    \"subsample\": 0.6423040816299684,\n",
    "    \"colsample_bytree\": 0.7751264493218339,\n",
    "    \"colsample_bylevel\": 0.8675692743597421,\n",
    "    \"use_label_encoder\": False,\n",
    "    \"lambda\": 0,\n",
    "    \"alpha\": 10,\n",
    "}\n",
    "\n",
    "clf = XGBClassifier(**params)\n",
    "_ = clf.fit(X_train, y_train)\n",
    "\n",
    "# train_roc_auc_score = roc_auc_score(y_train, clf.predict_proba(X_train)[:, 1])\n",
    "# valid_roc_auc_score = roc_auc_score(y_valid, clf.predict_proba(X_valid)[:, 1])\n",
    "\n",
    "y_predicted = clf.predict(X_valid)\n",
    "roc_auc = roc_auc_score(y_valid, clf.predict_proba(X_valid)[:, 1])\n",
    "\n",
    "rmse, mae, r2 = evaluation_metrics(y_valid, y_predicted)\n",
    "print(\"ROC AUC Score: %s\" % roc_auc)\n",
    "\n",
    "# print(train_roc_auc_score) # 0.8617102921465771 (fs18, no_new_f), same with fs16, and 3 new_f\n",
    "# print(roc_auc) # 0.8558234199478256 (fs18, no_new_f), same with fs16, and 3 new_f\n",
    "\n",
    "# incl.PCA and new features: ROC AUC Score: 0.8574099209176737\n"
   ]
  },
  {
   "cell_type": "code",
   "execution_count": 45,
   "metadata": {},
   "outputs": [
    {
     "name": "stdout",
     "output_type": "stream",
     "text": [
      "Store type: file\n"
     ]
    }
   ],
   "source": [
    "# MLFlow: Get metrics - TODO: Test mlflow.autolog()\n",
    "mlflow.log_params(params)\n",
    "mlflow.log_metric(\"rmse\", rmse)\n",
    "mlflow.log_metric(\"r2\", r2)\n",
    "mlflow.log_metric(\"mae\", mae)\n",
    "mlflow.log_metric(\"roc_auc_score\", roc_auc)\n",
    "\n",
    "#features =\" \".join(str(elem) for elem in feature_cols)\n",
    "features = str(feature_cols)\n",
    "\n",
    "with open(\"features.txt\", 'w') as f:\n",
    "    f.write(features)\n",
    "    \n",
    "mlflow.log_artifact(\"features.txt\", artifact_path=\"features\")\n",
    "\n",
    "tracking_url_type_store = urlparse(mlflow.get_tracking_uri()).scheme\n",
    "\n",
    "# Register Experiment\n",
    "if tracking_url_type_store != \"file\":\n",
    "    # Register the model\n",
    "    # There are other ways to use the Model Registry, which depends on the use case,\n",
    "    # please refer to the doc for more information:\n",
    "    # https://mlflow.org/docs/latest/model-registry.html#api-workflow\n",
    "    \n",
    "    mlflow.xgboost.log_model(\n",
    "        xgb_model=clf,\n",
    "        artifact_path=\"xgboost-model\",\n",
    "        registered_model_name=\"XGBClassifier\",\n",
    "    )\n",
    "\n",
    "else:\n",
    "    print('Store type: file')\n",
    "    mlflow.xgboost.log_model(clf, \"model\")\n"
   ]
  },
  {
   "cell_type": "code",
   "execution_count": 46,
   "metadata": {},
   "outputs": [
    {
     "name": "stdout",
     "output_type": "stream",
     "text": [
      "run_id: a9cc7c1193e44fc3b7971bf25a885268; status: FINISHED\n",
      "--\n",
      "Active run: None\n"
     ]
    }
   ],
   "source": [
    "# End run and get status\n",
    "mlflow.end_run()\n",
    "run = mlflow.get_run(run.info.run_id)\n",
    "print(\"run_id: {}; status: {}\".format(run.info.run_id, run.info.status))\n",
    "print(\"--\")\n",
    "\n",
    "# Check for any active runs\n",
    "print(\"Active run: {}\".format(mlflow.active_run()))"
   ]
  },
  {
   "cell_type": "code",
   "execution_count": 47,
   "metadata": {},
   "outputs": [
    {
     "data": {
      "image/png": "[encoded data removed]",
      "text/plain": [
       "<Figure size 1080x1080 with 1 Axes>"
      ]
     },
     "metadata": {},
     "output_type": "display_data"
    }
   ],
   "source": [
    "from xgboost import plot_importance\n",
    "import matplotlib.pyplot as plt\n",
    "\n",
    "# plot feature importance\n",
    "fig, ax = plt.subplots(figsize=(15, 15))\n",
    "plot_importance(clf, max_num_features=35, height=1, ax=ax)\n",
    "plt.show()"
   ]
  },
  {
   "cell_type": "markdown",
   "metadata": {},
   "source": [
    "# Creating Kfolds"
   ]
  },
  {
   "cell_type": "code",
   "execution_count": 56,
   "metadata": {},
   "outputs": [],
   "source": [
    "from sklearn.model_selection import StratifiedKFold\n",
    "\n",
    "folds = 5\n",
    "train[\"kfold\"] = -1\n",
    "kf = StratifiedKFold(n_splits=folds, shuffle=True, random_state=rnd_state)\n",
    "\n",
    "# Adding folds to dataset\n",
    "for fold, (train_indicies, valid_indicies) in enumerate(kf.split(train,train[\"target\"])):\n",
    "    train.loc[valid_indicies, \"kfold\"] = fold"
   ]
  },
  {
   "cell_type": "code",
   "execution_count": 57,
   "metadata": {},
   "outputs": [
    {
     "data": {
      "text/plain": [
       "3    200000\n",
       "2    200000\n",
       "4    200000\n",
       "0    200000\n",
       "1    200000\n",
       "Name: kfold, dtype: int64"
      ]
     },
     "execution_count": 57,
     "metadata": {},
     "output_type": "execute_result"
    }
   ],
   "source": [
    "train['kfold'].value_counts()"
   ]
  },
  {
   "cell_type": "code",
   "execution_count": 58,
   "metadata": {},
   "outputs": [
    {
     "name": "stdout",
     "output_type": "stream",
     "text": [
      "--\n",
      "run_id: f64d06226bb94f2fb2b33350b7a40692; status: RUNNING\n",
      "\n"
     ]
    }
   ],
   "source": [
    "print(\"--\")\n",
    "# mlflow.autolog()\n",
    "# mlflow.xgboost.autolog()\n",
    "mlflow.start_run()\n",
    "run = mlflow.active_run()\n",
    "\n",
    "# Log text to a file under the run's root artifact directory\n",
    "mlflow.log_text(\"Test\", \"comments.txt\")\n",
    "\n",
    "# Print run id\n",
    "print(\"run_id: {}; status: {}\\n\".format(run.info.run_id, run.info.status))"
   ]
  },
  {
   "cell_type": "code",
   "execution_count": 59,
   "metadata": {},
   "outputs": [
    {
     "name": "stdout",
     "output_type": "stream",
     "text": [
      "Fold 0 , train: 0.870153 , valid: 0.858381\n",
      "Fold 1 , train: 0.870774 , valid: 0.855404\n",
      "Fold 2 , train: 0.870389 , valid: 0.857206\n",
      "Fold 3 , train: 0.870838 , valid: 0.855695\n",
      "Fold 4 , train: 0.870575 , valid: 0.856448\n",
      "AVG AUC: 0.8566269081302578\n"
     ]
    }
   ],
   "source": [
    "from xgboost import XGBClassifier\n",
    "from sklearn.metrics import roc_auc_score\n",
    "import time\n",
    "\n",
    "final_test_predictions = []\n",
    "scores = []\n",
    "\n",
    "for fold in range(folds):\n",
    "    x_train = train[train.kfold != fold].copy()\n",
    "    x_valid = train[train.kfold == fold].copy()\n",
    "    x_test = test[feature_cols].copy()\n",
    "\n",
    "    y_train = x_train[\"target\"]\n",
    "    y_valid = x_valid[\"target\"]\n",
    "\n",
    "    x_train = x_train[feature_cols]\n",
    "    x_valid = x_valid[feature_cols]\n",
    "\n",
    "    xgb_params = {\n",
    "        \"eval_metric\": \"auc\",\n",
    "        \"objective\": \"binary:logistic\",\n",
    "        \"tree_method\": \"gpu_hist\",\n",
    "        \"gpu_id\": 0,\n",
    "        #\"n_jobs\": n_cpu,\n",
    "        \"predictor\": \"gpu_predictor\",\n",
    "        \"n_estimators\": 10000,\n",
    "        \"learning_rate\": 0.01063045229441343,\n",
    "        \"gamma\": 0.24652519525750877,\n",
    "        \"max_depth\": 4,\n",
    "        \"seed\": rnd_state,\n",
    "        \"min_child_weight\": 366,\n",
    "        \"subsample\": 0.6423040816299684,\n",
    "        \"colsample_bytree\": 0.7751264493218339,\n",
    "        \"colsample_bylevel\": 0.8675692743597421,\n",
    "        \"use_label_encoder\": False,\n",
    "        \"lambda\": 0,\n",
    "        \"alpha\": 10,\n",
    "    }\n",
    "\n",
    "    model = XGBClassifier(**xgb_params)\n",
    "    model.fit(x_train, y_train, eval_set=[(x_valid, y_valid)], verbose=False)\n",
    "\n",
    "    preds_train = model.predict_proba(x_train)[:, 1]\n",
    "    preds_valid = model.predict_proba(x_valid)[:, 1]\n",
    "    auc_train = roc_auc_score(y_train, preds_train)\n",
    "    auc = roc_auc_score(y_valid, preds_valid)\n",
    "    print(\"Fold\", fold, \", train:\", f\"{auc_train:.6f}\", \", valid:\", f\"{auc:.6f}\")\n",
    "    scores.append(auc)\n",
    "\n",
    "    preds_test = model.predict_proba(x_test)[:, 1]\n",
    "    final_test_predictions.append(preds_test)\n",
    "\n",
    "\n",
    "print(\"AVG AUC:\", np.mean(scores))"
   ]
  },
  {
   "cell_type": "code",
   "execution_count": 60,
   "metadata": {},
   "outputs": [
    {
     "name": "stdout",
     "output_type": "stream",
     "text": [
      "Store type: file\n"
     ]
    }
   ],
   "source": [
    "# MLFlow: Get metrics\n",
    "# TODO: Test mlflow.autolog()\n",
    "mlflow.log_params(params)\n",
    "#mlflow.log_metric(\"rmse\", rmse)\n",
    "#mlflow.log_metric(\"r2\", r2)\n",
    "#mlflow.log_metric(\"mae\", mae)\n",
    "mlflow.log_metric(\"AVG AUC\", np.mean(scores))\n",
    "\n",
    "#features =\", \".join(str(elem) for elem in feature_cols)\n",
    "features = str(feature_cols)\n",
    "\n",
    "with open(\"features.txt\", 'w') as f:\n",
    "    f.write(features)\n",
    "    \n",
    "mlflow.log_artifact(\"features.txt\", artifact_path=\"features\")\n",
    "\n",
    "tracking_url_type_store = urlparse(mlflow.get_tracking_uri()).scheme\n",
    "\n",
    "# Register Experiment\n",
    "if tracking_url_type_store != \"file\":\n",
    "    # Register the model\n",
    "    # There are other ways to use the Model Registry, which depends on the use case,\n",
    "    # please refer to the doc for more information:\n",
    "    # https://mlflow.org/docs/latest/model-registry.html#api-workflow\n",
    "    \n",
    "    mlflow.xgboost.log_model(\n",
    "        xgb_model=model,\n",
    "        artifact_path=\"xgboost-model\",\n",
    "        registered_model_name=\"XGBClassifier\",\n",
    "    )\n",
    "\n",
    "else:\n",
    "    print('Store type: file')\n",
    "    mlflow.xgboost.log_model(model, \"model\")\n"
   ]
  },
  {
   "cell_type": "code",
   "execution_count": 61,
   "metadata": {},
   "outputs": [
    {
     "name": "stdout",
     "output_type": "stream",
     "text": [
      "run_id: f64d06226bb94f2fb2b33350b7a40692; status: FINISHED\n",
      "--\n",
      "Active run: None\n"
     ]
    }
   ],
   "source": [
    "# End run and get status\n",
    "mlflow.end_run()\n",
    "run = mlflow.get_run(run.info.run_id)\n",
    "print(\"run_id: {}; status: {}\".format(run.info.run_id, run.info.status))\n",
    "print(\"--\")\n",
    "\n",
    "# Check for any active runs\n",
    "print(\"Active run: {}\".format(mlflow.active_run()))"
   ]
  },
  {
   "cell_type": "markdown",
   "metadata": {},
   "source": [
    "#  Submit results"
   ]
  },
  {
   "cell_type": "markdown",
   "metadata": {},
   "source": [
    "- 2021-10-20_submission_kmean-pca-fs17-xbg-nop.csv: 0.8569970265985022 | **0.85626**\n",
    "- 2021-10-20_submission_kmean-3pca-fs17-xbg-nop.csv: 0.8568950821125828 | 0.85619\n",
    "- 2021-10-20_submission_kmean-ALLpca-fs13-xbg-nop.csv: 0.8567778822323093 | not submitted\n",
    "- 2021-10-20_submission_13fs-kmean-2pca-4nf-xbg-nop.csv: 0.8568443738048714 | not submitted\n",
    "- 2021-10-20_submission_49fs-kmean-2pca-4nf-xbg-nop.csv: 0.8567888578426363 | 0.85599\n",
    "- 2021-10-20_submission_13fs-kmean-1pca-4nf-poly-xbg-nop.csv: 0.8568639280432698 | 0.85615\n",
    "- 2021-10-25_submission_f64d06226bb94f2fb2b33350b7a40692.csv: 0.8566269081302578 | 0.85600"
   ]
  },
  {
   "cell_type": "code",
   "execution_count": 64,
   "metadata": {},
   "outputs": [
    {
     "name": "stdout",
     "output_type": "stream",
     "text": [
      "2021-10-25_submission_f64d06226bb94f2fb2b33350b7a40692.csv\n"
     ]
    }
   ],
   "source": [
    "import numpy as np\n",
    "from datetime import datetime\n",
    "\n",
    "# datetime object containing current date and time\n",
    "now = datetime.now()\n",
    "now = now.strftime(\"%Y-%m-%d\")\n",
    "\n",
    "objective = str(run.info.run_id)\n",
    "\n",
    "curr_submission_fn = f\"{now}_submission_{objective}.csv\"\n",
    "\n",
    "sample_df['target'] = np.mean(np.column_stack(final_test_predictions), axis=1)\n",
    "sample_df.to_csv(PATH_SUB + curr_submission_fn, index=False)\n",
    "\n",
    "print(curr_submission_fn)\n"
   ]
  },
  {
   "cell_type": "code",
   "execution_count": 65,
   "metadata": {},
   "outputs": [
    {
     "name": "stdout",
     "output_type": "stream",
     "text": [
      "Successfully submitted to Tabular Playground Series - Oct 2021"
     ]
    },
    {
     "name": "stderr",
     "output_type": "stream",
     "text": [
      "\n",
      "  0%|          | 0.00/9.36M [00:00<?, ?B/s]\n",
      "  0%|          | 8.00k/9.36M [00:00<07:18, 22.4kB/s]\n",
      "  1%|          | 96.0k/9.36M [00:00<00:42, 229kB/s] \n",
      "  1%|▏         | 136k/9.36M [00:01<01:11, 135kB/s] \n",
      "  2%|▏         | 168k/9.36M [00:01<01:04, 149kB/s]\n",
      "  2%|▏         | 192k/9.36M [00:01<01:31, 105kB/s]\n",
      "  2%|▏         | 216k/9.36M [00:01<01:18, 122kB/s]\n",
      "  3%|▎         | 240k/9.36M [00:01<01:08, 140kB/s]\n",
      "  3%|▎         | 264k/9.36M [00:01<01:00, 157kB/s]\n",
      "  3%|▎         | 304k/9.36M [00:02<00:47, 200kB/s]\n",
      "  4%|▎         | 336k/9.36M [00:02<00:43, 216kB/s]\n",
      "  4%|▍         | 368k/9.36M [00:02<00:39, 239kB/s]\n",
      "  4%|▍         | 408k/9.36M [00:02<00:34, 273kB/s]\n",
      "  5%|▍         | 448k/9.36M [00:02<00:30, 303kB/s]\n",
      "  5%|▌         | 480k/9.36M [00:02<00:30, 305kB/s]\n",
      "  5%|▌         | 512k/9.36M [00:02<00:30, 306kB/s]\n",
      "  6%|▌         | 552k/9.36M [00:02<00:29, 315kB/s]\n",
      "  6%|▋         | 600k/9.36M [00:02<00:26, 342kB/s]\n",
      "  7%|▋         | 640k/9.36M [00:03<00:28, 326kB/s]\n",
      "  7%|▋         | 688k/9.36M [00:03<00:26, 338kB/s]\n",
      "  8%|▊         | 728k/9.36M [00:03<00:25, 352kB/s]\n",
      "  8%|▊         | 768k/9.36M [00:03<00:25, 357kB/s]\n",
      "  8%|▊         | 808k/9.36M [00:03<00:25, 353kB/s]\n",
      "  9%|▉         | 848k/9.36M [00:03<00:24, 364kB/s]\n",
      "  9%|▉         | 888k/9.36M [00:03<00:24, 368kB/s]\n",
      " 10%|▉         | 928k/9.36M [00:03<00:23, 372kB/s]\n",
      " 10%|█         | 968k/9.36M [00:04<00:23, 370kB/s]\n",
      " 11%|█         | 0.98M/9.36M [00:04<00:24, 355kB/s]\n",
      " 11%|█         | 1.03M/9.36M [00:04<00:23, 376kB/s]\n",
      " 11%|█▏        | 1.07M/9.36M [00:04<00:23, 373kB/s]\n",
      " 12%|█▏        | 1.11M/9.36M [00:04<00:25, 336kB/s]\n",
      " 12%|█▏        | 1.16M/9.36M [00:04<00:24, 356kB/s]\n",
      " 13%|█▎        | 1.20M/9.36M [00:04<00:23, 364kB/s]\n",
      " 13%|█▎        | 1.24M/9.36M [00:04<00:22, 373kB/s]\n",
      " 14%|█▎        | 1.28M/9.36M [00:05<00:23, 354kB/s]\n",
      " 14%|█▍        | 1.32M/9.36M [00:05<00:24, 348kB/s]\n",
      " 15%|█▍        | 1.36M/9.36M [00:05<00:23, 360kB/s]\n",
      " 15%|█▍        | 1.40M/9.36M [00:05<00:23, 353kB/s]\n",
      " 15%|█▌        | 1.44M/9.36M [00:05<00:23, 349kB/s]\n",
      " 16%|█▌        | 1.48M/9.36M [00:05<00:24, 343kB/s]\n",
      " 16%|█▌        | 1.52M/9.36M [00:05<00:24, 332kB/s]\n",
      " 17%|█▋        | 1.55M/9.36M [00:05<00:23, 348kB/s]\n",
      " 17%|█▋        | 1.59M/9.36M [00:05<00:24, 332kB/s]\n",
      " 18%|█▊        | 1.64M/9.36M [00:06<00:22, 354kB/s]\n",
      " 18%|█▊        | 1.68M/9.36M [00:06<00:22, 363kB/s]\n",
      " 18%|█▊        | 1.72M/9.36M [00:06<00:23, 348kB/s]\n",
      " 19%|█▉        | 1.76M/9.36M [00:06<00:23, 346kB/s]\n",
      " 19%|█▉        | 1.80M/9.36M [00:06<00:22, 356kB/s]\n",
      " 20%|█▉        | 1.84M/9.36M [00:06<00:22, 344kB/s]\n",
      " 20%|██        | 1.88M/9.36M [00:06<00:21, 359kB/s]\n",
      " 20%|██        | 1.91M/9.36M [00:06<00:21, 356kB/s]\n",
      " 21%|██        | 1.95M/9.36M [00:07<00:21, 361kB/s]\n",
      " 22%|██▏       | 2.05M/9.36M [00:07<00:14, 522kB/s]\n",
      " 23%|██▎       | 2.11M/9.36M [00:07<00:16, 475kB/s]\n",
      " 23%|██▎       | 2.16M/9.36M [00:07<00:16, 445kB/s]\n",
      " 24%|██▎       | 2.20M/9.36M [00:07<00:17, 421kB/s]\n",
      " 24%|██▍       | 2.25M/9.36M [00:07<00:18, 408kB/s]\n",
      " 25%|██▍       | 2.30M/9.36M [00:07<00:19, 384kB/s]\n",
      " 25%|██▍       | 2.34M/9.36M [00:07<00:18, 389kB/s]\n",
      " 25%|██▌       | 2.38M/9.36M [00:08<00:19, 385kB/s]\n",
      " 26%|██▌       | 2.41M/9.36M [00:08<00:19, 380kB/s]\n",
      " 26%|██▌       | 2.45M/9.36M [00:08<00:19, 377kB/s]\n",
      " 27%|██▋       | 2.49M/9.36M [00:08<00:19, 369kB/s]\n",
      " 27%|██▋       | 2.53M/9.36M [00:08<00:19, 360kB/s]\n",
      " 28%|██▊       | 2.58M/9.36M [00:08<00:18, 380kB/s]\n",
      " 29%|██▉       | 2.74M/9.36M [00:08<00:09, 704kB/s]\n",
      " 30%|███       | 2.81M/9.36M [00:08<00:11, 576kB/s]\n",
      " 31%|███       | 2.88M/9.36M [00:09<00:14, 485kB/s]\n",
      " 31%|███▏      | 2.93M/9.36M [00:09<00:15, 434kB/s]\n",
      " 32%|███▏      | 2.98M/9.36M [00:09<00:31, 214kB/s]\n",
      " 34%|███▍      | 3.17M/9.36M [00:10<00:14, 439kB/s]\n",
      " 35%|███▍      | 3.25M/9.36M [00:10<00:15, 410kB/s]\n",
      " 35%|███▌      | 3.32M/9.36M [00:10<00:21, 292kB/s]\n",
      " 37%|███▋      | 3.45M/9.36M [00:10<00:14, 423kB/s]\n",
      " 38%|███▊      | 3.53M/9.36M [00:11<00:15, 407kB/s]\n",
      " 38%|███▊      | 3.59M/9.36M [00:11<00:15, 395kB/s]\n",
      " 39%|███▉      | 3.65M/9.36M [00:11<00:15, 385kB/s]\n",
      " 40%|███▉      | 3.70M/9.36M [00:11<00:15, 380kB/s]\n",
      " 40%|████      | 3.75M/9.36M [00:11<00:15, 386kB/s]\n",
      " 41%|████      | 3.80M/9.36M [00:11<00:15, 380kB/s]\n",
      " 41%|████      | 3.84M/9.36M [00:11<00:15, 371kB/s]\n",
      " 41%|████▏     | 3.88M/9.36M [00:12<00:15, 367kB/s]\n",
      " 42%|████▏     | 3.92M/9.36M [00:12<00:15, 371kB/s]\n",
      " 42%|████▏     | 3.96M/9.36M [00:12<00:15, 361kB/s]\n",
      " 43%|████▎     | 4.00M/9.36M [00:12<00:15, 367kB/s]\n",
      " 43%|████▎     | 4.05M/9.36M [00:12<00:14, 380kB/s]\n",
      " 44%|████▎     | 4.09M/9.36M [00:12<00:15, 354kB/s]\n",
      " 44%|████▍     | 4.13M/9.36M [00:12<00:14, 371kB/s]\n",
      " 45%|████▍     | 4.17M/9.36M [00:12<00:14, 371kB/s]\n",
      " 45%|████▍     | 4.21M/9.36M [00:13<00:14, 367kB/s]\n",
      " 45%|████▌     | 4.25M/9.36M [00:13<00:14, 360kB/s]\n",
      " 46%|████▌     | 4.30M/9.36M [00:13<00:14, 374kB/s]\n",
      " 46%|████▋     | 4.34M/9.36M [00:13<00:14, 365kB/s]\n",
      " 47%|████▋     | 4.38M/9.36M [00:13<00:14, 357kB/s]\n",
      " 47%|████▋     | 4.41M/9.36M [00:13<00:14, 366kB/s]\n",
      " 48%|████▊     | 4.45M/9.36M [00:13<00:14, 357kB/s]\n",
      " 48%|████▊     | 4.49M/9.36M [00:13<00:13, 366kB/s]\n",
      " 48%|████▊     | 4.53M/9.36M [00:13<00:13, 373kB/s]\n",
      " 49%|████▉     | 4.57M/9.36M [00:14<00:13, 375kB/s]\n",
      " 49%|████▉     | 4.61M/9.36M [00:14<00:14, 350kB/s]\n",
      " 50%|████▉     | 4.65M/9.36M [00:14<00:13, 360kB/s]\n",
      " 50%|█████     | 4.69M/9.36M [00:14<00:13, 354kB/s]\n",
      " 51%|█████     | 4.73M/9.36M [00:14<00:13, 365kB/s]\n",
      " 51%|█████     | 4.78M/9.36M [00:15<00:24, 195kB/s]\n",
      " 53%|█████▎    | 4.95M/9.36M [00:15<00:11, 420kB/s]\n",
      " 54%|█████▎    | 5.01M/9.36M [00:15<00:11, 409kB/s]\n",
      " 54%|█████▍    | 5.06M/9.36M [00:15<00:12, 366kB/s]\n",
      " 55%|█████▍    | 5.11M/9.36M [00:15<00:11, 375kB/s]\n",
      " 55%|█████▌    | 5.16M/9.36M [00:15<00:12, 362kB/s]\n",
      " 56%|█████▌    | 5.20M/9.36M [00:15<00:12, 352kB/s]\n",
      " 56%|█████▌    | 5.25M/9.36M [00:16<00:11, 376kB/s]\n",
      " 57%|█████▋    | 5.29M/9.36M [00:16<00:11, 366kB/s]\n",
      " 57%|█████▋    | 5.33M/9.36M [00:16<00:12, 348kB/s]\n",
      " 57%|█████▋    | 5.37M/9.36M [00:16<00:11, 358kB/s]\n",
      " 58%|█████▊    | 5.41M/9.36M [00:16<00:11, 365kB/s]\n",
      " 58%|█████▊    | 5.45M/9.36M [00:16<00:11, 367kB/s]\n",
      " 59%|█████▊    | 5.48M/9.36M [00:16<00:11, 349kB/s]\n",
      " 59%|█████▉    | 5.53M/9.36M [00:16<00:10, 377kB/s]\n",
      " 60%|█████▉    | 5.57M/9.36M [00:17<00:10, 366kB/s]\n",
      " 60%|█████▉    | 5.61M/9.36M [00:17<00:10, 372kB/s]\n",
      " 60%|██████    | 5.65M/9.36M [00:17<00:10, 374kB/s]\n",
      " 61%|██████    | 5.69M/9.36M [00:17<00:10, 373kB/s]\n",
      " 61%|██████    | 5.73M/9.36M [00:17<00:10, 368kB/s]\n",
      " 62%|██████▏   | 5.77M/9.36M [00:17<00:10, 373kB/s]\n",
      " 62%|██████▏   | 5.80M/9.36M [00:17<00:10, 349kB/s]\n",
      " 62%|██████▏   | 5.84M/9.36M [00:17<00:10, 360kB/s]\n",
      " 63%|██████▎   | 5.88M/9.36M [00:17<00:09, 367kB/s]\n",
      " 63%|██████▎   | 5.93M/9.36M [00:18<00:09, 380kB/s]\n",
      " 64%|██████▍   | 5.97M/9.36M [00:18<00:09, 365kB/s]\n",
      " 64%|██████▍   | 6.01M/9.36M [00:18<00:09, 368kB/s]\n",
      " 65%|██████▍   | 6.05M/9.36M [00:18<00:09, 377kB/s]\n",
      " 65%|██████▌   | 6.09M/9.36M [00:18<00:09, 379kB/s]\n",
      " 65%|██████▌   | 6.12M/9.36M [00:18<00:09, 368kB/s]\n",
      " 66%|██████▌   | 6.16M/9.36M [00:18<00:09, 365kB/s]\n",
      " 66%|██████▋   | 6.20M/9.36M [00:18<00:08, 376kB/s]\n",
      " 67%|██████▋   | 6.24M/9.36M [00:18<00:08, 373kB/s]\n",
      " 67%|██████▋   | 6.28M/9.36M [00:19<00:08, 376kB/s]\n",
      " 68%|██████▊   | 6.32M/9.36M [00:19<00:08, 367kB/s]\n",
      " 68%|██████▊   | 6.36M/9.36M [00:19<00:08, 354kB/s]\n",
      " 68%|██████▊   | 6.40M/9.36M [00:19<00:08, 349kB/s]\n",
      " 69%|██████▉   | 6.45M/9.36M [00:19<00:08, 379kB/s]\n",
      " 69%|██████▉   | 6.48M/9.36M [00:19<00:08, 368kB/s]\n",
      " 70%|██████▉   | 6.52M/9.36M [00:19<00:08, 367kB/s]\n",
      " 70%|███████   | 6.56M/9.36M [00:19<00:08, 362kB/s]\n",
      " 71%|███████   | 6.60M/9.36M [00:19<00:08, 328kB/s]\n",
      " 71%|███████   | 6.65M/9.36M [00:20<00:07, 358kB/s]\n",
      " 71%|███████▏  | 6.69M/9.36M [00:20<00:07, 358kB/s]\n",
      " 72%|███████▏  | 6.73M/9.36M [00:20<00:07, 358kB/s]\n",
      " 72%|███████▏  | 6.77M/9.36M [00:20<00:07, 345kB/s]\n",
      " 73%|███████▎  | 6.80M/9.36M [00:20<00:07, 356kB/s]\n",
      " 73%|███████▎  | 6.84M/9.36M [00:20<00:07, 331kB/s]\n",
      " 74%|███████▎  | 6.88M/9.36M [00:20<00:07, 325kB/s]\n",
      " 74%|███████▍  | 6.92M/9.36M [00:20<00:07, 341kB/s]\n",
      " 74%|███████▍  | 6.96M/9.36M [00:21<00:07, 342kB/s]\n",
      " 75%|███████▍  | 7.00M/9.36M [00:21<00:07, 347kB/s]\n",
      " 75%|███████▌  | 7.04M/9.36M [00:21<00:07, 335kB/s]\n"
     ]
    },
    {
     "name": "stdout",
     "output_type": "stream",
     "text": [
      "\n"
     ]
    },
    {
     "name": "stderr",
     "output_type": "stream",
     "text": [
      " 76%|███████▌  | 7.08M/9.36M [00:21<00:06, 349kB/s]\n",
      " 76%|███████▌  | 7.12M/9.36M [00:21<00:06, 359kB/s]\n",
      " 76%|███████▋  | 7.16M/9.36M [00:21<00:06, 341kB/s]\n",
      " 77%|███████▋  | 7.20M/9.36M [00:21<00:06, 361kB/s]\n",
      " 77%|███████▋  | 7.24M/9.36M [00:21<00:05, 373kB/s]\n",
      " 78%|███████▊  | 7.28M/9.36M [00:21<00:05, 370kB/s]\n",
      " 78%|███████▊  | 7.32M/9.36M [00:22<00:06, 345kB/s]\n",
      " 79%|███████▊  | 7.37M/9.36M [00:22<00:05, 377kB/s]\n",
      " 79%|███████▉  | 7.41M/9.36M [00:22<00:05, 353kB/s]\n",
      " 80%|███████▉  | 7.45M/9.36M [00:22<00:05, 357kB/s]\n",
      " 80%|███████▉  | 7.48M/9.36M [00:22<00:05, 357kB/s]\n",
      " 80%|████████  | 7.52M/9.36M [00:22<00:05, 334kB/s]\n",
      " 81%|████████  | 7.56M/9.36M [00:22<00:05, 349kB/s]\n",
      " 81%|████████  | 7.60M/9.36M [00:22<00:05, 359kB/s]\n",
      " 82%|████████▏ | 7.64M/9.36M [00:23<00:04, 362kB/s]\n",
      " 82%|████████▏ | 7.68M/9.36M [00:23<00:04, 360kB/s]\n",
      " 82%|████████▏ | 7.72M/9.36M [00:23<00:04, 365kB/s]\n",
      " 83%|████████▎ | 7.76M/9.36M [00:23<00:04, 360kB/s]\n",
      " 83%|████████▎ | 7.80M/9.36M [00:23<00:04, 353kB/s]\n",
      " 84%|████████▍ | 7.84M/9.36M [00:23<00:04, 367kB/s]\n",
      " 84%|████████▍ | 7.88M/9.36M [00:23<00:04, 359kB/s]\n",
      " 85%|████████▍ | 7.92M/9.36M [00:23<00:04, 352kB/s]\n",
      " 85%|████████▌ | 7.96M/9.36M [00:23<00:04, 362kB/s]\n",
      " 85%|████████▌ | 8.00M/9.36M [00:24<00:04, 353kB/s]\n",
      " 86%|████████▌ | 8.04M/9.36M [00:24<00:03, 350kB/s]\n",
      " 86%|████████▋ | 8.08M/9.36M [00:24<00:03, 358kB/s]\n",
      " 87%|████████▋ | 8.12M/9.36M [00:24<00:03, 368kB/s]\n",
      " 87%|████████▋ | 8.16M/9.36M [00:24<00:03, 358kB/s]\n",
      " 88%|████████▊ | 8.20M/9.36M [00:24<00:03, 366kB/s]\n",
      " 88%|████████▊ | 8.23M/9.36M [00:24<00:03, 372kB/s]\n",
      " 88%|████████▊ | 8.27M/9.36M [00:24<00:03, 374kB/s]\n",
      " 89%|████████▉ | 8.31M/9.36M [00:25<00:03, 351kB/s]\n",
      " 89%|████████▉ | 8.35M/9.36M [00:25<00:06, 173kB/s]\n",
      " 90%|████████▉ | 8.38M/9.36M [00:25<00:05, 190kB/s]\n",
      " 92%|█████████▏| 8.57M/9.36M [00:25<00:01, 493kB/s]\n",
      " 92%|█████████▏| 8.64M/9.36M [00:26<00:02, 363kB/s]\n",
      " 93%|█████████▎| 8.70M/9.36M [00:27<00:04, 152kB/s]\n",
      " 94%|█████████▍| 8.84M/9.36M [00:27<00:02, 255kB/s]\n",
      " 95%|█████████▌| 8.91M/9.36M [00:27<00:01, 274kB/s]\n",
      " 96%|█████████▌| 8.98M/9.36M [00:27<00:01, 294kB/s]\n",
      " 96%|█████████▋| 9.03M/9.36M [00:27<00:01, 299kB/s]\n",
      " 97%|█████████▋| 9.08M/9.36M [00:28<00:00, 321kB/s]\n",
      " 97%|█████████▋| 9.12M/9.36M [00:28<00:00, 331kB/s]\n",
      " 98%|█████████▊| 9.17M/9.36M [00:28<00:00, 331kB/s]\n",
      " 98%|█████████▊| 9.21M/9.36M [00:28<00:00, 341kB/s]\n",
      " 99%|█████████▉| 9.25M/9.36M [00:28<00:00, 351kB/s]\n",
      " 99%|█████████▉| 9.29M/9.36M [00:28<00:00, 359kB/s]\n",
      "100%|█████████▉| 9.33M/9.36M [00:28<00:00, 354kB/s]\n",
      "100%|██████████| 9.36M/9.36M [00:30<00:00, 321kB/s]\n"
     ]
    }
   ],
   "source": [
    "!kaggle competitions submit tabular-playground-series-oct-2021 -f {PATH_SUB+curr_submission_fn} -m {curr_submission_fn}"
   ]
  },
  {
   "cell_type": "code",
   "execution_count": null,
   "metadata": {},
   "outputs": [],
   "source": []
  }
 ],
 "metadata": {
  "interpreter": {
   "hash": "79c27f56f82a3e636d8c32f16194805e02194739f32cfb292b3e6d4616b1ccd0"
  },
  "kernelspec": {
   "display_name": "Python 3.9.7 64-bit ('kaggle-competition': conda)",
   "name": "python3"
  },
  "language_info": {
   "codemirror_mode": {
    "name": "ipython",
    "version": 3
   },
   "file_extension": ".py",
   "mimetype": "text/x-python",
   "name": "python",
   "nbconvert_exporter": "python",
   "pygments_lexer": "ipython3",
   "version": "3.9.7"
  },
  "papermill": {
   "default_parameters": {},
   "duration": 360.477415,
   "end_time": "2021-10-17T14:16:39.439751",
   "environment_variables": {},
   "exception": null,
   "input_path": "__notebook__.ipynb",
   "output_path": "__notebook__.ipynb",
   "parameters": {},
   "start_time": "2021-10-17T14:10:38.962336",
   "version": "2.3.3"
  }
 },
 "nbformat": 4,
 "nbformat_minor": 5
}
