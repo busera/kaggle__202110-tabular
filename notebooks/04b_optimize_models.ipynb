{
 "cells": [
  {
   "cell_type": "code",
   "execution_count": 134,
   "id": "7e6e82a2",
   "metadata": {
    "_cell_guid": "b1076dfc-b9ad-4769-8c92-a6c4dae69d19",
    "_uuid": "8f2839f25d086af736a60e9eeb907d3b93b6e0e5",
    "execution": {
     "iopub.execute_input": "2021-10-17T14:10:49.100187Z",
     "iopub.status.busy": "2021-10-17T14:10:49.099085Z",
     "iopub.status.idle": "2021-10-17T14:10:50.363556Z",
     "shell.execute_reply": "2021-10-17T14:10:50.362751Z",
     "shell.execute_reply.started": "2021-10-17T14:02:39.499327Z"
    },
    "papermill": {
     "duration": 1.296891,
     "end_time": "2021-10-17T14:10:50.363730",
     "exception": false,
     "start_time": "2021-10-17T14:10:49.066839",
     "status": "completed"
    },
    "tags": []
   },
   "outputs": [
    {
     "name": "stdout",
     "output_type": "stream",
     "text": [
      "The watermark extension is already loaded. To reload it, use:\n",
      "  %reload_ext watermark\n"
     ]
    }
   ],
   "source": [
    "# The rest of the modules are loaded when required.\n",
    "# To ensure a standalone character (for easier reusability).\n",
    "\n",
    "import os # for detecting CPU cores\n",
    "import configparser # to load standard config and parameters\n",
    "import pandas as pd\n",
    "import numpy as np\n",
    "import warnings\n",
    "\n",
    "# Visualization\n",
    "import matplotlib.pyplot as plt\n",
    "import seaborn as sns\n",
    "import plotly.figure_factory as ff\n",
    "import plotly.express as px\n",
    "\n",
    "# Debugging\n",
    "from icecream import ic\n",
    "\n",
    "warnings.filterwarnings('ignore')\n",
    "%load_ext watermark\n",
    "%matplotlib inline"
   ]
  },
  {
   "cell_type": "code",
   "execution_count": 135,
   "metadata": {},
   "outputs": [
    {
     "name": "stdout",
     "output_type": "stream",
     "text": [
      "True\n",
      "True\n",
      "[PhysicalDevice(name='/physical_device:GPU:0', device_type='GPU')]\n"
     ]
    }
   ],
   "source": [
    "# importing the tensorflow package\n",
    "import tensorflow as tf\n",
    "\n",
    "# Checking GPU support\n",
    "print(tf.test.is_built_with_cuda()) # True\n",
    "print(tf.test.is_gpu_available(cuda_only=False, min_cuda_compute_capability=None)) # True\n",
    "print(tf.config.list_physical_devices('GPU'))"
   ]
  },
  {
   "cell_type": "code",
   "execution_count": 136,
   "metadata": {},
   "outputs": [
    {
     "name": "stdout",
     "output_type": "stream",
     "text": [
      "Number of CPUs used: 16\n"
     ]
    }
   ],
   "source": [
    "import os\n",
    "import configparser\n",
    "\n",
    "# Load external config file\n",
    "config = configparser.ConfigParser()\n",
    "config.read(\"../resources/config.ini\")\n",
    "\n",
    "PATH_DATA_RAW = config[\"PATHS\"][\"PATH_DATA_RAW\"]\n",
    "PATH_DATA_INT = config[\"PATHS\"][\"PATH_DATA_INT\"]\n",
    "PATH_DATA_PRO = config[\"PATHS\"][\"PATH_DATA_PRO\"]\n",
    "PATH_REPORTS = config[\"PATHS\"][\"PATH_REPORTS\"]\n",
    "PATH_MODELS = config[\"PATHS\"][\"PATH_MODELS\"]\n",
    "PATH_SUB = config[\"PATHS\"][\"PATH_SUB\"]\n",
    "\n",
    "# Telegram Bot\n",
    "token = config[\"TELEGRAM\"][\"token\"]\n",
    "chat_id = config[\"TELEGRAM\"][\"chat_id\"]\n",
    "FILENAME_NB = \"02_baseline_models\" # for Telegram messages\n",
    "\n",
    "# Set global randome state\n",
    "rnd_state = 42\n",
    "\n",
    "# Define available cpu cores\n",
    "n_cpu = os.cpu_count()\n",
    "print(\"Number of CPUs used:\", n_cpu)"
   ]
  },
  {
   "cell_type": "code",
   "execution_count": 137,
   "metadata": {},
   "outputs": [],
   "source": [
    "train_df = pd.read_csv(PATH_DATA_RAW+'train.csv',index_col=0)\n",
    "test_df = pd.read_csv(PATH_DATA_RAW+'test.csv',index_col=0)\n",
    "sample_df = pd.read_csv(PATH_DATA_RAW+'sample_submission.csv')"
   ]
  },
  {
   "cell_type": "code",
   "execution_count": 138,
   "metadata": {},
   "outputs": [
    {
     "data": {
      "text/html": [
       "<div>\n",
       "<style scoped>\n",
       "    .dataframe tbody tr th:only-of-type {\n",
       "        vertical-align: middle;\n",
       "    }\n",
       "\n",
       "    .dataframe tbody tr th {\n",
       "        vertical-align: top;\n",
       "    }\n",
       "\n",
       "    .dataframe thead th {\n",
       "        text-align: right;\n",
       "    }\n",
       "</style>\n",
       "<table border=\"1\" class=\"dataframe\">\n",
       "  <thead>\n",
       "    <tr style=\"text-align: right;\">\n",
       "      <th></th>\n",
       "      <th>f0</th>\n",
       "      <th>f1</th>\n",
       "      <th>f2</th>\n",
       "      <th>f3</th>\n",
       "      <th>f4</th>\n",
       "      <th>f5</th>\n",
       "      <th>f6</th>\n",
       "      <th>f7</th>\n",
       "      <th>f8</th>\n",
       "      <th>f9</th>\n",
       "      <th>...</th>\n",
       "      <th>f276</th>\n",
       "      <th>f277</th>\n",
       "      <th>f278</th>\n",
       "      <th>f279</th>\n",
       "      <th>f280</th>\n",
       "      <th>f281</th>\n",
       "      <th>f282</th>\n",
       "      <th>f283</th>\n",
       "      <th>f284</th>\n",
       "      <th>target</th>\n",
       "    </tr>\n",
       "    <tr>\n",
       "      <th>id</th>\n",
       "      <th></th>\n",
       "      <th></th>\n",
       "      <th></th>\n",
       "      <th></th>\n",
       "      <th></th>\n",
       "      <th></th>\n",
       "      <th></th>\n",
       "      <th></th>\n",
       "      <th></th>\n",
       "      <th></th>\n",
       "      <th></th>\n",
       "      <th></th>\n",
       "      <th></th>\n",
       "      <th></th>\n",
       "      <th></th>\n",
       "      <th></th>\n",
       "      <th></th>\n",
       "      <th></th>\n",
       "      <th></th>\n",
       "      <th></th>\n",
       "      <th></th>\n",
       "    </tr>\n",
       "  </thead>\n",
       "  <tbody>\n",
       "    <tr>\n",
       "      <th>0</th>\n",
       "      <td>0.205979</td>\n",
       "      <td>0.410993</td>\n",
       "      <td>0.176775</td>\n",
       "      <td>0.223581</td>\n",
       "      <td>0.423543</td>\n",
       "      <td>0.476140</td>\n",
       "      <td>0.413590</td>\n",
       "      <td>0.612021</td>\n",
       "      <td>0.534873</td>\n",
       "      <td>0.147295</td>\n",
       "      <td>...</td>\n",
       "      <td>0</td>\n",
       "      <td>1</td>\n",
       "      <td>0</td>\n",
       "      <td>0</td>\n",
       "      <td>0</td>\n",
       "      <td>0</td>\n",
       "      <td>0</td>\n",
       "      <td>0</td>\n",
       "      <td>0</td>\n",
       "      <td>1</td>\n",
       "    </tr>\n",
       "    <tr>\n",
       "      <th>1</th>\n",
       "      <td>0.181004</td>\n",
       "      <td>0.473119</td>\n",
       "      <td>0.011734</td>\n",
       "      <td>0.213657</td>\n",
       "      <td>0.619678</td>\n",
       "      <td>0.441593</td>\n",
       "      <td>0.230407</td>\n",
       "      <td>0.686013</td>\n",
       "      <td>0.281971</td>\n",
       "      <td>0.238509</td>\n",
       "      <td>...</td>\n",
       "      <td>0</td>\n",
       "      <td>1</td>\n",
       "      <td>0</td>\n",
       "      <td>0</td>\n",
       "      <td>0</td>\n",
       "      <td>0</td>\n",
       "      <td>0</td>\n",
       "      <td>0</td>\n",
       "      <td>0</td>\n",
       "      <td>1</td>\n",
       "    </tr>\n",
       "    <tr>\n",
       "      <th>2</th>\n",
       "      <td>0.182583</td>\n",
       "      <td>0.307431</td>\n",
       "      <td>0.325950</td>\n",
       "      <td>0.207116</td>\n",
       "      <td>0.605699</td>\n",
       "      <td>0.309695</td>\n",
       "      <td>0.493337</td>\n",
       "      <td>0.751107</td>\n",
       "      <td>0.536272</td>\n",
       "      <td>0.286813</td>\n",
       "      <td>...</td>\n",
       "      <td>0</td>\n",
       "      <td>0</td>\n",
       "      <td>0</td>\n",
       "      <td>1</td>\n",
       "      <td>1</td>\n",
       "      <td>0</td>\n",
       "      <td>0</td>\n",
       "      <td>0</td>\n",
       "      <td>0</td>\n",
       "      <td>1</td>\n",
       "    </tr>\n",
       "    <tr>\n",
       "      <th>3</th>\n",
       "      <td>0.180240</td>\n",
       "      <td>0.494592</td>\n",
       "      <td>0.008367</td>\n",
       "      <td>0.223580</td>\n",
       "      <td>0.760618</td>\n",
       "      <td>0.439211</td>\n",
       "      <td>0.432055</td>\n",
       "      <td>0.776147</td>\n",
       "      <td>0.483958</td>\n",
       "      <td>0.260886</td>\n",
       "      <td>...</td>\n",
       "      <td>0</td>\n",
       "      <td>0</td>\n",
       "      <td>0</td>\n",
       "      <td>0</td>\n",
       "      <td>1</td>\n",
       "      <td>0</td>\n",
       "      <td>0</td>\n",
       "      <td>0</td>\n",
       "      <td>0</td>\n",
       "      <td>1</td>\n",
       "    </tr>\n",
       "    <tr>\n",
       "      <th>4</th>\n",
       "      <td>0.177172</td>\n",
       "      <td>0.495513</td>\n",
       "      <td>0.014263</td>\n",
       "      <td>0.548819</td>\n",
       "      <td>0.625396</td>\n",
       "      <td>0.562493</td>\n",
       "      <td>0.117158</td>\n",
       "      <td>0.561255</td>\n",
       "      <td>0.077115</td>\n",
       "      <td>0.158321</td>\n",
       "      <td>...</td>\n",
       "      <td>0</td>\n",
       "      <td>1</td>\n",
       "      <td>1</td>\n",
       "      <td>0</td>\n",
       "      <td>1</td>\n",
       "      <td>0</td>\n",
       "      <td>0</td>\n",
       "      <td>1</td>\n",
       "      <td>0</td>\n",
       "      <td>1</td>\n",
       "    </tr>\n",
       "  </tbody>\n",
       "</table>\n",
       "<p>5 rows × 286 columns</p>\n",
       "</div>"
      ],
      "text/plain": [
       "          f0        f1        f2        f3        f4        f5        f6  \\\n",
       "id                                                                         \n",
       "0   0.205979  0.410993  0.176775  0.223581  0.423543  0.476140  0.413590   \n",
       "1   0.181004  0.473119  0.011734  0.213657  0.619678  0.441593  0.230407   \n",
       "2   0.182583  0.307431  0.325950  0.207116  0.605699  0.309695  0.493337   \n",
       "3   0.180240  0.494592  0.008367  0.223580  0.760618  0.439211  0.432055   \n",
       "4   0.177172  0.495513  0.014263  0.548819  0.625396  0.562493  0.117158   \n",
       "\n",
       "          f7        f8        f9  ...  f276  f277  f278  f279  f280  f281  \\\n",
       "id                                ...                                       \n",
       "0   0.612021  0.534873  0.147295  ...     0     1     0     0     0     0   \n",
       "1   0.686013  0.281971  0.238509  ...     0     1     0     0     0     0   \n",
       "2   0.751107  0.536272  0.286813  ...     0     0     0     1     1     0   \n",
       "3   0.776147  0.483958  0.260886  ...     0     0     0     0     1     0   \n",
       "4   0.561255  0.077115  0.158321  ...     0     1     1     0     1     0   \n",
       "\n",
       "    f282  f283  f284  target  \n",
       "id                            \n",
       "0      0     0     0       1  \n",
       "1      0     0     0       1  \n",
       "2      0     0     0       1  \n",
       "3      0     0     0       1  \n",
       "4      0     1     0       1  \n",
       "\n",
       "[5 rows x 286 columns]"
      ]
     },
     "execution_count": 138,
     "metadata": {},
     "output_type": "execute_result"
    }
   ],
   "source": [
    "train_df.head()"
   ]
  },
  {
   "cell_type": "code",
   "execution_count": 139,
   "metadata": {},
   "outputs": [
    {
     "data": {
      "text/plain": [
       "2189.63623046875"
      ]
     },
     "execution_count": 139,
     "metadata": {},
     "output_type": "execute_result"
    }
   ],
   "source": [
    "memory_usage = train_df.memory_usage(deep=True) / 1024 ** 2\n",
    "start_mem = memory_usage.sum()\n",
    "start_mem"
   ]
  },
  {
   "cell_type": "code",
   "execution_count": 140,
   "id": "56f120a1",
   "metadata": {
    "execution": {
     "iopub.execute_input": "2021-10-17T14:12:29.537157Z",
     "iopub.status.busy": "2021-10-17T14:12:29.536402Z",
     "iopub.status.idle": "2021-10-17T14:14:15.272246Z",
     "shell.execute_reply": "2021-10-17T14:14:15.271300Z",
     "shell.execute_reply.started": "2021-10-17T14:03:51.505616Z"
    },
    "papermill": {
     "duration": 105.759009,
     "end_time": "2021-10-17T14:14:15.272456",
     "exception": false,
     "start_time": "2021-10-17T14:12:29.513447",
     "status": "completed"
    },
    "tags": []
   },
   "outputs": [
    {
     "name": "stderr",
     "output_type": "stream",
     "text": [
      "ic| len(feature_cols): 285\n",
      "ic| len(cnt_features): 240\n",
      "ic| len(cat_features): 45\n"
     ]
    }
   ],
   "source": [
    "feature_cols = train_df.drop(['target'], axis=1).columns.tolist()\n",
    "cnt_features = train_df.drop(['target'], axis=1).select_dtypes(exclude=['int64']).columns.tolist()\n",
    "cat_features = train_df.drop(['target'], axis=1).select_dtypes(exclude=['float64']).columns.tolist()\n",
    "\n",
    "ic(len(feature_cols))\n",
    "ic(len(cnt_features))\n",
    "ic(len(cat_features));"
   ]
  },
  {
   "cell_type": "code",
   "execution_count": 141,
   "metadata": {},
   "outputs": [
    {
     "name": "stderr",
     "output_type": "stream",
     "text": [
      "ic| len(useful_features): 13\n"
     ]
    }
   ],
   "source": [
    "#useful_features = useful_features = [\"f22\", \"f179\", \"f69\", \"f58\", \"f214\", \"f78\", \"f136\", \"f156\", \"f8\", \"f3\", \"f77\", \"f200\", \"f92\", \"f185\", \"f142\", \"f115\", \"f284\"]\n",
    "useful_features = pd.read_csv(PATH_DATA_INT+'features_selected_6way_140.csv')['Feature'].head(13).tolist()\n",
    "ic(len(useful_features));"
   ]
  },
  {
   "cell_type": "code",
   "execution_count": 142,
   "metadata": {},
   "outputs": [],
   "source": [
    "#feature_cols = useful_features"
   ]
  },
  {
   "cell_type": "code",
   "execution_count": 143,
   "metadata": {},
   "outputs": [],
   "source": [
    "train_df[cnt_features] = train_df[cnt_features].astype('float32')\n",
    "train_df[cat_features] = train_df[cat_features].astype('uint8')\n",
    "\n",
    "test_df[cnt_features] = test_df[cnt_features].astype('float32')\n",
    "test_df[cat_features] = test_df[cat_features].astype('uint8')"
   ]
  },
  {
   "cell_type": "code",
   "execution_count": 144,
   "metadata": {},
   "outputs": [
    {
     "data": {
      "text/plain": [
       "973.7014770507812"
      ]
     },
     "execution_count": 144,
     "metadata": {},
     "output_type": "execute_result"
    }
   ],
   "source": [
    "memory_usage = train_df.memory_usage(deep=True) / 1024 ** 2\n",
    "end_mem = memory_usage.sum()\n",
    "end_mem"
   ]
  },
  {
   "cell_type": "code",
   "execution_count": 145,
   "id": "0488ea1f",
   "metadata": {
    "execution": {
     "iopub.execute_input": "2021-10-17T14:14:15.300157Z",
     "iopub.status.busy": "2021-10-17T14:14:15.299447Z",
     "iopub.status.idle": "2021-10-17T14:14:15.302612Z",
     "shell.execute_reply": "2021-10-17T14:14:15.303123Z",
     "shell.execute_reply.started": "2021-10-17T14:05:38.232603Z"
    },
    "papermill": {
     "duration": 0.019794,
     "end_time": "2021-10-17T14:14:15.303309",
     "exception": false,
     "start_time": "2021-10-17T14:14:15.283515",
     "status": "completed"
    },
    "tags": []
   },
   "outputs": [
    {
     "name": "stdout",
     "output_type": "stream",
     "text": [
      "Mem. usage decreased from 2189.64 MB to 973.70 MB (55.53% reduction)\n"
     ]
    }
   ],
   "source": [
    "print(\"Mem. usage decreased from {:.2f} MB to {:.2f} MB ({:.2f}% reduction)\".format(start_mem, end_mem, 100 * (start_mem - end_mem) / start_mem))"
   ]
  },
  {
   "cell_type": "markdown",
   "metadata": {},
   "source": [
    "# Feature Engineering"
   ]
  },
  {
   "cell_type": "markdown",
   "metadata": {},
   "source": [
    "## KMeans Clustering"
   ]
  },
  {
   "cell_type": "code",
   "execution_count": 146,
   "metadata": {},
   "outputs": [
    {
     "name": "stderr",
     "output_type": "stream",
     "text": [
      "ic| n_clusters_1: 6\n",
      "ic| cluster_cols: ['cluster1', 'cluster2', 'cluster3', 'cluster4', 'cluster5', 'cluster6']\n"
     ]
    }
   ],
   "source": [
    "from sklearn.cluster import KMeans\n",
    "\n",
    "n_clusters_1 = 6\n",
    "cluster_cols = [f\"cluster{i+1}\" for i in range(n_clusters_1)]\n",
    "kmeans = KMeans(n_clusters=n_clusters_1, n_init=50, max_iter=500, random_state=rnd_state)\n",
    "\n",
    "ic(n_clusters_1)\n",
    "ic(cluster_cols);"
   ]
  },
  {
   "cell_type": "code",
   "execution_count": 147,
   "id": "c204f8bf",
   "metadata": {
    "execution": {
     "iopub.execute_input": "2021-10-17T14:14:15.336900Z",
     "iopub.status.busy": "2021-10-17T14:14:15.336109Z",
     "iopub.status.idle": "2021-10-17T14:15:10.593911Z",
     "shell.execute_reply": "2021-10-17T14:15:10.593190Z",
     "shell.execute_reply.started": "2021-10-17T14:05:38.239391Z"
    },
    "papermill": {
     "duration": 55.27928,
     "end_time": "2021-10-17T14:15:10.594081",
     "exception": false,
     "start_time": "2021-10-17T14:14:15.314801",
     "status": "completed"
    },
    "tags": []
   },
   "outputs": [],
   "source": [
    "# cluster distance instead of cluster number\n",
    "\n",
    "# train\n",
    "X_cd = kmeans.fit_transform(train_df[useful_features])\n",
    "X_cd = pd.DataFrame(X_cd, columns=cluster_cols, index=train_df.index)\n",
    "train = train_df.join(X_cd)\n",
    "\n",
    "# test\n",
    "X_cd = kmeans.transform(test_df[useful_features])\n",
    "X_cd = pd.DataFrame(X_cd, columns=cluster_cols, index=test_df.index)\n",
    "test = test_df.join(X_cd)"
   ]
  },
  {
   "cell_type": "code",
   "execution_count": 148,
   "metadata": {},
   "outputs": [
    {
     "data": {
      "text/html": [
       "<div>\n",
       "<style scoped>\n",
       "    .dataframe tbody tr th:only-of-type {\n",
       "        vertical-align: middle;\n",
       "    }\n",
       "\n",
       "    .dataframe tbody tr th {\n",
       "        vertical-align: top;\n",
       "    }\n",
       "\n",
       "    .dataframe thead th {\n",
       "        text-align: right;\n",
       "    }\n",
       "</style>\n",
       "<table border=\"1\" class=\"dataframe\">\n",
       "  <thead>\n",
       "    <tr style=\"text-align: right;\">\n",
       "      <th></th>\n",
       "      <th>f0</th>\n",
       "      <th>f1</th>\n",
       "      <th>f2</th>\n",
       "      <th>f3</th>\n",
       "      <th>f4</th>\n",
       "      <th>f5</th>\n",
       "      <th>f6</th>\n",
       "      <th>f7</th>\n",
       "      <th>f8</th>\n",
       "      <th>f9</th>\n",
       "      <th>...</th>\n",
       "      <th>f282</th>\n",
       "      <th>f283</th>\n",
       "      <th>f284</th>\n",
       "      <th>target</th>\n",
       "      <th>cluster1</th>\n",
       "      <th>cluster2</th>\n",
       "      <th>cluster3</th>\n",
       "      <th>cluster4</th>\n",
       "      <th>cluster5</th>\n",
       "      <th>cluster6</th>\n",
       "    </tr>\n",
       "    <tr>\n",
       "      <th>id</th>\n",
       "      <th></th>\n",
       "      <th></th>\n",
       "      <th></th>\n",
       "      <th></th>\n",
       "      <th></th>\n",
       "      <th></th>\n",
       "      <th></th>\n",
       "      <th></th>\n",
       "      <th></th>\n",
       "      <th></th>\n",
       "      <th></th>\n",
       "      <th></th>\n",
       "      <th></th>\n",
       "      <th></th>\n",
       "      <th></th>\n",
       "      <th></th>\n",
       "      <th></th>\n",
       "      <th></th>\n",
       "      <th></th>\n",
       "      <th></th>\n",
       "      <th></th>\n",
       "    </tr>\n",
       "  </thead>\n",
       "  <tbody>\n",
       "    <tr>\n",
       "      <th>0</th>\n",
       "      <td>0.205979</td>\n",
       "      <td>0.410993</td>\n",
       "      <td>0.176775</td>\n",
       "      <td>0.223581</td>\n",
       "      <td>0.423543</td>\n",
       "      <td>0.476140</td>\n",
       "      <td>0.413590</td>\n",
       "      <td>0.612021</td>\n",
       "      <td>0.534873</td>\n",
       "      <td>0.147295</td>\n",
       "      <td>...</td>\n",
       "      <td>0</td>\n",
       "      <td>0</td>\n",
       "      <td>0</td>\n",
       "      <td>1</td>\n",
       "      <td>0.189223</td>\n",
       "      <td>1.050896</td>\n",
       "      <td>1.017506</td>\n",
       "      <td>1.130244</td>\n",
       "      <td>0.323917</td>\n",
       "      <td>0.527001</td>\n",
       "    </tr>\n",
       "    <tr>\n",
       "      <th>1</th>\n",
       "      <td>0.181004</td>\n",
       "      <td>0.473119</td>\n",
       "      <td>0.011734</td>\n",
       "      <td>0.213657</td>\n",
       "      <td>0.619678</td>\n",
       "      <td>0.441593</td>\n",
       "      <td>0.230407</td>\n",
       "      <td>0.686013</td>\n",
       "      <td>0.281971</td>\n",
       "      <td>0.238509</td>\n",
       "      <td>...</td>\n",
       "      <td>0</td>\n",
       "      <td>0</td>\n",
       "      <td>0</td>\n",
       "      <td>1</td>\n",
       "      <td>0.305138</td>\n",
       "      <td>1.039516</td>\n",
       "      <td>1.045487</td>\n",
       "      <td>1.146268</td>\n",
       "      <td>0.284001</td>\n",
       "      <td>0.559371</td>\n",
       "    </tr>\n",
       "    <tr>\n",
       "      <th>2</th>\n",
       "      <td>0.182583</td>\n",
       "      <td>0.307431</td>\n",
       "      <td>0.325950</td>\n",
       "      <td>0.207116</td>\n",
       "      <td>0.605699</td>\n",
       "      <td>0.309695</td>\n",
       "      <td>0.493337</td>\n",
       "      <td>0.751107</td>\n",
       "      <td>0.536272</td>\n",
       "      <td>0.286813</td>\n",
       "      <td>...</td>\n",
       "      <td>0</td>\n",
       "      <td>0</td>\n",
       "      <td>0</td>\n",
       "      <td>1</td>\n",
       "      <td>1.115489</td>\n",
       "      <td>0.556324</td>\n",
       "      <td>0.493650</td>\n",
       "      <td>0.182968</td>\n",
       "      <td>1.144580</td>\n",
       "      <td>1.016904</td>\n",
       "    </tr>\n",
       "    <tr>\n",
       "      <th>3</th>\n",
       "      <td>0.180240</td>\n",
       "      <td>0.494592</td>\n",
       "      <td>0.008367</td>\n",
       "      <td>0.223580</td>\n",
       "      <td>0.760618</td>\n",
       "      <td>0.439211</td>\n",
       "      <td>0.432055</td>\n",
       "      <td>0.776147</td>\n",
       "      <td>0.483958</td>\n",
       "      <td>0.260886</td>\n",
       "      <td>...</td>\n",
       "      <td>0</td>\n",
       "      <td>0</td>\n",
       "      <td>0</td>\n",
       "      <td>1</td>\n",
       "      <td>0.203052</td>\n",
       "      <td>1.052789</td>\n",
       "      <td>1.020134</td>\n",
       "      <td>1.137029</td>\n",
       "      <td>0.329684</td>\n",
       "      <td>0.541285</td>\n",
       "    </tr>\n",
       "    <tr>\n",
       "      <th>4</th>\n",
       "      <td>0.177172</td>\n",
       "      <td>0.495513</td>\n",
       "      <td>0.014263</td>\n",
       "      <td>0.548819</td>\n",
       "      <td>0.625396</td>\n",
       "      <td>0.562493</td>\n",
       "      <td>0.117158</td>\n",
       "      <td>0.561255</td>\n",
       "      <td>0.077115</td>\n",
       "      <td>0.158321</td>\n",
       "      <td>...</td>\n",
       "      <td>0</td>\n",
       "      <td>1</td>\n",
       "      <td>0</td>\n",
       "      <td>1</td>\n",
       "      <td>1.119016</td>\n",
       "      <td>0.569530</td>\n",
       "      <td>0.502388</td>\n",
       "      <td>0.703449</td>\n",
       "      <td>1.150751</td>\n",
       "      <td>1.221849</td>\n",
       "    </tr>\n",
       "  </tbody>\n",
       "</table>\n",
       "<p>5 rows × 292 columns</p>\n",
       "</div>"
      ],
      "text/plain": [
       "          f0        f1        f2        f3        f4        f5        f6  \\\n",
       "id                                                                         \n",
       "0   0.205979  0.410993  0.176775  0.223581  0.423543  0.476140  0.413590   \n",
       "1   0.181004  0.473119  0.011734  0.213657  0.619678  0.441593  0.230407   \n",
       "2   0.182583  0.307431  0.325950  0.207116  0.605699  0.309695  0.493337   \n",
       "3   0.180240  0.494592  0.008367  0.223580  0.760618  0.439211  0.432055   \n",
       "4   0.177172  0.495513  0.014263  0.548819  0.625396  0.562493  0.117158   \n",
       "\n",
       "          f7        f8        f9  ...  f282  f283  f284  target  cluster1  \\\n",
       "id                                ...                                       \n",
       "0   0.612021  0.534873  0.147295  ...     0     0     0       1  0.189223   \n",
       "1   0.686013  0.281971  0.238509  ...     0     0     0       1  0.305138   \n",
       "2   0.751107  0.536272  0.286813  ...     0     0     0       1  1.115489   \n",
       "3   0.776147  0.483958  0.260886  ...     0     0     0       1  0.203052   \n",
       "4   0.561255  0.077115  0.158321  ...     0     1     0       1  1.119016   \n",
       "\n",
       "    cluster2  cluster3  cluster4  cluster5  cluster6  \n",
       "id                                                    \n",
       "0   1.050896  1.017506  1.130244  0.323917  0.527001  \n",
       "1   1.039516  1.045487  1.146268  0.284001  0.559371  \n",
       "2   0.556324  0.493650  0.182968  1.144580  1.016904  \n",
       "3   1.052789  1.020134  1.137029  0.329684  0.541285  \n",
       "4   0.569530  0.502388  0.703449  1.150751  1.221849  \n",
       "\n",
       "[5 rows x 292 columns]"
      ]
     },
     "execution_count": 148,
     "metadata": {},
     "output_type": "execute_result"
    }
   ],
   "source": [
    "feature_cols += cluster_cols\n",
    "train.head()"
   ]
  },
  {
   "cell_type": "code",
   "execution_count": 149,
   "metadata": {},
   "outputs": [
    {
     "name": "stderr",
     "output_type": "stream",
     "text": [
      "ic| len(feature_cols): 291\n"
     ]
    },
    {
     "data": {
      "text/plain": [
       "291"
      ]
     },
     "execution_count": 149,
     "metadata": {},
     "output_type": "execute_result"
    }
   ],
   "source": [
    "ic(len(feature_cols))\n",
    "#ic(feature_cols);"
   ]
  },
  {
   "cell_type": "code",
   "execution_count": 150,
   "id": "8b84523b",
   "metadata": {
    "execution": {
     "iopub.execute_input": "2021-10-17T14:15:10.630725Z",
     "iopub.status.busy": "2021-10-17T14:15:10.629915Z",
     "iopub.status.idle": "2021-10-17T14:15:53.671949Z",
     "shell.execute_reply": "2021-10-17T14:15:53.672502Z",
     "shell.execute_reply.started": "2021-10-17T14:06:29.782411Z"
    },
    "papermill": {
     "duration": 43.064334,
     "end_time": "2021-10-17T14:15:53.672686",
     "exception": false,
     "start_time": "2021-10-17T14:15:10.608352",
     "status": "completed"
    },
    "tags": []
   },
   "outputs": [
    {
     "data": {
      "image/png": "[encoded data removed]",
      "text/plain": [
       "<Figure size 720x360 with 1 Axes>"
      ]
     },
     "metadata": {},
     "output_type": "display_data"
    }
   ],
   "source": [
    "sns.set_style('darkgrid')\n",
    "fig = plt.figure(figsize = (10,5))\n",
    "sns.kdeplot(data=train[cluster_cols])\n",
    "plt.show()"
   ]
  },
  {
   "cell_type": "markdown",
   "metadata": {},
   "source": [
    "## PCA"
   ]
  },
  {
   "cell_type": "code",
   "execution_count": 151,
   "metadata": {},
   "outputs": [],
   "source": [
    "from sklearn.decomposition import PCA\n",
    "\n",
    "pca = PCA()\n",
    "X_pca = pca.fit_transform(train[useful_features])\n",
    "T_pca = pca.transform(test[useful_features])\n",
    "\n",
    "pca_cols = [f\"PC{i+1}\" for i in range(X_pca.shape[1])]\n",
    "\n",
    "X_pca = pd.DataFrame(X_pca, columns=pca_cols, index=train.index)\n",
    "T_pca = pd.DataFrame(T_pca, columns=pca_cols, index=test.index)\n",
    "\n",
    "train = pd.concat([train, X_pca], axis=1)\n",
    "test = pd.concat([test, T_pca], axis=1)"
   ]
  },
  {
   "cell_type": "code",
   "execution_count": 152,
   "metadata": {},
   "outputs": [
    {
     "data": {
      "text/html": [
       "<div>\n",
       "<style scoped>\n",
       "    .dataframe tbody tr th:only-of-type {\n",
       "        vertical-align: middle;\n",
       "    }\n",
       "\n",
       "    .dataframe tbody tr th {\n",
       "        vertical-align: top;\n",
       "    }\n",
       "\n",
       "    .dataframe thead th {\n",
       "        text-align: right;\n",
       "    }\n",
       "</style>\n",
       "<table border=\"1\" class=\"dataframe\">\n",
       "  <thead>\n",
       "    <tr style=\"text-align: right;\">\n",
       "      <th></th>\n",
       "      <th>f0</th>\n",
       "      <th>f1</th>\n",
       "      <th>f2</th>\n",
       "      <th>f3</th>\n",
       "      <th>f4</th>\n",
       "      <th>f5</th>\n",
       "      <th>f6</th>\n",
       "      <th>f7</th>\n",
       "      <th>f8</th>\n",
       "      <th>f9</th>\n",
       "      <th>...</th>\n",
       "      <th>PC4</th>\n",
       "      <th>PC5</th>\n",
       "      <th>PC6</th>\n",
       "      <th>PC7</th>\n",
       "      <th>PC8</th>\n",
       "      <th>PC9</th>\n",
       "      <th>PC10</th>\n",
       "      <th>PC11</th>\n",
       "      <th>PC12</th>\n",
       "      <th>PC13</th>\n",
       "    </tr>\n",
       "    <tr>\n",
       "      <th>id</th>\n",
       "      <th></th>\n",
       "      <th></th>\n",
       "      <th></th>\n",
       "      <th></th>\n",
       "      <th></th>\n",
       "      <th></th>\n",
       "      <th></th>\n",
       "      <th></th>\n",
       "      <th></th>\n",
       "      <th></th>\n",
       "      <th></th>\n",
       "      <th></th>\n",
       "      <th></th>\n",
       "      <th></th>\n",
       "      <th></th>\n",
       "      <th></th>\n",
       "      <th></th>\n",
       "      <th></th>\n",
       "      <th></th>\n",
       "      <th></th>\n",
       "      <th></th>\n",
       "    </tr>\n",
       "  </thead>\n",
       "  <tbody>\n",
       "    <tr>\n",
       "      <th>0</th>\n",
       "      <td>0.205979</td>\n",
       "      <td>0.410993</td>\n",
       "      <td>0.176775</td>\n",
       "      <td>0.223581</td>\n",
       "      <td>0.423543</td>\n",
       "      <td>0.476140</td>\n",
       "      <td>0.413590</td>\n",
       "      <td>0.612021</td>\n",
       "      <td>0.534873</td>\n",
       "      <td>0.147295</td>\n",
       "      <td>...</td>\n",
       "      <td>-0.075919</td>\n",
       "      <td>0.072574</td>\n",
       "      <td>-0.078816</td>\n",
       "      <td>0.042145</td>\n",
       "      <td>-0.048512</td>\n",
       "      <td>0.050377</td>\n",
       "      <td>0.007353</td>\n",
       "      <td>-0.075607</td>\n",
       "      <td>-0.056399</td>\n",
       "      <td>-0.022955</td>\n",
       "    </tr>\n",
       "    <tr>\n",
       "      <th>1</th>\n",
       "      <td>0.181004</td>\n",
       "      <td>0.473119</td>\n",
       "      <td>0.011734</td>\n",
       "      <td>0.213657</td>\n",
       "      <td>0.619678</td>\n",
       "      <td>0.441593</td>\n",
       "      <td>0.230407</td>\n",
       "      <td>0.686013</td>\n",
       "      <td>0.281971</td>\n",
       "      <td>0.238509</td>\n",
       "      <td>...</td>\n",
       "      <td>0.044755</td>\n",
       "      <td>-0.194861</td>\n",
       "      <td>-0.122842</td>\n",
       "      <td>-0.067265</td>\n",
       "      <td>-0.011181</td>\n",
       "      <td>0.027407</td>\n",
       "      <td>0.029055</td>\n",
       "      <td>-0.042638</td>\n",
       "      <td>-0.067769</td>\n",
       "      <td>-0.021045</td>\n",
       "    </tr>\n",
       "    <tr>\n",
       "      <th>2</th>\n",
       "      <td>0.182583</td>\n",
       "      <td>0.307431</td>\n",
       "      <td>0.325950</td>\n",
       "      <td>0.207116</td>\n",
       "      <td>0.605699</td>\n",
       "      <td>0.309695</td>\n",
       "      <td>0.493337</td>\n",
       "      <td>0.751107</td>\n",
       "      <td>0.536272</td>\n",
       "      <td>0.286813</td>\n",
       "      <td>...</td>\n",
       "      <td>-0.071592</td>\n",
       "      <td>0.083183</td>\n",
       "      <td>0.033094</td>\n",
       "      <td>-0.055568</td>\n",
       "      <td>0.016739</td>\n",
       "      <td>-0.002358</td>\n",
       "      <td>-0.036986</td>\n",
       "      <td>-0.038486</td>\n",
       "      <td>-0.071907</td>\n",
       "      <td>-0.018712</td>\n",
       "    </tr>\n",
       "    <tr>\n",
       "      <th>3</th>\n",
       "      <td>0.180240</td>\n",
       "      <td>0.494592</td>\n",
       "      <td>0.008367</td>\n",
       "      <td>0.223580</td>\n",
       "      <td>0.760618</td>\n",
       "      <td>0.439211</td>\n",
       "      <td>0.432055</td>\n",
       "      <td>0.776147</td>\n",
       "      <td>0.483958</td>\n",
       "      <td>0.260886</td>\n",
       "      <td>...</td>\n",
       "      <td>0.021852</td>\n",
       "      <td>0.027427</td>\n",
       "      <td>0.085082</td>\n",
       "      <td>-0.052569</td>\n",
       "      <td>-0.067050</td>\n",
       "      <td>0.143113</td>\n",
       "      <td>-0.036925</td>\n",
       "      <td>0.004678</td>\n",
       "      <td>-0.057839</td>\n",
       "      <td>-0.020637</td>\n",
       "    </tr>\n",
       "    <tr>\n",
       "      <th>4</th>\n",
       "      <td>0.177172</td>\n",
       "      <td>0.495513</td>\n",
       "      <td>0.014263</td>\n",
       "      <td>0.548819</td>\n",
       "      <td>0.625396</td>\n",
       "      <td>0.562493</td>\n",
       "      <td>0.117158</td>\n",
       "      <td>0.561255</td>\n",
       "      <td>0.077115</td>\n",
       "      <td>0.158321</td>\n",
       "      <td>...</td>\n",
       "      <td>-0.084260</td>\n",
       "      <td>-0.377607</td>\n",
       "      <td>0.061325</td>\n",
       "      <td>0.123573</td>\n",
       "      <td>-0.043745</td>\n",
       "      <td>0.029382</td>\n",
       "      <td>-0.054322</td>\n",
       "      <td>-0.034968</td>\n",
       "      <td>0.269221</td>\n",
       "      <td>-0.029587</td>\n",
       "    </tr>\n",
       "  </tbody>\n",
       "</table>\n",
       "<p>5 rows × 305 columns</p>\n",
       "</div>"
      ],
      "text/plain": [
       "          f0        f1        f2        f3        f4        f5        f6  \\\n",
       "id                                                                         \n",
       "0   0.205979  0.410993  0.176775  0.223581  0.423543  0.476140  0.413590   \n",
       "1   0.181004  0.473119  0.011734  0.213657  0.619678  0.441593  0.230407   \n",
       "2   0.182583  0.307431  0.325950  0.207116  0.605699  0.309695  0.493337   \n",
       "3   0.180240  0.494592  0.008367  0.223580  0.760618  0.439211  0.432055   \n",
       "4   0.177172  0.495513  0.014263  0.548819  0.625396  0.562493  0.117158   \n",
       "\n",
       "          f7        f8        f9  ...       PC4       PC5       PC6       PC7  \\\n",
       "id                                ...                                           \n",
       "0   0.612021  0.534873  0.147295  ... -0.075919  0.072574 -0.078816  0.042145   \n",
       "1   0.686013  0.281971  0.238509  ...  0.044755 -0.194861 -0.122842 -0.067265   \n",
       "2   0.751107  0.536272  0.286813  ... -0.071592  0.083183  0.033094 -0.055568   \n",
       "3   0.776147  0.483958  0.260886  ...  0.021852  0.027427  0.085082 -0.052569   \n",
       "4   0.561255  0.077115  0.158321  ... -0.084260 -0.377607  0.061325  0.123573   \n",
       "\n",
       "         PC8       PC9      PC10      PC11      PC12      PC13  \n",
       "id                                                              \n",
       "0  -0.048512  0.050377  0.007353 -0.075607 -0.056399 -0.022955  \n",
       "1  -0.011181  0.027407  0.029055 -0.042638 -0.067769 -0.021045  \n",
       "2   0.016739 -0.002358 -0.036986 -0.038486 -0.071907 -0.018712  \n",
       "3  -0.067050  0.143113 -0.036925  0.004678 -0.057839 -0.020637  \n",
       "4  -0.043745  0.029382 -0.054322 -0.034968  0.269221 -0.029587  \n",
       "\n",
       "[5 rows x 305 columns]"
      ]
     },
     "execution_count": 152,
     "metadata": {},
     "output_type": "execute_result"
    }
   ],
   "source": [
    "train.head()"
   ]
  },
  {
   "cell_type": "code",
   "execution_count": 153,
   "metadata": {},
   "outputs": [
    {
     "data": {
      "text/html": [
       "<style type=\"text/css\">\n",
       "#T_7df19_row0_col0, #T_7df19_row10_col0 {\n",
       "  width: 10em;\n",
       "  height: 80%;\n",
       "  background: linear-gradient(90deg, transparent 99.5%, #5fba7d 99.5%, #5fba7d 99.6%, transparent 99.6%);\n",
       "}\n",
       "#T_7df19_row0_col1 {\n",
       "  width: 10em;\n",
       "  height: 80%;\n",
       "  background: linear-gradient(90deg, transparent 7.8%, #5fba7d 7.8%, #5fba7d 7.9%, transparent 7.9%);\n",
       "}\n",
       "#T_7df19_row0_col2 {\n",
       "  width: 10em;\n",
       "  height: 80%;\n",
       "  background: linear-gradient(90deg, transparent 1.8%, #d65f5f 1.8%, #d65f5f 2.0%, transparent 2.0%);\n",
       "}\n",
       "#T_7df19_row0_col3 {\n",
       "  width: 10em;\n",
       "  height: 80%;\n",
       "  background: linear-gradient(90deg, transparent 3.2%, #d65f5f 3.2%, #d65f5f 3.2%, transparent 3.2%);\n",
       "}\n",
       "#T_7df19_row0_col4, #T_7df19_row4_col4 {\n",
       "  width: 10em;\n",
       "  height: 80%;\n",
       "  background: linear-gradient(90deg, transparent 1.2%, #d65f5f 1.2%, #d65f5f 1.3%, transparent 1.3%);\n",
       "}\n",
       "#T_7df19_row0_col5, #T_7df19_row12_col5 {\n",
       "  width: 10em;\n",
       "  height: 80%;\n",
       "  background: linear-gradient(90deg, transparent 4.8%, #d65f5f 4.8%, #d65f5f 4.9%, transparent 4.9%);\n",
       "}\n",
       "#T_7df19_row0_col6 {\n",
       "  width: 10em;\n",
       "  height: 80%;\n",
       "  background: linear-gradient(90deg, transparent 2.4%, #5fba7d 2.4%, #5fba7d 2.4%, transparent 2.4%);\n",
       "}\n",
       "#T_7df19_row0_col7 {\n",
       "  width: 10em;\n",
       "  height: 80%;\n",
       "  background: linear-gradient(90deg,#d65f5f 99.9%, transparent 99.9%);\n",
       "}\n",
       "#T_7df19_row0_col8, #T_7df19_row10_col8 {\n",
       "  width: 10em;\n",
       "  height: 80%;\n",
       "  background: linear-gradient(90deg, transparent 15.9%, #d65f5f 15.9%, #d65f5f 16.0%, transparent 16.0%);\n",
       "}\n",
       "#T_7df19_row0_col9 {\n",
       "  width: 10em;\n",
       "  height: 80%;\n",
       "  background: linear-gradient(90deg, transparent 3.0%, #d65f5f 3.0%, #d65f5f 3.1%, transparent 3.1%);\n",
       "}\n",
       "#T_7df19_row0_col10, #T_7df19_row2_col10 {\n",
       "  width: 10em;\n",
       "  height: 80%;\n",
       "  background: linear-gradient(90deg, transparent 99.6%, #5fba7d 99.6%, #5fba7d 100.0%, transparent 100.0%);\n",
       "}\n",
       "#T_7df19_row0_col11 {\n",
       "  width: 10em;\n",
       "  height: 80%;\n",
       "  background: linear-gradient(90deg, transparent 99.5%, #5fba7d 99.5%, #5fba7d 99.5%, transparent 99.5%);\n",
       "}\n",
       "#T_7df19_row0_col12 {\n",
       "  width: 10em;\n",
       "  height: 80%;\n",
       "  background: linear-gradient(90deg, transparent 19.9%, #d65f5f 19.9%, #d65f5f 19.9%, transparent 19.9%);\n",
       "}\n",
       "#T_7df19_row1_col0, #T_7df19_row7_col11 {\n",
       "  width: 10em;\n",
       "  height: 80%;\n",
       "  background: linear-gradient(90deg, transparent 99.5%, #5fba7d 99.5%, #5fba7d 100.0%, transparent 100.0%);\n",
       "}\n",
       "#T_7df19_row1_col1, #T_7df19_row12_col1 {\n",
       "  width: 10em;\n",
       "  height: 80%;\n",
       "  background: linear-gradient(90deg, transparent 7.8%, #d65f5f 7.8%, #d65f5f 7.8%, transparent 7.8%);\n",
       "}\n",
       "#T_7df19_row1_col2 {\n",
       "  width: 10em;\n",
       "  height: 80%;\n",
       "  background: linear-gradient(90deg, transparent 2.0%, #5fba7d 2.0%, #5fba7d 2.0%, transparent 2.0%);\n",
       "}\n",
       "#T_7df19_row1_col3 {\n",
       "  width: 10em;\n",
       "  height: 80%;\n",
       "  background: linear-gradient(90deg, transparent 3.0%, #d65f5f 3.0%, #d65f5f 3.2%, transparent 3.2%);\n",
       "}\n",
       "#T_7df19_row1_col4, #T_7df19_row2_col4 {\n",
       "  width: 10em;\n",
       "  height: 80%;\n",
       "  background: linear-gradient(90deg, transparent 1.3%, #5fba7d 1.3%, #5fba7d 1.4%, transparent 1.4%);\n",
       "}\n",
       "#T_7df19_row1_col5, #T_7df19_row5_col5 {\n",
       "  width: 10em;\n",
       "  height: 80%;\n",
       "  background: linear-gradient(90deg, transparent 4.7%, #d65f5f 4.7%, #d65f5f 4.9%, transparent 4.9%);\n",
       "}\n",
       "#T_7df19_row1_col6 {\n",
       "  width: 10em;\n",
       "  height: 80%;\n",
       "  background: linear-gradient(90deg, transparent 2.4%, #5fba7d 2.4%, #5fba7d 2.7%, transparent 2.7%);\n",
       "}\n",
       "#T_7df19_row1_col7 {\n",
       "  width: 10em;\n",
       "  height: 80%;\n",
       "  background: linear-gradient(90deg, transparent 99.5%, #d65f5f 99.5%, #d65f5f 99.9%, transparent 99.9%);\n",
       "}\n",
       "#T_7df19_row1_col8, #T_7df19_row8_col8 {\n",
       "  width: 10em;\n",
       "  height: 80%;\n",
       "  background: linear-gradient(90deg, transparent 16.0%, #5fba7d 16.0%, #5fba7d 16.4%, transparent 16.4%);\n",
       "}\n",
       "#T_7df19_row1_col9, #T_7df19_row7_col9 {\n",
       "  width: 10em;\n",
       "  height: 80%;\n",
       "  background: linear-gradient(90deg, transparent 3.1%, #5fba7d 3.1%, #5fba7d 3.3%, transparent 3.3%);\n",
       "}\n",
       "#T_7df19_row1_col10 {\n",
       "  width: 10em;\n",
       "  height: 80%;\n",
       "  background: linear-gradient(90deg,#d65f5f 99.6%, transparent 99.6%);\n",
       "}\n",
       "#T_7df19_row1_col11 {\n",
       "  width: 10em;\n",
       "  height: 80%;\n",
       "  background: linear-gradient(90deg, transparent 99.2%, #d65f5f 99.2%, #d65f5f 99.5%, transparent 99.5%);\n",
       "}\n",
       "#T_7df19_row1_col12 {\n",
       "  width: 10em;\n",
       "  height: 80%;\n",
       "  background: linear-gradient(90deg, transparent 19.7%, #d65f5f 19.7%, #d65f5f 19.9%, transparent 19.9%);\n",
       "}\n",
       "#T_7df19_row2_col0 {\n",
       "  width: 10em;\n",
       "  height: 80%;\n",
       "  background: linear-gradient(90deg, transparent 99.5%, #5fba7d 99.5%, #5fba7d 99.9%, transparent 99.9%);\n",
       "}\n",
       "#T_7df19_row2_col1 {\n",
       "  width: 10em;\n",
       "  height: 80%;\n",
       "  background: linear-gradient(90deg, transparent 7.8%, #5fba7d 7.8%, #5fba7d 9.8%, transparent 9.8%);\n",
       "}\n",
       "#T_7df19_row2_col2 {\n",
       "  width: 10em;\n",
       "  height: 80%;\n",
       "  background: linear-gradient(90deg, transparent 2.0%, #5fba7d 2.0%, #5fba7d 2.1%, transparent 2.1%);\n",
       "}\n",
       "#T_7df19_row2_col3, #T_7df19_row12_col3 {\n",
       "  width: 10em;\n",
       "  height: 80%;\n",
       "  background: linear-gradient(90deg, transparent 2.9%, #d65f5f 2.9%, #d65f5f 3.2%, transparent 3.2%);\n",
       "}\n",
       "#T_7df19_row2_col5 {\n",
       "  width: 10em;\n",
       "  height: 80%;\n",
       "  background: linear-gradient(90deg, transparent 4.9%, #5fba7d 4.9%, #5fba7d 23.0%, transparent 23.0%);\n",
       "}\n",
       "#T_7df19_row2_col6 {\n",
       "  width: 10em;\n",
       "  height: 80%;\n",
       "  background: linear-gradient(90deg, transparent 2.2%, #d65f5f 2.2%, #d65f5f 2.4%, transparent 2.4%);\n",
       "}\n",
       "#T_7df19_row2_col7, #T_7df19_row6_col7, #T_7df19_row7_col7, #T_7df19_row9_col7, #T_7df19_row12_col7 {\n",
       "  width: 10em;\n",
       "  height: 80%;\n",
       "  background: linear-gradient(90deg, transparent 99.8%, #d65f5f 99.8%, #d65f5f 99.9%, transparent 99.9%);\n",
       "}\n",
       "#T_7df19_row2_col8 {\n",
       "  width: 10em;\n",
       "  height: 80%;\n",
       "  background: linear-gradient(90deg, transparent 16.0%, #5fba7d 16.0%, #5fba7d 100.0%, transparent 100.0%);\n",
       "}\n",
       "#T_7df19_row2_col9 {\n",
       "  width: 10em;\n",
       "  height: 80%;\n",
       "  background: linear-gradient(90deg, transparent 3.1%, #5fba7d 3.1%, #5fba7d 4.7%, transparent 4.7%);\n",
       "}\n",
       "#T_7df19_row2_col11, #T_7df19_row7_col0, #T_7df19_row8_col11 {\n",
       "  width: 10em;\n",
       "  height: 80%;\n",
       "  background: linear-gradient(90deg, transparent 99.1%, #d65f5f 99.1%, #d65f5f 99.5%, transparent 99.5%);\n",
       "}\n",
       "#T_7df19_row2_col12 {\n",
       "  width: 10em;\n",
       "  height: 80%;\n",
       "  background: linear-gradient(90deg, transparent 19.9%, #5fba7d 19.9%, #5fba7d 19.9%, transparent 19.9%);\n",
       "}\n",
       "#T_7df19_row3_col0, #T_7df19_row10_col11 {\n",
       "  width: 10em;\n",
       "  height: 80%;\n",
       "  background: linear-gradient(90deg, transparent 98.8%, #d65f5f 98.8%, #d65f5f 99.5%, transparent 99.5%);\n",
       "}\n",
       "#T_7df19_row3_col1 {\n",
       "  width: 10em;\n",
       "  height: 80%;\n",
       "  background: linear-gradient(90deg, transparent 7.8%, #5fba7d 7.8%, #5fba7d 12.2%, transparent 12.2%);\n",
       "}\n",
       "#T_7df19_row3_col2 {\n",
       "  width: 10em;\n",
       "  height: 80%;\n",
       "  background: linear-gradient(90deg, transparent 2.0%, #5fba7d 2.0%, #5fba7d 3.2%, transparent 3.2%);\n",
       "}\n",
       "#T_7df19_row3_col3 {\n",
       "  width: 10em;\n",
       "  height: 80%;\n",
       "  background: linear-gradient(90deg, transparent 3.2%, #5fba7d 3.2%, #5fba7d 3.8%, transparent 3.8%);\n",
       "}\n",
       "#T_7df19_row3_col4, #T_7df19_row5_col4 {\n",
       "  width: 10em;\n",
       "  height: 80%;\n",
       "  background: linear-gradient(90deg, transparent 1.3%, #5fba7d 1.3%, #5fba7d 1.6%, transparent 1.6%);\n",
       "}\n",
       "#T_7df19_row3_col5 {\n",
       "  width: 10em;\n",
       "  height: 80%;\n",
       "  background: linear-gradient(90deg, transparent 4.9%, #5fba7d 4.9%, #5fba7d 100.0%, transparent 100.0%);\n",
       "}\n",
       "#T_7df19_row3_col6 {\n",
       "  width: 10em;\n",
       "  height: 80%;\n",
       "  background: linear-gradient(90deg, transparent 2.4%, #5fba7d 2.4%, #5fba7d 2.8%, transparent 2.8%);\n",
       "}\n",
       "#T_7df19_row3_col7, #T_7df19_row5_col7, #T_7df19_row8_col7, #T_7df19_row10_col7 {\n",
       "  width: 10em;\n",
       "  height: 80%;\n",
       "  background: linear-gradient(90deg, transparent 99.9%, #d65f5f 99.9%, #d65f5f 99.9%, transparent 99.9%);\n",
       "}\n",
       "#T_7df19_row3_col8 {\n",
       "  width: 10em;\n",
       "  height: 80%;\n",
       "  background: linear-gradient(90deg,#d65f5f 16.0%, transparent 16.0%);\n",
       "}\n",
       "#T_7df19_row3_col9 {\n",
       "  width: 10em;\n",
       "  height: 80%;\n",
       "  background: linear-gradient(90deg, transparent 3.1%, #5fba7d 3.1%, #5fba7d 3.5%, transparent 3.5%);\n",
       "}\n",
       "#T_7df19_row3_col10, #T_7df19_row8_col10, #T_7df19_row10_col10 {\n",
       "  width: 10em;\n",
       "  height: 80%;\n",
       "  background: linear-gradient(90deg, transparent 99.4%, #d65f5f 99.4%, #d65f5f 99.6%, transparent 99.6%);\n",
       "}\n",
       "#T_7df19_row3_col11 {\n",
       "  width: 10em;\n",
       "  height: 80%;\n",
       "  background: linear-gradient(90deg, transparent 99.5%, #d65f5f 99.5%, #d65f5f 99.5%, transparent 99.5%);\n",
       "}\n",
       "#T_7df19_row3_col12, #T_7df19_row12_col12 {\n",
       "  width: 10em;\n",
       "  height: 80%;\n",
       "  background: linear-gradient(90deg, transparent 19.6%, #d65f5f 19.6%, #d65f5f 19.9%, transparent 19.9%);\n",
       "}\n",
       "#T_7df19_row4_col0 {\n",
       "  width: 10em;\n",
       "  height: 80%;\n",
       "  background: linear-gradient(90deg, transparent 91.1%, #d65f5f 91.1%, #d65f5f 99.5%, transparent 99.5%);\n",
       "}\n",
       "#T_7df19_row4_col1 {\n",
       "  width: 10em;\n",
       "  height: 80%;\n",
       "  background: linear-gradient(90deg, transparent 7.8%, #5fba7d 7.8%, #5fba7d 100.0%, transparent 100.0%);\n",
       "}\n",
       "#T_7df19_row4_col2 {\n",
       "  width: 10em;\n",
       "  height: 80%;\n",
       "  background: linear-gradient(90deg, transparent 2.0%, #5fba7d 2.0%, #5fba7d 3.6%, transparent 3.6%);\n",
       "}\n",
       "#T_7df19_row4_col3 {\n",
       "  width: 10em;\n",
       "  height: 80%;\n",
       "  background: linear-gradient(90deg, transparent 2.2%, #d65f5f 2.2%, #d65f5f 3.2%, transparent 3.2%);\n",
       "}\n",
       "#T_7df19_row4_col5 {\n",
       "  width: 10em;\n",
       "  height: 80%;\n",
       "  background: linear-gradient(90deg,#d65f5f 4.9%, transparent 4.9%);\n",
       "}\n",
       "#T_7df19_row4_col6 {\n",
       "  width: 10em;\n",
       "  height: 80%;\n",
       "  background: linear-gradient(90deg, transparent 1.9%, #d65f5f 1.9%, #d65f5f 2.4%, transparent 2.4%);\n",
       "}\n",
       "#T_7df19_row4_col7 {\n",
       "  width: 10em;\n",
       "  height: 80%;\n",
       "  background: linear-gradient(90deg, transparent 99.9%, #5fba7d 99.9%, #5fba7d 100.0%, transparent 100.0%);\n",
       "}\n",
       "#T_7df19_row4_col8 {\n",
       "  width: 10em;\n",
       "  height: 80%;\n",
       "  background: linear-gradient(90deg, transparent 15.0%, #d65f5f 15.0%, #d65f5f 16.0%, transparent 16.0%);\n",
       "}\n",
       "#T_7df19_row4_col9, #T_7df19_row9_col9 {\n",
       "  width: 10em;\n",
       "  height: 80%;\n",
       "  background: linear-gradient(90deg, transparent 3.1%, #5fba7d 3.1%, #5fba7d 3.2%, transparent 3.2%);\n",
       "}\n",
       "#T_7df19_row4_col10 {\n",
       "  width: 10em;\n",
       "  height: 80%;\n",
       "  background: linear-gradient(90deg, transparent 99.5%, #d65f5f 99.5%, #d65f5f 99.6%, transparent 99.6%);\n",
       "}\n",
       "#T_7df19_row4_col11, #T_7df19_row5_col11 {\n",
       "  width: 10em;\n",
       "  height: 80%;\n",
       "  background: linear-gradient(90deg, transparent 99.4%, #d65f5f 99.4%, #d65f5f 99.5%, transparent 99.5%);\n",
       "}\n",
       "#T_7df19_row4_col12 {\n",
       "  width: 10em;\n",
       "  height: 80%;\n",
       "  background: linear-gradient(90deg, transparent 18.7%, #d65f5f 18.7%, #d65f5f 19.9%, transparent 19.9%);\n",
       "}\n",
       "#T_7df19_row5_col0, #T_7df19_row12_col11 {\n",
       "  width: 10em;\n",
       "  height: 80%;\n",
       "  background: linear-gradient(90deg,#d65f5f 99.5%, transparent 99.5%);\n",
       "}\n",
       "#T_7df19_row5_col1 {\n",
       "  width: 10em;\n",
       "  height: 80%;\n",
       "  background: linear-gradient(90deg,#d65f5f 7.8%, transparent 7.8%);\n",
       "}\n",
       "#T_7df19_row5_col2 {\n",
       "  width: 10em;\n",
       "  height: 80%;\n",
       "  background: linear-gradient(90deg, transparent 1.4%, #d65f5f 1.4%, #d65f5f 2.0%, transparent 2.0%);\n",
       "}\n",
       "#T_7df19_row5_col3 {\n",
       "  width: 10em;\n",
       "  height: 80%;\n",
       "  background: linear-gradient(90deg, transparent 1.5%, #d65f5f 1.5%, #d65f5f 3.2%, transparent 3.2%);\n",
       "}\n",
       "#T_7df19_row5_col6 {\n",
       "  width: 10em;\n",
       "  height: 80%;\n",
       "  background: linear-gradient(90deg, transparent 1.4%, #d65f5f 1.4%, #d65f5f 2.4%, transparent 2.4%);\n",
       "}\n",
       "#T_7df19_row5_col8 {\n",
       "  width: 10em;\n",
       "  height: 80%;\n",
       "  background: linear-gradient(90deg, transparent 16.0%, #5fba7d 16.0%, #5fba7d 16.6%, transparent 16.6%);\n",
       "}\n",
       "#T_7df19_row5_col9 {\n",
       "  width: 10em;\n",
       "  height: 80%;\n",
       "  background: linear-gradient(90deg,#d65f5f 3.1%, transparent 3.1%);\n",
       "}\n",
       "#T_7df19_row5_col10 {\n",
       "  width: 10em;\n",
       "  height: 80%;\n",
       "  background: linear-gradient(90deg, transparent 99.2%, #d65f5f 99.2%, #d65f5f 99.6%, transparent 99.6%);\n",
       "}\n",
       "#T_7df19_row5_col12 {\n",
       "  width: 10em;\n",
       "  height: 80%;\n",
       "  background: linear-gradient(90deg, transparent 19.9%, #5fba7d 19.9%, #5fba7d 20.0%, transparent 20.0%);\n",
       "}\n",
       "#T_7df19_row6_col0 {\n",
       "  width: 10em;\n",
       "  height: 80%;\n",
       "  background: linear-gradient(90deg, transparent 96.4%, #d65f5f 96.4%, #d65f5f 99.5%, transparent 99.5%);\n",
       "}\n",
       "#T_7df19_row6_col1 {\n",
       "  width: 10em;\n",
       "  height: 80%;\n",
       "  background: linear-gradient(90deg, transparent 7.5%, #d65f5f 7.5%, #d65f5f 7.8%, transparent 7.8%);\n",
       "}\n",
       "#T_7df19_row6_col2 {\n",
       "  width: 10em;\n",
       "  height: 80%;\n",
       "  background: linear-gradient(90deg, transparent 1.7%, #d65f5f 1.7%, #d65f5f 2.0%, transparent 2.0%);\n",
       "}\n",
       "#T_7df19_row6_col3 {\n",
       "  width: 10em;\n",
       "  height: 80%;\n",
       "  background: linear-gradient(90deg, transparent 3.2%, #5fba7d 3.2%, #5fba7d 3.4%, transparent 3.4%);\n",
       "}\n",
       "#T_7df19_row6_col4 {\n",
       "  width: 10em;\n",
       "  height: 80%;\n",
       "  background: linear-gradient(90deg, transparent 1.3%, #5fba7d 1.3%, #5fba7d 1.3%, transparent 1.3%);\n",
       "}\n",
       "#T_7df19_row6_col5 {\n",
       "  width: 10em;\n",
       "  height: 80%;\n",
       "  background: linear-gradient(90deg, transparent 4.1%, #d65f5f 4.1%, #d65f5f 4.9%, transparent 4.9%);\n",
       "}\n",
       "#T_7df19_row6_col6 {\n",
       "  width: 10em;\n",
       "  height: 80%;\n",
       "  background: linear-gradient(90deg, transparent 2.1%, #d65f5f 2.1%, #d65f5f 2.4%, transparent 2.4%);\n",
       "}\n",
       "#T_7df19_row6_col8 {\n",
       "  width: 10em;\n",
       "  height: 80%;\n",
       "  background: linear-gradient(90deg, transparent 14.7%, #d65f5f 14.7%, #d65f5f 16.0%, transparent 16.0%);\n",
       "}\n",
       "#T_7df19_row6_col9 {\n",
       "  width: 10em;\n",
       "  height: 80%;\n",
       "  background: linear-gradient(90deg, transparent 3.1%, #5fba7d 3.1%, #5fba7d 100.0%, transparent 100.0%);\n",
       "}\n",
       "#T_7df19_row6_col10, #T_7df19_row9_col10 {\n",
       "  width: 10em;\n",
       "  height: 80%;\n",
       "  background: linear-gradient(90deg, transparent 99.6%, #5fba7d 99.6%, #5fba7d 99.8%, transparent 99.8%);\n",
       "}\n",
       "#T_7df19_row6_col11 {\n",
       "  width: 10em;\n",
       "  height: 80%;\n",
       "  background: linear-gradient(90deg, transparent 99.0%, #d65f5f 99.0%, #d65f5f 99.5%, transparent 99.5%);\n",
       "}\n",
       "#T_7df19_row6_col12 {\n",
       "  width: 10em;\n",
       "  height: 80%;\n",
       "  background: linear-gradient(90deg, transparent 19.9%, #5fba7d 19.9%, #5fba7d 20.3%, transparent 20.3%);\n",
       "}\n",
       "#T_7df19_row7_col1 {\n",
       "  width: 10em;\n",
       "  height: 80%;\n",
       "  background: linear-gradient(90deg, transparent 6.2%, #d65f5f 6.2%, #d65f5f 7.8%, transparent 7.8%);\n",
       "}\n",
       "#T_7df19_row7_col2 {\n",
       "  width: 10em;\n",
       "  height: 80%;\n",
       "  background: linear-gradient(90deg, transparent 2.0%, #5fba7d 2.0%, #5fba7d 100.0%, transparent 100.0%);\n",
       "}\n",
       "#T_7df19_row7_col3 {\n",
       "  width: 10em;\n",
       "  height: 80%;\n",
       "  background: linear-gradient(90deg, transparent 2.7%, #d65f5f 2.7%, #d65f5f 3.2%, transparent 3.2%);\n",
       "}\n",
       "#T_7df19_row7_col4 {\n",
       "  width: 10em;\n",
       "  height: 80%;\n",
       "  background: linear-gradient(90deg, transparent 1.3%, #5fba7d 1.3%, #5fba7d 2.2%, transparent 2.2%);\n",
       "}\n",
       "#T_7df19_row7_col5 {\n",
       "  width: 10em;\n",
       "  height: 80%;\n",
       "  background: linear-gradient(90deg, transparent 3.7%, #d65f5f 3.7%, #d65f5f 4.9%, transparent 4.9%);\n",
       "}\n",
       "#T_7df19_row7_col6 {\n",
       "  width: 10em;\n",
       "  height: 80%;\n",
       "  background: linear-gradient(90deg, transparent 2.4%, #5fba7d 2.4%, #5fba7d 3.2%, transparent 3.2%);\n",
       "}\n",
       "#T_7df19_row7_col8 {\n",
       "  width: 10em;\n",
       "  height: 80%;\n",
       "  background: linear-gradient(90deg, transparent 16.0%, #5fba7d 16.0%, #5fba7d 16.1%, transparent 16.1%);\n",
       "}\n",
       "#T_7df19_row7_col10 {\n",
       "  width: 10em;\n",
       "  height: 80%;\n",
       "  background: linear-gradient(90deg, transparent 99.6%, #5fba7d 99.6%, #5fba7d 99.6%, transparent 99.6%);\n",
       "}\n",
       "#T_7df19_row7_col12 {\n",
       "  width: 10em;\n",
       "  height: 80%;\n",
       "  background: linear-gradient(90deg, transparent 19.9%, #5fba7d 19.9%, #5fba7d 21.5%, transparent 21.5%);\n",
       "}\n",
       "#T_7df19_row8_col0 {\n",
       "  width: 10em;\n",
       "  height: 80%;\n",
       "  background: linear-gradient(90deg, transparent 97.8%, #d65f5f 97.8%, #d65f5f 99.5%, transparent 99.5%);\n",
       "}\n",
       "#T_7df19_row8_col1 {\n",
       "  width: 10em;\n",
       "  height: 80%;\n",
       "  background: linear-gradient(90deg, transparent 7.8%, #5fba7d 7.8%, #5fba7d 8.6%, transparent 8.6%);\n",
       "}\n",
       "#T_7df19_row8_col2 {\n",
       "  width: 10em;\n",
       "  height: 80%;\n",
       "  background: linear-gradient(90deg, transparent 2.0%, #5fba7d 2.0%, #5fba7d 2.4%, transparent 2.4%);\n",
       "}\n",
       "#T_7df19_row8_col3 {\n",
       "  width: 10em;\n",
       "  height: 80%;\n",
       "  background: linear-gradient(90deg, transparent 3.2%, #5fba7d 3.2%, #5fba7d 100.0%, transparent 100.0%);\n",
       "}\n",
       "#T_7df19_row8_col4 {\n",
       "  width: 10em;\n",
       "  height: 80%;\n",
       "  background: linear-gradient(90deg, transparent 1.3%, #5fba7d 1.3%, #5fba7d 4.3%, transparent 4.3%);\n",
       "}\n",
       "#T_7df19_row8_col5 {\n",
       "  width: 10em;\n",
       "  height: 80%;\n",
       "  background: linear-gradient(90deg, transparent 4.2%, #d65f5f 4.2%, #d65f5f 4.9%, transparent 4.9%);\n",
       "}\n",
       "#T_7df19_row8_col6 {\n",
       "  width: 10em;\n",
       "  height: 80%;\n",
       "  background: linear-gradient(90deg, transparent 2.4%, #5fba7d 2.4%, #5fba7d 5.6%, transparent 5.6%);\n",
       "}\n",
       "#T_7df19_row8_col9 {\n",
       "  width: 10em;\n",
       "  height: 80%;\n",
       "  background: linear-gradient(90deg, transparent 2.8%, #d65f5f 2.8%, #d65f5f 3.1%, transparent 3.1%);\n",
       "}\n",
       "#T_7df19_row8_col12 {\n",
       "  width: 10em;\n",
       "  height: 80%;\n",
       "  background: linear-gradient(90deg, transparent 18.6%, #d65f5f 18.6%, #d65f5f 19.9%, transparent 19.9%);\n",
       "}\n",
       "#T_7df19_row9_col0 {\n",
       "  width: 10em;\n",
       "  height: 80%;\n",
       "  background: linear-gradient(90deg, transparent 99.5%, #5fba7d 99.5%, #5fba7d 99.8%, transparent 99.8%);\n",
       "}\n",
       "#T_7df19_row9_col1 {\n",
       "  width: 10em;\n",
       "  height: 80%;\n",
       "  background: linear-gradient(90deg, transparent 7.6%, #d65f5f 7.6%, #d65f5f 7.8%, transparent 7.8%);\n",
       "}\n",
       "#T_7df19_row9_col2 {\n",
       "  width: 10em;\n",
       "  height: 80%;\n",
       "  background: linear-gradient(90deg, transparent 1.5%, #d65f5f 1.5%, #d65f5f 2.0%, transparent 2.0%);\n",
       "}\n",
       "#T_7df19_row9_col3 {\n",
       "  width: 10em;\n",
       "  height: 80%;\n",
       "  background: linear-gradient(90deg, transparent 0.1%, #d65f5f 0.1%, #d65f5f 3.2%, transparent 3.2%);\n",
       "}\n",
       "#T_7df19_row9_col4 {\n",
       "  width: 10em;\n",
       "  height: 80%;\n",
       "  background: linear-gradient(90deg, transparent 1.3%, #5fba7d 1.3%, #5fba7d 100.0%, transparent 100.0%);\n",
       "}\n",
       "#T_7df19_row9_col5, #T_7df19_row11_col5 {\n",
       "  width: 10em;\n",
       "  height: 80%;\n",
       "  background: linear-gradient(90deg, transparent 4.6%, #d65f5f 4.6%, #d65f5f 4.9%, transparent 4.9%);\n",
       "}\n",
       "#T_7df19_row9_col6 {\n",
       "  width: 10em;\n",
       "  height: 80%;\n",
       "  background: linear-gradient(90deg, transparent 2.3%, #d65f5f 2.3%, #d65f5f 2.4%, transparent 2.4%);\n",
       "}\n",
       "#T_7df19_row9_col8 {\n",
       "  width: 10em;\n",
       "  height: 80%;\n",
       "  background: linear-gradient(90deg, transparent 16.0%, #5fba7d 16.0%, #5fba7d 16.0%, transparent 16.0%);\n",
       "}\n",
       "#T_7df19_row9_col11 {\n",
       "  width: 10em;\n",
       "  height: 80%;\n",
       "  background: linear-gradient(90deg, transparent 98.3%, #d65f5f 98.3%, #d65f5f 99.5%, transparent 99.5%);\n",
       "}\n",
       "#T_7df19_row9_col12 {\n",
       "  width: 10em;\n",
       "  height: 80%;\n",
       "  background: linear-gradient(90deg,#d65f5f 19.9%, transparent 19.9%);\n",
       "}\n",
       "#T_7df19_row10_col1 {\n",
       "  width: 10em;\n",
       "  height: 80%;\n",
       "  background: linear-gradient(90deg, transparent 7.8%, #5fba7d 7.8%, #5fba7d 9.3%, transparent 9.3%);\n",
       "}\n",
       "#T_7df19_row10_col2 {\n",
       "  width: 10em;\n",
       "  height: 80%;\n",
       "  background: linear-gradient(90deg,#d65f5f 2.0%, transparent 2.0%);\n",
       "}\n",
       "#T_7df19_row10_col3 {\n",
       "  width: 10em;\n",
       "  height: 80%;\n",
       "  background: linear-gradient(90deg, transparent 3.2%, #5fba7d 3.2%, #5fba7d 4.0%, transparent 4.0%);\n",
       "}\n",
       "#T_7df19_row10_col4 {\n",
       "  width: 10em;\n",
       "  height: 80%;\n",
       "  background: linear-gradient(90deg, transparent 1.3%, #5fba7d 1.3%, #5fba7d 25.9%, transparent 25.9%);\n",
       "}\n",
       "#T_7df19_row10_col5 {\n",
       "  width: 10em;\n",
       "  height: 80%;\n",
       "  background: linear-gradient(90deg, transparent 4.9%, #5fba7d 4.9%, #5fba7d 5.1%, transparent 5.1%);\n",
       "}\n",
       "#T_7df19_row10_col6 {\n",
       "  width: 10em;\n",
       "  height: 80%;\n",
       "  background: linear-gradient(90deg, transparent 1.6%, #d65f5f 1.6%, #d65f5f 2.4%, transparent 2.4%);\n",
       "}\n",
       "#T_7df19_row10_col9, #T_7df19_row12_col9 {\n",
       "  width: 10em;\n",
       "  height: 80%;\n",
       "  background: linear-gradient(90deg, transparent 2.6%, #d65f5f 2.6%, #d65f5f 3.1%, transparent 3.1%);\n",
       "}\n",
       "#T_7df19_row10_col12 {\n",
       "  width: 10em;\n",
       "  height: 80%;\n",
       "  background: linear-gradient(90deg, transparent 19.9%, #5fba7d 19.9%, #5fba7d 100.0%, transparent 100.0%);\n",
       "}\n",
       "#T_7df19_row11_col0 {\n",
       "  width: 10em;\n",
       "  height: 80%;\n",
       "  background: linear-gradient(90deg, transparent 98.6%, #d65f5f 98.6%, #d65f5f 99.5%, transparent 99.5%);\n",
       "}\n",
       "#T_7df19_row11_col1 {\n",
       "  width: 10em;\n",
       "  height: 80%;\n",
       "  background: linear-gradient(90deg, transparent 7.8%, #5fba7d 7.8%, #5fba7d 8.2%, transparent 8.2%);\n",
       "}\n",
       "#T_7df19_row11_col2 {\n",
       "  width: 10em;\n",
       "  height: 80%;\n",
       "  background: linear-gradient(90deg, transparent 1.1%, #d65f5f 1.1%, #d65f5f 2.0%, transparent 2.0%);\n",
       "}\n",
       "#T_7df19_row11_col3 {\n",
       "  width: 10em;\n",
       "  height: 80%;\n",
       "  background: linear-gradient(90deg,#d65f5f 3.2%, transparent 3.2%);\n",
       "}\n",
       "#T_7df19_row11_col4 {\n",
       "  width: 10em;\n",
       "  height: 80%;\n",
       "  background: linear-gradient(90deg, transparent 1.3%, #5fba7d 1.3%, #5fba7d 1.5%, transparent 1.5%);\n",
       "}\n",
       "#T_7df19_row11_col6 {\n",
       "  width: 10em;\n",
       "  height: 80%;\n",
       "  background: linear-gradient(90deg, transparent 2.4%, #5fba7d 2.4%, #5fba7d 100.0%, transparent 100.0%);\n",
       "}\n",
       "#T_7df19_row11_col7 {\n",
       "  width: 10em;\n",
       "  height: 80%;\n",
       "  background: linear-gradient(90deg, transparent 99.9%, #5fba7d 99.9%, #5fba7d 99.9%, transparent 99.9%);\n",
       "}\n",
       "#T_7df19_row11_col8 {\n",
       "  width: 10em;\n",
       "  height: 80%;\n",
       "  background: linear-gradient(90deg, transparent 16.0%, #5fba7d 16.0%, #5fba7d 16.2%, transparent 16.2%);\n",
       "}\n",
       "#T_7df19_row11_col9 {\n",
       "  width: 10em;\n",
       "  height: 80%;\n",
       "  background: linear-gradient(90deg, transparent 3.1%, #5fba7d 3.1%, #5fba7d 3.4%, transparent 3.4%);\n",
       "}\n",
       "#T_7df19_row11_col10, #T_7df19_row12_col10 {\n",
       "  width: 10em;\n",
       "  height: 80%;\n",
       "  background: linear-gradient(90deg, transparent 99.6%, #5fba7d 99.6%, #5fba7d 99.9%, transparent 99.9%);\n",
       "}\n",
       "#T_7df19_row11_col11 {\n",
       "  width: 10em;\n",
       "  height: 80%;\n",
       "  background: linear-gradient(90deg, transparent 97.0%, #d65f5f 97.0%, #d65f5f 99.5%, transparent 99.5%);\n",
       "}\n",
       "#T_7df19_row11_col12 {\n",
       "  width: 10em;\n",
       "  height: 80%;\n",
       "  background: linear-gradient(90deg, transparent 19.9%, #5fba7d 19.9%, #5fba7d 20.6%, transparent 20.6%);\n",
       "}\n",
       "#T_7df19_row12_col0 {\n",
       "  width: 10em;\n",
       "  height: 80%;\n",
       "  background: linear-gradient(90deg, transparent 99.5%, #5fba7d 99.5%, #5fba7d 99.7%, transparent 99.7%);\n",
       "}\n",
       "#T_7df19_row12_col2 {\n",
       "  width: 10em;\n",
       "  height: 80%;\n",
       "  background: linear-gradient(90deg, transparent 2.0%, #5fba7d 2.0%, #5fba7d 2.5%, transparent 2.5%);\n",
       "}\n",
       "#T_7df19_row12_col4 {\n",
       "  width: 10em;\n",
       "  height: 80%;\n",
       "  background: linear-gradient(90deg,#d65f5f 1.3%, transparent 1.3%);\n",
       "}\n",
       "#T_7df19_row12_col6 {\n",
       "  width: 10em;\n",
       "  height: 80%;\n",
       "  background: linear-gradient(90deg,#d65f5f 2.4%, transparent 2.4%);\n",
       "}\n",
       "#T_7df19_row12_col8 {\n",
       "  width: 10em;\n",
       "  height: 80%;\n",
       "  background: linear-gradient(90deg, transparent 15.7%, #d65f5f 15.7%, #d65f5f 16.0%, transparent 16.0%);\n",
       "}\n",
       "</style>\n",
       "<table id=\"T_7df19_\">\n",
       "  <thead>\n",
       "    <tr>\n",
       "      <th class=\"blank level0\" >&nbsp;</th>\n",
       "      <th class=\"col_heading level0 col0\" >f92</th>\n",
       "      <th class=\"col_heading level0 col1\" >f8</th>\n",
       "      <th class=\"col_heading level0 col2\" >f78</th>\n",
       "      <th class=\"col_heading level0 col3\" >f77</th>\n",
       "      <th class=\"col_heading level0 col4\" >f69</th>\n",
       "      <th class=\"col_heading level0 col5\" >f58</th>\n",
       "      <th class=\"col_heading level0 col6\" >f3</th>\n",
       "      <th class=\"col_heading level0 col7\" >f22</th>\n",
       "      <th class=\"col_heading level0 col8\" >f214</th>\n",
       "      <th class=\"col_heading level0 col9\" >f179</th>\n",
       "      <th class=\"col_heading level0 col10\" >f156</th>\n",
       "      <th class=\"col_heading level0 col11\" >f136</th>\n",
       "      <th class=\"col_heading level0 col12\" >f12</th>\n",
       "    </tr>\n",
       "  </thead>\n",
       "  <tbody>\n",
       "    <tr>\n",
       "      <th id=\"T_7df19_level0_row0\" class=\"row_heading level0 row0\" >PC1</th>\n",
       "      <td id=\"T_7df19_row0_col0\" class=\"data row0 col0\" >0.000257</td>\n",
       "      <td id=\"T_7df19_row0_col1\" class=\"data row0 col1\" >0.001003</td>\n",
       "      <td id=\"T_7df19_row0_col2\" class=\"data row0 col2\" >-0.001392</td>\n",
       "      <td id=\"T_7df19_row0_col3\" class=\"data row0 col3\" >-0.000108</td>\n",
       "      <td id=\"T_7df19_row0_col4\" class=\"data row0 col4\" >-0.000680</td>\n",
       "      <td id=\"T_7df19_row0_col5\" class=\"data row0 col5\" >-0.000590</td>\n",
       "      <td id=\"T_7df19_row0_col6\" class=\"data row0 col6\" >0.000160</td>\n",
       "      <td id=\"T_7df19_row0_col7\" class=\"data row0 col7\" >-0.999990</td>\n",
       "      <td id=\"T_7df19_row0_col8\" class=\"data row0 col8\" >-0.000870</td>\n",
       "      <td id=\"T_7df19_row0_col9\" class=\"data row0 col9\" >-0.001292</td>\n",
       "      <td id=\"T_7df19_row0_col10\" class=\"data row0 col10\" >0.003640</td>\n",
       "      <td id=\"T_7df19_row0_col11\" class=\"data row0 col11\" >0.000536</td>\n",
       "      <td id=\"T_7df19_row0_col12\" class=\"data row0 col12\" >-0.000249</td>\n",
       "    </tr>\n",
       "    <tr>\n",
       "      <th id=\"T_7df19_level0_row1\" class=\"row_heading level0 row1\" >PC2</th>\n",
       "      <td id=\"T_7df19_row1_col0\" class=\"data row1 col0\" >0.004515</td>\n",
       "      <td id=\"T_7df19_row1_col1\" class=\"data row1 col1\" >-0.000783</td>\n",
       "      <td id=\"T_7df19_row1_col2\" class=\"data row1 col2\" >0.000233</td>\n",
       "      <td id=\"T_7df19_row1_col3\" class=\"data row1 col3\" >-0.002175</td>\n",
       "      <td id=\"T_7df19_row1_col4\" class=\"data row1 col4\" >0.001173</td>\n",
       "      <td id=\"T_7df19_row1_col5\" class=\"data row1 col5\" >-0.001857</td>\n",
       "      <td id=\"T_7df19_row1_col6\" class=\"data row1 col6\" >0.002602</td>\n",
       "      <td id=\"T_7df19_row1_col7\" class=\"data row1 col7\" >-0.003646</td>\n",
       "      <td id=\"T_7df19_row1_col8\" class=\"data row1 col8\" >0.004225</td>\n",
       "      <td id=\"T_7df19_row1_col9\" class=\"data row1 col9\" >0.002039</td>\n",
       "      <td id=\"T_7df19_row1_col10\" class=\"data row1 col10\" >-0.999958</td>\n",
       "      <td id=\"T_7df19_row1_col11\" class=\"data row1 col11\" >-0.002608</td>\n",
       "      <td id=\"T_7df19_row1_col12\" class=\"data row1 col12\" >-0.002080</td>\n",
       "    </tr>\n",
       "    <tr>\n",
       "      <th id=\"T_7df19_level0_row2\" class=\"row_heading level0 row2\" >PC3</th>\n",
       "      <td id=\"T_7df19_row2_col0\" class=\"data row2 col0\" >0.004003</td>\n",
       "      <td id=\"T_7df19_row2_col1\" class=\"data row2 col1\" >0.021088</td>\n",
       "      <td id=\"T_7df19_row2_col2\" class=\"data row2 col2\" >0.001807</td>\n",
       "      <td id=\"T_7df19_row2_col3\" class=\"data row2 col3\" >-0.003124</td>\n",
       "      <td id=\"T_7df19_row2_col4\" class=\"data row2 col4\" >0.000340</td>\n",
       "      <td id=\"T_7df19_row2_col5\" class=\"data row2 col5\" >0.186397</td>\n",
       "      <td id=\"T_7df19_row2_col6\" class=\"data row2 col6\" >-0.002385</td>\n",
       "      <td id=\"T_7df19_row2_col7\" class=\"data row2 col7\" >-0.000955</td>\n",
       "      <td id=\"T_7df19_row2_col8\" class=\"data row2 col8\" >0.982074</td>\n",
       "      <td id=\"T_7df19_row2_col9\" class=\"data row2 col9\" >0.016587</td>\n",
       "      <td id=\"T_7df19_row2_col10\" class=\"data row2 col10\" >0.003853</td>\n",
       "      <td id=\"T_7df19_row2_col11\" class=\"data row2 col11\" >-0.004067</td>\n",
       "      <td id=\"T_7df19_row2_col12\" class=\"data row2 col12\" >0.000309</td>\n",
       "    </tr>\n",
       "    <tr>\n",
       "      <th id=\"T_7df19_level0_row3\" class=\"row_heading level0 row3\" >PC4</th>\n",
       "      <td id=\"T_7df19_row3_col0\" class=\"data row3 col0\" >-0.007635</td>\n",
       "      <td id=\"T_7df19_row3_col1\" class=\"data row3 col1\" >0.046828</td>\n",
       "      <td id=\"T_7df19_row3_col2\" class=\"data row3 col2\" >0.012945</td>\n",
       "      <td id=\"T_7df19_row3_col3\" class=\"data row3 col3\" >0.006710</td>\n",
       "      <td id=\"T_7df19_row3_col4\" class=\"data row3 col4\" >0.002397</td>\n",
       "      <td id=\"T_7df19_row3_col5\" class=\"data row3 col5\" >0.981029</td>\n",
       "      <td id=\"T_7df19_row3_col6\" class=\"data row3 col6\" >0.003892</td>\n",
       "      <td id=\"T_7df19_row3_col7\" class=\"data row3 col7\" >-0.000405</td>\n",
       "      <td id=\"T_7df19_row3_col8\" class=\"data row3 col8\" >-0.187236</td>\n",
       "      <td id=\"T_7df19_row3_col9\" class=\"data row3 col9\" >0.004732</td>\n",
       "      <td id=\"T_7df19_row3_col10\" class=\"data row3 col10\" >-0.002664</td>\n",
       "      <td id=\"T_7df19_row3_col11\" class=\"data row3 col11\" >-0.000138</td>\n",
       "      <td id=\"T_7df19_row3_col12\" class=\"data row3 col12\" >-0.003338</td>\n",
       "    </tr>\n",
       "    <tr>\n",
       "      <th id=\"T_7df19_level0_row4\" class=\"row_heading level0 row4\" >PC5</th>\n",
       "      <td id=\"T_7df19_row4_col0\" class=\"data row4 col0\" >-0.084278</td>\n",
       "      <td id=\"T_7df19_row4_col1\" class=\"data row4 col1\" >0.994764</td>\n",
       "      <td id=\"T_7df19_row4_col2\" class=\"data row4 col2\" >0.016988</td>\n",
       "      <td id=\"T_7df19_row4_col3\" class=\"data row4 col3\" >-0.010366</td>\n",
       "      <td id=\"T_7df19_row4_col4\" class=\"data row4 col4\" >-0.001089</td>\n",
       "      <td id=\"T_7df19_row4_col5\" class=\"data row4 col5\" >-0.050525</td>\n",
       "      <td id=\"T_7df19_row4_col6\" class=\"data row4 col6\" >-0.004948</td>\n",
       "      <td id=\"T_7df19_row4_col7\" class=\"data row4 col7\" >0.000991</td>\n",
       "      <td id=\"T_7df19_row4_col8\" class=\"data row4 col8\" >-0.011509</td>\n",
       "      <td id=\"T_7df19_row4_col9\" class=\"data row4 col9\" >0.000840</td>\n",
       "      <td id=\"T_7df19_row4_col10\" class=\"data row4 col10\" >-0.001071</td>\n",
       "      <td id=\"T_7df19_row4_col11\" class=\"data row4 col11\" >-0.000465</td>\n",
       "      <td id=\"T_7df19_row4_col12\" class=\"data row4 col12\" >-0.015197</td>\n",
       "    </tr>\n",
       "    <tr>\n",
       "      <th id=\"T_7df19_level0_row5\" class=\"row_heading level0 row5\" >PC6</th>\n",
       "      <td id=\"T_7df19_row5_col0\" class=\"data row5 col0\" >-0.995668</td>\n",
       "      <td id=\"T_7df19_row5_col1\" class=\"data row5 col1\" >-0.084466</td>\n",
       "      <td id=\"T_7df19_row5_col2\" class=\"data row5 col2\" >-0.006173</td>\n",
       "      <td id=\"T_7df19_row5_col3\" class=\"data row5 col3\" >-0.017002</td>\n",
       "      <td id=\"T_7df19_row5_col4\" class=\"data row5 col4\" >0.002363</td>\n",
       "      <td id=\"T_7df19_row5_col5\" class=\"data row5 col5\" >-0.002055</td>\n",
       "      <td id=\"T_7df19_row5_col6\" class=\"data row5 col6\" >-0.010006</td>\n",
       "      <td id=\"T_7df19_row5_col7\" class=\"data row5 col7\" >-0.000314</td>\n",
       "      <td id=\"T_7df19_row5_col8\" class=\"data row5 col8\" >0.006743</td>\n",
       "      <td id=\"T_7df19_row5_col9\" class=\"data row5 col9\" >-0.031707</td>\n",
       "      <td id=\"T_7df19_row5_col10\" class=\"data row5 col10\" >-0.004448</td>\n",
       "      <td id=\"T_7df19_row5_col11\" class=\"data row5 col11\" >-0.001041</td>\n",
       "      <td id=\"T_7df19_row5_col12\" class=\"data row5 col12\" >0.000796</td>\n",
       "    </tr>\n",
       "    <tr>\n",
       "      <th id=\"T_7df19_level0_row6\" class=\"row_heading level0 row6\" >PC7</th>\n",
       "      <td id=\"T_7df19_row6_col0\" class=\"data row6 col0\" >-0.031562</td>\n",
       "      <td id=\"T_7df19_row6_col1\" class=\"data row6 col1\" >-0.003965</td>\n",
       "      <td id=\"T_7df19_row6_col2\" class=\"data row6 col2\" >-0.002621</td>\n",
       "      <td id=\"T_7df19_row6_col3\" class=\"data row6 col3\" >0.002441</td>\n",
       "      <td id=\"T_7df19_row6_col4\" class=\"data row6 col4\" >0.000193</td>\n",
       "      <td id=\"T_7df19_row6_col5\" class=\"data row6 col5\" >-0.007730</td>\n",
       "      <td id=\"T_7df19_row6_col6\" class=\"data row6 col6\" >-0.003710</td>\n",
       "      <td id=\"T_7df19_row6_col7\" class=\"data row6 col7\" >-0.001280</td>\n",
       "      <td id=\"T_7df19_row6_col8\" class=\"data row6 col8\" >-0.015222</td>\n",
       "      <td id=\"T_7df19_row6_col9\" class=\"data row6 col9\" >0.999312</td>\n",
       "      <td id=\"T_7df19_row6_col10\" class=\"data row6 col10\" >0.001840</td>\n",
       "      <td id=\"T_7df19_row6_col11\" class=\"data row6 col11\" >-0.004445</td>\n",
       "      <td id=\"T_7df19_row6_col12\" class=\"data row6 col12\" >0.004503</td>\n",
       "    </tr>\n",
       "    <tr>\n",
       "      <th id=\"T_7df19_level0_row7\" class=\"row_heading level0 row7\" >PC8</th>\n",
       "      <td id=\"T_7df19_row7_col0\" class=\"data row7 col0\" >-0.004694</td>\n",
       "      <td id=\"T_7df19_row7_col1\" class=\"data row7 col1\" >-0.017788</td>\n",
       "      <td id=\"T_7df19_row7_col2\" class=\"data row7 col2\" >0.999475</td>\n",
       "      <td id=\"T_7df19_row7_col3\" class=\"data row7 col3\" >-0.005091</td>\n",
       "      <td id=\"T_7df19_row7_col4\" class=\"data row7 col4\" >0.009025</td>\n",
       "      <td id=\"T_7df19_row7_col5\" class=\"data row7 col5\" >-0.012180</td>\n",
       "      <td id=\"T_7df19_row7_col6\" class=\"data row7 col6\" >0.008109</td>\n",
       "      <td id=\"T_7df19_row7_col7\" class=\"data row7 col7\" >-0.001412</td>\n",
       "      <td id=\"T_7df19_row7_col8\" class=\"data row7 col8\" >0.000849</td>\n",
       "      <td id=\"T_7df19_row7_col9\" class=\"data row7 col9\" >0.002298</td>\n",
       "      <td id=\"T_7df19_row7_col10\" class=\"data row7 col10\" >0.000252</td>\n",
       "      <td id=\"T_7df19_row7_col11\" class=\"data row7 col11\" >0.005225</td>\n",
       "      <td id=\"T_7df19_row7_col12\" class=\"data row7 col12\" >0.018829</td>\n",
       "    </tr>\n",
       "    <tr>\n",
       "      <th id=\"T_7df19_level0_row8\" class=\"row_heading level0 row8\" >PC9</th>\n",
       "      <td id=\"T_7df19_row8_col0\" class=\"data row8 col0\" >-0.017926</td>\n",
       "      <td id=\"T_7df19_row8_col1\" class=\"data row8 col1\" >0.008463</td>\n",
       "      <td id=\"T_7df19_row8_col2\" class=\"data row8 col2\" >0.004862</td>\n",
       "      <td id=\"T_7df19_row8_col3\" class=\"data row8 col3\" >0.998680</td>\n",
       "      <td id=\"T_7df19_row8_col4\" class=\"data row8 col4\" >0.028874</td>\n",
       "      <td id=\"T_7df19_row8_col5\" class=\"data row8 col5\" >-0.006831</td>\n",
       "      <td id=\"T_7df19_row8_col6\" class=\"data row8 col6\" >0.032444</td>\n",
       "      <td id=\"T_7df19_row8_col7\" class=\"data row8 col7\" >-0.000127</td>\n",
       "      <td id=\"T_7df19_row8_col8\" class=\"data row8 col8\" >0.004469</td>\n",
       "      <td id=\"T_7df19_row8_col9\" class=\"data row8 col9\" >-0.002772</td>\n",
       "      <td id=\"T_7df19_row8_col10\" class=\"data row8 col10\" >-0.002072</td>\n",
       "      <td id=\"T_7df19_row8_col11\" class=\"data row8 col11\" >-0.003751</td>\n",
       "      <td id=\"T_7df19_row8_col12\" class=\"data row8 col12\" >-0.015587</td>\n",
       "    </tr>\n",
       "    <tr>\n",
       "      <th id=\"T_7df19_level0_row9\" class=\"row_heading level0 row9\" >PC10</th>\n",
       "      <td id=\"T_7df19_row9_col0\" class=\"data row9 col0\" >0.002902</td>\n",
       "      <td id=\"T_7df19_row9_col1\" class=\"data row9 col1\" >-0.002777</td>\n",
       "      <td id=\"T_7df19_row9_col2\" class=\"data row9 col2\" >-0.004382</td>\n",
       "      <td id=\"T_7df19_row9_col3\" class=\"data row9 col3\" >-0.031735</td>\n",
       "      <td id=\"T_7df19_row9_col4\" class=\"data row9 col4\" >0.969880</td>\n",
       "      <td id=\"T_7df19_row9_col5\" class=\"data row9 col5\" >-0.002731</td>\n",
       "      <td id=\"T_7df19_row9_col6\" class=\"data row9 col6\" >-0.000882</td>\n",
       "      <td id=\"T_7df19_row9_col7\" class=\"data row9 col7\" >-0.000591</td>\n",
       "      <td id=\"T_7df19_row9_col8\" class=\"data row9 col8\" >0.000140</td>\n",
       "      <td id=\"T_7df19_row9_col9\" class=\"data row9 col9\" >0.000969</td>\n",
       "      <td id=\"T_7df19_row9_col10\" class=\"data row9 col10\" >0.001760</td>\n",
       "      <td id=\"T_7df19_row9_col11\" class=\"data row9 col11\" >-0.011506</td>\n",
       "      <td id=\"T_7df19_row9_col12\" class=\"data row9 col12\" >-0.241132</td>\n",
       "    </tr>\n",
       "    <tr>\n",
       "      <th id=\"T_7df19_level0_row10\" class=\"row_heading level0 row10\" >PC11</th>\n",
       "      <td id=\"T_7df19_row10_col0\" class=\"data row10 col0\" >0.000235</td>\n",
       "      <td id=\"T_7df19_row10_col1\" class=\"data row10 col1\" >0.015582</td>\n",
       "      <td id=\"T_7df19_row10_col2\" class=\"data row10 col2\" >-0.019994</td>\n",
       "      <td id=\"T_7df19_row10_col3\" class=\"data row10 col3\" >0.008369</td>\n",
       "      <td id=\"T_7df19_row10_col4\" class=\"data row10 col4\" >0.241314</td>\n",
       "      <td id=\"T_7df19_row10_col5\" class=\"data row10 col5\" >0.002030</td>\n",
       "      <td id=\"T_7df19_row10_col6\" class=\"data row10 col6\" >-0.008030</td>\n",
       "      <td id=\"T_7df19_row10_col7\" class=\"data row10 col7\" >-0.000369</td>\n",
       "      <td id=\"T_7df19_row10_col8\" class=\"data row10 col8\" >-0.001013</td>\n",
       "      <td id=\"T_7df19_row10_col9\" class=\"data row10 col9\" >-0.004479</td>\n",
       "      <td id=\"T_7df19_row10_col10\" class=\"data row10 col10\" >-0.001787</td>\n",
       "      <td id=\"T_7df19_row10_col11\" class=\"data row10 col11\" >-0.006987</td>\n",
       "      <td id=\"T_7df19_row10_col12\" class=\"data row10 col12\" >0.970007</td>\n",
       "    </tr>\n",
       "    <tr>\n",
       "      <th id=\"T_7df19_level0_row11\" class=\"row_heading level0 row11\" >PC12</th>\n",
       "      <td id=\"T_7df19_row11_col0\" class=\"data row11 col0\" >-0.009820</td>\n",
       "      <td id=\"T_7df19_row11_col1\" class=\"data row11 col1\" >0.003910</td>\n",
       "      <td id=\"T_7df19_row11_col2\" class=\"data row11 col2\" >-0.008330</td>\n",
       "      <td id=\"T_7df19_row11_col3\" class=\"data row11 col3\" >-0.032658</td>\n",
       "      <td id=\"T_7df19_row11_col4\" class=\"data row11 col4\" >0.001471</td>\n",
       "      <td id=\"T_7df19_row11_col5\" class=\"data row11 col5\" >-0.003355</td>\n",
       "      <td id=\"T_7df19_row11_col6\" class=\"data row11 col6\" >0.999018</td>\n",
       "      <td id=\"T_7df19_row11_col7\" class=\"data row11 col7\" >0.000165</td>\n",
       "      <td id=\"T_7df19_row11_col8\" class=\"data row11 col8\" >0.002758</td>\n",
       "      <td id=\"T_7df19_row11_col9\" class=\"data row11 col9\" >0.003338</td>\n",
       "      <td id=\"T_7df19_row11_col10\" class=\"data row11 col10\" >0.002696</td>\n",
       "      <td id=\"T_7df19_row11_col11\" class=\"data row11 col11\" >-0.024788</td>\n",
       "      <td id=\"T_7df19_row11_col12\" class=\"data row11 col12\" >0.007806</td>\n",
       "    </tr>\n",
       "    <tr>\n",
       "      <th id=\"T_7df19_level0_row12\" class=\"row_heading level0 row12\" >PC13</th>\n",
       "      <td id=\"T_7df19_row12_col0\" class=\"data row12 col0\" >0.001441</td>\n",
       "      <td id=\"T_7df19_row12_col1\" class=\"data row12 col1\" >-0.000746</td>\n",
       "      <td id=\"T_7df19_row12_col2\" class=\"data row12 col2\" >0.005603</td>\n",
       "      <td id=\"T_7df19_row12_col3\" class=\"data row12 col3\" >-0.002629</td>\n",
       "      <td id=\"T_7df19_row12_col4\" class=\"data row12 col4\" >-0.012956</td>\n",
       "      <td id=\"T_7df19_row12_col5\" class=\"data row12 col5\" >-0.000767</td>\n",
       "      <td id=\"T_7df19_row12_col6\" class=\"data row12 col6\" >-0.024756</td>\n",
       "      <td id=\"T_7df19_row12_col7\" class=\"data row12 col7\" >-0.000519</td>\n",
       "      <td id=\"T_7df19_row12_col8\" class=\"data row12 col8\" >-0.003991</td>\n",
       "      <td id=\"T_7df19_row12_col9\" class=\"data row12 col9\" >-0.004526</td>\n",
       "      <td id=\"T_7df19_row12_col10\" class=\"data row12 col10\" >0.002528</td>\n",
       "      <td id=\"T_7df19_row12_col11\" class=\"data row12 col11\" >-0.999559</td>\n",
       "      <td id=\"T_7df19_row12_col12\" class=\"data row12 col12\" >-0.004050</td>\n",
       "    </tr>\n",
       "  </tbody>\n",
       "</table>\n"
      ],
      "text/plain": [
       "<pandas.io.formats.style.Styler at 0x22e648aba60>"
      ]
     },
     "execution_count": 153,
     "metadata": {},
     "output_type": "execute_result"
    }
   ],
   "source": [
    "loadings = pd.DataFrame(pca.components_, index=pca_cols, columns=train[useful_features].columns)\n",
    "loadings.style.bar(align='mid', color=['#d65f5f', '#5fba7d'])"
   ]
  },
  {
   "cell_type": "code",
   "execution_count": 154,
   "metadata": {},
   "outputs": [],
   "source": [
    "#feature_cols += [\"PC1\"]\n",
    "feature_cols += pca_cols\n"
   ]
  },
  {
   "cell_type": "markdown",
   "metadata": {},
   "source": [
    "## Polynomial Features **Test**"
   ]
  },
  {
   "cell_type": "markdown",
   "metadata": {},
   "source": [
    "- https://scikit-learn.org/stable/modules/generated/sklearn.preprocessing.PolynomialFeatures.html"
   ]
  },
  {
   "cell_type": "code",
   "execution_count": 155,
   "metadata": {},
   "outputs": [],
   "source": [
    "from sklearn.preprocessing import PolynomialFeatures\n",
    "\n",
    "poly = PolynomialFeatures(degree=2, interaction_only=True)\n",
    "\n",
    "X_poly = poly.fit_transform(train[useful_features])\n",
    "T_poly = poly.transform(test[useful_features])\n",
    "\n",
    "poly_cols = [f\"poly{i+1}\" for i in range(X_poly.shape[1])]\n",
    "\n",
    "X_poly_df = pd.DataFrame(X_poly, columns=poly_cols, index=train.index)\n",
    "T_poly_df = pd.DataFrame(T_poly, columns=poly_cols, index=test.index)\n",
    "\n",
    "train = pd.concat([train, X_poly_df], axis=1)\n",
    "test = pd.concat([test, T_poly_df], axis=1)\n"
   ]
  },
  {
   "cell_type": "code",
   "execution_count": 156,
   "metadata": {},
   "outputs": [
    {
     "data": {
      "text/html": [
       "<div>\n",
       "<style scoped>\n",
       "    .dataframe tbody tr th:only-of-type {\n",
       "        vertical-align: middle;\n",
       "    }\n",
       "\n",
       "    .dataframe tbody tr th {\n",
       "        vertical-align: top;\n",
       "    }\n",
       "\n",
       "    .dataframe thead th {\n",
       "        text-align: right;\n",
       "    }\n",
       "</style>\n",
       "<table border=\"1\" class=\"dataframe\">\n",
       "  <thead>\n",
       "    <tr style=\"text-align: right;\">\n",
       "      <th></th>\n",
       "      <th>f0</th>\n",
       "      <th>f1</th>\n",
       "      <th>f2</th>\n",
       "      <th>f3</th>\n",
       "      <th>f4</th>\n",
       "      <th>f5</th>\n",
       "      <th>f6</th>\n",
       "      <th>f7</th>\n",
       "      <th>f8</th>\n",
       "      <th>f9</th>\n",
       "      <th>...</th>\n",
       "      <th>poly83</th>\n",
       "      <th>poly84</th>\n",
       "      <th>poly85</th>\n",
       "      <th>poly86</th>\n",
       "      <th>poly87</th>\n",
       "      <th>poly88</th>\n",
       "      <th>poly89</th>\n",
       "      <th>poly90</th>\n",
       "      <th>poly91</th>\n",
       "      <th>poly92</th>\n",
       "    </tr>\n",
       "    <tr>\n",
       "      <th>id</th>\n",
       "      <th></th>\n",
       "      <th></th>\n",
       "      <th></th>\n",
       "      <th></th>\n",
       "      <th></th>\n",
       "      <th></th>\n",
       "      <th></th>\n",
       "      <th></th>\n",
       "      <th></th>\n",
       "      <th></th>\n",
       "      <th></th>\n",
       "      <th></th>\n",
       "      <th></th>\n",
       "      <th></th>\n",
       "      <th></th>\n",
       "      <th></th>\n",
       "      <th></th>\n",
       "      <th></th>\n",
       "      <th></th>\n",
       "      <th></th>\n",
       "      <th></th>\n",
       "    </tr>\n",
       "  </thead>\n",
       "  <tbody>\n",
       "    <tr>\n",
       "      <th>0</th>\n",
       "      <td>0.205979</td>\n",
       "      <td>0.410993</td>\n",
       "      <td>0.176775</td>\n",
       "      <td>0.223581</td>\n",
       "      <td>0.423543</td>\n",
       "      <td>0.476140</td>\n",
       "      <td>0.413590</td>\n",
       "      <td>0.612021</td>\n",
       "      <td>0.534873</td>\n",
       "      <td>0.147295</td>\n",
       "      <td>...</td>\n",
       "      <td>0.000787</td>\n",
       "      <td>0.006034</td>\n",
       "      <td>0.005739</td>\n",
       "      <td>0.001402</td>\n",
       "      <td>0.097495</td>\n",
       "      <td>0.092744</td>\n",
       "      <td>0.022657</td>\n",
       "      <td>0.711093</td>\n",
       "      <td>0.173718</td>\n",
       "      <td>0.165252</td>\n",
       "    </tr>\n",
       "    <tr>\n",
       "      <th>1</th>\n",
       "      <td>0.181004</td>\n",
       "      <td>0.473119</td>\n",
       "      <td>0.011734</td>\n",
       "      <td>0.213657</td>\n",
       "      <td>0.619678</td>\n",
       "      <td>0.441593</td>\n",
       "      <td>0.230407</td>\n",
       "      <td>0.686013</td>\n",
       "      <td>0.281971</td>\n",
       "      <td>0.238509</td>\n",
       "      <td>...</td>\n",
       "      <td>0.001335</td>\n",
       "      <td>0.142616</td>\n",
       "      <td>0.135024</td>\n",
       "      <td>0.038148</td>\n",
       "      <td>0.007033</td>\n",
       "      <td>0.006659</td>\n",
       "      <td>0.001881</td>\n",
       "      <td>0.711160</td>\n",
       "      <td>0.200923</td>\n",
       "      <td>0.190226</td>\n",
       "    </tr>\n",
       "    <tr>\n",
       "      <th>2</th>\n",
       "      <td>0.182583</td>\n",
       "      <td>0.307431</td>\n",
       "      <td>0.325950</td>\n",
       "      <td>0.207116</td>\n",
       "      <td>0.605699</td>\n",
       "      <td>0.309695</td>\n",
       "      <td>0.493337</td>\n",
       "      <td>0.751107</td>\n",
       "      <td>0.536272</td>\n",
       "      <td>0.286813</td>\n",
       "      <td>...</td>\n",
       "      <td>0.000124</td>\n",
       "      <td>0.004402</td>\n",
       "      <td>0.008972</td>\n",
       "      <td>0.002714</td>\n",
       "      <td>0.004543</td>\n",
       "      <td>0.009260</td>\n",
       "      <td>0.002802</td>\n",
       "      <td>0.329093</td>\n",
       "      <td>0.099566</td>\n",
       "      <td>0.202945</td>\n",
       "    </tr>\n",
       "    <tr>\n",
       "      <th>3</th>\n",
       "      <td>0.180240</td>\n",
       "      <td>0.494592</td>\n",
       "      <td>0.008367</td>\n",
       "      <td>0.223580</td>\n",
       "      <td>0.760618</td>\n",
       "      <td>0.439211</td>\n",
       "      <td>0.432055</td>\n",
       "      <td>0.776147</td>\n",
       "      <td>0.483958</td>\n",
       "      <td>0.260886</td>\n",
       "      <td>...</td>\n",
       "      <td>0.000134</td>\n",
       "      <td>0.009039</td>\n",
       "      <td>0.008477</td>\n",
       "      <td>0.002975</td>\n",
       "      <td>0.011288</td>\n",
       "      <td>0.010587</td>\n",
       "      <td>0.003716</td>\n",
       "      <td>0.716769</td>\n",
       "      <td>0.251562</td>\n",
       "      <td>0.235928</td>\n",
       "    </tr>\n",
       "    <tr>\n",
       "      <th>4</th>\n",
       "      <td>0.177172</td>\n",
       "      <td>0.495513</td>\n",
       "      <td>0.014263</td>\n",
       "      <td>0.548819</td>\n",
       "      <td>0.625396</td>\n",
       "      <td>0.562493</td>\n",
       "      <td>0.117158</td>\n",
       "      <td>0.561255</td>\n",
       "      <td>0.077115</td>\n",
       "      <td>0.158321</td>\n",
       "      <td>...</td>\n",
       "      <td>0.000735</td>\n",
       "      <td>0.003362</td>\n",
       "      <td>0.003200</td>\n",
       "      <td>0.001033</td>\n",
       "      <td>0.163017</td>\n",
       "      <td>0.155140</td>\n",
       "      <td>0.050080</td>\n",
       "      <td>0.709660</td>\n",
       "      <td>0.229082</td>\n",
       "      <td>0.218014</td>\n",
       "    </tr>\n",
       "  </tbody>\n",
       "</table>\n",
       "<p>5 rows × 397 columns</p>\n",
       "</div>"
      ],
      "text/plain": [
       "          f0        f1        f2        f3        f4        f5        f6  \\\n",
       "id                                                                         \n",
       "0   0.205979  0.410993  0.176775  0.223581  0.423543  0.476140  0.413590   \n",
       "1   0.181004  0.473119  0.011734  0.213657  0.619678  0.441593  0.230407   \n",
       "2   0.182583  0.307431  0.325950  0.207116  0.605699  0.309695  0.493337   \n",
       "3   0.180240  0.494592  0.008367  0.223580  0.760618  0.439211  0.432055   \n",
       "4   0.177172  0.495513  0.014263  0.548819  0.625396  0.562493  0.117158   \n",
       "\n",
       "          f7        f8        f9  ...    poly83    poly84    poly85    poly86  \\\n",
       "id                                ...                                           \n",
       "0   0.612021  0.534873  0.147295  ...  0.000787  0.006034  0.005739  0.001402   \n",
       "1   0.686013  0.281971  0.238509  ...  0.001335  0.142616  0.135024  0.038148   \n",
       "2   0.751107  0.536272  0.286813  ...  0.000124  0.004402  0.008972  0.002714   \n",
       "3   0.776147  0.483958  0.260886  ...  0.000134  0.009039  0.008477  0.002975   \n",
       "4   0.561255  0.077115  0.158321  ...  0.000735  0.003362  0.003200  0.001033   \n",
       "\n",
       "      poly87    poly88    poly89    poly90    poly91    poly92  \n",
       "id                                                              \n",
       "0   0.097495  0.092744  0.022657  0.711093  0.173718  0.165252  \n",
       "1   0.007033  0.006659  0.001881  0.711160  0.200923  0.190226  \n",
       "2   0.004543  0.009260  0.002802  0.329093  0.099566  0.202945  \n",
       "3   0.011288  0.010587  0.003716  0.716769  0.251562  0.235928  \n",
       "4   0.163017  0.155140  0.050080  0.709660  0.229082  0.218014  \n",
       "\n",
       "[5 rows x 397 columns]"
      ]
     },
     "execution_count": 156,
     "metadata": {},
     "output_type": "execute_result"
    }
   ],
   "source": [
    "#feature_cols += [\"poly79\", \"poly82\", \"poly66\", \"poly32\", \"poly81\", \"poly80\", \"poly42\", \"poly78\", \"poly59\"]\n",
    "feature_cols += poly_cols\n",
    "train.head()"
   ]
  },
  {
   "cell_type": "markdown",
   "metadata": {},
   "source": [
    "## Add New Features"
   ]
  },
  {
   "cell_type": "code",
   "execution_count": 157,
   "id": "c4320e47",
   "metadata": {
    "execution": {
     "iopub.execute_input": "2021-10-17T14:15:53.732516Z",
     "iopub.status.busy": "2021-10-17T14:15:53.731773Z",
     "iopub.status.idle": "2021-10-17T14:15:53.928994Z",
     "shell.execute_reply": "2021-10-17T14:15:53.929535Z",
     "shell.execute_reply.started": "2021-10-17T14:08:59.825855Z"
    },
    "papermill": {
     "duration": 0.21512,
     "end_time": "2021-10-17T14:15:53.929729",
     "exception": false,
     "start_time": "2021-10-17T14:15:53.714609",
     "status": "completed"
    },
    "tags": []
   },
   "outputs": [
    {
     "data": {
      "text/html": [
       "<div>\n",
       "<style scoped>\n",
       "    .dataframe tbody tr th:only-of-type {\n",
       "        vertical-align: middle;\n",
       "    }\n",
       "\n",
       "    .dataframe tbody tr th {\n",
       "        vertical-align: top;\n",
       "    }\n",
       "\n",
       "    .dataframe thead th {\n",
       "        text-align: right;\n",
       "    }\n",
       "</style>\n",
       "<table border=\"1\" class=\"dataframe\">\n",
       "  <thead>\n",
       "    <tr style=\"text-align: right;\">\n",
       "      <th></th>\n",
       "      <th>f0</th>\n",
       "      <th>f1</th>\n",
       "      <th>f2</th>\n",
       "      <th>f3</th>\n",
       "      <th>f4</th>\n",
       "      <th>f5</th>\n",
       "      <th>f6</th>\n",
       "      <th>f7</th>\n",
       "      <th>f8</th>\n",
       "      <th>f9</th>\n",
       "      <th>...</th>\n",
       "      <th>poly87</th>\n",
       "      <th>poly88</th>\n",
       "      <th>poly89</th>\n",
       "      <th>poly90</th>\n",
       "      <th>poly91</th>\n",
       "      <th>poly92</th>\n",
       "      <th>new_f1</th>\n",
       "      <th>new_f2</th>\n",
       "      <th>new_f3</th>\n",
       "      <th>new_f4</th>\n",
       "    </tr>\n",
       "    <tr>\n",
       "      <th>id</th>\n",
       "      <th></th>\n",
       "      <th></th>\n",
       "      <th></th>\n",
       "      <th></th>\n",
       "      <th></th>\n",
       "      <th></th>\n",
       "      <th></th>\n",
       "      <th></th>\n",
       "      <th></th>\n",
       "      <th></th>\n",
       "      <th></th>\n",
       "      <th></th>\n",
       "      <th></th>\n",
       "      <th></th>\n",
       "      <th></th>\n",
       "      <th></th>\n",
       "      <th></th>\n",
       "      <th></th>\n",
       "      <th></th>\n",
       "      <th></th>\n",
       "      <th></th>\n",
       "    </tr>\n",
       "  </thead>\n",
       "  <tbody>\n",
       "    <tr>\n",
       "      <th>0</th>\n",
       "      <td>0.205979</td>\n",
       "      <td>0.410993</td>\n",
       "      <td>0.176775</td>\n",
       "      <td>0.223581</td>\n",
       "      <td>0.423543</td>\n",
       "      <td>0.476140</td>\n",
       "      <td>0.413590</td>\n",
       "      <td>0.612021</td>\n",
       "      <td>0.534873</td>\n",
       "      <td>0.147295</td>\n",
       "      <td>...</td>\n",
       "      <td>0.097495</td>\n",
       "      <td>0.092744</td>\n",
       "      <td>0.022657</td>\n",
       "      <td>0.711093</td>\n",
       "      <td>0.173718</td>\n",
       "      <td>0.165252</td>\n",
       "      <td>0.185968</td>\n",
       "      <td>0.614641</td>\n",
       "      <td>0.308229</td>\n",
       "      <td>0.466272</td>\n",
       "    </tr>\n",
       "    <tr>\n",
       "      <th>1</th>\n",
       "      <td>0.181004</td>\n",
       "      <td>0.473119</td>\n",
       "      <td>0.011734</td>\n",
       "      <td>0.213657</td>\n",
       "      <td>0.619678</td>\n",
       "      <td>0.441593</td>\n",
       "      <td>0.230407</td>\n",
       "      <td>0.686013</td>\n",
       "      <td>0.281971</td>\n",
       "      <td>0.238509</td>\n",
       "      <td>...</td>\n",
       "      <td>0.007033</td>\n",
       "      <td>0.006659</td>\n",
       "      <td>0.001881</td>\n",
       "      <td>0.711160</td>\n",
       "      <td>0.200923</td>\n",
       "      <td>0.190226</td>\n",
       "      <td>0.291862</td>\n",
       "      <td>0.507715</td>\n",
       "      <td>0.273205</td>\n",
       "      <td>0.487993</td>\n",
       "    </tr>\n",
       "    <tr>\n",
       "      <th>2</th>\n",
       "      <td>0.182583</td>\n",
       "      <td>0.307431</td>\n",
       "      <td>0.325950</td>\n",
       "      <td>0.207116</td>\n",
       "      <td>0.605699</td>\n",
       "      <td>0.309695</td>\n",
       "      <td>0.493337</td>\n",
       "      <td>0.751107</td>\n",
       "      <td>0.536272</td>\n",
       "      <td>0.286813</td>\n",
       "      <td>...</td>\n",
       "      <td>0.004543</td>\n",
       "      <td>0.009260</td>\n",
       "      <td>0.002802</td>\n",
       "      <td>0.329093</td>\n",
       "      <td>0.099566</td>\n",
       "      <td>0.202945</td>\n",
       "      <td>2.259678</td>\n",
       "      <td>1.125554</td>\n",
       "      <td>2.057399</td>\n",
       "      <td>5.557831</td>\n",
       "    </tr>\n",
       "    <tr>\n",
       "      <th>3</th>\n",
       "      <td>0.180240</td>\n",
       "      <td>0.494592</td>\n",
       "      <td>0.008367</td>\n",
       "      <td>0.223580</td>\n",
       "      <td>0.760618</td>\n",
       "      <td>0.439211</td>\n",
       "      <td>0.432055</td>\n",
       "      <td>0.776147</td>\n",
       "      <td>0.483958</td>\n",
       "      <td>0.260886</td>\n",
       "      <td>...</td>\n",
       "      <td>0.011288</td>\n",
       "      <td>0.010587</td>\n",
       "      <td>0.003716</td>\n",
       "      <td>0.716769</td>\n",
       "      <td>0.251562</td>\n",
       "      <td>0.235928</td>\n",
       "      <td>0.199044</td>\n",
       "      <td>0.609076</td>\n",
       "      <td>0.313153</td>\n",
       "      <td>0.476052</td>\n",
       "    </tr>\n",
       "    <tr>\n",
       "      <th>4</th>\n",
       "      <td>0.177172</td>\n",
       "      <td>0.495513</td>\n",
       "      <td>0.014263</td>\n",
       "      <td>0.548819</td>\n",
       "      <td>0.625396</td>\n",
       "      <td>0.562493</td>\n",
       "      <td>0.117158</td>\n",
       "      <td>0.561255</td>\n",
       "      <td>0.077115</td>\n",
       "      <td>0.158321</td>\n",
       "      <td>...</td>\n",
       "      <td>0.163017</td>\n",
       "      <td>0.155140</td>\n",
       "      <td>0.050080</td>\n",
       "      <td>0.709660</td>\n",
       "      <td>0.229082</td>\n",
       "      <td>0.218014</td>\n",
       "      <td>2.227395</td>\n",
       "      <td>0.941811</td>\n",
       "      <td>2.020525</td>\n",
       "      <td>1.736941</td>\n",
       "    </tr>\n",
       "  </tbody>\n",
       "</table>\n",
       "<p>5 rows × 401 columns</p>\n",
       "</div>"
      ],
      "text/plain": [
       "          f0        f1        f2        f3        f4        f5        f6  \\\n",
       "id                                                                         \n",
       "0   0.205979  0.410993  0.176775  0.223581  0.423543  0.476140  0.413590   \n",
       "1   0.181004  0.473119  0.011734  0.213657  0.619678  0.441593  0.230407   \n",
       "2   0.182583  0.307431  0.325950  0.207116  0.605699  0.309695  0.493337   \n",
       "3   0.180240  0.494592  0.008367  0.223580  0.760618  0.439211  0.432055   \n",
       "4   0.177172  0.495513  0.014263  0.548819  0.625396  0.562493  0.117158   \n",
       "\n",
       "          f7        f8        f9  ...    poly87    poly88    poly89    poly90  \\\n",
       "id                                ...                                           \n",
       "0   0.612021  0.534873  0.147295  ...  0.097495  0.092744  0.022657  0.711093   \n",
       "1   0.686013  0.281971  0.238509  ...  0.007033  0.006659  0.001881  0.711160   \n",
       "2   0.751107  0.536272  0.286813  ...  0.004543  0.009260  0.002802  0.329093   \n",
       "3   0.776147  0.483958  0.260886  ...  0.011288  0.010587  0.003716  0.716769   \n",
       "4   0.561255  0.077115  0.158321  ...  0.163017  0.155140  0.050080  0.709660   \n",
       "\n",
       "      poly91    poly92    new_f1    new_f2    new_f3    new_f4  \n",
       "id                                                              \n",
       "0   0.173718  0.165252  0.185968  0.614641  0.308229  0.466272  \n",
       "1   0.200923  0.190226  0.291862  0.507715  0.273205  0.487993  \n",
       "2   0.099566  0.202945  2.259678  1.125554  2.057399  5.557831  \n",
       "3   0.251562  0.235928  0.199044  0.609076  0.313153  0.476052  \n",
       "4   0.229082  0.218014  2.227395  0.941811  2.020525  1.736941  \n",
       "\n",
       "[5 rows x 401 columns]"
      ]
     },
     "execution_count": 157,
     "metadata": {},
     "output_type": "execute_result"
    }
   ],
   "source": [
    "def add_feature(df):\n",
    "    df[\"new_f1\"] = df[\"cluster1\"]/df[\"cluster3\"]\n",
    "    df[\"new_f2\"] = df[\"cluster5\"]/df[\"cluster6\"]\n",
    "    df[\"new_f3\"] = df[\"cluster5\"]/df[\"cluster2\"]\n",
    "    df[\"new_f4\"] = df[\"cluster6\"]/df[\"cluster4\"]\n",
    "    return df\n",
    "\n",
    "new_features = [\"new_f1\", \"new_f2\", \"new_f3\",\"new_f4\"]\n",
    "train = add_feature(train)\n",
    "test = add_feature(test)\n",
    "feature_cols += new_features\n",
    "train.head()"
   ]
  },
  {
   "cell_type": "markdown",
   "metadata": {},
   "source": [
    "## Mutual Information"
   ]
  },
  {
   "cell_type": "code",
   "execution_count": 158,
   "id": "ebcb7161",
   "metadata": {
    "execution": {
     "iopub.execute_input": "2021-10-17T14:15:53.966372Z",
     "iopub.status.busy": "2021-10-17T14:15:53.965587Z",
     "iopub.status.idle": "2021-10-17T14:16:34.695532Z",
     "shell.execute_reply": "2021-10-17T14:16:34.696066Z",
     "shell.execute_reply.started": "2021-10-17T14:09:07.201281Z"
    },
    "papermill": {
     "duration": 40.751608,
     "end_time": "2021-10-17T14:16:34.696244",
     "exception": false,
     "start_time": "2021-10-17T14:15:53.944636",
     "status": "completed"
    },
    "tags": []
   },
   "outputs": [],
   "source": [
    "from sklearn.feature_selection import mutual_info_regression\n",
    "\n",
    "x = train.iloc[:50000,:][feature_cols] #.copy()\n",
    "y = train.iloc[:50000,:]['target'] #.copy()\n",
    "mi_scores = mutual_info_regression(x, y)\n",
    "mi_scores = pd.Series(mi_scores, name=\"MI Scores\", index=x.columns)\n",
    "mi_scores = mi_scores.sort_values(ascending=False)"
   ]
  },
  {
   "cell_type": "code",
   "execution_count": 159,
   "id": "2096d2a0",
   "metadata": {
    "execution": {
     "iopub.execute_input": "2021-10-17T14:16:34.730031Z",
     "iopub.status.busy": "2021-10-17T14:16:34.729399Z",
     "iopub.status.idle": "2021-10-17T14:16:38.377932Z",
     "shell.execute_reply": "2021-10-17T14:16:38.377385Z",
     "shell.execute_reply.started": "2021-10-17T14:09:44.766206Z"
    },
    "papermill": {
     "duration": 3.666617,
     "end_time": "2021-10-17T14:16:38.378081",
     "exception": false,
     "start_time": "2021-10-17T14:16:34.711464",
     "status": "completed"
    },
    "tags": []
   },
   "outputs": [
    {
     "data": {
      "application/vnd.plotly.v1+json": {
       "config": {
        "plotlyServerURL": "https://plot.ly"
       },
       "data": [
        {
         "alignmentgroup": "True",
         "hovertemplate": "x=%{x}<br>y=%{y}<extra></extra>",
         "legendgroup": "",
         "marker": {
          "color": "#636efa",
          "pattern": {
           "shape": ""
          }
         },
         "name": "",
         "offsetgroup": "",
         "orientation": "h",
         "showlegend": false,
         "textposition": "auto",
         "type": "bar",
         "x": [
          0.15246835225082123,
          0.14840761975761474,
          0.14617458227207436,
          0.14547041878669553,
          0.14532075124490973,
          0.14463806542846847,
          0.14426140620833205,
          0.14405390946765984,
          0.1435562412083069,
          0.14319761813683662,
          0.14293119967151924,
          0.1428392051394365,
          0.14181276007632349,
          0.1415559663113637,
          0.141220561001143,
          0.14116233530338285,
          0.14110771815233036,
          0.14070570292468076,
          0.13910148895088525,
          0.13855344408420933
         ],
         "xaxis": "x",
         "y": [
          "PC1",
          "new_f1",
          "poly79",
          "cluster3",
          "cluster1",
          "cluster4",
          "poly9",
          "new_f3",
          "cluster5",
          "poly66",
          "cluster2",
          "new_f4",
          "poly81",
          "cluster6",
          "poly80",
          "poly32",
          "poly42",
          "new_f2",
          "poly72",
          "poly51"
         ],
         "yaxis": "y"
        }
       ],
       "layout": {
        "barmode": "relative",
        "colorway": [
         "blue"
        ],
        "legend": {
         "tracegroupgap": 0
        },
        "margin": {
         "t": 60
        },
        "template": {
         "data": {
          "bar": [
           {
            "error_x": {
             "color": "#2a3f5f"
            },
            "error_y": {
             "color": "#2a3f5f"
            },
            "marker": {
             "line": {
              "color": "#E5ECF6",
              "width": 0.5
             },
             "pattern": {
              "fillmode": "overlay",
              "size": 10,
              "solidity": 0.2
             }
            },
            "type": "bar"
           }
          ],
          "barpolar": [
           {
            "marker": {
             "line": {
              "color": "#E5ECF6",
              "width": 0.5
             },
             "pattern": {
              "fillmode": "overlay",
              "size": 10,
              "solidity": 0.2
             }
            },
            "type": "barpolar"
           }
          ],
          "carpet": [
           {
            "aaxis": {
             "endlinecolor": "#2a3f5f",
             "gridcolor": "white",
             "linecolor": "white",
             "minorgridcolor": "white",
             "startlinecolor": "#2a3f5f"
            },
            "baxis": {
             "endlinecolor": "#2a3f5f",
             "gridcolor": "white",
             "linecolor": "white",
             "minorgridcolor": "white",
             "startlinecolor": "#2a3f5f"
            },
            "type": "carpet"
           }
          ],
          "choropleth": [
           {
            "colorbar": {
             "outlinewidth": 0,
             "ticks": ""
            },
            "type": "choropleth"
           }
          ],
          "contour": [
           {
            "colorbar": {
             "outlinewidth": 0,
             "ticks": ""
            },
            "colorscale": [
             [
              0,
              "#0d0887"
             ],
             [
              0.1111111111111111,
              "#46039f"
             ],
             [
              0.2222222222222222,
              "#7201a8"
             ],
             [
              0.3333333333333333,
              "#9c179e"
             ],
             [
              0.4444444444444444,
              "#bd3786"
             ],
             [
              0.5555555555555556,
              "#d8576b"
             ],
             [
              0.6666666666666666,
              "#ed7953"
             ],
             [
              0.7777777777777778,
              "#fb9f3a"
             ],
             [
              0.8888888888888888,
              "#fdca26"
             ],
             [
              1,
              "#f0f921"
             ]
            ],
            "type": "contour"
           }
          ],
          "contourcarpet": [
           {
            "colorbar": {
             "outlinewidth": 0,
             "ticks": ""
            },
            "type": "contourcarpet"
           }
          ],
          "heatmap": [
           {
            "colorbar": {
             "outlinewidth": 0,
             "ticks": ""
            },
            "colorscale": [
             [
              0,
              "#0d0887"
             ],
             [
              0.1111111111111111,
              "#46039f"
             ],
             [
              0.2222222222222222,
              "#7201a8"
             ],
             [
              0.3333333333333333,
              "#9c179e"
             ],
             [
              0.4444444444444444,
              "#bd3786"
             ],
             [
              0.5555555555555556,
              "#d8576b"
             ],
             [
              0.6666666666666666,
              "#ed7953"
             ],
             [
              0.7777777777777778,
              "#fb9f3a"
             ],
             [
              0.8888888888888888,
              "#fdca26"
             ],
             [
              1,
              "#f0f921"
             ]
            ],
            "type": "heatmap"
           }
          ],
          "heatmapgl": [
           {
            "colorbar": {
             "outlinewidth": 0,
             "ticks": ""
            },
            "colorscale": [
             [
              0,
              "#0d0887"
             ],
             [
              0.1111111111111111,
              "#46039f"
             ],
             [
              0.2222222222222222,
              "#7201a8"
             ],
             [
              0.3333333333333333,
              "#9c179e"
             ],
             [
              0.4444444444444444,
              "#bd3786"
             ],
             [
              0.5555555555555556,
              "#d8576b"
             ],
             [
              0.6666666666666666,
              "#ed7953"
             ],
             [
              0.7777777777777778,
              "#fb9f3a"
             ],
             [
              0.8888888888888888,
              "#fdca26"
             ],
             [
              1,
              "#f0f921"
             ]
            ],
            "type": "heatmapgl"
           }
          ],
          "histogram": [
           {
            "marker": {
             "pattern": {
              "fillmode": "overlay",
              "size": 10,
              "solidity": 0.2
             }
            },
            "type": "histogram"
           }
          ],
          "histogram2d": [
           {
            "colorbar": {
             "outlinewidth": 0,
             "ticks": ""
            },
            "colorscale": [
             [
              0,
              "#0d0887"
             ],
             [
              0.1111111111111111,
              "#46039f"
             ],
             [
              0.2222222222222222,
              "#7201a8"
             ],
             [
              0.3333333333333333,
              "#9c179e"
             ],
             [
              0.4444444444444444,
              "#bd3786"
             ],
             [
              0.5555555555555556,
              "#d8576b"
             ],
             [
              0.6666666666666666,
              "#ed7953"
             ],
             [
              0.7777777777777778,
              "#fb9f3a"
             ],
             [
              0.8888888888888888,
              "#fdca26"
             ],
             [
              1,
              "#f0f921"
             ]
            ],
            "type": "histogram2d"
           }
          ],
          "histogram2dcontour": [
           {
            "colorbar": {
             "outlinewidth": 0,
             "ticks": ""
            },
            "colorscale": [
             [
              0,
              "#0d0887"
             ],
             [
              0.1111111111111111,
              "#46039f"
             ],
             [
              0.2222222222222222,
              "#7201a8"
             ],
             [
              0.3333333333333333,
              "#9c179e"
             ],
             [
              0.4444444444444444,
              "#bd3786"
             ],
             [
              0.5555555555555556,
              "#d8576b"
             ],
             [
              0.6666666666666666,
              "#ed7953"
             ],
             [
              0.7777777777777778,
              "#fb9f3a"
             ],
             [
              0.8888888888888888,
              "#fdca26"
             ],
             [
              1,
              "#f0f921"
             ]
            ],
            "type": "histogram2dcontour"
           }
          ],
          "mesh3d": [
           {
            "colorbar": {
             "outlinewidth": 0,
             "ticks": ""
            },
            "type": "mesh3d"
           }
          ],
          "parcoords": [
           {
            "line": {
             "colorbar": {
              "outlinewidth": 0,
              "ticks": ""
             }
            },
            "type": "parcoords"
           }
          ],
          "pie": [
           {
            "automargin": true,
            "type": "pie"
           }
          ],
          "scatter": [
           {
            "marker": {
             "colorbar": {
              "outlinewidth": 0,
              "ticks": ""
             }
            },
            "type": "scatter"
           }
          ],
          "scatter3d": [
           {
            "line": {
             "colorbar": {
              "outlinewidth": 0,
              "ticks": ""
             }
            },
            "marker": {
             "colorbar": {
              "outlinewidth": 0,
              "ticks": ""
             }
            },
            "type": "scatter3d"
           }
          ],
          "scattercarpet": [
           {
            "marker": {
             "colorbar": {
              "outlinewidth": 0,
              "ticks": ""
             }
            },
            "type": "scattercarpet"
           }
          ],
          "scattergeo": [
           {
            "marker": {
             "colorbar": {
              "outlinewidth": 0,
              "ticks": ""
             }
            },
            "type": "scattergeo"
           }
          ],
          "scattergl": [
           {
            "marker": {
             "colorbar": {
              "outlinewidth": 0,
              "ticks": ""
             }
            },
            "type": "scattergl"
           }
          ],
          "scattermapbox": [
           {
            "marker": {
             "colorbar": {
              "outlinewidth": 0,
              "ticks": ""
             }
            },
            "type": "scattermapbox"
           }
          ],
          "scatterpolar": [
           {
            "marker": {
             "colorbar": {
              "outlinewidth": 0,
              "ticks": ""
             }
            },
            "type": "scatterpolar"
           }
          ],
          "scatterpolargl": [
           {
            "marker": {
             "colorbar": {
              "outlinewidth": 0,
              "ticks": ""
             }
            },
            "type": "scatterpolargl"
           }
          ],
          "scatterternary": [
           {
            "marker": {
             "colorbar": {
              "outlinewidth": 0,
              "ticks": ""
             }
            },
            "type": "scatterternary"
           }
          ],
          "surface": [
           {
            "colorbar": {
             "outlinewidth": 0,
             "ticks": ""
            },
            "colorscale": [
             [
              0,
              "#0d0887"
             ],
             [
              0.1111111111111111,
              "#46039f"
             ],
             [
              0.2222222222222222,
              "#7201a8"
             ],
             [
              0.3333333333333333,
              "#9c179e"
             ],
             [
              0.4444444444444444,
              "#bd3786"
             ],
             [
              0.5555555555555556,
              "#d8576b"
             ],
             [
              0.6666666666666666,
              "#ed7953"
             ],
             [
              0.7777777777777778,
              "#fb9f3a"
             ],
             [
              0.8888888888888888,
              "#fdca26"
             ],
             [
              1,
              "#f0f921"
             ]
            ],
            "type": "surface"
           }
          ],
          "table": [
           {
            "cells": {
             "fill": {
              "color": "#EBF0F8"
             },
             "line": {
              "color": "white"
             }
            },
            "header": {
             "fill": {
              "color": "#C8D4E3"
             },
             "line": {
              "color": "white"
             }
            },
            "type": "table"
           }
          ]
         },
         "layout": {
          "annotationdefaults": {
           "arrowcolor": "#2a3f5f",
           "arrowhead": 0,
           "arrowwidth": 1
          },
          "autotypenumbers": "strict",
          "coloraxis": {
           "colorbar": {
            "outlinewidth": 0,
            "ticks": ""
           }
          },
          "colorscale": {
           "diverging": [
            [
             0,
             "#8e0152"
            ],
            [
             0.1,
             "#c51b7d"
            ],
            [
             0.2,
             "#de77ae"
            ],
            [
             0.3,
             "#f1b6da"
            ],
            [
             0.4,
             "#fde0ef"
            ],
            [
             0.5,
             "#f7f7f7"
            ],
            [
             0.6,
             "#e6f5d0"
            ],
            [
             0.7,
             "#b8e186"
            ],
            [
             0.8,
             "#7fbc41"
            ],
            [
             0.9,
             "#4d9221"
            ],
            [
             1,
             "#276419"
            ]
           ],
           "sequential": [
            [
             0,
             "#0d0887"
            ],
            [
             0.1111111111111111,
             "#46039f"
            ],
            [
             0.2222222222222222,
             "#7201a8"
            ],
            [
             0.3333333333333333,
             "#9c179e"
            ],
            [
             0.4444444444444444,
             "#bd3786"
            ],
            [
             0.5555555555555556,
             "#d8576b"
            ],
            [
             0.6666666666666666,
             "#ed7953"
            ],
            [
             0.7777777777777778,
             "#fb9f3a"
            ],
            [
             0.8888888888888888,
             "#fdca26"
            ],
            [
             1,
             "#f0f921"
            ]
           ],
           "sequentialminus": [
            [
             0,
             "#0d0887"
            ],
            [
             0.1111111111111111,
             "#46039f"
            ],
            [
             0.2222222222222222,
             "#7201a8"
            ],
            [
             0.3333333333333333,
             "#9c179e"
            ],
            [
             0.4444444444444444,
             "#bd3786"
            ],
            [
             0.5555555555555556,
             "#d8576b"
            ],
            [
             0.6666666666666666,
             "#ed7953"
            ],
            [
             0.7777777777777778,
             "#fb9f3a"
            ],
            [
             0.8888888888888888,
             "#fdca26"
            ],
            [
             1,
             "#f0f921"
            ]
           ]
          },
          "colorway": [
           "#636efa",
           "#EF553B",
           "#00cc96",
           "#ab63fa",
           "#FFA15A",
           "#19d3f3",
           "#FF6692",
           "#B6E880",
           "#FF97FF",
           "#FECB52"
          ],
          "font": {
           "color": "#2a3f5f"
          },
          "geo": {
           "bgcolor": "white",
           "lakecolor": "white",
           "landcolor": "#E5ECF6",
           "showlakes": true,
           "showland": true,
           "subunitcolor": "white"
          },
          "hoverlabel": {
           "align": "left"
          },
          "hovermode": "closest",
          "mapbox": {
           "style": "light"
          },
          "paper_bgcolor": "white",
          "plot_bgcolor": "#E5ECF6",
          "polar": {
           "angularaxis": {
            "gridcolor": "white",
            "linecolor": "white",
            "ticks": ""
           },
           "bgcolor": "#E5ECF6",
           "radialaxis": {
            "gridcolor": "white",
            "linecolor": "white",
            "ticks": ""
           }
          },
          "scene": {
           "xaxis": {
            "backgroundcolor": "#E5ECF6",
            "gridcolor": "white",
            "gridwidth": 2,
            "linecolor": "white",
            "showbackground": true,
            "ticks": "",
            "zerolinecolor": "white"
           },
           "yaxis": {
            "backgroundcolor": "#E5ECF6",
            "gridcolor": "white",
            "gridwidth": 2,
            "linecolor": "white",
            "showbackground": true,
            "ticks": "",
            "zerolinecolor": "white"
           },
           "zaxis": {
            "backgroundcolor": "#E5ECF6",
            "gridcolor": "white",
            "gridwidth": 2,
            "linecolor": "white",
            "showbackground": true,
            "ticks": "",
            "zerolinecolor": "white"
           }
          },
          "shapedefaults": {
           "line": {
            "color": "#2a3f5f"
           }
          },
          "ternary": {
           "aaxis": {
            "gridcolor": "white",
            "linecolor": "white",
            "ticks": ""
           },
           "baxis": {
            "gridcolor": "white",
            "linecolor": "white",
            "ticks": ""
           },
           "bgcolor": "#E5ECF6",
           "caxis": {
            "gridcolor": "white",
            "linecolor": "white",
            "ticks": ""
           }
          },
          "title": {
           "x": 0.05
          },
          "xaxis": {
           "automargin": true,
           "gridcolor": "white",
           "linecolor": "white",
           "ticks": "",
           "title": {
            "standoff": 15
           },
           "zerolinecolor": "white",
           "zerolinewidth": 2
          },
          "yaxis": {
           "automargin": true,
           "gridcolor": "white",
           "linecolor": "white",
           "ticks": "",
           "title": {
            "standoff": 15
           },
           "zerolinecolor": "white",
           "zerolinewidth": 2
          }
         }
        },
        "title": {
         "text": "Top 20 Strong Relationships Between Feature Columns and Target Column"
        },
        "xaxis": {
         "anchor": "y",
         "domain": [
          0,
          1
         ],
         "title": {
          "text": "Relationship with Target"
         }
        },
        "yaxis": {
         "anchor": "x",
         "categoryorder": "total ascending",
         "domain": [
          0,
          1
         ],
         "title": {
          "text": "Feature Columns"
         }
        }
       }
      }
     },
     "metadata": {},
     "output_type": "display_data"
    }
   ],
   "source": [
    "import plotly.figure_factory as ff\n",
    "import plotly.express as px\n",
    "\n",
    "top = 20\n",
    "fig = px.bar(mi_scores, x=mi_scores.values[:top], y=mi_scores.index[:top])\n",
    "fig.update_layout(\n",
    "    title=f\"Top {top} Strong Relationships Between Feature Columns and Target Column\",\n",
    "    xaxis_title=\"Relationship with Target\",\n",
    "    yaxis_title=\"Feature Columns\",\n",
    "    yaxis={'categoryorder':'total ascending'},\n",
    "    colorway=[\"blue\"]\n",
    ")\n",
    "fig.show()"
   ]
  },
  {
   "cell_type": "code",
   "execution_count": 160,
   "metadata": {},
   "outputs": [
    {
     "name": "stderr",
     "output_type": "stream",
     "text": [
      "ic| len(feature_cols): 400\n"
     ]
    },
    {
     "data": {
      "text/plain": [
       "400"
      ]
     },
     "execution_count": 160,
     "metadata": {},
     "output_type": "execute_result"
    }
   ],
   "source": [
    "ic(len(feature_cols))"
   ]
  },
  {
   "cell_type": "markdown",
   "metadata": {},
   "source": [
    "# Baseline Score"
   ]
  },
  {
   "cell_type": "code",
   "execution_count": 161,
   "metadata": {},
   "outputs": [
    {
     "data": {
      "text/plain": [
       "'\\nfrom xgboost import XGBClassifier\\nfrom sklearn.model_selection import train_test_split\\nfrom sklearn.metrics import roc_auc_score\\n\\nX = train_df.drop([\"target\"], axis=1)\\ny = train_df[\"target\"]\\n\\nX_train, X_valid, y_train, y_valid = train_test_split(\\n    X, y, test_size=0.25, random_state=rnd_state, stratify=y\\n)\\n\\nparams = {\\n    \"eval_metric\": \"auc\",\\n    \"objective\": \"binary:logistic\",\\n    \"tree_method\": \"gpu_hist\",\\n    \"gpu_id\": 0,\\n    #\"n_jobs\": n_cpu,\\n    \"predictor\": \"gpu_predictor\",\\n    \"n_estimators\": 10000,\\n    \"learning_rate\": 0.01063045229441343,\\n    \"gamma\": 0.24652519525750877,\\n    \"max_depth\": 4,\\n    \"seed\": rnd_state,\\n    \"min_child_weight\": 366,\\n    \"subsample\": 0.6423040816299684,\\n    \"colsample_bytree\": 0.7751264493218339,\\n    \"colsample_bylevel\": 0.8675692743597421,\\n    \"use_label_encoder\": False,\\n    \"lambda\": 0,\\n    \"alpha\": 10,\\n}\\n\\nclf = XGBClassifier(**params)\\n_ = clf.fit(X_train, y_train)\\n\\ntrain_roc_auc_score = roc_auc_score(y_train, clf.predict_proba(X_train)[:, 1])\\nvalid_roc_auc_scoce = roc_auc_score(y_valid, clf.predict_proba(X_valid)[:, 1])\\n\\nprint(train_roc_auc_score) # 0.8617102921465771 (fs18, no_new_f), same with fs16, and 3 new_f\\nprint(valid_roc_auc_scoce) # 0.8558234199478256 (fs18, no_new_f), same with fs16, and 3 new_f\\n'"
      ]
     },
     "execution_count": 161,
     "metadata": {},
     "output_type": "execute_result"
    }
   ],
   "source": [
    "\"\"\"\n",
    "from xgboost import XGBClassifier\n",
    "from sklearn.model_selection import train_test_split\n",
    "from sklearn.metrics import roc_auc_score\n",
    "\n",
    "X = train_df.drop([\"target\"], axis=1)\n",
    "y = train_df[\"target\"]\n",
    "\n",
    "X_train, X_valid, y_train, y_valid = train_test_split(\n",
    "    X, y, test_size=0.25, random_state=rnd_state, stratify=y\n",
    ")\n",
    "\n",
    "params = {\n",
    "    \"eval_metric\": \"auc\",\n",
    "    \"objective\": \"binary:logistic\",\n",
    "    \"tree_method\": \"gpu_hist\",\n",
    "    \"gpu_id\": 0,\n",
    "    #\"n_jobs\": n_cpu,\n",
    "    \"predictor\": \"gpu_predictor\",\n",
    "    \"n_estimators\": 10000,\n",
    "    \"learning_rate\": 0.01063045229441343,\n",
    "    \"gamma\": 0.24652519525750877,\n",
    "    \"max_depth\": 4,\n",
    "    \"seed\": rnd_state,\n",
    "    \"min_child_weight\": 366,\n",
    "    \"subsample\": 0.6423040816299684,\n",
    "    \"colsample_bytree\": 0.7751264493218339,\n",
    "    \"colsample_bylevel\": 0.8675692743597421,\n",
    "    \"use_label_encoder\": False,\n",
    "    \"lambda\": 0,\n",
    "    \"alpha\": 10,\n",
    "}\n",
    "\n",
    "clf = XGBClassifier(**params)\n",
    "_ = clf.fit(X_train, y_train)\n",
    "\n",
    "train_roc_auc_score = roc_auc_score(y_train, clf.predict_proba(X_train)[:, 1])\n",
    "valid_roc_auc_scoce = roc_auc_score(y_valid, clf.predict_proba(X_valid)[:, 1])\n",
    "\n",
    "print(train_roc_auc_score) # 0.8617102921465771 (fs18, no_new_f), same with fs16, and 3 new_f\n",
    "print(valid_roc_auc_scoce) # 0.8558234199478256 (fs18, no_new_f), same with fs16, and 3 new_f\n",
    "\"\"\"\n"
   ]
  },
  {
   "cell_type": "markdown",
   "metadata": {},
   "source": [
    "# Creating Kfolds"
   ]
  },
  {
   "cell_type": "code",
   "execution_count": 162,
   "metadata": {},
   "outputs": [],
   "source": [
    "from sklearn.model_selection import StratifiedKFold\n",
    "\n",
    "folds = 5\n",
    "train[\"kfold\"] = -1\n",
    "kf = StratifiedKFold(n_splits=folds, shuffle=True, random_state=rnd_state)\n",
    "\n",
    "# Adding folds to dataset\n",
    "for fold, (train_indicies, valid_indicies) in enumerate(kf.split(train,train[\"target\"])):\n",
    "    train.loc[valid_indicies, \"kfold\"] = fold"
   ]
  },
  {
   "cell_type": "code",
   "execution_count": 163,
   "metadata": {},
   "outputs": [
    {
     "data": {
      "text/plain": [
       "3    200000\n",
       "2    200000\n",
       "4    200000\n",
       "0    200000\n",
       "1    200000\n",
       "Name: kfold, dtype: int64"
      ]
     },
     "execution_count": 163,
     "metadata": {},
     "output_type": "execute_result"
    }
   ],
   "source": [
    "train['kfold'].value_counts()"
   ]
  },
  {
   "cell_type": "code",
   "execution_count": 164,
   "metadata": {},
   "outputs": [
    {
     "name": "stdout",
     "output_type": "stream",
     "text": [
      "Fold 0 , train: 0.869864 , valid: 0.858313\n",
      "Fold 1 , train: 0.870426 , valid: 0.855454\n",
      "Fold 2 , train: 0.870075 , valid: 0.857209\n",
      "Fold 3 , train: 0.870507 , valid: 0.855764\n",
      "Fold 4 , train: 0.870189 , valid: 0.856540\n",
      "AVG AUC: 0.85665603151766\n"
     ]
    }
   ],
   "source": [
    "from xgboost import XGBClassifier\n",
    "from sklearn.metrics import roc_auc_score\n",
    "import time\n",
    "\n",
    "final_test_predictions = []\n",
    "scores = []\n",
    "\n",
    "for fold in range(folds):\n",
    "    x_train = train[train.kfold != fold].copy()\n",
    "    x_valid = train[train.kfold == fold].copy()\n",
    "    x_test = test[feature_cols].copy()\n",
    "\n",
    "    y_train = x_train[\"target\"]\n",
    "    y_valid = x_valid[\"target\"]\n",
    "\n",
    "    x_train = x_train[feature_cols]\n",
    "    x_valid = x_valid[feature_cols]\n",
    "\n",
    "    xgb_params = {\n",
    "        \"eval_metric\": \"auc\",\n",
    "        \"objective\": \"binary:logistic\",\n",
    "        \"tree_method\": \"gpu_hist\",\n",
    "        \"gpu_id\": 0,\n",
    "        #\"n_jobs\": n_cpu,\n",
    "        \"predictor\": \"gpu_predictor\",\n",
    "        \"n_estimators\": 10000,\n",
    "        \"learning_rate\": 0.01063045229441343,\n",
    "        \"gamma\": 0.24652519525750877,\n",
    "        \"max_depth\": 4,\n",
    "        \"seed\": rnd_state,\n",
    "        \"min_child_weight\": 366,\n",
    "        \"subsample\": 0.6423040816299684,\n",
    "        \"colsample_bytree\": 0.7751264493218339,\n",
    "        \"colsample_bylevel\": 0.8675692743597421,\n",
    "        \"use_label_encoder\": False,\n",
    "        \"lambda\": 0,\n",
    "        \"alpha\": 10,\n",
    "    }\n",
    "\n",
    "    model = XGBClassifier(**xgb_params)\n",
    "    model.fit(x_train, y_train, eval_set=[(x_valid, y_valid)], verbose=False)\n",
    "\n",
    "    preds_train = model.predict_proba(x_train)[:, 1]\n",
    "    preds_valid = model.predict_proba(x_valid)[:, 1]\n",
    "    auc_train = roc_auc_score(y_train, preds_train)\n",
    "    auc = roc_auc_score(y_valid, preds_valid)\n",
    "    print(\"Fold\", fold, \", train:\", f\"{auc_train:.6f}\", \", valid:\", f\"{auc:.6f}\")\n",
    "    scores.append(auc)\n",
    "\n",
    "    preds_test = model.predict_proba(x_test)[:, 1]\n",
    "    final_test_predictions.append(preds_test)\n",
    "\n",
    "\n",
    "print(\"AVG AUC:\", np.mean(scores))"
   ]
  },
  {
   "cell_type": "markdown",
   "metadata": {},
   "source": [
    "#  Submit results"
   ]
  },
  {
   "cell_type": "markdown",
   "metadata": {},
   "source": [
    "- 2021-10-20_submission_kmean-pca-fs17-xbg-nop.csv: 0.8569970265985022 | **0.85626**\n",
    "- 2021-10-20_submission_kmean-3pca-fs17-xbg-nop.csv: 0.8568950821125828 | 0.85619\n",
    "- 2021-10-20_submission_kmean-ALLpca-fs13-xbg-nop.csv: 0.8567778822323093 | not submitted\n",
    "- 2021-10-20_submission_13fs-kmean-2pca-4nf-xbg-nop.csv: 0.8568443738048714 | not submitted\n",
    "- 2021-10-20_submission_49fs-kmean-2pca-4nf-xbg-nop.csv: 0.8567888578426363 | 0.85599\n",
    "- 2021-10-20_submission_13fs-kmean-1pca-4nf-poly-xbg-nop.csv: 0.8568639280432698 | 0.85615"
   ]
  },
  {
   "cell_type": "code",
   "execution_count": 165,
   "metadata": {},
   "outputs": [
    {
     "name": "stdout",
     "output_type": "stream",
     "text": [
      "2021-10-20_submission_13fs-kmean-FULLpca-4nf-FULLpoly-xbg-nop.csv\n"
     ]
    }
   ],
   "source": [
    "import numpy as np\n",
    "from datetime import datetime\n",
    "\n",
    "# datetime object containing current date and time\n",
    "now = datetime.now()\n",
    "now = now.strftime(\"%Y-%m-%d\")\n",
    "\n",
    "objective = \"13fs-kmean-FULLpca-4nf-FULLpoly-xbg-nop\"\n",
    "\n",
    "curr_submission_fn = f\"{now}_submission_{objective}.csv\"\n",
    "\n",
    "sample_df['target'] = np.mean(np.column_stack(final_test_predictions), axis=1)\n",
    "#sample_df['target'] = round(sample_df['target'],0)\n",
    "sample_df.to_csv(PATH_SUB + curr_submission_fn, index=False)\n",
    "\n",
    "print(curr_submission_fn)\n"
   ]
  },
  {
   "cell_type": "code",
   "execution_count": 166,
   "metadata": {},
   "outputs": [],
   "source": [
    "#!kaggle competitions submit tabular-playground-series-oct-2021 -f {PATH_SUB+curr_submission_fn} -m {curr_submission_fn}"
   ]
  }
 ],
 "metadata": {
  "interpreter": {
   "hash": "10ed364d45814f4af10e5aa088ae4ff654add15d6190d9b5a11312a81b7ebe3d"
  },
  "kernelspec": {
   "display_name": "Python 3.9.7 64-bit ('venv': venv)",
   "name": "python3"
  },
  "language_info": {
   "codemirror_mode": {
    "name": "ipython",
    "version": 3
   },
   "file_extension": ".py",
   "mimetype": "text/x-python",
   "name": "python",
   "nbconvert_exporter": "python",
   "pygments_lexer": "ipython3",
   "version": "3.9.7"
  },
  "papermill": {
   "default_parameters": {},
   "duration": 360.477415,
   "end_time": "2021-10-17T14:16:39.439751",
   "environment_variables": {},
   "exception": null,
   "input_path": "__notebook__.ipynb",
   "output_path": "__notebook__.ipynb",
   "parameters": {},
   "start_time": "2021-10-17T14:10:38.962336",
   "version": "2.3.3"
  }
 },
 "nbformat": 4,
 "nbformat_minor": 5
}
