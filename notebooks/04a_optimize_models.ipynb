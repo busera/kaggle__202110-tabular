{
 "cells": [
  {
   "cell_type": "code",
   "execution_count": 1,
   "id": "7e6e82a2",
   "metadata": {
    "_cell_guid": "b1076dfc-b9ad-4769-8c92-a6c4dae69d19",
    "_uuid": "8f2839f25d086af736a60e9eeb907d3b93b6e0e5",
    "execution": {
     "iopub.execute_input": "2021-10-17T14:10:49.100187Z",
     "iopub.status.busy": "2021-10-17T14:10:49.099085Z",
     "iopub.status.idle": "2021-10-17T14:10:50.363556Z",
     "shell.execute_reply": "2021-10-17T14:10:50.362751Z",
     "shell.execute_reply.started": "2021-10-17T14:02:39.499327Z"
    },
    "papermill": {
     "duration": 1.296891,
     "end_time": "2021-10-17T14:10:50.363730",
     "exception": false,
     "start_time": "2021-10-17T14:10:49.066839",
     "status": "completed"
    },
    "tags": []
   },
   "outputs": [],
   "source": [
    "# The rest of the modules are loaded when required.\n",
    "# To ensure a standalone character (for easier reusability).\n",
    "\n",
    "import os # for detecting CPU cores\n",
    "import configparser # to load standard config and parameters\n",
    "import pandas as pd\n",
    "import numpy as np\n",
    "import warnings\n",
    "\n",
    "# Visualization\n",
    "import matplotlib.pyplot as plt\n",
    "import seaborn as sns\n",
    "import plotly.figure_factory as ff\n",
    "import plotly.express as px\n",
    "\n",
    "# Debugging\n",
    "from icecream import ic\n",
    "\n",
    "warnings.filterwarnings('ignore')\n",
    "%load_ext watermark\n",
    "%matplotlib inline"
   ]
  },
  {
   "cell_type": "code",
   "execution_count": 2,
   "metadata": {},
   "outputs": [
    {
     "name": "stdout",
     "output_type": "stream",
     "text": [
      "Number of CPUs used: 16\n"
     ]
    }
   ],
   "source": [
    "import os\n",
    "import configparser\n",
    "\n",
    "# Load external config file\n",
    "config = configparser.ConfigParser()\n",
    "config.read(\"../resources/config.ini\")\n",
    "\n",
    "PATH_DATA_RAW = config[\"PATHS\"][\"PATH_DATA_RAW\"]\n",
    "PATH_DATA_INT = config[\"PATHS\"][\"PATH_DATA_INT\"]\n",
    "PATH_DATA_PRO = config[\"PATHS\"][\"PATH_DATA_PRO\"]\n",
    "PATH_REPORTS = config[\"PATHS\"][\"PATH_REPORTS\"]\n",
    "PATH_MODELS = config[\"PATHS\"][\"PATH_MODELS\"]\n",
    "PATH_SUB = config[\"PATHS\"][\"PATH_SUB\"]\n",
    "\n",
    "# Telegram Bot\n",
    "token = config[\"TELEGRAM\"][\"token\"]\n",
    "chat_id = config[\"TELEGRAM\"][\"chat_id\"]\n",
    "FILENAME_NB = \"02_baseline_models\" # for Telegram messages\n",
    "\n",
    "# Set global randome state\n",
    "rnd_state = 42\n",
    "\n",
    "# Define available cpu cores\n",
    "n_cpu = os.cpu_count()\n",
    "print(\"Number of CPUs used:\", n_cpu)"
   ]
  },
  {
   "cell_type": "code",
   "execution_count": 3,
   "metadata": {},
   "outputs": [],
   "source": [
    "train_df = pd.read_csv(PATH_DATA_RAW+'train.csv',index_col=0)\n",
    "test_df = pd.read_csv(PATH_DATA_RAW+'test.csv',index_col=0)\n",
    "sample_df = pd.read_csv(PATH_DATA_RAW+'sample_submission.csv')"
   ]
  },
  {
   "cell_type": "code",
   "execution_count": 4,
   "metadata": {},
   "outputs": [
    {
     "data": {
      "text/html": [
       "<div>\n",
       "<style scoped>\n",
       "    .dataframe tbody tr th:only-of-type {\n",
       "        vertical-align: middle;\n",
       "    }\n",
       "\n",
       "    .dataframe tbody tr th {\n",
       "        vertical-align: top;\n",
       "    }\n",
       "\n",
       "    .dataframe thead th {\n",
       "        text-align: right;\n",
       "    }\n",
       "</style>\n",
       "<table border=\"1\" class=\"dataframe\">\n",
       "  <thead>\n",
       "    <tr style=\"text-align: right;\">\n",
       "      <th></th>\n",
       "      <th>f0</th>\n",
       "      <th>f1</th>\n",
       "      <th>f2</th>\n",
       "      <th>f3</th>\n",
       "      <th>f4</th>\n",
       "      <th>f5</th>\n",
       "      <th>f6</th>\n",
       "      <th>f7</th>\n",
       "      <th>f8</th>\n",
       "      <th>f9</th>\n",
       "      <th>...</th>\n",
       "      <th>f276</th>\n",
       "      <th>f277</th>\n",
       "      <th>f278</th>\n",
       "      <th>f279</th>\n",
       "      <th>f280</th>\n",
       "      <th>f281</th>\n",
       "      <th>f282</th>\n",
       "      <th>f283</th>\n",
       "      <th>f284</th>\n",
       "      <th>target</th>\n",
       "    </tr>\n",
       "    <tr>\n",
       "      <th>id</th>\n",
       "      <th></th>\n",
       "      <th></th>\n",
       "      <th></th>\n",
       "      <th></th>\n",
       "      <th></th>\n",
       "      <th></th>\n",
       "      <th></th>\n",
       "      <th></th>\n",
       "      <th></th>\n",
       "      <th></th>\n",
       "      <th></th>\n",
       "      <th></th>\n",
       "      <th></th>\n",
       "      <th></th>\n",
       "      <th></th>\n",
       "      <th></th>\n",
       "      <th></th>\n",
       "      <th></th>\n",
       "      <th></th>\n",
       "      <th></th>\n",
       "      <th></th>\n",
       "    </tr>\n",
       "  </thead>\n",
       "  <tbody>\n",
       "    <tr>\n",
       "      <th>0</th>\n",
       "      <td>0.205979</td>\n",
       "      <td>0.410993</td>\n",
       "      <td>0.176775</td>\n",
       "      <td>0.223581</td>\n",
       "      <td>0.423543</td>\n",
       "      <td>0.476140</td>\n",
       "      <td>0.413590</td>\n",
       "      <td>0.612021</td>\n",
       "      <td>0.534873</td>\n",
       "      <td>0.147295</td>\n",
       "      <td>...</td>\n",
       "      <td>0</td>\n",
       "      <td>1</td>\n",
       "      <td>0</td>\n",
       "      <td>0</td>\n",
       "      <td>0</td>\n",
       "      <td>0</td>\n",
       "      <td>0</td>\n",
       "      <td>0</td>\n",
       "      <td>0</td>\n",
       "      <td>1</td>\n",
       "    </tr>\n",
       "    <tr>\n",
       "      <th>1</th>\n",
       "      <td>0.181004</td>\n",
       "      <td>0.473119</td>\n",
       "      <td>0.011734</td>\n",
       "      <td>0.213657</td>\n",
       "      <td>0.619678</td>\n",
       "      <td>0.441593</td>\n",
       "      <td>0.230407</td>\n",
       "      <td>0.686013</td>\n",
       "      <td>0.281971</td>\n",
       "      <td>0.238509</td>\n",
       "      <td>...</td>\n",
       "      <td>0</td>\n",
       "      <td>1</td>\n",
       "      <td>0</td>\n",
       "      <td>0</td>\n",
       "      <td>0</td>\n",
       "      <td>0</td>\n",
       "      <td>0</td>\n",
       "      <td>0</td>\n",
       "      <td>0</td>\n",
       "      <td>1</td>\n",
       "    </tr>\n",
       "    <tr>\n",
       "      <th>2</th>\n",
       "      <td>0.182583</td>\n",
       "      <td>0.307431</td>\n",
       "      <td>0.325950</td>\n",
       "      <td>0.207116</td>\n",
       "      <td>0.605699</td>\n",
       "      <td>0.309695</td>\n",
       "      <td>0.493337</td>\n",
       "      <td>0.751107</td>\n",
       "      <td>0.536272</td>\n",
       "      <td>0.286813</td>\n",
       "      <td>...</td>\n",
       "      <td>0</td>\n",
       "      <td>0</td>\n",
       "      <td>0</td>\n",
       "      <td>1</td>\n",
       "      <td>1</td>\n",
       "      <td>0</td>\n",
       "      <td>0</td>\n",
       "      <td>0</td>\n",
       "      <td>0</td>\n",
       "      <td>1</td>\n",
       "    </tr>\n",
       "    <tr>\n",
       "      <th>3</th>\n",
       "      <td>0.180240</td>\n",
       "      <td>0.494592</td>\n",
       "      <td>0.008367</td>\n",
       "      <td>0.223580</td>\n",
       "      <td>0.760618</td>\n",
       "      <td>0.439211</td>\n",
       "      <td>0.432055</td>\n",
       "      <td>0.776147</td>\n",
       "      <td>0.483958</td>\n",
       "      <td>0.260886</td>\n",
       "      <td>...</td>\n",
       "      <td>0</td>\n",
       "      <td>0</td>\n",
       "      <td>0</td>\n",
       "      <td>0</td>\n",
       "      <td>1</td>\n",
       "      <td>0</td>\n",
       "      <td>0</td>\n",
       "      <td>0</td>\n",
       "      <td>0</td>\n",
       "      <td>1</td>\n",
       "    </tr>\n",
       "    <tr>\n",
       "      <th>4</th>\n",
       "      <td>0.177172</td>\n",
       "      <td>0.495513</td>\n",
       "      <td>0.014263</td>\n",
       "      <td>0.548819</td>\n",
       "      <td>0.625396</td>\n",
       "      <td>0.562493</td>\n",
       "      <td>0.117158</td>\n",
       "      <td>0.561255</td>\n",
       "      <td>0.077115</td>\n",
       "      <td>0.158321</td>\n",
       "      <td>...</td>\n",
       "      <td>0</td>\n",
       "      <td>1</td>\n",
       "      <td>1</td>\n",
       "      <td>0</td>\n",
       "      <td>1</td>\n",
       "      <td>0</td>\n",
       "      <td>0</td>\n",
       "      <td>1</td>\n",
       "      <td>0</td>\n",
       "      <td>1</td>\n",
       "    </tr>\n",
       "  </tbody>\n",
       "</table>\n",
       "<p>5 rows × 286 columns</p>\n",
       "</div>"
      ],
      "text/plain": [
       "          f0        f1        f2        f3        f4        f5        f6  \\\n",
       "id                                                                         \n",
       "0   0.205979  0.410993  0.176775  0.223581  0.423543  0.476140  0.413590   \n",
       "1   0.181004  0.473119  0.011734  0.213657  0.619678  0.441593  0.230407   \n",
       "2   0.182583  0.307431  0.325950  0.207116  0.605699  0.309695  0.493337   \n",
       "3   0.180240  0.494592  0.008367  0.223580  0.760618  0.439211  0.432055   \n",
       "4   0.177172  0.495513  0.014263  0.548819  0.625396  0.562493  0.117158   \n",
       "\n",
       "          f7        f8        f9  ...  f276  f277  f278  f279  f280  f281  \\\n",
       "id                                ...                                       \n",
       "0   0.612021  0.534873  0.147295  ...     0     1     0     0     0     0   \n",
       "1   0.686013  0.281971  0.238509  ...     0     1     0     0     0     0   \n",
       "2   0.751107  0.536272  0.286813  ...     0     0     0     1     1     0   \n",
       "3   0.776147  0.483958  0.260886  ...     0     0     0     0     1     0   \n",
       "4   0.561255  0.077115  0.158321  ...     0     1     1     0     1     0   \n",
       "\n",
       "    f282  f283  f284  target  \n",
       "id                            \n",
       "0      0     0     0       1  \n",
       "1      0     0     0       1  \n",
       "2      0     0     0       1  \n",
       "3      0     0     0       1  \n",
       "4      0     1     0       1  \n",
       "\n",
       "[5 rows x 286 columns]"
      ]
     },
     "execution_count": 4,
     "metadata": {},
     "output_type": "execute_result"
    }
   ],
   "source": [
    "train_df.head()"
   ]
  },
  {
   "cell_type": "code",
   "execution_count": 5,
   "metadata": {},
   "outputs": [
    {
     "data": {
      "text/plain": [
       "2189.63623046875"
      ]
     },
     "execution_count": 5,
     "metadata": {},
     "output_type": "execute_result"
    }
   ],
   "source": [
    "memory_usage = train_df.memory_usage(deep=True) / 1024 ** 2\n",
    "start_mem = memory_usage.sum()\n",
    "start_mem"
   ]
  },
  {
   "cell_type": "code",
   "execution_count": 6,
   "id": "56f120a1",
   "metadata": {
    "execution": {
     "iopub.execute_input": "2021-10-17T14:12:29.537157Z",
     "iopub.status.busy": "2021-10-17T14:12:29.536402Z",
     "iopub.status.idle": "2021-10-17T14:14:15.272246Z",
     "shell.execute_reply": "2021-10-17T14:14:15.271300Z",
     "shell.execute_reply.started": "2021-10-17T14:03:51.505616Z"
    },
    "papermill": {
     "duration": 105.759009,
     "end_time": "2021-10-17T14:14:15.272456",
     "exception": false,
     "start_time": "2021-10-17T14:12:29.513447",
     "status": "completed"
    },
    "tags": []
   },
   "outputs": [
    {
     "name": "stderr",
     "output_type": "stream",
     "text": [
      "ic| len(feature_cols): 285\n",
      "ic| len(cnt_features): 240\n",
      "ic| len(cat_features): 45\n"
     ]
    }
   ],
   "source": [
    "feature_cols = train_df.drop(['target'], axis=1).columns.tolist()\n",
    "cnt_features = train_df.drop(['target'], axis=1).select_dtypes(exclude=['int64']).columns.tolist()\n",
    "cat_features = train_df.drop(['target'], axis=1).select_dtypes(exclude=['float64']).columns.tolist()\n",
    "\n",
    "ic(len(feature_cols))\n",
    "ic(len(cnt_features))\n",
    "ic(len(cat_features));"
   ]
  },
  {
   "cell_type": "code",
   "execution_count": 115,
   "metadata": {},
   "outputs": [
    {
     "name": "stderr",
     "output_type": "stream",
     "text": [
      "ic| len(useful_features): 50\n"
     ]
    }
   ],
   "source": [
    "useful_features = pd.read_csv(PATH_DATA_INT+'features_selected_6way_140.csv')['Feature'].head(13).tolist()\n",
    "ic(len(useful_features));"
   ]
  },
  {
   "cell_type": "code",
   "execution_count": 116,
   "metadata": {},
   "outputs": [],
   "source": [
    "train_df[cnt_features] = train_df[cnt_features].astype('float32')\n",
    "train_df[cat_features] = train_df[cat_features].astype('uint8')\n",
    "\n",
    "test_df[cnt_features] = test_df[cnt_features].astype('float32')\n",
    "test_df[cat_features] = test_df[cat_features].astype('uint8')"
   ]
  },
  {
   "cell_type": "code",
   "execution_count": 117,
   "metadata": {},
   "outputs": [
    {
     "data": {
      "text/plain": [
       "1005.9515151977539"
      ]
     },
     "execution_count": 117,
     "metadata": {},
     "output_type": "execute_result"
    }
   ],
   "source": [
    "memory_usage = train_df.memory_usage(deep=True) / 1024 ** 2\n",
    "end_mem = memory_usage.sum()\n",
    "end_mem"
   ]
  },
  {
   "cell_type": "code",
   "execution_count": 118,
   "id": "0488ea1f",
   "metadata": {
    "execution": {
     "iopub.execute_input": "2021-10-17T14:14:15.300157Z",
     "iopub.status.busy": "2021-10-17T14:14:15.299447Z",
     "iopub.status.idle": "2021-10-17T14:14:15.302612Z",
     "shell.execute_reply": "2021-10-17T14:14:15.303123Z",
     "shell.execute_reply.started": "2021-10-17T14:05:38.232603Z"
    },
    "papermill": {
     "duration": 0.019794,
     "end_time": "2021-10-17T14:14:15.303309",
     "exception": false,
     "start_time": "2021-10-17T14:14:15.283515",
     "status": "completed"
    },
    "tags": []
   },
   "outputs": [
    {
     "name": "stdout",
     "output_type": "stream",
     "text": [
      "Mem. usage decreased from 2189.64 MB to 1005.95 MB (54.06% reduction)\n"
     ]
    }
   ],
   "source": [
    "print(\"Mem. usage decreased from {:.2f} MB to {:.2f} MB ({:.2f}% reduction)\".format(start_mem, end_mem, 100 * (start_mem - end_mem) / start_mem))"
   ]
  },
  {
   "cell_type": "markdown",
   "metadata": {},
   "source": [
    "# Transform Continuous Data"
   ]
  },
  {
   "cell_type": "markdown",
   "metadata": {},
   "source": [
    "- TODO: Test power transformation after clustering"
   ]
  },
  {
   "cell_type": "code",
   "execution_count": 119,
   "metadata": {},
   "outputs": [
    {
     "data": {
      "text/plain": [
       "'\\nfrom sklearn.preprocessing import PowerTransformer\\n\\npower = PowerTransformer(method=\\'yeo-johnson\\', standardize=True)\\nX_pt = power.fit_transform(train_df[cnt_features])\\n\\ncolumns = train_df[cnt_features].columns\\nX_pt_df = pd.DataFrame(X_pt, columns=columns, index=train_df.index)\\nic(X_pt_df.shape)\\n\\ntrain_df = pd.concat([X_pt, train_df[cat_features], train_df[[\"target\"]]], axis=1)\\nic(train_df.shape);\\n'"
      ]
     },
     "execution_count": 119,
     "metadata": {},
     "output_type": "execute_result"
    }
   ],
   "source": [
    "\"\"\"\n",
    "from sklearn.preprocessing import PowerTransformer\n",
    "\n",
    "power = PowerTransformer(method='yeo-johnson', standardize=True)\n",
    "X_pt = power.fit_transform(train_df[cnt_features])\n",
    "\n",
    "columns = train_df[cnt_features].columns\n",
    "X_pt_df = pd.DataFrame(X_pt, columns=columns, index=train_df.index)\n",
    "ic(X_pt_df.shape)\n",
    "\n",
    "train_df = pd.concat([X_pt, train_df[cat_features], train_df[[\"target\"]]], axis=1)\n",
    "ic(train_df.shape);\n",
    "\"\"\""
   ]
  },
  {
   "cell_type": "markdown",
   "metadata": {},
   "source": [
    "# Feature Engineering"
   ]
  },
  {
   "cell_type": "markdown",
   "metadata": {},
   "source": [
    "## KMeans Clustering"
   ]
  },
  {
   "cell_type": "code",
   "execution_count": 120,
   "metadata": {},
   "outputs": [
    {
     "name": "stderr",
     "output_type": "stream",
     "text": [
      "ic| n_clusters_1: 10\n",
      "ic| cluster_cols: ['cluster1',\n",
      "                   'cluster2',\n",
      "                   'cluster3',\n",
      "                   'cluster4',\n",
      "                   'cluster5',\n",
      "                   'cluster6',\n",
      "                   'cluster7',\n",
      "                   'cluster8',\n",
      "                   'cluster9',\n",
      "                   'cluster10']\n"
     ]
    }
   ],
   "source": [
    "from sklearn.cluster import KMeans\n",
    "\n",
    "n_clusters_1 = 6\n",
    "cluster_cols = [f\"cluster{i+1}\" for i in range(n_clusters_1)]\n",
    "kmeans = KMeans(n_clusters=n_clusters_1, n_init=50, max_iter=500, random_state=rnd_state)\n",
    "\n",
    "ic(n_clusters_1)\n",
    "ic(cluster_cols);"
   ]
  },
  {
   "cell_type": "code",
   "execution_count": 121,
   "id": "c204f8bf",
   "metadata": {
    "execution": {
     "iopub.execute_input": "2021-10-17T14:14:15.336900Z",
     "iopub.status.busy": "2021-10-17T14:14:15.336109Z",
     "iopub.status.idle": "2021-10-17T14:15:10.593911Z",
     "shell.execute_reply": "2021-10-17T14:15:10.593190Z",
     "shell.execute_reply.started": "2021-10-17T14:05:38.239391Z"
    },
    "papermill": {
     "duration": 55.27928,
     "end_time": "2021-10-17T14:15:10.594081",
     "exception": false,
     "start_time": "2021-10-17T14:14:15.314801",
     "status": "completed"
    },
    "tags": []
   },
   "outputs": [],
   "source": [
    "# cluster distance instead of cluster number\n",
    "\n",
    "# train\n",
    "X_cd = kmeans.fit_transform(train_df[useful_features])\n",
    "X_cd = pd.DataFrame(X_cd, columns=cluster_cols, index=train_df.index)\n",
    "train = train_df.join(X_cd)\n",
    "\n",
    "# test\n",
    "X_cd = kmeans.transform(test_df[useful_features])\n",
    "X_cd = pd.DataFrame(X_cd, columns=cluster_cols, index=test_df.index)\n",
    "test = test_df.join(X_cd)"
   ]
  },
  {
   "cell_type": "code",
   "execution_count": 122,
   "metadata": {},
   "outputs": [
    {
     "data": {
      "text/html": [
       "<div>\n",
       "<style scoped>\n",
       "    .dataframe tbody tr th:only-of-type {\n",
       "        vertical-align: middle;\n",
       "    }\n",
       "\n",
       "    .dataframe tbody tr th {\n",
       "        vertical-align: top;\n",
       "    }\n",
       "\n",
       "    .dataframe thead th {\n",
       "        text-align: right;\n",
       "    }\n",
       "</style>\n",
       "<table border=\"1\" class=\"dataframe\">\n",
       "  <thead>\n",
       "    <tr style=\"text-align: right;\">\n",
       "      <th></th>\n",
       "      <th>f0</th>\n",
       "      <th>f1</th>\n",
       "      <th>f2</th>\n",
       "      <th>f3</th>\n",
       "      <th>f4</th>\n",
       "      <th>f5</th>\n",
       "      <th>f6</th>\n",
       "      <th>f7</th>\n",
       "      <th>f8</th>\n",
       "      <th>f9</th>\n",
       "      <th>...</th>\n",
       "      <th>cluster1</th>\n",
       "      <th>cluster2</th>\n",
       "      <th>cluster3</th>\n",
       "      <th>cluster4</th>\n",
       "      <th>cluster5</th>\n",
       "      <th>cluster6</th>\n",
       "      <th>cluster7</th>\n",
       "      <th>cluster8</th>\n",
       "      <th>cluster9</th>\n",
       "      <th>cluster10</th>\n",
       "    </tr>\n",
       "    <tr>\n",
       "      <th>id</th>\n",
       "      <th></th>\n",
       "      <th></th>\n",
       "      <th></th>\n",
       "      <th></th>\n",
       "      <th></th>\n",
       "      <th></th>\n",
       "      <th></th>\n",
       "      <th></th>\n",
       "      <th></th>\n",
       "      <th></th>\n",
       "      <th></th>\n",
       "      <th></th>\n",
       "      <th></th>\n",
       "      <th></th>\n",
       "      <th></th>\n",
       "      <th></th>\n",
       "      <th></th>\n",
       "      <th></th>\n",
       "      <th></th>\n",
       "      <th></th>\n",
       "      <th></th>\n",
       "    </tr>\n",
       "  </thead>\n",
       "  <tbody>\n",
       "    <tr>\n",
       "      <th>0</th>\n",
       "      <td>0.205979</td>\n",
       "      <td>0.410993</td>\n",
       "      <td>0.176775</td>\n",
       "      <td>0.223581</td>\n",
       "      <td>0.423543</td>\n",
       "      <td>0.476140</td>\n",
       "      <td>0.413590</td>\n",
       "      <td>0.612021</td>\n",
       "      <td>0.534873</td>\n",
       "      <td>0.147295</td>\n",
       "      <td>...</td>\n",
       "      <td>1.652053</td>\n",
       "      <td>1.175303</td>\n",
       "      <td>0.694005</td>\n",
       "      <td>1.248848</td>\n",
       "      <td>1.195834</td>\n",
       "      <td>1.536456</td>\n",
       "      <td>1.170066</td>\n",
       "      <td>1.589425</td>\n",
       "      <td>1.244636</td>\n",
       "      <td>1.322187</td>\n",
       "    </tr>\n",
       "    <tr>\n",
       "      <th>1</th>\n",
       "      <td>0.181004</td>\n",
       "      <td>0.473119</td>\n",
       "      <td>0.011734</td>\n",
       "      <td>0.213657</td>\n",
       "      <td>0.619678</td>\n",
       "      <td>0.441593</td>\n",
       "      <td>0.230407</td>\n",
       "      <td>0.686013</td>\n",
       "      <td>0.281971</td>\n",
       "      <td>0.238509</td>\n",
       "      <td>...</td>\n",
       "      <td>1.608058</td>\n",
       "      <td>1.245062</td>\n",
       "      <td>0.596556</td>\n",
       "      <td>1.157909</td>\n",
       "      <td>1.181327</td>\n",
       "      <td>1.596651</td>\n",
       "      <td>1.249077</td>\n",
       "      <td>1.530442</td>\n",
       "      <td>1.164910</td>\n",
       "      <td>1.259687</td>\n",
       "    </tr>\n",
       "    <tr>\n",
       "      <th>2</th>\n",
       "      <td>0.182583</td>\n",
       "      <td>0.307431</td>\n",
       "      <td>0.325950</td>\n",
       "      <td>0.207116</td>\n",
       "      <td>0.605699</td>\n",
       "      <td>0.309695</td>\n",
       "      <td>0.493337</td>\n",
       "      <td>0.751107</td>\n",
       "      <td>0.536272</td>\n",
       "      <td>0.286813</td>\n",
       "      <td>...</td>\n",
       "      <td>0.483898</td>\n",
       "      <td>1.276153</td>\n",
       "      <td>1.543081</td>\n",
       "      <td>1.202257</td>\n",
       "      <td>1.176569</td>\n",
       "      <td>0.791505</td>\n",
       "      <td>1.276879</td>\n",
       "      <td>0.668768</td>\n",
       "      <td>1.190399</td>\n",
       "      <td>1.110147</td>\n",
       "    </tr>\n",
       "    <tr>\n",
       "      <th>3</th>\n",
       "      <td>0.180240</td>\n",
       "      <td>0.494592</td>\n",
       "      <td>0.008367</td>\n",
       "      <td>0.223580</td>\n",
       "      <td>0.760618</td>\n",
       "      <td>0.439211</td>\n",
       "      <td>0.432055</td>\n",
       "      <td>0.776147</td>\n",
       "      <td>0.483958</td>\n",
       "      <td>0.260886</td>\n",
       "      <td>...</td>\n",
       "      <td>1.269966</td>\n",
       "      <td>0.754572</td>\n",
       "      <td>1.173282</td>\n",
       "      <td>0.600388</td>\n",
       "      <td>1.530689</td>\n",
       "      <td>1.251395</td>\n",
       "      <td>0.761569</td>\n",
       "      <td>1.166801</td>\n",
       "      <td>1.559918</td>\n",
       "      <td>0.783079</td>\n",
       "    </tr>\n",
       "    <tr>\n",
       "      <th>4</th>\n",
       "      <td>0.177172</td>\n",
       "      <td>0.495513</td>\n",
       "      <td>0.014263</td>\n",
       "      <td>0.548819</td>\n",
       "      <td>0.625396</td>\n",
       "      <td>0.562493</td>\n",
       "      <td>0.117158</td>\n",
       "      <td>0.561255</td>\n",
       "      <td>0.077115</td>\n",
       "      <td>0.158321</td>\n",
       "      <td>...</td>\n",
       "      <td>1.366215</td>\n",
       "      <td>1.682124</td>\n",
       "      <td>1.278935</td>\n",
       "      <td>1.619867</td>\n",
       "      <td>0.774782</td>\n",
       "      <td>1.351643</td>\n",
       "      <td>1.686304</td>\n",
       "      <td>1.275280</td>\n",
       "      <td>0.834744</td>\n",
       "      <td>1.693265</td>\n",
       "    </tr>\n",
       "  </tbody>\n",
       "</table>\n",
       "<p>5 rows × 296 columns</p>\n",
       "</div>"
      ],
      "text/plain": [
       "          f0        f1        f2        f3        f4        f5        f6  \\\n",
       "id                                                                         \n",
       "0   0.205979  0.410993  0.176775  0.223581  0.423543  0.476140  0.413590   \n",
       "1   0.181004  0.473119  0.011734  0.213657  0.619678  0.441593  0.230407   \n",
       "2   0.182583  0.307431  0.325950  0.207116  0.605699  0.309695  0.493337   \n",
       "3   0.180240  0.494592  0.008367  0.223580  0.760618  0.439211  0.432055   \n",
       "4   0.177172  0.495513  0.014263  0.548819  0.625396  0.562493  0.117158   \n",
       "\n",
       "          f7        f8        f9  ...  cluster1  cluster2  cluster3  cluster4  \\\n",
       "id                                ...                                           \n",
       "0   0.612021  0.534873  0.147295  ...  1.652053  1.175303  0.694005  1.248848   \n",
       "1   0.686013  0.281971  0.238509  ...  1.608058  1.245062  0.596556  1.157909   \n",
       "2   0.751107  0.536272  0.286813  ...  0.483898  1.276153  1.543081  1.202257   \n",
       "3   0.776147  0.483958  0.260886  ...  1.269966  0.754572  1.173282  0.600388   \n",
       "4   0.561255  0.077115  0.158321  ...  1.366215  1.682124  1.278935  1.619867   \n",
       "\n",
       "    cluster5  cluster6  cluster7  cluster8  cluster9  cluster10  \n",
       "id                                                               \n",
       "0   1.195834  1.536456  1.170066  1.589425  1.244636   1.322187  \n",
       "1   1.181327  1.596651  1.249077  1.530442  1.164910   1.259687  \n",
       "2   1.176569  0.791505  1.276879  0.668768  1.190399   1.110147  \n",
       "3   1.530689  1.251395  0.761569  1.166801  1.559918   0.783079  \n",
       "4   0.774782  1.351643  1.686304  1.275280  0.834744   1.693265  \n",
       "\n",
       "[5 rows x 296 columns]"
      ]
     },
     "execution_count": 122,
     "metadata": {},
     "output_type": "execute_result"
    }
   ],
   "source": [
    "feature_cols += cluster_cols\n",
    "train.head()"
   ]
  },
  {
   "cell_type": "code",
   "execution_count": 123,
   "metadata": {},
   "outputs": [
    {
     "name": "stderr",
     "output_type": "stream",
     "text": [
      "ic| len(feature_cols): 10\n"
     ]
    },
    {
     "data": {
      "text/plain": [
       "10"
      ]
     },
     "execution_count": 123,
     "metadata": {},
     "output_type": "execute_result"
    }
   ],
   "source": [
    "ic(len(feature_cols))\n",
    "#ic(feature_cols);"
   ]
  },
  {
   "cell_type": "code",
   "execution_count": 124,
   "id": "8b84523b",
   "metadata": {
    "execution": {
     "iopub.execute_input": "2021-10-17T14:15:10.630725Z",
     "iopub.status.busy": "2021-10-17T14:15:10.629915Z",
     "iopub.status.idle": "2021-10-17T14:15:53.671949Z",
     "shell.execute_reply": "2021-10-17T14:15:53.672502Z",
     "shell.execute_reply.started": "2021-10-17T14:06:29.782411Z"
    },
    "papermill": {
     "duration": 43.064334,
     "end_time": "2021-10-17T14:15:53.672686",
     "exception": false,
     "start_time": "2021-10-17T14:15:10.608352",
     "status": "completed"
    },
    "tags": []
   },
   "outputs": [
    {
     "data": {
      "text/plain": [
       "\"\\nsns.set_style('darkgrid')\\nfig = plt.figure(figsize = (10,5))\\nsns.kdeplot(data=train[cluster_cols])\\nplt.show()\\n\""
      ]
     },
     "execution_count": 124,
     "metadata": {},
     "output_type": "execute_result"
    }
   ],
   "source": [
    "\"\"\"\n",
    "sns.set_style('darkgrid')\n",
    "fig = plt.figure(figsize = (10,5))\n",
    "sns.kdeplot(data=train[cluster_cols])\n",
    "plt.show()\n",
    "\"\"\""
   ]
  },
  {
   "cell_type": "markdown",
   "metadata": {},
   "source": [
    "## Add New Features"
   ]
  },
  {
   "cell_type": "code",
   "execution_count": 125,
   "id": "c4320e47",
   "metadata": {
    "execution": {
     "iopub.execute_input": "2021-10-17T14:15:53.732516Z",
     "iopub.status.busy": "2021-10-17T14:15:53.731773Z",
     "iopub.status.idle": "2021-10-17T14:15:53.928994Z",
     "shell.execute_reply": "2021-10-17T14:15:53.929535Z",
     "shell.execute_reply.started": "2021-10-17T14:08:59.825855Z"
    },
    "papermill": {
     "duration": 0.21512,
     "end_time": "2021-10-17T14:15:53.929729",
     "exception": false,
     "start_time": "2021-10-17T14:15:53.714609",
     "status": "completed"
    },
    "tags": []
   },
   "outputs": [
    {
     "data": {
      "text/plain": [
       "'\\ndef add_feature(df):\\n    df[\"new_f1\"] = (df[\"cluster1\"])/(df[\"cluster3\"])\\n    df[\"new_f2\"] = (df[\"cluster5\"])/(df[\"cluster2\"])\\n    df[\"new_f3\"] = (df[\"cluster6\"])/(df[\"cluster4\"])\\n    return df\\n\\nnew_features = [\"new_f1\",\"new_f2\",\"new_f3\"]\\ntrain = add_feature(train)\\ntest = add_feature(test)\\n\\nfeature_cols += new_features\\n\\nic(len(feature_cols))\\n#ic(feature_cols);\\n'"
      ]
     },
     "execution_count": 125,
     "metadata": {},
     "output_type": "execute_result"
    }
   ],
   "source": [
    "\"\"\"\n",
    "def add_feature(df):\n",
    "    df[\"new_f1\"] = (df[\"cluster1\"])/(df[\"cluster3\"])\n",
    "    df[\"new_f2\"] = (df[\"cluster5\"])/(df[\"cluster2\"])\n",
    "    df[\"new_f3\"] = (df[\"cluster6\"])/(df[\"cluster4\"])\n",
    "    return df\n",
    "\n",
    "new_features = [\"new_f1\",\"new_f2\",\"new_f3\"]\n",
    "train = add_feature(train)\n",
    "test = add_feature(test)\n",
    "\n",
    "feature_cols += new_features\n",
    "\n",
    "ic(len(feature_cols))\n",
    "#ic(feature_cols);\n",
    "\"\"\"\n"
   ]
  },
  {
   "cell_type": "markdown",
   "metadata": {},
   "source": [
    "## Mutual Information"
   ]
  },
  {
   "cell_type": "code",
   "execution_count": 126,
   "id": "ebcb7161",
   "metadata": {
    "execution": {
     "iopub.execute_input": "2021-10-17T14:15:53.966372Z",
     "iopub.status.busy": "2021-10-17T14:15:53.965587Z",
     "iopub.status.idle": "2021-10-17T14:16:34.695532Z",
     "shell.execute_reply": "2021-10-17T14:16:34.696066Z",
     "shell.execute_reply.started": "2021-10-17T14:09:07.201281Z"
    },
    "papermill": {
     "duration": 40.751608,
     "end_time": "2021-10-17T14:16:34.696244",
     "exception": false,
     "start_time": "2021-10-17T14:15:53.944636",
     "status": "completed"
    },
    "tags": []
   },
   "outputs": [],
   "source": [
    "from sklearn.feature_selection import mutual_info_regression\n",
    "\n",
    "x = train.iloc[:5000,:][feature_cols].copy()\n",
    "y = train.iloc[:5000,:]['target'].copy()\n",
    "mi_scores = mutual_info_regression(x, y)\n",
    "mi_scores = pd.Series(mi_scores, name=\"MI Scores\", index=x.columns)\n",
    "mi_scores = mi_scores.sort_values(ascending=False)"
   ]
  },
  {
   "cell_type": "code",
   "execution_count": 127,
   "id": "2096d2a0",
   "metadata": {
    "execution": {
     "iopub.execute_input": "2021-10-17T14:16:34.730031Z",
     "iopub.status.busy": "2021-10-17T14:16:34.729399Z",
     "iopub.status.idle": "2021-10-17T14:16:38.377932Z",
     "shell.execute_reply": "2021-10-17T14:16:38.377385Z",
     "shell.execute_reply.started": "2021-10-17T14:09:44.766206Z"
    },
    "papermill": {
     "duration": 3.666617,
     "end_time": "2021-10-17T14:16:38.378081",
     "exception": false,
     "start_time": "2021-10-17T14:16:34.711464",
     "status": "completed"
    },
    "tags": []
   },
   "outputs": [
    {
     "data": {
      "application/vnd.plotly.v1+json": {
       "config": {
        "plotlyServerURL": "https://plot.ly"
       },
       "data": [
        {
         "alignmentgroup": "True",
         "hovertemplate": "x=%{x}<br>y=%{y}<extra></extra>",
         "legendgroup": "",
         "marker": {
          "color": "#636efa",
          "pattern": {
           "shape": ""
          }
         },
         "name": "",
         "offsetgroup": "",
         "orientation": "h",
         "showlegend": false,
         "textposition": "auto",
         "type": "bar",
         "x": [
          0.08767573398497586,
          0.08697685943987032,
          0.08349891672561327,
          0.08294873804317504,
          0.08134412586895756,
          0.07512194125144589,
          0.07314198354191248,
          0.0700218550398013,
          0.06463731810670126,
          0.06192729762006355
         ],
         "xaxis": "x",
         "y": [
          "cluster4",
          "cluster7",
          "cluster2",
          "cluster5",
          "cluster9",
          "cluster8",
          "cluster10",
          "cluster3",
          "cluster6",
          "cluster1"
         ],
         "yaxis": "y"
        }
       ],
       "layout": {
        "barmode": "relative",
        "colorway": [
         "blue"
        ],
        "legend": {
         "tracegroupgap": 0
        },
        "margin": {
         "t": 60
        },
        "template": {
         "data": {
          "bar": [
           {
            "error_x": {
             "color": "#2a3f5f"
            },
            "error_y": {
             "color": "#2a3f5f"
            },
            "marker": {
             "line": {
              "color": "#E5ECF6",
              "width": 0.5
             },
             "pattern": {
              "fillmode": "overlay",
              "size": 10,
              "solidity": 0.2
             }
            },
            "type": "bar"
           }
          ],
          "barpolar": [
           {
            "marker": {
             "line": {
              "color": "#E5ECF6",
              "width": 0.5
             },
             "pattern": {
              "fillmode": "overlay",
              "size": 10,
              "solidity": 0.2
             }
            },
            "type": "barpolar"
           }
          ],
          "carpet": [
           {
            "aaxis": {
             "endlinecolor": "#2a3f5f",
             "gridcolor": "white",
             "linecolor": "white",
             "minorgridcolor": "white",
             "startlinecolor": "#2a3f5f"
            },
            "baxis": {
             "endlinecolor": "#2a3f5f",
             "gridcolor": "white",
             "linecolor": "white",
             "minorgridcolor": "white",
             "startlinecolor": "#2a3f5f"
            },
            "type": "carpet"
           }
          ],
          "choropleth": [
           {
            "colorbar": {
             "outlinewidth": 0,
             "ticks": ""
            },
            "type": "choropleth"
           }
          ],
          "contour": [
           {
            "colorbar": {
             "outlinewidth": 0,
             "ticks": ""
            },
            "colorscale": [
             [
              0,
              "#0d0887"
             ],
             [
              0.1111111111111111,
              "#46039f"
             ],
             [
              0.2222222222222222,
              "#7201a8"
             ],
             [
              0.3333333333333333,
              "#9c179e"
             ],
             [
              0.4444444444444444,
              "#bd3786"
             ],
             [
              0.5555555555555556,
              "#d8576b"
             ],
             [
              0.6666666666666666,
              "#ed7953"
             ],
             [
              0.7777777777777778,
              "#fb9f3a"
             ],
             [
              0.8888888888888888,
              "#fdca26"
             ],
             [
              1,
              "#f0f921"
             ]
            ],
            "type": "contour"
           }
          ],
          "contourcarpet": [
           {
            "colorbar": {
             "outlinewidth": 0,
             "ticks": ""
            },
            "type": "contourcarpet"
           }
          ],
          "heatmap": [
           {
            "colorbar": {
             "outlinewidth": 0,
             "ticks": ""
            },
            "colorscale": [
             [
              0,
              "#0d0887"
             ],
             [
              0.1111111111111111,
              "#46039f"
             ],
             [
              0.2222222222222222,
              "#7201a8"
             ],
             [
              0.3333333333333333,
              "#9c179e"
             ],
             [
              0.4444444444444444,
              "#bd3786"
             ],
             [
              0.5555555555555556,
              "#d8576b"
             ],
             [
              0.6666666666666666,
              "#ed7953"
             ],
             [
              0.7777777777777778,
              "#fb9f3a"
             ],
             [
              0.8888888888888888,
              "#fdca26"
             ],
             [
              1,
              "#f0f921"
             ]
            ],
            "type": "heatmap"
           }
          ],
          "heatmapgl": [
           {
            "colorbar": {
             "outlinewidth": 0,
             "ticks": ""
            },
            "colorscale": [
             [
              0,
              "#0d0887"
             ],
             [
              0.1111111111111111,
              "#46039f"
             ],
             [
              0.2222222222222222,
              "#7201a8"
             ],
             [
              0.3333333333333333,
              "#9c179e"
             ],
             [
              0.4444444444444444,
              "#bd3786"
             ],
             [
              0.5555555555555556,
              "#d8576b"
             ],
             [
              0.6666666666666666,
              "#ed7953"
             ],
             [
              0.7777777777777778,
              "#fb9f3a"
             ],
             [
              0.8888888888888888,
              "#fdca26"
             ],
             [
              1,
              "#f0f921"
             ]
            ],
            "type": "heatmapgl"
           }
          ],
          "histogram": [
           {
            "marker": {
             "pattern": {
              "fillmode": "overlay",
              "size": 10,
              "solidity": 0.2
             }
            },
            "type": "histogram"
           }
          ],
          "histogram2d": [
           {
            "colorbar": {
             "outlinewidth": 0,
             "ticks": ""
            },
            "colorscale": [
             [
              0,
              "#0d0887"
             ],
             [
              0.1111111111111111,
              "#46039f"
             ],
             [
              0.2222222222222222,
              "#7201a8"
             ],
             [
              0.3333333333333333,
              "#9c179e"
             ],
             [
              0.4444444444444444,
              "#bd3786"
             ],
             [
              0.5555555555555556,
              "#d8576b"
             ],
             [
              0.6666666666666666,
              "#ed7953"
             ],
             [
              0.7777777777777778,
              "#fb9f3a"
             ],
             [
              0.8888888888888888,
              "#fdca26"
             ],
             [
              1,
              "#f0f921"
             ]
            ],
            "type": "histogram2d"
           }
          ],
          "histogram2dcontour": [
           {
            "colorbar": {
             "outlinewidth": 0,
             "ticks": ""
            },
            "colorscale": [
             [
              0,
              "#0d0887"
             ],
             [
              0.1111111111111111,
              "#46039f"
             ],
             [
              0.2222222222222222,
              "#7201a8"
             ],
             [
              0.3333333333333333,
              "#9c179e"
             ],
             [
              0.4444444444444444,
              "#bd3786"
             ],
             [
              0.5555555555555556,
              "#d8576b"
             ],
             [
              0.6666666666666666,
              "#ed7953"
             ],
             [
              0.7777777777777778,
              "#fb9f3a"
             ],
             [
              0.8888888888888888,
              "#fdca26"
             ],
             [
              1,
              "#f0f921"
             ]
            ],
            "type": "histogram2dcontour"
           }
          ],
          "mesh3d": [
           {
            "colorbar": {
             "outlinewidth": 0,
             "ticks": ""
            },
            "type": "mesh3d"
           }
          ],
          "parcoords": [
           {
            "line": {
             "colorbar": {
              "outlinewidth": 0,
              "ticks": ""
             }
            },
            "type": "parcoords"
           }
          ],
          "pie": [
           {
            "automargin": true,
            "type": "pie"
           }
          ],
          "scatter": [
           {
            "marker": {
             "colorbar": {
              "outlinewidth": 0,
              "ticks": ""
             }
            },
            "type": "scatter"
           }
          ],
          "scatter3d": [
           {
            "line": {
             "colorbar": {
              "outlinewidth": 0,
              "ticks": ""
             }
            },
            "marker": {
             "colorbar": {
              "outlinewidth": 0,
              "ticks": ""
             }
            },
            "type": "scatter3d"
           }
          ],
          "scattercarpet": [
           {
            "marker": {
             "colorbar": {
              "outlinewidth": 0,
              "ticks": ""
             }
            },
            "type": "scattercarpet"
           }
          ],
          "scattergeo": [
           {
            "marker": {
             "colorbar": {
              "outlinewidth": 0,
              "ticks": ""
             }
            },
            "type": "scattergeo"
           }
          ],
          "scattergl": [
           {
            "marker": {
             "colorbar": {
              "outlinewidth": 0,
              "ticks": ""
             }
            },
            "type": "scattergl"
           }
          ],
          "scattermapbox": [
           {
            "marker": {
             "colorbar": {
              "outlinewidth": 0,
              "ticks": ""
             }
            },
            "type": "scattermapbox"
           }
          ],
          "scatterpolar": [
           {
            "marker": {
             "colorbar": {
              "outlinewidth": 0,
              "ticks": ""
             }
            },
            "type": "scatterpolar"
           }
          ],
          "scatterpolargl": [
           {
            "marker": {
             "colorbar": {
              "outlinewidth": 0,
              "ticks": ""
             }
            },
            "type": "scatterpolargl"
           }
          ],
          "scatterternary": [
           {
            "marker": {
             "colorbar": {
              "outlinewidth": 0,
              "ticks": ""
             }
            },
            "type": "scatterternary"
           }
          ],
          "surface": [
           {
            "colorbar": {
             "outlinewidth": 0,
             "ticks": ""
            },
            "colorscale": [
             [
              0,
              "#0d0887"
             ],
             [
              0.1111111111111111,
              "#46039f"
             ],
             [
              0.2222222222222222,
              "#7201a8"
             ],
             [
              0.3333333333333333,
              "#9c179e"
             ],
             [
              0.4444444444444444,
              "#bd3786"
             ],
             [
              0.5555555555555556,
              "#d8576b"
             ],
             [
              0.6666666666666666,
              "#ed7953"
             ],
             [
              0.7777777777777778,
              "#fb9f3a"
             ],
             [
              0.8888888888888888,
              "#fdca26"
             ],
             [
              1,
              "#f0f921"
             ]
            ],
            "type": "surface"
           }
          ],
          "table": [
           {
            "cells": {
             "fill": {
              "color": "#EBF0F8"
             },
             "line": {
              "color": "white"
             }
            },
            "header": {
             "fill": {
              "color": "#C8D4E3"
             },
             "line": {
              "color": "white"
             }
            },
            "type": "table"
           }
          ]
         },
         "layout": {
          "annotationdefaults": {
           "arrowcolor": "#2a3f5f",
           "arrowhead": 0,
           "arrowwidth": 1
          },
          "autotypenumbers": "strict",
          "coloraxis": {
           "colorbar": {
            "outlinewidth": 0,
            "ticks": ""
           }
          },
          "colorscale": {
           "diverging": [
            [
             0,
             "#8e0152"
            ],
            [
             0.1,
             "#c51b7d"
            ],
            [
             0.2,
             "#de77ae"
            ],
            [
             0.3,
             "#f1b6da"
            ],
            [
             0.4,
             "#fde0ef"
            ],
            [
             0.5,
             "#f7f7f7"
            ],
            [
             0.6,
             "#e6f5d0"
            ],
            [
             0.7,
             "#b8e186"
            ],
            [
             0.8,
             "#7fbc41"
            ],
            [
             0.9,
             "#4d9221"
            ],
            [
             1,
             "#276419"
            ]
           ],
           "sequential": [
            [
             0,
             "#0d0887"
            ],
            [
             0.1111111111111111,
             "#46039f"
            ],
            [
             0.2222222222222222,
             "#7201a8"
            ],
            [
             0.3333333333333333,
             "#9c179e"
            ],
            [
             0.4444444444444444,
             "#bd3786"
            ],
            [
             0.5555555555555556,
             "#d8576b"
            ],
            [
             0.6666666666666666,
             "#ed7953"
            ],
            [
             0.7777777777777778,
             "#fb9f3a"
            ],
            [
             0.8888888888888888,
             "#fdca26"
            ],
            [
             1,
             "#f0f921"
            ]
           ],
           "sequentialminus": [
            [
             0,
             "#0d0887"
            ],
            [
             0.1111111111111111,
             "#46039f"
            ],
            [
             0.2222222222222222,
             "#7201a8"
            ],
            [
             0.3333333333333333,
             "#9c179e"
            ],
            [
             0.4444444444444444,
             "#bd3786"
            ],
            [
             0.5555555555555556,
             "#d8576b"
            ],
            [
             0.6666666666666666,
             "#ed7953"
            ],
            [
             0.7777777777777778,
             "#fb9f3a"
            ],
            [
             0.8888888888888888,
             "#fdca26"
            ],
            [
             1,
             "#f0f921"
            ]
           ]
          },
          "colorway": [
           "#636efa",
           "#EF553B",
           "#00cc96",
           "#ab63fa",
           "#FFA15A",
           "#19d3f3",
           "#FF6692",
           "#B6E880",
           "#FF97FF",
           "#FECB52"
          ],
          "font": {
           "color": "#2a3f5f"
          },
          "geo": {
           "bgcolor": "white",
           "lakecolor": "white",
           "landcolor": "#E5ECF6",
           "showlakes": true,
           "showland": true,
           "subunitcolor": "white"
          },
          "hoverlabel": {
           "align": "left"
          },
          "hovermode": "closest",
          "mapbox": {
           "style": "light"
          },
          "paper_bgcolor": "white",
          "plot_bgcolor": "#E5ECF6",
          "polar": {
           "angularaxis": {
            "gridcolor": "white",
            "linecolor": "white",
            "ticks": ""
           },
           "bgcolor": "#E5ECF6",
           "radialaxis": {
            "gridcolor": "white",
            "linecolor": "white",
            "ticks": ""
           }
          },
          "scene": {
           "xaxis": {
            "backgroundcolor": "#E5ECF6",
            "gridcolor": "white",
            "gridwidth": 2,
            "linecolor": "white",
            "showbackground": true,
            "ticks": "",
            "zerolinecolor": "white"
           },
           "yaxis": {
            "backgroundcolor": "#E5ECF6",
            "gridcolor": "white",
            "gridwidth": 2,
            "linecolor": "white",
            "showbackground": true,
            "ticks": "",
            "zerolinecolor": "white"
           },
           "zaxis": {
            "backgroundcolor": "#E5ECF6",
            "gridcolor": "white",
            "gridwidth": 2,
            "linecolor": "white",
            "showbackground": true,
            "ticks": "",
            "zerolinecolor": "white"
           }
          },
          "shapedefaults": {
           "line": {
            "color": "#2a3f5f"
           }
          },
          "ternary": {
           "aaxis": {
            "gridcolor": "white",
            "linecolor": "white",
            "ticks": ""
           },
           "baxis": {
            "gridcolor": "white",
            "linecolor": "white",
            "ticks": ""
           },
           "bgcolor": "#E5ECF6",
           "caxis": {
            "gridcolor": "white",
            "linecolor": "white",
            "ticks": ""
           }
          },
          "title": {
           "x": 0.05
          },
          "xaxis": {
           "automargin": true,
           "gridcolor": "white",
           "linecolor": "white",
           "ticks": "",
           "title": {
            "standoff": 15
           },
           "zerolinecolor": "white",
           "zerolinewidth": 2
          },
          "yaxis": {
           "automargin": true,
           "gridcolor": "white",
           "linecolor": "white",
           "ticks": "",
           "title": {
            "standoff": 15
           },
           "zerolinecolor": "white",
           "zerolinewidth": 2
          }
         }
        },
        "title": {
         "text": "Top 20 Strong Relationships Between Feature Columns and Target Column"
        },
        "xaxis": {
         "anchor": "y",
         "domain": [
          0,
          1
         ],
         "title": {
          "text": "Relationship with Target"
         }
        },
        "yaxis": {
         "anchor": "x",
         "categoryorder": "total ascending",
         "domain": [
          0,
          1
         ],
         "title": {
          "text": "Feature Columns"
         }
        }
       }
      }
     },
     "metadata": {},
     "output_type": "display_data"
    }
   ],
   "source": [
    "import plotly.figure_factory as ff\n",
    "import plotly.express as px\n",
    "\n",
    "top = 20\n",
    "fig = px.bar(mi_scores, x=mi_scores.values[:top], y=mi_scores.index[:top])\n",
    "fig.update_layout(\n",
    "    title=f\"Top {top} Strong Relationships Between Feature Columns and Target Column\",\n",
    "    xaxis_title=\"Relationship with Target\",\n",
    "    yaxis_title=\"Feature Columns\",\n",
    "    yaxis={'categoryorder':'total ascending'},\n",
    "    colorway=[\"blue\"]\n",
    ")\n",
    "fig.show()"
   ]
  },
  {
   "cell_type": "markdown",
   "metadata": {},
   "source": [
    "# Baseline Score"
   ]
  },
  {
   "cell_type": "code",
   "execution_count": 128,
   "metadata": {},
   "outputs": [
    {
     "name": "stderr",
     "output_type": "stream",
     "text": [
      "Custom logger is already specified. Specify more than one logger at same time is not thread safe."
     ]
    },
    {
     "ename": "KeyboardInterrupt",
     "evalue": "",
     "output_type": "error",
     "traceback": [
      "\u001b[1;31m---------------------------------------------------------------------------\u001b[0m",
      "\u001b[1;31mKeyboardInterrupt\u001b[0m                         Traceback (most recent call last)",
      "\u001b[1;32m~\\AppData\\Local\\Temp/ipykernel_20124/3463000789.py\u001b[0m in \u001b[0;36m<module>\u001b[1;34m\u001b[0m\n\u001b[0;32m     23\u001b[0m         \u001b[0mboosting_type\u001b[0m\u001b[1;33m=\u001b[0m\u001b[1;34m\"Plain\"\u001b[0m\u001b[1;33m,\u001b[0m\u001b[1;33m\u001b[0m\u001b[1;33m\u001b[0m\u001b[0m\n\u001b[0;32m     24\u001b[0m     )\n\u001b[1;32m---> 25\u001b[1;33m \u001b[0m_\u001b[0m \u001b[1;33m=\u001b[0m \u001b[0mclf\u001b[0m\u001b[1;33m.\u001b[0m\u001b[0mfit\u001b[0m\u001b[1;33m(\u001b[0m\u001b[0mX_train\u001b[0m\u001b[1;33m,\u001b[0m \u001b[0my_train\u001b[0m\u001b[1;33m)\u001b[0m\u001b[1;33m\u001b[0m\u001b[1;33m\u001b[0m\u001b[0m\n\u001b[0m\u001b[0;32m     26\u001b[0m \u001b[1;33m\u001b[0m\u001b[0m\n\u001b[0;32m     27\u001b[0m \u001b[0mtrain_roc_auc_score\u001b[0m \u001b[1;33m=\u001b[0m \u001b[0mroc_auc_score\u001b[0m\u001b[1;33m(\u001b[0m\u001b[0my_train\u001b[0m\u001b[1;33m,\u001b[0m \u001b[0mclf\u001b[0m\u001b[1;33m.\u001b[0m\u001b[0mpredict_proba\u001b[0m\u001b[1;33m(\u001b[0m\u001b[0mX_train\u001b[0m\u001b[1;33m)\u001b[0m\u001b[1;33m[\u001b[0m\u001b[1;33m:\u001b[0m\u001b[1;33m,\u001b[0m \u001b[1;36m1\u001b[0m\u001b[1;33m]\u001b[0m\u001b[1;33m)\u001b[0m\u001b[1;33m\u001b[0m\u001b[1;33m\u001b[0m\u001b[0m\n",
      "\u001b[1;32mc:\\Users\\buser\\01_Projects_local\\kaggle__202110-tabular_playground_competition\\venv\\lib\\site-packages\\catboost\\core.py\u001b[0m in \u001b[0;36mfit\u001b[1;34m(self, X, y, cat_features, text_features, embedding_features, sample_weight, baseline, use_best_model, eval_set, verbose, logging_level, plot, column_description, verbose_eval, metric_period, silent, early_stopping_rounds, save_snapshot, snapshot_file, snapshot_interval, init_model, callbacks, log_cout, log_cerr)\u001b[0m\n\u001b[0;32m   4715\u001b[0m             \u001b[0mCatBoostClassifier\u001b[0m\u001b[1;33m.\u001b[0m\u001b[0m_check_is_compatible_loss\u001b[0m\u001b[1;33m(\u001b[0m\u001b[0mparams\u001b[0m\u001b[1;33m[\u001b[0m\u001b[1;34m'loss_function'\u001b[0m\u001b[1;33m]\u001b[0m\u001b[1;33m)\u001b[0m\u001b[1;33m\u001b[0m\u001b[1;33m\u001b[0m\u001b[0m\n\u001b[0;32m   4716\u001b[0m \u001b[1;33m\u001b[0m\u001b[0m\n\u001b[1;32m-> 4717\u001b[1;33m         self._fit(X, y, cat_features, text_features, embedding_features, None, sample_weight, None, None, None, None, baseline, use_best_model,\n\u001b[0m\u001b[0;32m   4718\u001b[0m                   \u001b[0meval_set\u001b[0m\u001b[1;33m,\u001b[0m \u001b[0mverbose\u001b[0m\u001b[1;33m,\u001b[0m \u001b[0mlogging_level\u001b[0m\u001b[1;33m,\u001b[0m \u001b[0mplot\u001b[0m\u001b[1;33m,\u001b[0m \u001b[0mcolumn_description\u001b[0m\u001b[1;33m,\u001b[0m \u001b[0mverbose_eval\u001b[0m\u001b[1;33m,\u001b[0m \u001b[0mmetric_period\u001b[0m\u001b[1;33m,\u001b[0m\u001b[1;33m\u001b[0m\u001b[1;33m\u001b[0m\u001b[0m\n\u001b[0;32m   4719\u001b[0m                   silent, early_stopping_rounds, save_snapshot, snapshot_file, snapshot_interval, init_model, callbacks, log_cout, log_cerr)\n",
      "\u001b[1;32mc:\\Users\\buser\\01_Projects_local\\kaggle__202110-tabular_playground_competition\\venv\\lib\\site-packages\\catboost\\core.py\u001b[0m in \u001b[0;36m_fit\u001b[1;34m(self, X, y, cat_features, text_features, embedding_features, pairs, sample_weight, group_id, group_weight, subgroup_id, pairs_weight, baseline, use_best_model, eval_set, verbose, logging_level, plot, column_description, verbose_eval, metric_period, silent, early_stopping_rounds, save_snapshot, snapshot_file, snapshot_interval, init_model, callbacks, log_cout, log_cerr)\u001b[0m\n\u001b[0;32m   2035\u001b[0m         \u001b[1;32mwith\u001b[0m \u001b[0mlog_fixup\u001b[0m\u001b[1;33m(\u001b[0m\u001b[0mlog_cout\u001b[0m\u001b[1;33m,\u001b[0m \u001b[0mlog_cerr\u001b[0m\u001b[1;33m)\u001b[0m\u001b[1;33m,\u001b[0m\u001b[0;31m \u001b[0m\u001b[0;31m\\\u001b[0m\u001b[1;33m\u001b[0m\u001b[1;33m\u001b[0m\u001b[0m\n\u001b[0;32m   2036\u001b[0m             \u001b[0mplot_wrapper\u001b[0m\u001b[1;33m(\u001b[0m\u001b[0mplot\u001b[0m\u001b[1;33m,\u001b[0m \u001b[1;33m[\u001b[0m\u001b[0m_get_train_dir\u001b[0m\u001b[1;33m(\u001b[0m\u001b[0mself\u001b[0m\u001b[1;33m.\u001b[0m\u001b[0mget_params\u001b[0m\u001b[1;33m(\u001b[0m\u001b[1;33m)\u001b[0m\u001b[1;33m)\u001b[0m\u001b[1;33m]\u001b[0m\u001b[1;33m)\u001b[0m\u001b[1;33m:\u001b[0m\u001b[1;33m\u001b[0m\u001b[1;33m\u001b[0m\u001b[0m\n\u001b[1;32m-> 2037\u001b[1;33m             self._train(\n\u001b[0m\u001b[0;32m   2038\u001b[0m                 \u001b[0mtrain_pool\u001b[0m\u001b[1;33m,\u001b[0m\u001b[1;33m\u001b[0m\u001b[1;33m\u001b[0m\u001b[0m\n\u001b[0;32m   2039\u001b[0m                 \u001b[0mtrain_params\u001b[0m\u001b[1;33m[\u001b[0m\u001b[1;34m\"eval_sets\"\u001b[0m\u001b[1;33m]\u001b[0m\u001b[1;33m,\u001b[0m\u001b[1;33m\u001b[0m\u001b[1;33m\u001b[0m\u001b[0m\n",
      "\u001b[1;32mc:\\Users\\buser\\01_Projects_local\\kaggle__202110-tabular_playground_competition\\venv\\lib\\site-packages\\catboost\\core.py\u001b[0m in \u001b[0;36m_train\u001b[1;34m(self, train_pool, test_pool, params, allow_clear_pool, init_model)\u001b[0m\n\u001b[0;32m   1462\u001b[0m \u001b[1;33m\u001b[0m\u001b[0m\n\u001b[0;32m   1463\u001b[0m     \u001b[1;32mdef\u001b[0m \u001b[0m_train\u001b[0m\u001b[1;33m(\u001b[0m\u001b[0mself\u001b[0m\u001b[1;33m,\u001b[0m \u001b[0mtrain_pool\u001b[0m\u001b[1;33m,\u001b[0m \u001b[0mtest_pool\u001b[0m\u001b[1;33m,\u001b[0m \u001b[0mparams\u001b[0m\u001b[1;33m,\u001b[0m \u001b[0mallow_clear_pool\u001b[0m\u001b[1;33m,\u001b[0m \u001b[0minit_model\u001b[0m\u001b[1;33m)\u001b[0m\u001b[1;33m:\u001b[0m\u001b[1;33m\u001b[0m\u001b[1;33m\u001b[0m\u001b[0m\n\u001b[1;32m-> 1464\u001b[1;33m         \u001b[0mself\u001b[0m\u001b[1;33m.\u001b[0m\u001b[0m_object\u001b[0m\u001b[1;33m.\u001b[0m\u001b[0m_train\u001b[0m\u001b[1;33m(\u001b[0m\u001b[0mtrain_pool\u001b[0m\u001b[1;33m,\u001b[0m \u001b[0mtest_pool\u001b[0m\u001b[1;33m,\u001b[0m \u001b[0mparams\u001b[0m\u001b[1;33m,\u001b[0m \u001b[0mallow_clear_pool\u001b[0m\u001b[1;33m,\u001b[0m \u001b[0minit_model\u001b[0m\u001b[1;33m.\u001b[0m\u001b[0m_object\u001b[0m \u001b[1;32mif\u001b[0m \u001b[0minit_model\u001b[0m \u001b[1;32melse\u001b[0m \u001b[1;32mNone\u001b[0m\u001b[1;33m)\u001b[0m\u001b[1;33m\u001b[0m\u001b[1;33m\u001b[0m\u001b[0m\n\u001b[0m\u001b[0;32m   1465\u001b[0m         \u001b[0mself\u001b[0m\u001b[1;33m.\u001b[0m\u001b[0m_set_trained_model_attributes\u001b[0m\u001b[1;33m(\u001b[0m\u001b[1;33m)\u001b[0m\u001b[1;33m\u001b[0m\u001b[1;33m\u001b[0m\u001b[0m\n\u001b[0;32m   1466\u001b[0m \u001b[1;33m\u001b[0m\u001b[0m\n",
      "\u001b[1;32m_catboost.pyx\u001b[0m in \u001b[0;36m_catboost._CatBoost._train\u001b[1;34m()\u001b[0m\n",
      "\u001b[1;32m_catboost.pyx\u001b[0m in \u001b[0;36m_catboost._CatBoost._train\u001b[1;34m()\u001b[0m\n",
      "\u001b[1;31mKeyboardInterrupt\u001b[0m: "
     ]
    }
   ],
   "source": [
    "from catboost import CatBoostClassifier\n",
    "from sklearn.model_selection import train_test_split\n",
    "from sklearn.metrics import roc_auc_score\n",
    "\n",
    "X = train_df.drop([\"target\"], axis=1)\n",
    "y = train_df[\"target\"]\n",
    "\n",
    "X_train, X_valid, y_train, y_valid = train_test_split(\n",
    "    X, y, test_size=0.33, random_state=rnd_state, stratify=y\n",
    ")\n",
    "\n",
    "clf = CatBoostClassifier(\n",
    "        random_seed=rnd_state,\n",
    "        verbose=False,\n",
    "        task_type=\"GPU\",\n",
    "        devices=\"0:1\",\n",
    "        eval_metric=\"AUC\",\n",
    "        objective=\"CrossEntropy\",\n",
    "        learning_rate=0.03638707926890429,\n",
    "        iterations=2800,\n",
    "        depth=6,\n",
    "        l2_leaf_reg=7.796036733526901,\n",
    "        boosting_type=\"Plain\",\n",
    "    )\n",
    "_ = clf.fit(X_train, y_train)\n",
    "\n",
    "train_roc_auc_score = roc_auc_score(y_train, clf.predict_proba(X_train)[:, 1])\n",
    "valid_roc_auc_scoce = roc_auc_score(y_valid, clf.predict_proba(X_valid)[:, 1])\n",
    "\n",
    "print(train_roc_auc_score) # 0.8617102921465771 (fs18, no_new_f), same with fs16, and 3 new_f\n",
    "print(valid_roc_auc_scoce) # 0.8558234199478256 (fs18, no_new_f), same with fs16, and 3 new_f\n"
   ]
  },
  {
   "cell_type": "markdown",
   "metadata": {},
   "source": [
    "# Creating Kfolds"
   ]
  },
  {
   "cell_type": "code",
   "execution_count": null,
   "metadata": {},
   "outputs": [],
   "source": [
    "from sklearn.model_selection import StratifiedKFold\n",
    "\n",
    "folds = 5\n",
    "train[\"kfold\"] = -1\n",
    "kf = StratifiedKFold(n_splits=folds, shuffle=True, random_state=rnd_state)\n",
    "\n",
    "# Adding folds to dataset\n",
    "for fold, (train_indicies, valid_indicies) in enumerate(kf.split(train,train[\"target\"])):\n",
    "    train.loc[valid_indicies, \"kfold\"] = fold"
   ]
  },
  {
   "cell_type": "code",
   "execution_count": null,
   "metadata": {},
   "outputs": [
    {
     "data": {
      "text/plain": [
       "3    200000\n",
       "2    200000\n",
       "4    200000\n",
       "0    200000\n",
       "1    200000\n",
       "Name: kfold, dtype: int64"
      ]
     },
     "execution_count": 111,
     "metadata": {},
     "output_type": "execute_result"
    }
   ],
   "source": [
    "train['kfold'].value_counts()"
   ]
  },
  {
   "cell_type": "markdown",
   "metadata": {},
   "source": [
    "# Optimizing Hyperparameter"
   ]
  },
  {
   "cell_type": "code",
   "execution_count": null,
   "metadata": {},
   "outputs": [],
   "source": [
    "import time\n",
    "import optuna\n",
    "from optuna.samplers import TPESampler\n",
    "from catboost.utils import eval_metric\n",
    "from catboost import CatBoostClassifier\n",
    "from sklearn.metrics import roc_auc_score"
   ]
  },
  {
   "cell_type": "code",
   "execution_count": null,
   "metadata": {},
   "outputs": [],
   "source": [
    "\n",
    "def objective(trial):\n",
    "    scores = []\n",
    "    #ic(scores)\n",
    "\n",
    "    for fold in range(folds):\n",
    "        time.sleep(2)\n",
    "        x_train = train[train.kfold != fold].copy()\n",
    "        x_valid = train[train.kfold == fold].copy()\n",
    "        # x_test = test[feature_cols].copy()\n",
    "\n",
    "        y_train = x_train[\"target\"]\n",
    "        y_valid = x_valid[\"target\"]\n",
    "\n",
    "        x_train = x_train[feature_cols]\n",
    "        x_valid = x_valid[feature_cols]\n",
    "\n",
    "        params = {\n",
    "            # \"objective\": trial.suggest_categorical(\"objective\", [\"Logloss\", \"CrossEntropy\"]),\n",
    "            \"objective\": trial.suggest_categorical(\"objective\", [\"CrossEntropy\"]),\n",
    "            # \"bootstrap_type\": trial.suggest_categorical(\"bootstrap_type\", [\"Bayesian\", \"Bernoulli\", \"MVS\"]),\n",
    "            \"learning_rate\": trial.suggest_float(\"learning_rate\", 0.01, 0.1),\n",
    "            \"iterations\": trial.suggest_int(\"iterations\", 1400, 3400),\n",
    "            \"depth\": trial.suggest_int(\"depth\", 4, 6),\n",
    "            \"l2_leaf_reg\": trial.suggest_float(\"l2_leaf_reg\", 1, 10),\n",
    "            \"boosting_type\": trial.suggest_categorical(\n",
    "                \"boosting_type\", [\"Ordered\", \"Plain\"]\n",
    "            ),\n",
    "        }\n",
    "\n",
    "        # if params[\"bootstrap_type\"] == \"Bayesian\":\n",
    "        #    params[\"bagging_temperature\"] = trial.suggest_float(\"bagging_temperature\", 0, 10)\n",
    "\n",
    "        # elif params[\"bootstrap_type\"] == \"Bernoulli\":\n",
    "        #    params[\"subsample\"] = trial.suggest_float(\"subsample\", 0.1, 1)\n",
    "\n",
    "        #print(\"Fitting...\")\n",
    "        model = CatBoostClassifier(\n",
    "            **params, \n",
    "            random_seed=rnd_state,\n",
    "            task_type=\"GPU\", \n",
    "            devices=\"0:1\", \n",
    "            eval_metric=\"AUC\"\n",
    "        )\n",
    "        \n",
    "        model.fit(\n",
    "            x_train,\n",
    "            y_train,\n",
    "            eval_set=[(x_valid, y_valid)],\n",
    "            verbose=False,\n",
    "            early_stopping_rounds=100,\n",
    "        )\n",
    "\n",
    "        #print(\"Predicting...\")\n",
    "        preds_train = model.predict_proba(x_train)[:, 1]\n",
    "        preds_valid = model.predict_proba(x_valid)[:, 1]\n",
    "        auc_train = roc_auc_score(y_train, preds_train)\n",
    "        auc = roc_auc_score(y_valid, preds_valid)\n",
    "        print(\"Fold\", fold, \", train:\", f\"{auc_train:.6f}\", \", valid:\", f\"{auc:.6f}\")\n",
    "        scores.append(auc)\n",
    "\n",
    "    return np.mean(scores)\n"
   ]
  },
  {
   "cell_type": "code",
   "execution_count": null,
   "metadata": {},
   "outputs": [
    {
     "name": "stderr",
     "output_type": "stream",
     "text": [
      "\u001b[32m[I 2021-10-19 23:51:55,498]\u001b[0m A new study created in memory with name: no-name-e81100cb-ce96-41a1-82c0-17a224dea76e\u001b[0m\n",
      "Custom logger is already specified. Specify more than one logger at same time is not thread safe."
     ]
    },
    {
     "name": "stdout",
     "output_type": "stream",
     "text": [
      "Fold 0 , train: 0.790784 , valid: 0.791549\n",
      "Fold 1 , train: 0.791917 , valid: 0.788331\n",
      "Fold 2 , train: 0.791483 , valid: 0.791858\n",
      "Fold 3 , train: 0.791617 , valid: 0.788509\n"
     ]
    },
    {
     "name": "stderr",
     "output_type": "stream",
     "text": [
      "\u001b[32m[I 2021-10-20 00:00:50,526]\u001b[0m Trial 0 finished with value: 0.7900205130103007 and parameters: {'objective': 'CrossEntropy', 'learning_rate': 0.04370861069626263, 'iterations': 3302, 'depth': 6, 'l2_leaf_reg': 6.387926357773329, 'boosting_type': 'Ordered'}. Best is trial 0 with value: 0.7900205130103007.\u001b[0m\n"
     ]
    },
    {
     "name": "stdout",
     "output_type": "stream",
     "text": [
      "Fold 4 , train: 0.791443 , valid: 0.789854\n",
      "Fold 0 , train: 0.792900 , valid: 0.792324\n"
     ]
    },
    {
     "ename": "KeyboardInterrupt",
     "evalue": "",
     "output_type": "error",
     "traceback": [
      "\u001b[1;31m---------------------------------------------------------------------------\u001b[0m",
      "\u001b[1;31mKeyboardInterrupt\u001b[0m                         Traceback (most recent call last)",
      "\u001b[1;32m~\\AppData\\Local\\Temp/ipykernel_20124/966199683.py\u001b[0m in \u001b[0;36m<module>\u001b[1;34m\u001b[0m\n\u001b[0;32m      1\u001b[0m \u001b[0msampler\u001b[0m \u001b[1;33m=\u001b[0m \u001b[0mTPESampler\u001b[0m\u001b[1;33m(\u001b[0m\u001b[0mseed\u001b[0m\u001b[1;33m=\u001b[0m\u001b[0mrnd_state\u001b[0m\u001b[1;33m)\u001b[0m\u001b[1;33m\u001b[0m\u001b[1;33m\u001b[0m\u001b[0m\n\u001b[0;32m      2\u001b[0m \u001b[0mstudy\u001b[0m \u001b[1;33m=\u001b[0m \u001b[0moptuna\u001b[0m\u001b[1;33m.\u001b[0m\u001b[0mcreate_study\u001b[0m\u001b[1;33m(\u001b[0m\u001b[0mdirection\u001b[0m\u001b[1;33m=\u001b[0m\u001b[1;34m\"maximize\"\u001b[0m\u001b[1;33m,\u001b[0m \u001b[0msampler\u001b[0m\u001b[1;33m=\u001b[0m\u001b[0msampler\u001b[0m\u001b[1;33m)\u001b[0m\u001b[1;33m\u001b[0m\u001b[1;33m\u001b[0m\u001b[0m\n\u001b[1;32m----> 3\u001b[1;33m \u001b[0mstudy\u001b[0m\u001b[1;33m.\u001b[0m\u001b[0moptimize\u001b[0m\u001b[1;33m(\u001b[0m\u001b[0mobjective\u001b[0m\u001b[1;33m,\u001b[0m \u001b[0mn_trials\u001b[0m\u001b[1;33m=\u001b[0m\u001b[1;36m100\u001b[0m\u001b[1;33m)\u001b[0m\u001b[1;33m\u001b[0m\u001b[1;33m\u001b[0m\u001b[0m\n\u001b[0m",
      "\u001b[1;32mc:\\Users\\buser\\01_Projects_local\\kaggle__202110-tabular_playground_competition\\venv\\lib\\site-packages\\optuna\\study\\study.py\u001b[0m in \u001b[0;36moptimize\u001b[1;34m(self, func, n_trials, timeout, n_jobs, catch, callbacks, gc_after_trial, show_progress_bar)\u001b[0m\n\u001b[0;32m    398\u001b[0m             )\n\u001b[0;32m    399\u001b[0m \u001b[1;33m\u001b[0m\u001b[0m\n\u001b[1;32m--> 400\u001b[1;33m         _optimize(\n\u001b[0m\u001b[0;32m    401\u001b[0m             \u001b[0mstudy\u001b[0m\u001b[1;33m=\u001b[0m\u001b[0mself\u001b[0m\u001b[1;33m,\u001b[0m\u001b[1;33m\u001b[0m\u001b[1;33m\u001b[0m\u001b[0m\n\u001b[0;32m    402\u001b[0m             \u001b[0mfunc\u001b[0m\u001b[1;33m=\u001b[0m\u001b[0mfunc\u001b[0m\u001b[1;33m,\u001b[0m\u001b[1;33m\u001b[0m\u001b[1;33m\u001b[0m\u001b[0m\n",
      "\u001b[1;32mc:\\Users\\buser\\01_Projects_local\\kaggle__202110-tabular_playground_competition\\venv\\lib\\site-packages\\optuna\\study\\_optimize.py\u001b[0m in \u001b[0;36m_optimize\u001b[1;34m(study, func, n_trials, timeout, n_jobs, catch, callbacks, gc_after_trial, show_progress_bar)\u001b[0m\n\u001b[0;32m     64\u001b[0m     \u001b[1;32mtry\u001b[0m\u001b[1;33m:\u001b[0m\u001b[1;33m\u001b[0m\u001b[1;33m\u001b[0m\u001b[0m\n\u001b[0;32m     65\u001b[0m         \u001b[1;32mif\u001b[0m \u001b[0mn_jobs\u001b[0m \u001b[1;33m==\u001b[0m \u001b[1;36m1\u001b[0m\u001b[1;33m:\u001b[0m\u001b[1;33m\u001b[0m\u001b[1;33m\u001b[0m\u001b[0m\n\u001b[1;32m---> 66\u001b[1;33m             _optimize_sequential(\n\u001b[0m\u001b[0;32m     67\u001b[0m                 \u001b[0mstudy\u001b[0m\u001b[1;33m,\u001b[0m\u001b[1;33m\u001b[0m\u001b[1;33m\u001b[0m\u001b[0m\n\u001b[0;32m     68\u001b[0m                 \u001b[0mfunc\u001b[0m\u001b[1;33m,\u001b[0m\u001b[1;33m\u001b[0m\u001b[1;33m\u001b[0m\u001b[0m\n",
      "\u001b[1;32mc:\\Users\\buser\\01_Projects_local\\kaggle__202110-tabular_playground_competition\\venv\\lib\\site-packages\\optuna\\study\\_optimize.py\u001b[0m in \u001b[0;36m_optimize_sequential\u001b[1;34m(study, func, n_trials, timeout, catch, callbacks, gc_after_trial, reseed_sampler_rng, time_start, progress_bar)\u001b[0m\n\u001b[0;32m    161\u001b[0m \u001b[1;33m\u001b[0m\u001b[0m\n\u001b[0;32m    162\u001b[0m         \u001b[1;32mtry\u001b[0m\u001b[1;33m:\u001b[0m\u001b[1;33m\u001b[0m\u001b[1;33m\u001b[0m\u001b[0m\n\u001b[1;32m--> 163\u001b[1;33m             \u001b[0mtrial\u001b[0m \u001b[1;33m=\u001b[0m \u001b[0m_run_trial\u001b[0m\u001b[1;33m(\u001b[0m\u001b[0mstudy\u001b[0m\u001b[1;33m,\u001b[0m \u001b[0mfunc\u001b[0m\u001b[1;33m,\u001b[0m \u001b[0mcatch\u001b[0m\u001b[1;33m)\u001b[0m\u001b[1;33m\u001b[0m\u001b[1;33m\u001b[0m\u001b[0m\n\u001b[0m\u001b[0;32m    164\u001b[0m         \u001b[1;32mexcept\u001b[0m \u001b[0mException\u001b[0m\u001b[1;33m:\u001b[0m\u001b[1;33m\u001b[0m\u001b[1;33m\u001b[0m\u001b[0m\n\u001b[0;32m    165\u001b[0m             \u001b[1;32mraise\u001b[0m\u001b[1;33m\u001b[0m\u001b[1;33m\u001b[0m\u001b[0m\n",
      "\u001b[1;32mc:\\Users\\buser\\01_Projects_local\\kaggle__202110-tabular_playground_competition\\venv\\lib\\site-packages\\optuna\\study\\_optimize.py\u001b[0m in \u001b[0;36m_run_trial\u001b[1;34m(study, func, catch)\u001b[0m\n\u001b[0;32m    211\u001b[0m \u001b[1;33m\u001b[0m\u001b[0m\n\u001b[0;32m    212\u001b[0m     \u001b[1;32mtry\u001b[0m\u001b[1;33m:\u001b[0m\u001b[1;33m\u001b[0m\u001b[1;33m\u001b[0m\u001b[0m\n\u001b[1;32m--> 213\u001b[1;33m         \u001b[0mvalue_or_values\u001b[0m \u001b[1;33m=\u001b[0m \u001b[0mfunc\u001b[0m\u001b[1;33m(\u001b[0m\u001b[0mtrial\u001b[0m\u001b[1;33m)\u001b[0m\u001b[1;33m\u001b[0m\u001b[1;33m\u001b[0m\u001b[0m\n\u001b[0m\u001b[0;32m    214\u001b[0m     \u001b[1;32mexcept\u001b[0m \u001b[0mexceptions\u001b[0m\u001b[1;33m.\u001b[0m\u001b[0mTrialPruned\u001b[0m \u001b[1;32mas\u001b[0m \u001b[0me\u001b[0m\u001b[1;33m:\u001b[0m\u001b[1;33m\u001b[0m\u001b[1;33m\u001b[0m\u001b[0m\n\u001b[0;32m    215\u001b[0m         \u001b[1;31m# TODO(mamu): Handle multi-objective cases.\u001b[0m\u001b[1;33m\u001b[0m\u001b[1;33m\u001b[0m\u001b[0m\n",
      "\u001b[1;32m~\\AppData\\Local\\Temp/ipykernel_20124/306230554.py\u001b[0m in \u001b[0;36mobjective\u001b[1;34m(trial)\u001b[0m\n\u001b[0;32m     42\u001b[0m         )\n\u001b[0;32m     43\u001b[0m \u001b[1;33m\u001b[0m\u001b[0m\n\u001b[1;32m---> 44\u001b[1;33m         model.fit(\n\u001b[0m\u001b[0;32m     45\u001b[0m             \u001b[0mx_train\u001b[0m\u001b[1;33m,\u001b[0m\u001b[1;33m\u001b[0m\u001b[1;33m\u001b[0m\u001b[0m\n\u001b[0;32m     46\u001b[0m             \u001b[0my_train\u001b[0m\u001b[1;33m,\u001b[0m\u001b[1;33m\u001b[0m\u001b[1;33m\u001b[0m\u001b[0m\n",
      "\u001b[1;32mc:\\Users\\buser\\01_Projects_local\\kaggle__202110-tabular_playground_competition\\venv\\lib\\site-packages\\catboost\\core.py\u001b[0m in \u001b[0;36mfit\u001b[1;34m(self, X, y, cat_features, text_features, embedding_features, sample_weight, baseline, use_best_model, eval_set, verbose, logging_level, plot, column_description, verbose_eval, metric_period, silent, early_stopping_rounds, save_snapshot, snapshot_file, snapshot_interval, init_model, callbacks, log_cout, log_cerr)\u001b[0m\n\u001b[0;32m   4715\u001b[0m             \u001b[0mCatBoostClassifier\u001b[0m\u001b[1;33m.\u001b[0m\u001b[0m_check_is_compatible_loss\u001b[0m\u001b[1;33m(\u001b[0m\u001b[0mparams\u001b[0m\u001b[1;33m[\u001b[0m\u001b[1;34m'loss_function'\u001b[0m\u001b[1;33m]\u001b[0m\u001b[1;33m)\u001b[0m\u001b[1;33m\u001b[0m\u001b[1;33m\u001b[0m\u001b[0m\n\u001b[0;32m   4716\u001b[0m \u001b[1;33m\u001b[0m\u001b[0m\n\u001b[1;32m-> 4717\u001b[1;33m         self._fit(X, y, cat_features, text_features, embedding_features, None, sample_weight, None, None, None, None, baseline, use_best_model,\n\u001b[0m\u001b[0;32m   4718\u001b[0m                   \u001b[0meval_set\u001b[0m\u001b[1;33m,\u001b[0m \u001b[0mverbose\u001b[0m\u001b[1;33m,\u001b[0m \u001b[0mlogging_level\u001b[0m\u001b[1;33m,\u001b[0m \u001b[0mplot\u001b[0m\u001b[1;33m,\u001b[0m \u001b[0mcolumn_description\u001b[0m\u001b[1;33m,\u001b[0m \u001b[0mverbose_eval\u001b[0m\u001b[1;33m,\u001b[0m \u001b[0mmetric_period\u001b[0m\u001b[1;33m,\u001b[0m\u001b[1;33m\u001b[0m\u001b[1;33m\u001b[0m\u001b[0m\n\u001b[0;32m   4719\u001b[0m                   silent, early_stopping_rounds, save_snapshot, snapshot_file, snapshot_interval, init_model, callbacks, log_cout, log_cerr)\n",
      "\u001b[1;32mc:\\Users\\buser\\01_Projects_local\\kaggle__202110-tabular_playground_competition\\venv\\lib\\site-packages\\catboost\\core.py\u001b[0m in \u001b[0;36m_fit\u001b[1;34m(self, X, y, cat_features, text_features, embedding_features, pairs, sample_weight, group_id, group_weight, subgroup_id, pairs_weight, baseline, use_best_model, eval_set, verbose, logging_level, plot, column_description, verbose_eval, metric_period, silent, early_stopping_rounds, save_snapshot, snapshot_file, snapshot_interval, init_model, callbacks, log_cout, log_cerr)\u001b[0m\n\u001b[0;32m   2035\u001b[0m         \u001b[1;32mwith\u001b[0m \u001b[0mlog_fixup\u001b[0m\u001b[1;33m(\u001b[0m\u001b[0mlog_cout\u001b[0m\u001b[1;33m,\u001b[0m \u001b[0mlog_cerr\u001b[0m\u001b[1;33m)\u001b[0m\u001b[1;33m,\u001b[0m\u001b[0;31m \u001b[0m\u001b[0;31m\\\u001b[0m\u001b[1;33m\u001b[0m\u001b[1;33m\u001b[0m\u001b[0m\n\u001b[0;32m   2036\u001b[0m             \u001b[0mplot_wrapper\u001b[0m\u001b[1;33m(\u001b[0m\u001b[0mplot\u001b[0m\u001b[1;33m,\u001b[0m \u001b[1;33m[\u001b[0m\u001b[0m_get_train_dir\u001b[0m\u001b[1;33m(\u001b[0m\u001b[0mself\u001b[0m\u001b[1;33m.\u001b[0m\u001b[0mget_params\u001b[0m\u001b[1;33m(\u001b[0m\u001b[1;33m)\u001b[0m\u001b[1;33m)\u001b[0m\u001b[1;33m]\u001b[0m\u001b[1;33m)\u001b[0m\u001b[1;33m:\u001b[0m\u001b[1;33m\u001b[0m\u001b[1;33m\u001b[0m\u001b[0m\n\u001b[1;32m-> 2037\u001b[1;33m             self._train(\n\u001b[0m\u001b[0;32m   2038\u001b[0m                 \u001b[0mtrain_pool\u001b[0m\u001b[1;33m,\u001b[0m\u001b[1;33m\u001b[0m\u001b[1;33m\u001b[0m\u001b[0m\n\u001b[0;32m   2039\u001b[0m                 \u001b[0mtrain_params\u001b[0m\u001b[1;33m[\u001b[0m\u001b[1;34m\"eval_sets\"\u001b[0m\u001b[1;33m]\u001b[0m\u001b[1;33m,\u001b[0m\u001b[1;33m\u001b[0m\u001b[1;33m\u001b[0m\u001b[0m\n",
      "\u001b[1;32mc:\\Users\\buser\\01_Projects_local\\kaggle__202110-tabular_playground_competition\\venv\\lib\\site-packages\\catboost\\core.py\u001b[0m in \u001b[0;36m_train\u001b[1;34m(self, train_pool, test_pool, params, allow_clear_pool, init_model)\u001b[0m\n\u001b[0;32m   1462\u001b[0m \u001b[1;33m\u001b[0m\u001b[0m\n\u001b[0;32m   1463\u001b[0m     \u001b[1;32mdef\u001b[0m \u001b[0m_train\u001b[0m\u001b[1;33m(\u001b[0m\u001b[0mself\u001b[0m\u001b[1;33m,\u001b[0m \u001b[0mtrain_pool\u001b[0m\u001b[1;33m,\u001b[0m \u001b[0mtest_pool\u001b[0m\u001b[1;33m,\u001b[0m \u001b[0mparams\u001b[0m\u001b[1;33m,\u001b[0m \u001b[0mallow_clear_pool\u001b[0m\u001b[1;33m,\u001b[0m \u001b[0minit_model\u001b[0m\u001b[1;33m)\u001b[0m\u001b[1;33m:\u001b[0m\u001b[1;33m\u001b[0m\u001b[1;33m\u001b[0m\u001b[0m\n\u001b[1;32m-> 1464\u001b[1;33m         \u001b[0mself\u001b[0m\u001b[1;33m.\u001b[0m\u001b[0m_object\u001b[0m\u001b[1;33m.\u001b[0m\u001b[0m_train\u001b[0m\u001b[1;33m(\u001b[0m\u001b[0mtrain_pool\u001b[0m\u001b[1;33m,\u001b[0m \u001b[0mtest_pool\u001b[0m\u001b[1;33m,\u001b[0m \u001b[0mparams\u001b[0m\u001b[1;33m,\u001b[0m \u001b[0mallow_clear_pool\u001b[0m\u001b[1;33m,\u001b[0m \u001b[0minit_model\u001b[0m\u001b[1;33m.\u001b[0m\u001b[0m_object\u001b[0m \u001b[1;32mif\u001b[0m \u001b[0minit_model\u001b[0m \u001b[1;32melse\u001b[0m \u001b[1;32mNone\u001b[0m\u001b[1;33m)\u001b[0m\u001b[1;33m\u001b[0m\u001b[1;33m\u001b[0m\u001b[0m\n\u001b[0m\u001b[0;32m   1465\u001b[0m         \u001b[0mself\u001b[0m\u001b[1;33m.\u001b[0m\u001b[0m_set_trained_model_attributes\u001b[0m\u001b[1;33m(\u001b[0m\u001b[1;33m)\u001b[0m\u001b[1;33m\u001b[0m\u001b[1;33m\u001b[0m\u001b[0m\n\u001b[0;32m   1466\u001b[0m \u001b[1;33m\u001b[0m\u001b[0m\n",
      "\u001b[1;32m_catboost.pyx\u001b[0m in \u001b[0;36m_catboost._CatBoost._train\u001b[1;34m()\u001b[0m\n",
      "\u001b[1;32m_catboost.pyx\u001b[0m in \u001b[0;36m_catboost._CatBoost._train\u001b[1;34m()\u001b[0m\n",
      "\u001b[1;31mKeyboardInterrupt\u001b[0m: "
     ]
    }
   ],
   "source": [
    "\n",
    "sampler = TPESampler(seed=rnd_state)\n",
    "study = optuna.create_study(direction=\"maximize\", sampler=sampler)\n",
    "study.optimize(objective, n_trials=100)\n"
   ]
  },
  {
   "cell_type": "markdown",
   "metadata": {},
   "source": [
    "# Fit with best parameters"
   ]
  },
  {
   "cell_type": "code",
   "execution_count": null,
   "metadata": {},
   "outputs": [
    {
     "name": "stdout",
     "output_type": "stream",
     "text": [
      "Fold 0 , train: 0.798539 , valid: 0.793618\n"
     ]
    },
    {
     "ename": "KeyboardInterrupt",
     "evalue": "",
     "output_type": "error",
     "traceback": [
      "\u001b[1;31m---------------------------------------------------------------------------\u001b[0m",
      "\u001b[1;31mKeyboardInterrupt\u001b[0m                         Traceback (most recent call last)",
      "\u001b[1;32m~\\AppData\\Local\\Temp/ipykernel_20124/3371406845.py\u001b[0m in \u001b[0;36m<module>\u001b[1;34m\u001b[0m\n\u001b[0;32m     31\u001b[0m     )\n\u001b[0;32m     32\u001b[0m \u001b[1;33m\u001b[0m\u001b[0m\n\u001b[1;32m---> 33\u001b[1;33m     \u001b[0mmodel\u001b[0m\u001b[1;33m.\u001b[0m\u001b[0mfit\u001b[0m\u001b[1;33m(\u001b[0m\u001b[0mx_train\u001b[0m\u001b[1;33m,\u001b[0m \u001b[0my_train\u001b[0m\u001b[1;33m,\u001b[0m \u001b[0meval_set\u001b[0m\u001b[1;33m=\u001b[0m\u001b[1;33m[\u001b[0m\u001b[1;33m(\u001b[0m\u001b[0mx_valid\u001b[0m\u001b[1;33m,\u001b[0m \u001b[0my_valid\u001b[0m\u001b[1;33m)\u001b[0m\u001b[1;33m]\u001b[0m\u001b[1;33m,\u001b[0m \u001b[0mverbose\u001b[0m\u001b[1;33m=\u001b[0m\u001b[1;32mFalse\u001b[0m\u001b[1;33m)\u001b[0m\u001b[1;33m\u001b[0m\u001b[1;33m\u001b[0m\u001b[0m\n\u001b[0m\u001b[0;32m     34\u001b[0m \u001b[1;33m\u001b[0m\u001b[0m\n\u001b[0;32m     35\u001b[0m     \u001b[0mpreds_train\u001b[0m \u001b[1;33m=\u001b[0m \u001b[0mmodel\u001b[0m\u001b[1;33m.\u001b[0m\u001b[0mpredict_proba\u001b[0m\u001b[1;33m(\u001b[0m\u001b[0mx_train\u001b[0m\u001b[1;33m)\u001b[0m\u001b[1;33m[\u001b[0m\u001b[1;33m:\u001b[0m\u001b[1;33m,\u001b[0m \u001b[1;36m1\u001b[0m\u001b[1;33m]\u001b[0m\u001b[1;33m\u001b[0m\u001b[1;33m\u001b[0m\u001b[0m\n",
      "\u001b[1;32mc:\\Users\\buser\\01_Projects_local\\kaggle__202110-tabular_playground_competition\\venv\\lib\\site-packages\\catboost\\core.py\u001b[0m in \u001b[0;36mfit\u001b[1;34m(self, X, y, cat_features, text_features, embedding_features, sample_weight, baseline, use_best_model, eval_set, verbose, logging_level, plot, column_description, verbose_eval, metric_period, silent, early_stopping_rounds, save_snapshot, snapshot_file, snapshot_interval, init_model, callbacks, log_cout, log_cerr)\u001b[0m\n\u001b[0;32m   4715\u001b[0m             \u001b[0mCatBoostClassifier\u001b[0m\u001b[1;33m.\u001b[0m\u001b[0m_check_is_compatible_loss\u001b[0m\u001b[1;33m(\u001b[0m\u001b[0mparams\u001b[0m\u001b[1;33m[\u001b[0m\u001b[1;34m'loss_function'\u001b[0m\u001b[1;33m]\u001b[0m\u001b[1;33m)\u001b[0m\u001b[1;33m\u001b[0m\u001b[1;33m\u001b[0m\u001b[0m\n\u001b[0;32m   4716\u001b[0m \u001b[1;33m\u001b[0m\u001b[0m\n\u001b[1;32m-> 4717\u001b[1;33m         self._fit(X, y, cat_features, text_features, embedding_features, None, sample_weight, None, None, None, None, baseline, use_best_model,\n\u001b[0m\u001b[0;32m   4718\u001b[0m                   \u001b[0meval_set\u001b[0m\u001b[1;33m,\u001b[0m \u001b[0mverbose\u001b[0m\u001b[1;33m,\u001b[0m \u001b[0mlogging_level\u001b[0m\u001b[1;33m,\u001b[0m \u001b[0mplot\u001b[0m\u001b[1;33m,\u001b[0m \u001b[0mcolumn_description\u001b[0m\u001b[1;33m,\u001b[0m \u001b[0mverbose_eval\u001b[0m\u001b[1;33m,\u001b[0m \u001b[0mmetric_period\u001b[0m\u001b[1;33m,\u001b[0m\u001b[1;33m\u001b[0m\u001b[1;33m\u001b[0m\u001b[0m\n\u001b[0;32m   4719\u001b[0m                   silent, early_stopping_rounds, save_snapshot, snapshot_file, snapshot_interval, init_model, callbacks, log_cout, log_cerr)\n",
      "\u001b[1;32mc:\\Users\\buser\\01_Projects_local\\kaggle__202110-tabular_playground_competition\\venv\\lib\\site-packages\\catboost\\core.py\u001b[0m in \u001b[0;36m_fit\u001b[1;34m(self, X, y, cat_features, text_features, embedding_features, pairs, sample_weight, group_id, group_weight, subgroup_id, pairs_weight, baseline, use_best_model, eval_set, verbose, logging_level, plot, column_description, verbose_eval, metric_period, silent, early_stopping_rounds, save_snapshot, snapshot_file, snapshot_interval, init_model, callbacks, log_cout, log_cerr)\u001b[0m\n\u001b[0;32m   2035\u001b[0m         \u001b[1;32mwith\u001b[0m \u001b[0mlog_fixup\u001b[0m\u001b[1;33m(\u001b[0m\u001b[0mlog_cout\u001b[0m\u001b[1;33m,\u001b[0m \u001b[0mlog_cerr\u001b[0m\u001b[1;33m)\u001b[0m\u001b[1;33m,\u001b[0m\u001b[0;31m \u001b[0m\u001b[0;31m\\\u001b[0m\u001b[1;33m\u001b[0m\u001b[1;33m\u001b[0m\u001b[0m\n\u001b[0;32m   2036\u001b[0m             \u001b[0mplot_wrapper\u001b[0m\u001b[1;33m(\u001b[0m\u001b[0mplot\u001b[0m\u001b[1;33m,\u001b[0m \u001b[1;33m[\u001b[0m\u001b[0m_get_train_dir\u001b[0m\u001b[1;33m(\u001b[0m\u001b[0mself\u001b[0m\u001b[1;33m.\u001b[0m\u001b[0mget_params\u001b[0m\u001b[1;33m(\u001b[0m\u001b[1;33m)\u001b[0m\u001b[1;33m)\u001b[0m\u001b[1;33m]\u001b[0m\u001b[1;33m)\u001b[0m\u001b[1;33m:\u001b[0m\u001b[1;33m\u001b[0m\u001b[1;33m\u001b[0m\u001b[0m\n\u001b[1;32m-> 2037\u001b[1;33m             self._train(\n\u001b[0m\u001b[0;32m   2038\u001b[0m                 \u001b[0mtrain_pool\u001b[0m\u001b[1;33m,\u001b[0m\u001b[1;33m\u001b[0m\u001b[1;33m\u001b[0m\u001b[0m\n\u001b[0;32m   2039\u001b[0m                 \u001b[0mtrain_params\u001b[0m\u001b[1;33m[\u001b[0m\u001b[1;34m\"eval_sets\"\u001b[0m\u001b[1;33m]\u001b[0m\u001b[1;33m,\u001b[0m\u001b[1;33m\u001b[0m\u001b[1;33m\u001b[0m\u001b[0m\n",
      "\u001b[1;32mc:\\Users\\buser\\01_Projects_local\\kaggle__202110-tabular_playground_competition\\venv\\lib\\site-packages\\catboost\\core.py\u001b[0m in \u001b[0;36m_train\u001b[1;34m(self, train_pool, test_pool, params, allow_clear_pool, init_model)\u001b[0m\n\u001b[0;32m   1462\u001b[0m \u001b[1;33m\u001b[0m\u001b[0m\n\u001b[0;32m   1463\u001b[0m     \u001b[1;32mdef\u001b[0m \u001b[0m_train\u001b[0m\u001b[1;33m(\u001b[0m\u001b[0mself\u001b[0m\u001b[1;33m,\u001b[0m \u001b[0mtrain_pool\u001b[0m\u001b[1;33m,\u001b[0m \u001b[0mtest_pool\u001b[0m\u001b[1;33m,\u001b[0m \u001b[0mparams\u001b[0m\u001b[1;33m,\u001b[0m \u001b[0mallow_clear_pool\u001b[0m\u001b[1;33m,\u001b[0m \u001b[0minit_model\u001b[0m\u001b[1;33m)\u001b[0m\u001b[1;33m:\u001b[0m\u001b[1;33m\u001b[0m\u001b[1;33m\u001b[0m\u001b[0m\n\u001b[1;32m-> 1464\u001b[1;33m         \u001b[0mself\u001b[0m\u001b[1;33m.\u001b[0m\u001b[0m_object\u001b[0m\u001b[1;33m.\u001b[0m\u001b[0m_train\u001b[0m\u001b[1;33m(\u001b[0m\u001b[0mtrain_pool\u001b[0m\u001b[1;33m,\u001b[0m \u001b[0mtest_pool\u001b[0m\u001b[1;33m,\u001b[0m \u001b[0mparams\u001b[0m\u001b[1;33m,\u001b[0m \u001b[0mallow_clear_pool\u001b[0m\u001b[1;33m,\u001b[0m \u001b[0minit_model\u001b[0m\u001b[1;33m.\u001b[0m\u001b[0m_object\u001b[0m \u001b[1;32mif\u001b[0m \u001b[0minit_model\u001b[0m \u001b[1;32melse\u001b[0m \u001b[1;32mNone\u001b[0m\u001b[1;33m)\u001b[0m\u001b[1;33m\u001b[0m\u001b[1;33m\u001b[0m\u001b[0m\n\u001b[0m\u001b[0;32m   1465\u001b[0m         \u001b[0mself\u001b[0m\u001b[1;33m.\u001b[0m\u001b[0m_set_trained_model_attributes\u001b[0m\u001b[1;33m(\u001b[0m\u001b[1;33m)\u001b[0m\u001b[1;33m\u001b[0m\u001b[1;33m\u001b[0m\u001b[0m\n\u001b[0;32m   1466\u001b[0m \u001b[1;33m\u001b[0m\u001b[0m\n",
      "\u001b[1;32m_catboost.pyx\u001b[0m in \u001b[0;36m_catboost._CatBoost._train\u001b[1;34m()\u001b[0m\n",
      "\u001b[1;32m_catboost.pyx\u001b[0m in \u001b[0;36m_catboost._CatBoost._train\u001b[1;34m()\u001b[0m\n",
      "\u001b[1;31mKeyboardInterrupt\u001b[0m: "
     ]
    }
   ],
   "source": [
    "from catboost import CatBoostClassifier\n",
    "from sklearn.metrics import roc_auc_score\n",
    "\n",
    "final_test_predictions = []\n",
    "scores = []\n",
    "\n",
    "for fold in range(folds):\n",
    "    #ic(fold)\n",
    "    x_train = train[train.kfold != fold].copy()\n",
    "    x_valid = train[train.kfold == fold].copy()\n",
    "    x_test = test[feature_cols].copy()\n",
    "\n",
    "    y_train = x_train[\"target\"]\n",
    "    y_valid = x_valid[\"target\"]\n",
    "\n",
    "    x_train = x_train[feature_cols]\n",
    "    x_valid = x_valid[feature_cols]\n",
    "\n",
    "    model = CatBoostClassifier(\n",
    "        random_seed=rnd_state,\n",
    "        verbose=False,\n",
    "        task_type=\"GPU\",\n",
    "        devices=\"0:1\",\n",
    "        eval_metric=\"AUC\",\n",
    "        objective=\"CrossEntropy\",\n",
    "        learning_rate=0.03638707926890429,\n",
    "        iterations=2800,\n",
    "        depth=6,\n",
    "        l2_leaf_reg=7.796036733526901,\n",
    "        boosting_type=\"Plain\",\n",
    "    )\n",
    "\n",
    "    model.fit(x_train, y_train, eval_set=[(x_valid, y_valid)], verbose=False)\n",
    "\n",
    "    preds_train = model.predict_proba(x_train)[:, 1]\n",
    "    preds_valid = model.predict_proba(x_valid)[:, 1]\n",
    "    auc_train = roc_auc_score(y_train, preds_train)\n",
    "    auc = roc_auc_score(y_valid, preds_valid)\n",
    "    print(\"Fold\", fold, \", train:\", f\"{auc_train:.6f}\", \", valid:\", f\"{auc:.6f}\")\n",
    "    scores.append(auc)\n",
    "\n",
    "    preds_test = model.predict_proba(x_test)[:, 1]\n",
    "    final_test_predictions.append(preds_test)\n",
    "\n",
    "\n",
    "print(\"AVG AUC:\", np.mean(scores))"
   ]
  },
  {
   "cell_type": "code",
   "execution_count": null,
   "metadata": {},
   "outputs": [
    {
     "data": {
      "text/plain": [
       "'\\nfrom xgboost import XGBClassifier\\nfrom sklearn.metrics import roc_auc_score\\n\\nfinal_test_predictions = []\\nscores = []\\n\\nfor fold in range(folds):\\n    ic(fold)\\n    x_train = train[train.kfold != fold].copy()\\n    x_valid = train[train.kfold == fold].copy()\\n    x_test = test[feature_cols].copy()\\n\\n    y_train = x_train[\"target\"]\\n    y_valid = x_valid[\"target\"]\\n\\n    x_train = x_train[feature_cols]\\n    x_valid = x_valid[feature_cols]\\n\\n    xgb_params = {\\n        \"eval_metric\": \"auc\",\\n        \"objective\": \"binary:logistic\",\\n        \"tree_method\": \"gpu_hist\",\\n        \"gpu_id\": 0,\\n        \"predictor\": \"gpu_predictor\",\\n        \"n_estimators\": 10000,\\n        \"learning_rate\": 0.01063045229441343,\\n        \"gamma\": 0.24652519525750877,\\n        \"max_depth\": 4,\\n        \"seed\": rnd_state,\\n        \"min_child_weight\": 366,\\n        \"subsample\": 0.6423040816299684,\\n        \"colsample_bytree\": 0.7751264493218339,\\n        \"colsample_bylevel\": 0.8675692743597421,\\n        \"use_label_encoder\": False,\\n        \"lambda\": 0,\\n        \"alpha\": 10,\\n    }\\n\\n    print(\\'Fitting...\\')\\n    model = XGBClassifier(**xgb_params)\\n    model.fit(x_train, y_train, eval_set=[(x_valid, y_valid)], verbose=False)\\n\\n    print(\\'Predicting...\\')\\n    preds_train = model.predict_proba(x_train)[:, 1]\\n    preds_valid = model.predict_proba(x_valid)[:, 1]\\n    auc_train = roc_auc_score(y_train, preds_train)\\n    auc = roc_auc_score(y_valid, preds_valid)\\n    print(\"Fold\", fold, \", train:\", f\"{auc_train:.6f}\", \", valid:\", f\"{auc:.6f}\")\\n    scores.append(auc)\\n\\n    preds_test = model.predict_proba(x_test)[:, 1]\\n    final_test_predictions.append(preds_test)\\n\\n\\nprint(\"AVG AUC:\", np.mean(scores))\\n'"
      ]
     },
     "execution_count": 36,
     "metadata": {},
     "output_type": "execute_result"
    }
   ],
   "source": [
    "\"\"\"\n",
    "from xgboost import XGBClassifier\n",
    "from sklearn.metrics import roc_auc_score\n",
    "\n",
    "final_test_predictions = []\n",
    "scores = []\n",
    "\n",
    "for fold in range(folds):\n",
    "    ic(fold)\n",
    "    x_train = train[train.kfold != fold].copy()\n",
    "    x_valid = train[train.kfold == fold].copy()\n",
    "    x_test = test[feature_cols].copy()\n",
    "\n",
    "    y_train = x_train[\"target\"]\n",
    "    y_valid = x_valid[\"target\"]\n",
    "\n",
    "    x_train = x_train[feature_cols]\n",
    "    x_valid = x_valid[feature_cols]\n",
    "\n",
    "    xgb_params = {\n",
    "        \"eval_metric\": \"auc\",\n",
    "        \"objective\": \"binary:logistic\",\n",
    "        \"tree_method\": \"gpu_hist\",\n",
    "        \"gpu_id\": 0,\n",
    "        \"predictor\": \"gpu_predictor\",\n",
    "        \"n_estimators\": 10000,\n",
    "        \"learning_rate\": 0.01063045229441343,\n",
    "        \"gamma\": 0.24652519525750877,\n",
    "        \"max_depth\": 4,\n",
    "        \"seed\": rnd_state,\n",
    "        \"min_child_weight\": 366,\n",
    "        \"subsample\": 0.6423040816299684,\n",
    "        \"colsample_bytree\": 0.7751264493218339,\n",
    "        \"colsample_bylevel\": 0.8675692743597421,\n",
    "        \"use_label_encoder\": False,\n",
    "        \"lambda\": 0,\n",
    "        \"alpha\": 10,\n",
    "    }\n",
    "\n",
    "    print('Fitting...')\n",
    "    model = XGBClassifier(**xgb_params)\n",
    "    model.fit(x_train, y_train, eval_set=[(x_valid, y_valid)], verbose=False)\n",
    "\n",
    "    print('Predicting...')\n",
    "    preds_train = model.predict_proba(x_train)[:, 1]\n",
    "    preds_valid = model.predict_proba(x_valid)[:, 1]\n",
    "    auc_train = roc_auc_score(y_train, preds_train)\n",
    "    auc = roc_auc_score(y_valid, preds_valid)\n",
    "    print(\"Fold\", fold, \", train:\", f\"{auc_train:.6f}\", \", valid:\", f\"{auc:.6f}\")\n",
    "    scores.append(auc)\n",
    "\n",
    "    preds_test = model.predict_proba(x_test)[:, 1]\n",
    "    final_test_predictions.append(preds_test)\n",
    "\n",
    "\n",
    "print(\"AVG AUC:\", np.mean(scores))\n",
    "\"\"\""
   ]
  },
  {
   "cell_type": "markdown",
   "metadata": {},
   "source": [
    "#  Submit results"
   ]
  },
  {
   "cell_type": "code",
   "execution_count": null,
   "metadata": {},
   "outputs": [
    {
     "name": "stdout",
     "output_type": "stream",
     "text": [
      "2021-10-19_submission_kmean-fs13-ctb-op.csv\n"
     ]
    }
   ],
   "source": [
    "import numpy as np\n",
    "from datetime import datetime\n",
    "\n",
    "# datetime object containing current date and time\n",
    "now = datetime.now()\n",
    "now = now.strftime(\"%Y-%m-%d\")\n",
    "\n",
    "objective = \"kmean-fs13-ctb-op\"\n",
    "\n",
    "curr_submission_fn = f\"{now}_submission_{objective}.csv\"\n",
    "\n",
    "sample_df['target'] = np.mean(np.column_stack(final_test_predictions), axis=1)\n",
    "#sample_df['target'] = round(sample_df['target'],0)\n",
    "sample_df.to_csv(PATH_SUB + curr_submission_fn, index=False)\n",
    "\n",
    "print(curr_submission_fn)\n"
   ]
  },
  {
   "cell_type": "code",
   "execution_count": null,
   "metadata": {},
   "outputs": [
    {
     "name": "stdout",
     "output_type": "stream",
     "text": [
      "Successfully submitted to Tabular Playground Series - Oct 2021\n"
     ]
    },
    {
     "name": "stderr",
     "output_type": "stream",
     "text": [
      "\n",
      "  0%|          | 0.00/13.5M [00:00<?, ?B/s]\n",
      "  0%|          | 8.00k/13.5M [00:00<04:11, 56.1kB/s]\n",
      "  1%|          | 104k/13.5M [00:00<00:27, 503kB/s]  \n",
      "  1%|          | 168k/13.5M [00:05<08:47, 26.5kB/s]\n",
      "  2%|▏         | 232k/13.5M [00:05<05:23, 43.0kB/s]\n",
      "  2%|▏         | 272k/13.5M [00:05<04:07, 55.9kB/s]\n",
      "  2%|▏         | 312k/13.5M [00:05<03:15, 70.7kB/s]\n",
      "  3%|▎         | 352k/13.5M [00:05<02:36, 87.9kB/s]\n",
      "  3%|▎         | 384k/13.5M [00:06<02:10, 105kB/s] \n",
      "  3%|▎         | 416k/13.5M [00:06<01:47, 127kB/s]\n",
      "  3%|▎         | 456k/13.5M [00:06<01:26, 159kB/s]\n",
      "  4%|▎         | 496k/13.5M [00:06<01:11, 190kB/s]\n",
      "  4%|▍         | 536k/13.5M [00:06<01:02, 218kB/s]\n",
      "  4%|▍         | 568k/13.5M [00:06<00:57, 236kB/s]\n",
      "  4%|▍         | 600k/13.5M [00:06<00:56, 241kB/s]\n",
      "  5%|▍         | 632k/13.5M [00:06<00:54, 249kB/s]\n",
      "  5%|▍         | 664k/13.5M [00:06<00:51, 260kB/s]\n",
      "  5%|▌         | 696k/13.5M [00:07<00:49, 269kB/s]\n",
      "  5%|▌         | 728k/13.5M [00:07<00:51, 259kB/s]\n",
      "  6%|▌         | 768k/13.5M [00:07<00:45, 294kB/s]\n",
      "  6%|▌         | 800k/13.5M [00:07<00:45, 293kB/s]\n",
      "  6%|▌         | 848k/13.5M [00:07<00:40, 327kB/s]\n",
      "  6%|▋         | 888k/13.5M [00:07<00:40, 325kB/s]\n",
      "  7%|▋         | 928k/13.5M [00:07<00:39, 336kB/s]\n",
      "  7%|▋         | 968k/13.5M [00:07<00:38, 344kB/s]\n",
      "  7%|▋         | 0.98M/13.5M [00:08<00:38, 343kB/s]\n",
      "  8%|▊         | 1.02M/13.5M [00:08<00:49, 261kB/s]\n",
      "  8%|▊         | 1.09M/13.5M [00:08<00:37, 343kB/s]\n",
      "  8%|▊         | 1.12M/13.5M [00:08<01:04, 200kB/s]\n",
      "  9%|▉         | 1.19M/13.5M [00:08<00:48, 268kB/s]\n",
      "  9%|▉         | 1.23M/13.5M [00:09<00:45, 285kB/s]\n",
      "  9%|▉         | 1.27M/13.5M [00:09<01:07, 190kB/s]\n",
      " 10%|▉         | 1.32M/13.5M [00:09<00:51, 246kB/s]\n",
      " 10%|█         | 1.36M/13.5M [00:09<00:48, 265kB/s]\n",
      " 10%|█         | 1.40M/13.5M [00:09<00:47, 268kB/s]\n",
      " 11%|█         | 1.44M/13.5M [00:10<01:45, 120kB/s]\n",
      " 11%|█         | 1.48M/13.5M [00:11<01:52, 112kB/s]\n",
      " 12%|█▏        | 1.57M/13.5M [00:11<01:08, 182kB/s]\n",
      " 12%|█▏        | 1.61M/13.5M [00:11<01:01, 203kB/s]\n",
      " 12%|█▏        | 1.65M/13.5M [00:11<00:56, 218kB/s]\n",
      " 13%|█▎        | 1.70M/13.5M [00:11<00:50, 246kB/s]\n",
      " 13%|█▎        | 1.75M/13.5M [00:11<00:43, 283kB/s]\n",
      " 13%|█▎        | 1.79M/13.5M [00:11<00:41, 293kB/s]\n",
      " 14%|█▎        | 1.84M/13.5M [00:12<00:39, 313kB/s]\n",
      " 14%|█▍        | 1.88M/13.5M [00:12<00:41, 290kB/s]\n",
      " 14%|█▍        | 1.93M/13.5M [00:12<00:34, 347kB/s]\n",
      " 15%|█▍        | 1.97M/13.5M [00:12<00:34, 352kB/s]\n",
      " 15%|█▍        | 2.01M/13.5M [00:12<00:38, 309kB/s]\n",
      " 15%|█▌        | 2.05M/13.5M [00:12<00:34, 347kB/s]\n",
      " 16%|█▌        | 2.09M/13.5M [00:12<00:33, 352kB/s]\n",
      " 16%|█▌        | 2.13M/13.5M [00:12<00:33, 356kB/s]\n",
      " 16%|█▌        | 2.17M/13.5M [00:13<00:33, 353kB/s]\n",
      " 16%|█▋        | 2.21M/13.5M [00:13<00:36, 327kB/s]\n",
      " 17%|█▋        | 2.25M/13.5M [00:13<00:36, 325kB/s]\n",
      " 17%|█▋        | 2.29M/13.5M [00:13<00:34, 343kB/s]\n",
      " 17%|█▋        | 2.33M/13.5M [00:13<00:35, 330kB/s]\n",
      " 18%|█▊        | 2.37M/13.5M [00:13<00:36, 318kB/s]\n",
      " 18%|█▊        | 2.40M/13.5M [00:13<00:39, 295kB/s]\n",
      " 18%|█▊        | 2.43M/13.5M [00:14<00:38, 299kB/s]\n",
      " 18%|█▊        | 2.46M/13.5M [00:14<00:45, 253kB/s]\n",
      " 19%|█▊        | 2.52M/13.5M [00:14<00:35, 320kB/s]\n",
      " 19%|█▉        | 2.55M/13.5M [00:14<00:35, 323kB/s]\n",
      " 19%|█▉        | 2.59M/13.5M [00:14<00:41, 276kB/s]\n",
      " 20%|█▉        | 2.65M/13.5M [00:14<00:35, 322kB/s]\n",
      " 20%|█▉        | 2.69M/13.5M [00:14<00:34, 331kB/s]\n",
      " 20%|██        | 2.73M/13.5M [00:14<00:34, 330kB/s]\n",
      " 21%|██        | 2.77M/13.5M [00:15<00:45, 247kB/s]\n",
      " 22%|██▏       | 2.91M/13.5M [00:15<00:22, 484kB/s]\n",
      " 22%|██▏       | 2.98M/13.5M [00:15<00:24, 448kB/s]\n",
      " 22%|██▏       | 3.03M/13.5M [00:15<00:27, 406kB/s]\n",
      " 23%|██▎       | 3.08M/13.5M [00:15<00:28, 390kB/s]\n",
      " 23%|██▎       | 3.12M/13.5M [00:16<00:29, 362kB/s]\n",
      " 23%|██▎       | 3.16M/13.5M [00:16<00:33, 328kB/s]\n",
      " 24%|██▍       | 3.22M/13.5M [00:16<00:30, 351kB/s]\n",
      " 24%|██▍       | 3.26M/13.5M [00:16<00:30, 355kB/s]\n",
      " 24%|██▍       | 3.30M/13.5M [00:16<00:37, 282kB/s]\n",
      " 25%|██▍       | 3.37M/13.5M [00:16<00:29, 362kB/s]\n",
      " 25%|██▌       | 3.41M/13.5M [00:16<00:29, 360kB/s]\n",
      " 26%|██▌       | 3.45M/13.5M [00:17<00:29, 361kB/s]\n",
      " 26%|██▌       | 3.48M/13.5M [00:17<00:43, 244kB/s]\n",
      " 28%|██▊       | 3.71M/13.5M [00:17<00:16, 629kB/s]\n",
      " 28%|██▊       | 3.80M/13.5M [00:17<00:19, 512kB/s]\n",
      " 29%|██▊       | 3.87M/13.5M [00:18<00:38, 263kB/s]\n",
      " 30%|███       | 4.08M/13.5M [00:18<00:21, 454kB/s]\n",
      " 31%|███       | 4.16M/13.5M [00:18<00:22, 435kB/s]\n",
      " 31%|███▏      | 4.23M/13.5M [00:19<00:23, 419kB/s]\n",
      " 32%|███▏      | 4.30M/13.5M [00:19<00:23, 404kB/s]\n",
      " 32%|███▏      | 4.35M/13.5M [00:19<00:27, 344kB/s]\n",
      " 33%|███▎      | 4.42M/13.5M [00:19<00:24, 394kB/s]\n",
      " 33%|███▎      | 4.48M/13.5M [00:20<00:40, 233kB/s]\n",
      " 34%|███▍      | 4.63M/13.5M [00:20<00:23, 397kB/s]\n",
      " 35%|███▍      | 4.70M/13.5M [00:20<00:23, 396kB/s]\n",
      " 35%|███▌      | 4.77M/13.5M [00:20<00:32, 285kB/s]\n",
      " 36%|███▋      | 4.90M/13.5M [00:21<00:22, 405kB/s]\n",
      " 37%|███▋      | 4.96M/13.5M [00:21<00:22, 390kB/s]\n",
      " 37%|███▋      | 5.02M/13.5M [00:21<00:22, 394kB/s]\n",
      " 38%|███▊      | 5.07M/13.5M [00:21<00:22, 387kB/s]\n",
      " 38%|███▊      | 5.12M/13.5M [00:21<00:31, 282kB/s]\n",
      " 39%|███▉      | 5.23M/13.5M [00:21<00:21, 397kB/s]\n",
      " 39%|███▉      | 5.28M/13.5M [00:22<00:28, 301kB/s]\n",
      " 40%|███▉      | 5.38M/13.5M [00:22<00:20, 407kB/s]\n",
      " 40%|████      | 5.45M/13.5M [00:22<00:27, 307kB/s]\n",
      " 41%|████      | 5.55M/13.5M [00:22<00:22, 373kB/s]\n",
      " 42%|████▏     | 5.60M/13.5M [00:23<00:22, 369kB/s]\n",
      " 42%|████▏     | 5.65M/13.5M [00:23<00:23, 350kB/s]\n",
      " 42%|████▏     | 5.69M/13.5M [00:23<00:41, 198kB/s]\n",
      " 43%|████▎     | 5.73M/13.5M [00:24<00:39, 207kB/s]\n",
      " 44%|████▍     | 5.90M/13.5M [00:24<00:19, 399kB/s]\n",
      " 44%|████▍     | 5.96M/13.5M [00:24<00:20, 384kB/s]\n",
      " 45%|████▍     | 6.02M/13.5M [00:24<00:20, 373kB/s]\n",
      " 45%|████▍     | 6.06M/13.5M [00:24<00:21, 362kB/s]\n",
      " 45%|████▌     | 6.11M/13.5M [00:24<00:21, 356kB/s]\n",
      " 46%|████▌     | 6.15M/13.5M [00:25<00:34, 220kB/s]\n",
      " 46%|████▋     | 6.27M/13.5M [00:25<00:20, 364kB/s]\n",
      " 47%|████▋     | 6.32M/13.5M [00:25<00:20, 358kB/s]\n",
      " 47%|████▋     | 6.38M/13.5M [00:25<00:28, 265kB/s]\n",
      " 48%|████▊     | 6.45M/13.5M [00:26<00:23, 313kB/s]\n",
      " 48%|████▊     | 6.52M/13.5M [00:26<00:19, 370kB/s]\n",
      " 49%|████▊     | 6.56M/13.5M [00:26<00:24, 295kB/s]\n",
      " 49%|████▉     | 6.65M/13.5M [00:26<00:18, 382kB/s]\n",
      " 50%|████▉     | 6.70M/13.5M [00:26<00:19, 361kB/s]\n",
      " 50%|█████     | 6.75M/13.5M [00:26<00:19, 366kB/s]\n",
      " 50%|█████     | 6.80M/13.5M [00:27<00:19, 359kB/s]\n",
      " 51%|█████     | 6.84M/13.5M [00:27<00:19, 355kB/s]\n",
      " 51%|█████     | 6.88M/13.5M [00:27<00:19, 351kB/s]\n",
      " 51%|█████▏    | 6.91M/13.5M [00:27<00:22, 300kB/s]\n",
      " 52%|█████▏    | 6.98M/13.5M [00:27<00:18, 360kB/s]\n",
      " 52%|█████▏    | 7.02M/13.5M [00:27<00:18, 367kB/s]\n",
      " 52%|█████▏    | 7.05M/13.5M [00:27<00:19, 353kB/s]\n",
      " 53%|█████▎    | 7.09M/13.5M [00:27<00:19, 343kB/s]\n",
      " 53%|█████▎    | 7.13M/13.5M [00:28<00:19, 336kB/s]\n",
      " 53%|█████▎    | 7.17M/13.5M [00:28<00:18, 351kB/s]\n",
      " 53%|█████▎    | 7.21M/13.5M [00:28<00:20, 321kB/s]\n",
      " 54%|█████▍    | 7.25M/13.5M [00:28<00:19, 336kB/s]\n",
      " 54%|█████▍    | 7.29M/13.5M [00:28<00:18, 344kB/s]\n",
      " 54%|█████▍    | 7.33M/13.5M [00:28<00:18, 357kB/s]\n",
      " 55%|█████▍    | 7.37M/13.5M [00:28<00:18, 345kB/s]\n",
      " 55%|█████▍    | 7.41M/13.5M [00:28<00:20, 318kB/s]\n",
      " 55%|█████▌    | 7.45M/13.5M [00:29<00:18, 350kB/s]\n",
      " 56%|█████▌    | 7.49M/13.5M [00:29<00:18, 335kB/s]\n",
      " 56%|█████▌    | 7.53M/13.5M [00:29<00:17, 349kB/s]\n",
      " 56%|█████▌    | 7.57M/13.5M [00:29<00:17, 346kB/s]\n",
      " 56%|█████▋    | 7.61M/13.5M [00:29<00:18, 332kB/s]\n",
      " 57%|█████▋    | 7.65M/13.5M [00:29<00:17, 344kB/s]\n",
      " 57%|█████▋    | 7.69M/13.5M [00:29<00:17, 349kB/s]\n",
      " 57%|█████▋    | 7.73M/13.5M [00:29<00:18, 332kB/s]\n",
      " 58%|█████▊    | 7.77M/13.5M [00:30<00:17, 349kB/s]\n",
      " 58%|█████▊    | 7.80M/13.5M [00:30<00:17, 344kB/s]\n",
      " 58%|█████▊    | 7.84M/13.5M [00:30<00:16, 357kB/s]\n",
      " 58%|█████▊    | 7.88M/13.5M [00:30<00:17, 345kB/s]\n",
      " 59%|█████▉    | 7.92M/13.5M [00:30<00:18, 318kB/s]\n",
      " 59%|█████▉    | 7.96M/13.5M [00:30<00:17, 330kB/s]\n",
      " 59%|█████▉    | 8.00M/13.5M [00:30<00:16, 338kB/s]\n",
      " 60%|█████▉    | 8.04M/13.5M [00:30<00:16, 353kB/s]\n",
      " 60%|█████▉    | 8.08M/13.5M [00:31<00:16, 349kB/s]\n",
      " 60%|██████    | 8.12M/13.5M [00:31<00:16, 339kB/s]\n",
      " 61%|██████    | 8.16M/13.5M [00:31<00:15, 359kB/s]\n",
      " 61%|██████    | 8.20M/13.5M [00:31<00:16, 340kB/s]\n",
      " 61%|██████    | 8.24M/13.5M [00:31<00:16, 339kB/s]\n",
      " 61%|██████▏   | 8.28M/13.5M [00:31<00:15, 346kB/s]\n",
      " 62%|██████▏   | 8.32M/13.5M [00:31<00:17, 308kB/s]\n",
      " 62%|██████▏   | 8.36M/13.5M [00:32<00:20, 256kB/s]\n",
      " 63%|██████▎   | 8.43M/13.5M [00:32<00:15, 351kB/s]\n",
      " 63%|██████▎   | 8.47M/13.5M [00:32<00:14, 358kB/s]\n",
      " 63%|██████▎   | 8.51M/13.5M [00:32<00:16, 308kB/s]\n",
      " 64%|██████▎   | 8.56M/13.5M [00:32<00:14, 351kB/s]\n",
      " 64%|██████▍   | 8.60M/13.5M [00:32<00:14, 355kB/s]\n",
      " 64%|██████▍   | 8.64M/13.5M [00:32<00:14, 351kB/s]\n",
      " 64%|██████▍   | 8.68M/13.5M [00:32<00:14, 355kB/s]\n",
      " 65%|██████▍   | 8.72M/13.5M [00:33<00:16, 303kB/s]\n",
      " 65%|██████▌   | 8.77M/13.5M [00:33<00:13, 363kB/s]\n",
      " 65%|██████▌   | 8.81M/13.5M [00:33<00:14, 344kB/s]\n",
      " 66%|██████▌   | 8.85M/13.5M [00:33<00:13, 349kB/s]\n",
      " 66%|██████▌   | 8.89M/13.5M [00:33<00:13, 352kB/s]\n",
      " 66%|██████▋   | 8.94M/13.5M [00:33<00:12, 368kB/s]\n",
      " 67%|██████▋   | 8.98M/13.5M [00:33<00:13, 359kB/s]\n",
      " 67%|██████▋   | 9.02M/13.5M [00:33<00:13, 354kB/s]\n",
      " 67%|██████▋   | 9.05M/13.5M [00:34<00:13, 343kB/s]\n",
      " 67%|██████▋   | 9.09M/13.5M [00:34<00:13, 350kB/s]\n",
      " 68%|██████▊   | 9.13M/13.5M [00:34<00:13, 346kB/s]\n",
      " 68%|██████▊   | 9.17M/13.5M [00:34<00:12, 352kB/s]\n",
      " 68%|██████▊   | 9.21M/13.5M [00:34<00:13, 335kB/s]\n",
      " 69%|██████▊   | 9.25M/13.5M [00:34<00:18, 236kB/s]\n",
      " 69%|██████▉   | 9.28M/13.5M [00:35<00:26, 168kB/s]\n",
      " 70%|███████   | 9.47M/13.5M [00:35<00:09, 429kB/s]\n",
      " 71%|███████   | 9.53M/13.5M [00:35<00:09, 419kB/s]\n",
      " 71%|███████   | 9.59M/13.5M [00:35<00:10, 402kB/s]\n",
      " 71%|███████▏  | 9.63M/13.5M [00:35<00:10, 392kB/s]\n",
      " 72%|███████▏  | 9.68M/13.5M [00:35<00:10, 390kB/s]\n",
      " 72%|███████▏  | 9.73M/13.5M [00:36<00:10, 370kB/s]\n",
      " 72%|███████▏  | 9.77M/13.5M [00:36<00:10, 366kB/s]\n",
      " 73%|███████▎  | 9.81M/13.5M [00:36<00:10, 376kB/s]\n",
      " 73%|███████▎  | 9.85M/13.5M [00:36<00:11, 330kB/s]\n",
      " 73%|███████▎  | 9.89M/13.5M [00:36<00:10, 345kB/s]\n",
      " 74%|███████▎  | 9.93M/13.5M [00:36<00:10, 350kB/s]\n",
      " 74%|███████▍  | 9.97M/13.5M [00:36<00:10, 348kB/s]\n",
      " 74%|███████▍  | 10.0M/13.5M [00:36<00:10, 352kB/s]\n",
      " 75%|███████▍  | 10.1M/13.5M [00:37<00:09, 362kB/s]\n",
      " 75%|███████▍  | 10.1M/13.5M [00:37<00:19, 185kB/s]\n",
      " 76%|███████▌  | 10.3M/13.5M [00:37<00:08, 400kB/s]\n",
      " 77%|███████▋  | 10.3M/13.5M [00:37<00:08, 388kB/s]\n",
      " 77%|███████▋  | 10.4M/13.5M [00:38<00:08, 370kB/s]\n",
      " 77%|███████▋  | 10.4M/13.5M [00:38<00:08, 379kB/s]\n",
      " 78%|███████▊  | 10.5M/13.5M [00:38<00:08, 353kB/s]\n",
      " 78%|███████▊  | 10.5M/13.5M [00:38<00:08, 350kB/s]\n",
      " 78%|███████▊  | 10.6M/13.5M [00:38<00:08, 354kB/s]\n",
      " 79%|███████▊  | 10.6M/13.5M [00:38<00:08, 357kB/s]\n",
      " 79%|███████▉  | 10.6M/13.5M [00:38<00:08, 346kB/s]\n",
      " 79%|███████▉  | 10.7M/13.5M [00:38<00:08, 351kB/s]\n",
      " 79%|███████▉  | 10.7M/13.5M [00:39<00:08, 342kB/s]\n",
      " 80%|███████▉  | 10.8M/13.5M [00:39<00:08, 355kB/s]\n",
      " 80%|████████  | 10.8M/13.5M [00:39<00:08, 338kB/s]\n",
      " 80%|████████  | 10.8M/13.5M [00:39<00:08, 339kB/s]\n",
      " 81%|████████  | 10.9M/13.5M [00:39<00:07, 353kB/s]\n",
      " 81%|████████  | 10.9M/13.5M [00:39<00:07, 357kB/s]\n",
      " 81%|████████  | 10.9M/13.5M [00:39<00:07, 348kB/s]\n",
      " 81%|████████▏ | 11.0M/13.5M [00:39<00:07, 361kB/s]\n",
      " 82%|████████▏ | 11.0M/13.5M [00:39<00:07, 359kB/s]\n",
      " 82%|████████▏ | 11.1M/13.5M [00:40<00:07, 352kB/s]\n",
      " 82%|████████▏ | 11.1M/13.5M [00:40<00:07, 355kB/s]\n",
      " 83%|████████▎ | 11.2M/13.5M [00:40<00:06, 375kB/s]\n",
      " 83%|████████▎ | 11.2M/13.5M [00:40<00:06, 351kB/s]\n",
      " 83%|████████▎ | 11.2M/13.5M [00:40<00:06, 362kB/s]\n",
      " 84%|████████▎ | 11.3M/13.5M [00:40<00:06, 356kB/s]\n",
      " 84%|████████▍ | 11.3M/13.5M [00:41<00:09, 232kB/s]\n",
      " 85%|████████▍ | 11.4M/13.5M [00:41<00:05, 388kB/s]\n",
      " 85%|████████▌ | 11.5M/13.5M [00:41<00:05, 385kB/s]\n",
      " 85%|████████▌ | 11.5M/13.5M [00:41<00:05, 367kB/s]\n",
      " 86%|████████▌ | 11.6M/13.5M [00:41<00:05, 359kB/s]\n",
      " 86%|████████▌ | 11.6M/13.5M [00:41<00:05, 355kB/s]\n",
      " 86%|████████▋ | 11.6M/13.5M [00:41<00:05, 364kB/s]\n",
      " 87%|████████▋ | 11.7M/13.5M [00:41<00:05, 365kB/s]\n",
      " 87%|████████▋ | 11.7M/13.5M [00:42<00:05, 357kB/s]\n",
      " 87%|████████▋ | 11.8M/13.5M [00:42<00:05, 359kB/s]\n",
      " 88%|████████▊ | 11.8M/13.5M [00:42<00:05, 347kB/s]\n",
      " 88%|████████▊ | 11.8M/13.5M [00:42<00:04, 359kB/s]\n",
      " 88%|████████▊ | 11.9M/13.5M [00:42<00:04, 361kB/s]\n",
      " 88%|████████▊ | 11.9M/13.5M [00:42<00:04, 367kB/s]\n",
      " 89%|████████▊ | 12.0M/13.5M [00:42<00:04, 351kB/s]\n",
      " 89%|████████▉ | 12.0M/13.5M [00:42<00:04, 373kB/s]\n",
      " 89%|████████▉ | 12.0M/13.5M [00:42<00:04, 349kB/s]\n",
      " 90%|████████▉ | 12.1M/13.5M [00:43<00:04, 359kB/s]\n",
      " 90%|████████▉ | 12.1M/13.5M [00:43<00:05, 267kB/s]\n",
      " 91%|█████████ | 12.2M/13.5M [00:43<00:03, 373kB/s]\n",
      " 91%|█████████ | 12.2M/13.5M [00:43<00:03, 380kB/s]\n",
      " 91%|█████████ | 12.3M/13.5M [00:43<00:03, 379kB/s]\n",
      " 91%|█████████▏| 12.3M/13.5M [00:43<00:03, 379kB/s]\n",
      " 92%|█████████▏| 12.4M/13.5M [00:43<00:03, 367kB/s]\n",
      " 92%|█████████▏| 12.4M/13.5M [00:44<00:03, 351kB/s]\n",
      " 92%|█████████▏| 12.5M/13.5M [00:44<00:02, 361kB/s]\n",
      " 93%|█████████▎| 12.5M/13.5M [00:44<00:02, 369kB/s]\n",
      " 93%|█████████▎| 12.5M/13.5M [00:44<00:02, 361kB/s]\n",
      " 93%|█████████▎| 12.6M/13.5M [00:44<00:04, 235kB/s]\n",
      " 94%|█████████▍| 12.7M/13.5M [00:44<00:02, 401kB/s]\n",
      " 94%|█████████▍| 12.7M/13.5M [00:45<00:02, 364kB/s]\n",
      " 95%|█████████▍| 12.8M/13.5M [00:45<00:02, 362kB/s]\n",
      " 95%|█████████▌| 12.8M/13.5M [00:45<00:01, 372kB/s]\n",
      " 95%|█████████▌| 12.9M/13.5M [00:45<00:01, 368kB/s]\n",
      " 96%|█████████▌| 12.9M/13.5M [00:45<00:01, 361kB/s]\n",
      " 96%|█████████▌| 13.0M/13.5M [00:45<00:01, 372kB/s]\n",
      " 96%|█████████▋| 13.0M/13.5M [00:45<00:01, 369kB/s]\n",
      " 97%|█████████▋| 13.0M/13.5M [00:45<00:01, 373kB/s]\n",
      " 97%|█████████▋| 13.1M/13.5M [00:48<00:07, 57.6kB/s]\n",
      " 98%|█████████▊| 13.2M/13.5M [00:50<00:05, 54.5kB/s]\n",
      " 99%|█████████▊| 13.3M/13.5M [00:50<00:02, 90.1kB/s]\n",
      " 99%|█████████▉| 13.3M/13.5M [00:50<00:01, 105kB/s] \n",
      " 99%|█████████▉| 13.4M/13.5M [00:50<00:00, 144kB/s]\n",
      "100%|█████████▉| 13.4M/13.5M [00:50<00:00, 163kB/s]\n",
      "100%|██████████| 13.5M/13.5M [00:50<00:00, 189kB/s]\n",
      "100%|██████████| 13.5M/13.5M [00:52<00:00, 269kB/s]\n"
     ]
    }
   ],
   "source": [
    "#!kaggle competitions submit tabular-playground-series-oct-2021 -f {PATH_SUB+curr_submission_fn} -m {curr_submission_fn}"
   ]
  }
 ],
 "metadata": {
  "interpreter": {
   "hash": "79c27f56f82a3e636d8c32f16194805e02194739f32cfb292b3e6d4616b1ccd0"
  },
  "kernelspec": {
   "display_name": "Python 3.9.7 64-bit ('kaggle-competition': conda)",
   "name": "python3"
  },
  "language_info": {
   "codemirror_mode": {
    "name": "ipython",
    "version": 3
   },
   "file_extension": ".py",
   "mimetype": "text/x-python",
   "name": "python",
   "nbconvert_exporter": "python",
   "pygments_lexer": "ipython3",
   "version": "3.9.7"
  },
  "papermill": {
   "default_parameters": {},
   "duration": 360.477415,
   "end_time": "2021-10-17T14:16:39.439751",
   "environment_variables": {},
   "exception": null,
   "input_path": "__notebook__.ipynb",
   "output_path": "__notebook__.ipynb",
   "parameters": {},
   "start_time": "2021-10-17T14:10:38.962336",
   "version": "2.3.3"
  }
 },
 "nbformat": 4,
 "nbformat_minor": 5
}
