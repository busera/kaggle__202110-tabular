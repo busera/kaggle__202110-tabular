{
 "cells": [
  {
   "cell_type": "markdown",
   "metadata": {},
   "source": [
    "04c: Version without PCA\n",
    "\n",
    "2021-10-25: \n",
    "  - Clean-up\n",
    "  - Using useful features only to avoid overfitting (if possible)\n",
    "  - Testing 6 clusters and poly degree 2 incl poly for clusters"
   ]
  },
  {
   "cell_type": "code",
   "execution_count": 1,
   "id": "7e6e82a2",
   "metadata": {
    "_cell_guid": "b1076dfc-b9ad-4769-8c92-a6c4dae69d19",
    "_uuid": "8f2839f25d086af736a60e9eeb907d3b93b6e0e5",
    "execution": {
     "iopub.execute_input": "2021-10-17T14:10:49.100187Z",
     "iopub.status.busy": "2021-10-17T14:10:49.099085Z",
     "iopub.status.idle": "2021-10-17T14:10:50.363556Z",
     "shell.execute_reply": "2021-10-17T14:10:50.362751Z",
     "shell.execute_reply.started": "2021-10-17T14:02:39.499327Z"
    },
    "papermill": {
     "duration": 1.296891,
     "end_time": "2021-10-17T14:10:50.363730",
     "exception": false,
     "start_time": "2021-10-17T14:10:49.066839",
     "status": "completed"
    },
    "tags": []
   },
   "outputs": [],
   "source": [
    "# The rest of the modules are loaded when required.\n",
    "# To ensure a standalone character (for easier reusability).\n",
    "\n",
    "import os # for detecting CPU cores\n",
    "import configparser # to load standard config and parameters\n",
    "import pandas as pd\n",
    "import numpy as np\n",
    "import warnings\n",
    "\n",
    "# Visualization\n",
    "import matplotlib.pyplot as plt\n",
    "import seaborn as sns\n",
    "import plotly.figure_factory as ff\n",
    "import plotly.express as px\n",
    "\n",
    "import mlflow\n",
    "import mlflow.xgboost\n",
    "from urllib.parse import urlparse\n",
    "\n",
    "# Debugging\n",
    "from icecream import ic\n",
    "\n",
    "warnings.filterwarnings('ignore')\n",
    "%load_ext watermark\n",
    "%matplotlib inline"
   ]
  },
  {
   "cell_type": "code",
   "execution_count": 2,
   "metadata": {},
   "outputs": [
    {
     "name": "stdout",
     "output_type": "stream",
     "text": [
      "True\n",
      "WARNING:tensorflow:From C:\\Users\\buser\\AppData\\Local\\Temp/ipykernel_8884/1814797701.py:6: is_gpu_available (from tensorflow.python.framework.test_util) is deprecated and will be removed in a future version.\n",
      "Instructions for updating:\n",
      "Use `tf.config.list_physical_devices('GPU')` instead.\n",
      "True\n"
     ]
    }
   ],
   "source": [
    "# importing the tensorflow package\n",
    "import tensorflow as tf\n",
    "\n",
    "# Checking GPU support\n",
    "print(tf.test.is_built_with_cuda())  # True\n",
    "print(tf.test.is_gpu_available(cuda_only=False, min_cuda_compute_capability=None))  # True\n",
    "# print(tf.config.list_physical_devices('GPU'))\n"
   ]
  },
  {
   "cell_type": "code",
   "execution_count": 3,
   "metadata": {},
   "outputs": [
    {
     "name": "stdout",
     "output_type": "stream",
     "text": [
      "Number of CPUs used: 8\n"
     ]
    }
   ],
   "source": [
    "import os\n",
    "import configparser\n",
    "\n",
    "# Load external config file\n",
    "config = configparser.ConfigParser()\n",
    "config.read(\"../resources/config.ini\")\n",
    "\n",
    "PATH_DATA_RAW = config[\"PATHS\"][\"PATH_DATA_RAW\"]\n",
    "PATH_DATA_INT = config[\"PATHS\"][\"PATH_DATA_INT\"]\n",
    "PATH_DATA_PRO = config[\"PATHS\"][\"PATH_DATA_PRO\"]\n",
    "PATH_REPORTS = config[\"PATHS\"][\"PATH_REPORTS\"]\n",
    "PATH_MODELS = config[\"PATHS\"][\"PATH_MODELS\"]\n",
    "PATH_SUB = config[\"PATHS\"][\"PATH_SUB\"]\n",
    "\n",
    "# Telegram Bot\n",
    "token = config[\"TELEGRAM\"][\"token\"]\n",
    "chat_id = config[\"TELEGRAM\"][\"chat_id\"]\n",
    "FILENAME_NB = \"02_baseline_models\" # for Telegram messages\n",
    "\n",
    "# Set global randome state\n",
    "rnd_state = 42\n",
    "\n",
    "# Define available cpu cores\n",
    "n_cpu = os.cpu_count()\n",
    "print(\"Number of CPUs used:\", n_cpu)"
   ]
  },
  {
   "cell_type": "code",
   "execution_count": 4,
   "metadata": {},
   "outputs": [],
   "source": [
    "import urllib, requests #for Telegram notifications\n",
    "\n",
    "def send_telegram_message(message):\n",
    "    \"\"\"Sending messages to Telegram bot via requests.get().\"\"\"\n",
    "    \n",
    "    message = f\"{FILENAME_NB}:\\n{message}\"\n",
    "\n",
    "    # Using \"try and except\" to ensure that the notebook execution will not be stopped only because of problems with the bot.\n",
    "    # Example: No network connection.\n",
    "    # ISSUE: Be careful, an error messages will leak your Telegram Bot Token when uploaded to GitHub.\n",
    "    try:\n",
    "        url = 'https://api.telegram.org/bot%s/sendMessage?chat_id=%s&text=%s'%(token, chat_id, urllib.parse.quote_plus(message))\n",
    "        _ = requests.get(url, timeout=10)\n",
    "    \n",
    "    except Exception as e:\n",
    "        print('\\n\\nSending message to Telegram Bot was not successful.\\n\\n')\n",
    "        print(e)\n",
    "        \n",
    "    return None"
   ]
  },
  {
   "cell_type": "code",
   "execution_count": 5,
   "metadata": {},
   "outputs": [],
   "source": [
    "#train_df = pd.read_csv(PATH_DATA_RAW+'train.csv',index_col=0)\n",
    "#test_df = pd.read_csv(PATH_DATA_RAW+'test.csv',index_col=0)\n",
    "\n",
    "train_df = pd.read_pickle(PATH_DATA_INT+'train-opt.pkl')\n",
    "test_df = pd.read_pickle(PATH_DATA_INT+'test-opt.pkl')\n",
    "\n",
    "sample_df = pd.read_csv(PATH_DATA_RAW+'sample_submission.csv')"
   ]
  },
  {
   "cell_type": "code",
   "execution_count": 6,
   "metadata": {},
   "outputs": [
    {
     "data": {
      "text/html": [
       "<div>\n",
       "<style scoped>\n",
       "    .dataframe tbody tr th:only-of-type {\n",
       "        vertical-align: middle;\n",
       "    }\n",
       "\n",
       "    .dataframe tbody tr th {\n",
       "        vertical-align: top;\n",
       "    }\n",
       "\n",
       "    .dataframe thead th {\n",
       "        text-align: right;\n",
       "    }\n",
       "</style>\n",
       "<table border=\"1\" class=\"dataframe\">\n",
       "  <thead>\n",
       "    <tr style=\"text-align: right;\">\n",
       "      <th></th>\n",
       "      <th>id</th>\n",
       "      <th>f0</th>\n",
       "      <th>f1</th>\n",
       "      <th>f2</th>\n",
       "      <th>f3</th>\n",
       "      <th>f4</th>\n",
       "      <th>f5</th>\n",
       "      <th>f6</th>\n",
       "      <th>f7</th>\n",
       "      <th>f8</th>\n",
       "      <th>...</th>\n",
       "      <th>f276</th>\n",
       "      <th>f277</th>\n",
       "      <th>f278</th>\n",
       "      <th>f279</th>\n",
       "      <th>f280</th>\n",
       "      <th>f281</th>\n",
       "      <th>f282</th>\n",
       "      <th>f283</th>\n",
       "      <th>f284</th>\n",
       "      <th>target</th>\n",
       "    </tr>\n",
       "  </thead>\n",
       "  <tbody>\n",
       "    <tr>\n",
       "      <th>0</th>\n",
       "      <td>0</td>\n",
       "      <td>0.205979</td>\n",
       "      <td>0.410993</td>\n",
       "      <td>0.176775</td>\n",
       "      <td>0.223581</td>\n",
       "      <td>0.423543</td>\n",
       "      <td>0.476140</td>\n",
       "      <td>0.413590</td>\n",
       "      <td>0.612021</td>\n",
       "      <td>0.534873</td>\n",
       "      <td>...</td>\n",
       "      <td>0</td>\n",
       "      <td>1</td>\n",
       "      <td>0</td>\n",
       "      <td>0</td>\n",
       "      <td>0</td>\n",
       "      <td>0</td>\n",
       "      <td>0</td>\n",
       "      <td>0</td>\n",
       "      <td>0</td>\n",
       "      <td>1</td>\n",
       "    </tr>\n",
       "    <tr>\n",
       "      <th>1</th>\n",
       "      <td>1</td>\n",
       "      <td>0.181004</td>\n",
       "      <td>0.473119</td>\n",
       "      <td>0.011734</td>\n",
       "      <td>0.213657</td>\n",
       "      <td>0.619678</td>\n",
       "      <td>0.441593</td>\n",
       "      <td>0.230407</td>\n",
       "      <td>0.686013</td>\n",
       "      <td>0.281971</td>\n",
       "      <td>...</td>\n",
       "      <td>0</td>\n",
       "      <td>1</td>\n",
       "      <td>0</td>\n",
       "      <td>0</td>\n",
       "      <td>0</td>\n",
       "      <td>0</td>\n",
       "      <td>0</td>\n",
       "      <td>0</td>\n",
       "      <td>0</td>\n",
       "      <td>1</td>\n",
       "    </tr>\n",
       "    <tr>\n",
       "      <th>2</th>\n",
       "      <td>2</td>\n",
       "      <td>0.182583</td>\n",
       "      <td>0.307431</td>\n",
       "      <td>0.325950</td>\n",
       "      <td>0.207116</td>\n",
       "      <td>0.605699</td>\n",
       "      <td>0.309695</td>\n",
       "      <td>0.493337</td>\n",
       "      <td>0.751107</td>\n",
       "      <td>0.536272</td>\n",
       "      <td>...</td>\n",
       "      <td>0</td>\n",
       "      <td>0</td>\n",
       "      <td>0</td>\n",
       "      <td>1</td>\n",
       "      <td>1</td>\n",
       "      <td>0</td>\n",
       "      <td>0</td>\n",
       "      <td>0</td>\n",
       "      <td>0</td>\n",
       "      <td>1</td>\n",
       "    </tr>\n",
       "    <tr>\n",
       "      <th>3</th>\n",
       "      <td>3</td>\n",
       "      <td>0.180240</td>\n",
       "      <td>0.494592</td>\n",
       "      <td>0.008367</td>\n",
       "      <td>0.223580</td>\n",
       "      <td>0.760618</td>\n",
       "      <td>0.439211</td>\n",
       "      <td>0.432055</td>\n",
       "      <td>0.776147</td>\n",
       "      <td>0.483958</td>\n",
       "      <td>...</td>\n",
       "      <td>0</td>\n",
       "      <td>0</td>\n",
       "      <td>0</td>\n",
       "      <td>0</td>\n",
       "      <td>1</td>\n",
       "      <td>0</td>\n",
       "      <td>0</td>\n",
       "      <td>0</td>\n",
       "      <td>0</td>\n",
       "      <td>1</td>\n",
       "    </tr>\n",
       "    <tr>\n",
       "      <th>4</th>\n",
       "      <td>4</td>\n",
       "      <td>0.177172</td>\n",
       "      <td>0.495513</td>\n",
       "      <td>0.014263</td>\n",
       "      <td>0.548819</td>\n",
       "      <td>0.625396</td>\n",
       "      <td>0.562493</td>\n",
       "      <td>0.117158</td>\n",
       "      <td>0.561255</td>\n",
       "      <td>0.077115</td>\n",
       "      <td>...</td>\n",
       "      <td>0</td>\n",
       "      <td>1</td>\n",
       "      <td>1</td>\n",
       "      <td>0</td>\n",
       "      <td>1</td>\n",
       "      <td>0</td>\n",
       "      <td>0</td>\n",
       "      <td>1</td>\n",
       "      <td>0</td>\n",
       "      <td>1</td>\n",
       "    </tr>\n",
       "  </tbody>\n",
       "</table>\n",
       "<p>5 rows × 287 columns</p>\n",
       "</div>"
      ],
      "text/plain": [
       "   id        f0        f1        f2        f3        f4        f5        f6  \\\n",
       "0   0  0.205979  0.410993  0.176775  0.223581  0.423543  0.476140  0.413590   \n",
       "1   1  0.181004  0.473119  0.011734  0.213657  0.619678  0.441593  0.230407   \n",
       "2   2  0.182583  0.307431  0.325950  0.207116  0.605699  0.309695  0.493337   \n",
       "3   3  0.180240  0.494592  0.008367  0.223580  0.760618  0.439211  0.432055   \n",
       "4   4  0.177172  0.495513  0.014263  0.548819  0.625396  0.562493  0.117158   \n",
       "\n",
       "         f7        f8  ...  f276  f277  f278  f279  f280  f281  f282  f283  \\\n",
       "0  0.612021  0.534873  ...     0     1     0     0     0     0     0     0   \n",
       "1  0.686013  0.281971  ...     0     1     0     0     0     0     0     0   \n",
       "2  0.751107  0.536272  ...     0     0     0     1     1     0     0     0   \n",
       "3  0.776147  0.483958  ...     0     0     0     0     1     0     0     0   \n",
       "4  0.561255  0.077115  ...     0     1     1     0     1     0     0     1   \n",
       "\n",
       "   f284  target  \n",
       "0     0       1  \n",
       "1     0       1  \n",
       "2     0       1  \n",
       "3     0       1  \n",
       "4     0       1  \n",
       "\n",
       "[5 rows x 287 columns]"
      ]
     },
     "execution_count": 6,
     "metadata": {},
     "output_type": "execute_result"
    }
   ],
   "source": [
    "train_df.head()"
   ]
  },
  {
   "cell_type": "code",
   "execution_count": 7,
   "metadata": {},
   "outputs": [
    {
     "name": "stdout",
     "output_type": "stream",
     "text": [
      "<class 'pandas.core.frame.DataFrame'>\n",
      "RangeIndex: 1000000 entries, 0 to 999999\n",
      "Columns: 287 entries, id to target\n",
      "dtypes: float32(240), int32(1), int8(46)\n",
      "memory usage: 963.2 MB\n"
     ]
    }
   ],
   "source": [
    "train_df.info()"
   ]
  },
  {
   "cell_type": "code",
   "execution_count": 8,
   "id": "56f120a1",
   "metadata": {
    "execution": {
     "iopub.execute_input": "2021-10-17T14:12:29.537157Z",
     "iopub.status.busy": "2021-10-17T14:12:29.536402Z",
     "iopub.status.idle": "2021-10-17T14:14:15.272246Z",
     "shell.execute_reply": "2021-10-17T14:14:15.271300Z",
     "shell.execute_reply.started": "2021-10-17T14:03:51.505616Z"
    },
    "papermill": {
     "duration": 105.759009,
     "end_time": "2021-10-17T14:14:15.272456",
     "exception": false,
     "start_time": "2021-10-17T14:12:29.513447",
     "status": "completed"
    },
    "tags": []
   },
   "outputs": [
    {
     "name": "stderr",
     "output_type": "stream",
     "text": [
      "ic| len(feature_cols): 285\n",
      "ic| len(cnt_features): 240\n",
      "ic| len(cat_features): 45\n"
     ]
    }
   ],
   "source": [
    "feature_cols = train_df.drop(['target','id'], axis=1).columns.tolist()\n",
    "cnt_features = train_df.drop(['target', 'id'], axis=1).select_dtypes(exclude=['int32', 'int8']).columns.tolist()\n",
    "cat_features = train_df.drop(['target', 'id'], axis=1).select_dtypes(exclude=['float32']).columns.tolist()\n",
    "\n",
    "ic(len(feature_cols))\n",
    "ic(len(cnt_features))\n",
    "ic(len(cat_features));"
   ]
  },
  {
   "cell_type": "code",
   "execution_count": 9,
   "metadata": {},
   "outputs": [],
   "source": [
    "useful_features_set1 = (\n",
    "    #pd.read_csv(PATH_DATA_INT + \"features_selected_6way_all.csv\")[\"feature\"]\n",
    "    pd.read_csv(\"features_selected_6way_all.csv\")[\"feature\"]\n",
    "    .head(16)\n",
    "    .tolist()\n",
    ")\n",
    "\n",
    "useful_features_set2 = (\n",
    "    #pd.read_csv(PATH_DATA_INT + \"features_selected_shap_all.csv\")[\"feature\"]\n",
    "    pd.read_csv(\"features_selected_shap_all.csv\")[\"feature\"]\n",
    "    .head(20)\n",
    "    .tolist()\n",
    ")"
   ]
  },
  {
   "cell_type": "code",
   "execution_count": 10,
   "metadata": {},
   "outputs": [],
   "source": [
    "useful_features_set1 += useful_features_set2\n",
    "useful_features_set = list(set(useful_features_set1))"
   ]
  },
  {
   "cell_type": "code",
   "execution_count": 11,
   "metadata": {},
   "outputs": [
    {
     "name": "stderr",
     "output_type": "stream",
     "text": [
      "ic| len(feature_cols): 285\n"
     ]
    },
    {
     "data": {
      "text/plain": [
       "285"
      ]
     },
     "execution_count": 11,
     "metadata": {},
     "output_type": "execute_result"
    }
   ],
   "source": [
    "# Only working with useful features\n",
    "#feature_cols = useful_features_set\n",
    "ic(len(feature_cols))\n"
   ]
  },
  {
   "cell_type": "markdown",
   "metadata": {},
   "source": [
    "# Feature Engineering"
   ]
  },
  {
   "cell_type": "code",
   "execution_count": 12,
   "metadata": {},
   "outputs": [],
   "source": [
    "train_df['mean_numeric'] = train_df[cnt_features].mean(axis=1)\n",
    "train_df['std_numeric'] = train_df[cnt_features].std(axis=1)\n",
    "train_df['min_numeric'] = train_df[cnt_features].min(axis=1)\n",
    "train_df['max_numeric'] = train_df[cnt_features].max(axis=1)\n",
    "train_df['sum_categoricals'] = train_df[cat_features].sum(axis=1)\n",
    "\n",
    "test_df['mean_numeric'] = test_df[cnt_features].mean(axis=1)\n",
    "test_df['std_numeric'] = test_df[cnt_features].std(axis=1)\n",
    "test_df['min_numeric'] = test_df[cnt_features].min(axis=1)\n",
    "test_df['max_numeric'] = test_df[cnt_features].max(axis=1)\n",
    "test_df['sum_categoricals'] = test_df[cat_features].sum(axis=1)"
   ]
  },
  {
   "cell_type": "code",
   "execution_count": 13,
   "metadata": {},
   "outputs": [
    {
     "name": "stderr",
     "output_type": "stream",
     "text": [
      "ic| len(feature_cols): 288\n"
     ]
    }
   ],
   "source": [
    "feature_cols += ['mean_numeric', 'std_numeric','sum_categoricals']\n",
    "ic(len(feature_cols));"
   ]
  },
  {
   "cell_type": "code",
   "execution_count": 14,
   "metadata": {},
   "outputs": [
    {
     "data": {
      "text/html": [
       "<div>\n",
       "<style scoped>\n",
       "    .dataframe tbody tr th:only-of-type {\n",
       "        vertical-align: middle;\n",
       "    }\n",
       "\n",
       "    .dataframe tbody tr th {\n",
       "        vertical-align: top;\n",
       "    }\n",
       "\n",
       "    .dataframe thead th {\n",
       "        text-align: right;\n",
       "    }\n",
       "</style>\n",
       "<table border=\"1\" class=\"dataframe\">\n",
       "  <thead>\n",
       "    <tr style=\"text-align: right;\">\n",
       "      <th></th>\n",
       "      <th>f0</th>\n",
       "      <th>f1</th>\n",
       "      <th>f2</th>\n",
       "      <th>f3</th>\n",
       "      <th>f4</th>\n",
       "      <th>f5</th>\n",
       "      <th>f6</th>\n",
       "      <th>f7</th>\n",
       "      <th>f8</th>\n",
       "      <th>f9</th>\n",
       "      <th>...</th>\n",
       "      <th>f278</th>\n",
       "      <th>f279</th>\n",
       "      <th>f280</th>\n",
       "      <th>f281</th>\n",
       "      <th>f282</th>\n",
       "      <th>f283</th>\n",
       "      <th>f284</th>\n",
       "      <th>mean_numeric</th>\n",
       "      <th>std_numeric</th>\n",
       "      <th>sum_categoricals</th>\n",
       "    </tr>\n",
       "  </thead>\n",
       "  <tbody>\n",
       "    <tr>\n",
       "      <th>0</th>\n",
       "      <td>0.205979</td>\n",
       "      <td>0.410993</td>\n",
       "      <td>0.176775</td>\n",
       "      <td>0.223581</td>\n",
       "      <td>0.423543</td>\n",
       "      <td>0.476140</td>\n",
       "      <td>0.413590</td>\n",
       "      <td>0.612021</td>\n",
       "      <td>0.534873</td>\n",
       "      <td>0.147295</td>\n",
       "      <td>...</td>\n",
       "      <td>0</td>\n",
       "      <td>0</td>\n",
       "      <td>0</td>\n",
       "      <td>0</td>\n",
       "      <td>0</td>\n",
       "      <td>0</td>\n",
       "      <td>0</td>\n",
       "      <td>0.233355</td>\n",
       "      <td>0.208569</td>\n",
       "      <td>17</td>\n",
       "    </tr>\n",
       "    <tr>\n",
       "      <th>1</th>\n",
       "      <td>0.181004</td>\n",
       "      <td>0.473119</td>\n",
       "      <td>0.011734</td>\n",
       "      <td>0.213657</td>\n",
       "      <td>0.619678</td>\n",
       "      <td>0.441593</td>\n",
       "      <td>0.230407</td>\n",
       "      <td>0.686013</td>\n",
       "      <td>0.281971</td>\n",
       "      <td>0.238509</td>\n",
       "      <td>...</td>\n",
       "      <td>0</td>\n",
       "      <td>0</td>\n",
       "      <td>0</td>\n",
       "      <td>0</td>\n",
       "      <td>0</td>\n",
       "      <td>0</td>\n",
       "      <td>0</td>\n",
       "      <td>0.228840</td>\n",
       "      <td>0.208500</td>\n",
       "      <td>16</td>\n",
       "    </tr>\n",
       "    <tr>\n",
       "      <th>2</th>\n",
       "      <td>0.182583</td>\n",
       "      <td>0.307431</td>\n",
       "      <td>0.325950</td>\n",
       "      <td>0.207116</td>\n",
       "      <td>0.605699</td>\n",
       "      <td>0.309695</td>\n",
       "      <td>0.493337</td>\n",
       "      <td>0.751107</td>\n",
       "      <td>0.536272</td>\n",
       "      <td>0.286813</td>\n",
       "      <td>...</td>\n",
       "      <td>0</td>\n",
       "      <td>1</td>\n",
       "      <td>1</td>\n",
       "      <td>0</td>\n",
       "      <td>0</td>\n",
       "      <td>0</td>\n",
       "      <td>0</td>\n",
       "      <td>0.220909</td>\n",
       "      <td>0.196083</td>\n",
       "      <td>13</td>\n",
       "    </tr>\n",
       "    <tr>\n",
       "      <th>3</th>\n",
       "      <td>0.180240</td>\n",
       "      <td>0.494592</td>\n",
       "      <td>0.008367</td>\n",
       "      <td>0.223580</td>\n",
       "      <td>0.760618</td>\n",
       "      <td>0.439211</td>\n",
       "      <td>0.432055</td>\n",
       "      <td>0.776147</td>\n",
       "      <td>0.483958</td>\n",
       "      <td>0.260886</td>\n",
       "      <td>...</td>\n",
       "      <td>0</td>\n",
       "      <td>0</td>\n",
       "      <td>1</td>\n",
       "      <td>0</td>\n",
       "      <td>0</td>\n",
       "      <td>0</td>\n",
       "      <td>0</td>\n",
       "      <td>0.230246</td>\n",
       "      <td>0.211794</td>\n",
       "      <td>17</td>\n",
       "    </tr>\n",
       "    <tr>\n",
       "      <th>4</th>\n",
       "      <td>0.177172</td>\n",
       "      <td>0.495513</td>\n",
       "      <td>0.014263</td>\n",
       "      <td>0.548819</td>\n",
       "      <td>0.625396</td>\n",
       "      <td>0.562493</td>\n",
       "      <td>0.117158</td>\n",
       "      <td>0.561255</td>\n",
       "      <td>0.077115</td>\n",
       "      <td>0.158321</td>\n",
       "      <td>...</td>\n",
       "      <td>1</td>\n",
       "      <td>0</td>\n",
       "      <td>1</td>\n",
       "      <td>0</td>\n",
       "      <td>0</td>\n",
       "      <td>1</td>\n",
       "      <td>0</td>\n",
       "      <td>0.216252</td>\n",
       "      <td>0.202080</td>\n",
       "      <td>18</td>\n",
       "    </tr>\n",
       "  </tbody>\n",
       "</table>\n",
       "<p>5 rows × 288 columns</p>\n",
       "</div>"
      ],
      "text/plain": [
       "         f0        f1        f2        f3        f4        f5        f6  \\\n",
       "0  0.205979  0.410993  0.176775  0.223581  0.423543  0.476140  0.413590   \n",
       "1  0.181004  0.473119  0.011734  0.213657  0.619678  0.441593  0.230407   \n",
       "2  0.182583  0.307431  0.325950  0.207116  0.605699  0.309695  0.493337   \n",
       "3  0.180240  0.494592  0.008367  0.223580  0.760618  0.439211  0.432055   \n",
       "4  0.177172  0.495513  0.014263  0.548819  0.625396  0.562493  0.117158   \n",
       "\n",
       "         f7        f8        f9  ...  f278  f279  f280  f281  f282  f283  \\\n",
       "0  0.612021  0.534873  0.147295  ...     0     0     0     0     0     0   \n",
       "1  0.686013  0.281971  0.238509  ...     0     0     0     0     0     0   \n",
       "2  0.751107  0.536272  0.286813  ...     0     1     1     0     0     0   \n",
       "3  0.776147  0.483958  0.260886  ...     0     0     1     0     0     0   \n",
       "4  0.561255  0.077115  0.158321  ...     1     0     1     0     0     1   \n",
       "\n",
       "   f284  mean_numeric  std_numeric  sum_categoricals  \n",
       "0     0      0.233355     0.208569                17  \n",
       "1     0      0.228840     0.208500                16  \n",
       "2     0      0.220909     0.196083                13  \n",
       "3     0      0.230246     0.211794                17  \n",
       "4     0      0.216252     0.202080                18  \n",
       "\n",
       "[5 rows x 288 columns]"
      ]
     },
     "execution_count": 14,
     "metadata": {},
     "output_type": "execute_result"
    }
   ],
   "source": [
    "train_df[feature_cols].head()"
   ]
  },
  {
   "cell_type": "markdown",
   "metadata": {},
   "source": [
    "## KMeans Clustering"
   ]
  },
  {
   "cell_type": "code",
   "execution_count": 15,
   "metadata": {},
   "outputs": [
    {
     "name": "stderr",
     "output_type": "stream",
     "text": [
      "ic| n_clusters_1: 6\n"
     ]
    }
   ],
   "source": [
    "from sklearn.cluster import KMeans\n",
    "\n",
    "n_clusters_1 = 6\n",
    "cluster_cols = [f\"cluster{i+1}\" for i in range(n_clusters_1)]\n",
    "#kmeans = KMeans(n_clusters=n_clusters_1, n_init=50, max_iter=500, random_state=rnd_state)\n",
    "kmeans = KMeans(n_clusters=n_clusters_1, init=\"k-means++\", max_iter=500, random_state=rnd_state)\n",
    "\n",
    "ic(n_clusters_1);\n",
    "#ic(cluster_cols);"
   ]
  },
  {
   "cell_type": "code",
   "execution_count": 16,
   "id": "c204f8bf",
   "metadata": {
    "execution": {
     "iopub.execute_input": "2021-10-17T14:14:15.336900Z",
     "iopub.status.busy": "2021-10-17T14:14:15.336109Z",
     "iopub.status.idle": "2021-10-17T14:15:10.593911Z",
     "shell.execute_reply": "2021-10-17T14:15:10.593190Z",
     "shell.execute_reply.started": "2021-10-17T14:05:38.239391Z"
    },
    "papermill": {
     "duration": 55.27928,
     "end_time": "2021-10-17T14:15:10.594081",
     "exception": false,
     "start_time": "2021-10-17T14:14:15.314801",
     "status": "completed"
    },
    "tags": []
   },
   "outputs": [],
   "source": [
    "# cluster distance instead of cluster number\n",
    "\n",
    "# train\n",
    "X_cd = kmeans.fit_transform(train_df[useful_features_set])\n",
    "X_cd = pd.DataFrame(X_cd, columns=cluster_cols, index=train_df.index)\n",
    "train = train_df.join(X_cd)\n",
    "\n",
    "# test\n",
    "X_cd = kmeans.transform(test_df[useful_features_set])\n",
    "X_cd = pd.DataFrame(X_cd, columns=cluster_cols, index=test_df.index)\n",
    "test = test_df.join(X_cd)"
   ]
  },
  {
   "cell_type": "code",
   "execution_count": 17,
   "metadata": {},
   "outputs": [
    {
     "name": "stderr",
     "output_type": "stream",
     "text": [
      "ic| len(feature_cols): 294\n"
     ]
    }
   ],
   "source": [
    "feature_cols += cluster_cols\n",
    "ic(len(feature_cols));"
   ]
  },
  {
   "cell_type": "code",
   "execution_count": 18,
   "metadata": {},
   "outputs": [
    {
     "data": {
      "text/html": [
       "<div>\n",
       "<style scoped>\n",
       "    .dataframe tbody tr th:only-of-type {\n",
       "        vertical-align: middle;\n",
       "    }\n",
       "\n",
       "    .dataframe tbody tr th {\n",
       "        vertical-align: top;\n",
       "    }\n",
       "\n",
       "    .dataframe thead th {\n",
       "        text-align: right;\n",
       "    }\n",
       "</style>\n",
       "<table border=\"1\" class=\"dataframe\">\n",
       "  <thead>\n",
       "    <tr style=\"text-align: right;\">\n",
       "      <th></th>\n",
       "      <th>f0</th>\n",
       "      <th>f1</th>\n",
       "      <th>f2</th>\n",
       "      <th>f3</th>\n",
       "      <th>f4</th>\n",
       "      <th>f5</th>\n",
       "      <th>f6</th>\n",
       "      <th>f7</th>\n",
       "      <th>f8</th>\n",
       "      <th>f9</th>\n",
       "      <th>...</th>\n",
       "      <th>f284</th>\n",
       "      <th>mean_numeric</th>\n",
       "      <th>std_numeric</th>\n",
       "      <th>sum_categoricals</th>\n",
       "      <th>cluster1</th>\n",
       "      <th>cluster2</th>\n",
       "      <th>cluster3</th>\n",
       "      <th>cluster4</th>\n",
       "      <th>cluster5</th>\n",
       "      <th>cluster6</th>\n",
       "    </tr>\n",
       "  </thead>\n",
       "  <tbody>\n",
       "    <tr>\n",
       "      <th>0</th>\n",
       "      <td>0.205979</td>\n",
       "      <td>0.410993</td>\n",
       "      <td>0.176775</td>\n",
       "      <td>0.223581</td>\n",
       "      <td>0.423543</td>\n",
       "      <td>0.476140</td>\n",
       "      <td>0.413590</td>\n",
       "      <td>0.612021</td>\n",
       "      <td>0.534873</td>\n",
       "      <td>0.147295</td>\n",
       "      <td>...</td>\n",
       "      <td>0</td>\n",
       "      <td>0.233355</td>\n",
       "      <td>0.208569</td>\n",
       "      <td>17</td>\n",
       "      <td>1.198423</td>\n",
       "      <td>0.550193</td>\n",
       "      <td>1.144446</td>\n",
       "      <td>1.141170</td>\n",
       "      <td>1.519762</td>\n",
       "      <td>0.733143</td>\n",
       "    </tr>\n",
       "    <tr>\n",
       "      <th>1</th>\n",
       "      <td>0.181004</td>\n",
       "      <td>0.473119</td>\n",
       "      <td>0.011734</td>\n",
       "      <td>0.213657</td>\n",
       "      <td>0.619678</td>\n",
       "      <td>0.441593</td>\n",
       "      <td>0.230407</td>\n",
       "      <td>0.686013</td>\n",
       "      <td>0.281971</td>\n",
       "      <td>0.238509</td>\n",
       "      <td>...</td>\n",
       "      <td>0</td>\n",
       "      <td>0.228840</td>\n",
       "      <td>0.208500</td>\n",
       "      <td>16</td>\n",
       "      <td>1.119533</td>\n",
       "      <td>0.344957</td>\n",
       "      <td>1.060747</td>\n",
       "      <td>1.057851</td>\n",
       "      <td>1.457725</td>\n",
       "      <td>0.596446</td>\n",
       "    </tr>\n",
       "    <tr>\n",
       "      <th>2</th>\n",
       "      <td>0.182583</td>\n",
       "      <td>0.307431</td>\n",
       "      <td>0.325950</td>\n",
       "      <td>0.207116</td>\n",
       "      <td>0.605699</td>\n",
       "      <td>0.309695</td>\n",
       "      <td>0.493337</td>\n",
       "      <td>0.751107</td>\n",
       "      <td>0.536272</td>\n",
       "      <td>0.286813</td>\n",
       "      <td>...</td>\n",
       "      <td>0</td>\n",
       "      <td>0.220909</td>\n",
       "      <td>0.196083</td>\n",
       "      <td>13</td>\n",
       "      <td>0.583228</td>\n",
       "      <td>1.130408</td>\n",
       "      <td>1.484626</td>\n",
       "      <td>0.447675</td>\n",
       "      <td>1.097732</td>\n",
       "      <td>1.030424</td>\n",
       "    </tr>\n",
       "    <tr>\n",
       "      <th>3</th>\n",
       "      <td>0.180240</td>\n",
       "      <td>0.494592</td>\n",
       "      <td>0.008367</td>\n",
       "      <td>0.223580</td>\n",
       "      <td>0.760618</td>\n",
       "      <td>0.439211</td>\n",
       "      <td>0.432055</td>\n",
       "      <td>0.776147</td>\n",
       "      <td>0.483958</td>\n",
       "      <td>0.260886</td>\n",
       "      <td>...</td>\n",
       "      <td>0</td>\n",
       "      <td>0.230246</td>\n",
       "      <td>0.211794</td>\n",
       "      <td>17</td>\n",
       "      <td>1.144171</td>\n",
       "      <td>0.414889</td>\n",
       "      <td>1.086924</td>\n",
       "      <td>1.083061</td>\n",
       "      <td>1.476763</td>\n",
       "      <td>0.645714</td>\n",
       "    </tr>\n",
       "    <tr>\n",
       "      <th>4</th>\n",
       "      <td>0.177172</td>\n",
       "      <td>0.495513</td>\n",
       "      <td>0.014263</td>\n",
       "      <td>0.548819</td>\n",
       "      <td>0.625396</td>\n",
       "      <td>0.562493</td>\n",
       "      <td>0.117158</td>\n",
       "      <td>0.561255</td>\n",
       "      <td>0.077115</td>\n",
       "      <td>0.158321</td>\n",
       "      <td>...</td>\n",
       "      <td>0</td>\n",
       "      <td>0.216252</td>\n",
       "      <td>0.202080</td>\n",
       "      <td>18</td>\n",
       "      <td>0.676058</td>\n",
       "      <td>1.149557</td>\n",
       "      <td>1.525712</td>\n",
       "      <td>0.567068</td>\n",
       "      <td>1.152543</td>\n",
       "      <td>1.246617</td>\n",
       "    </tr>\n",
       "  </tbody>\n",
       "</table>\n",
       "<p>5 rows × 294 columns</p>\n",
       "</div>"
      ],
      "text/plain": [
       "         f0        f1        f2        f3        f4        f5        f6  \\\n",
       "0  0.205979  0.410993  0.176775  0.223581  0.423543  0.476140  0.413590   \n",
       "1  0.181004  0.473119  0.011734  0.213657  0.619678  0.441593  0.230407   \n",
       "2  0.182583  0.307431  0.325950  0.207116  0.605699  0.309695  0.493337   \n",
       "3  0.180240  0.494592  0.008367  0.223580  0.760618  0.439211  0.432055   \n",
       "4  0.177172  0.495513  0.014263  0.548819  0.625396  0.562493  0.117158   \n",
       "\n",
       "         f7        f8        f9  ...  f284  mean_numeric  std_numeric  \\\n",
       "0  0.612021  0.534873  0.147295  ...     0      0.233355     0.208569   \n",
       "1  0.686013  0.281971  0.238509  ...     0      0.228840     0.208500   \n",
       "2  0.751107  0.536272  0.286813  ...     0      0.220909     0.196083   \n",
       "3  0.776147  0.483958  0.260886  ...     0      0.230246     0.211794   \n",
       "4  0.561255  0.077115  0.158321  ...     0      0.216252     0.202080   \n",
       "\n",
       "   sum_categoricals  cluster1  cluster2  cluster3  cluster4  cluster5  \\\n",
       "0                17  1.198423  0.550193  1.144446  1.141170  1.519762   \n",
       "1                16  1.119533  0.344957  1.060747  1.057851  1.457725   \n",
       "2                13  0.583228  1.130408  1.484626  0.447675  1.097732   \n",
       "3                17  1.144171  0.414889  1.086924  1.083061  1.476763   \n",
       "4                18  0.676058  1.149557  1.525712  0.567068  1.152543   \n",
       "\n",
       "   cluster6  \n",
       "0  0.733143  \n",
       "1  0.596446  \n",
       "2  1.030424  \n",
       "3  0.645714  \n",
       "4  1.246617  \n",
       "\n",
       "[5 rows x 294 columns]"
      ]
     },
     "execution_count": 18,
     "metadata": {},
     "output_type": "execute_result"
    }
   ],
   "source": [
    "train[feature_cols].head()"
   ]
  },
  {
   "cell_type": "markdown",
   "metadata": {},
   "source": [
    "## Polynomial Features"
   ]
  },
  {
   "cell_type": "markdown",
   "metadata": {},
   "source": [
    "- https://scikit-learn.org/stable/modules/generated/sklearn.preprocessing.PolynomialFeatures.html"
   ]
  },
  {
   "cell_type": "code",
   "execution_count": 19,
   "metadata": {},
   "outputs": [],
   "source": [
    "from sklearn.preprocessing import PolynomialFeatures\n"
   ]
  },
  {
   "cell_type": "code",
   "execution_count": 20,
   "metadata": {},
   "outputs": [],
   "source": [
    "poly = PolynomialFeatures(degree=2, interaction_only=True)\n",
    "\n",
    "X_poly = poly.fit_transform(train[useful_features_set])\n",
    "T_poly = poly.transform(test[useful_features_set])\n",
    "\n",
    "#X_poly = poly.fit_transform(train[feature_cols])\n",
    "#T_poly = poly.transform(test[feature_cols])\n",
    "\n",
    "poly_cols = [f\"usefulf_cols_poly{i+1}\" for i in range(X_poly.shape[1])]\n",
    "\n",
    "X_poly_df = pd.DataFrame(X_poly, columns=poly_cols, index=train.index)\n",
    "T_poly_df = pd.DataFrame(T_poly, columns=poly_cols, index=test.index)\n",
    "\n",
    "train = pd.concat([train, X_poly_df], axis=1)\n",
    "test = pd.concat([test, T_poly_df], axis=1)\n"
   ]
  },
  {
   "cell_type": "code",
   "execution_count": 21,
   "metadata": {},
   "outputs": [
    {
     "data": {
      "text/html": [
       "<div>\n",
       "<style scoped>\n",
       "    .dataframe tbody tr th:only-of-type {\n",
       "        vertical-align: middle;\n",
       "    }\n",
       "\n",
       "    .dataframe tbody tr th {\n",
       "        vertical-align: top;\n",
       "    }\n",
       "\n",
       "    .dataframe thead th {\n",
       "        text-align: right;\n",
       "    }\n",
       "</style>\n",
       "<table border=\"1\" class=\"dataframe\">\n",
       "  <thead>\n",
       "    <tr style=\"text-align: right;\">\n",
       "      <th></th>\n",
       "      <th>f0</th>\n",
       "      <th>f1</th>\n",
       "      <th>f2</th>\n",
       "      <th>f3</th>\n",
       "      <th>f4</th>\n",
       "      <th>f5</th>\n",
       "      <th>f6</th>\n",
       "      <th>f7</th>\n",
       "      <th>f8</th>\n",
       "      <th>f9</th>\n",
       "      <th>...</th>\n",
       "      <th>usefulf_cols_poly343</th>\n",
       "      <th>usefulf_cols_poly344</th>\n",
       "      <th>usefulf_cols_poly345</th>\n",
       "      <th>usefulf_cols_poly346</th>\n",
       "      <th>usefulf_cols_poly347</th>\n",
       "      <th>usefulf_cols_poly348</th>\n",
       "      <th>usefulf_cols_poly349</th>\n",
       "      <th>usefulf_cols_poly350</th>\n",
       "      <th>usefulf_cols_poly351</th>\n",
       "      <th>usefulf_cols_poly352</th>\n",
       "    </tr>\n",
       "  </thead>\n",
       "  <tbody>\n",
       "    <tr>\n",
       "      <th>0</th>\n",
       "      <td>0.205979</td>\n",
       "      <td>0.410993</td>\n",
       "      <td>0.176775</td>\n",
       "      <td>0.223581</td>\n",
       "      <td>0.423543</td>\n",
       "      <td>0.476140</td>\n",
       "      <td>0.413590</td>\n",
       "      <td>0.612021</td>\n",
       "      <td>0.534873</td>\n",
       "      <td>0.147295</td>\n",
       "      <td>...</td>\n",
       "      <td>0.138217</td>\n",
       "      <td>0.051206</td>\n",
       "      <td>0.223420</td>\n",
       "      <td>0.096293</td>\n",
       "      <td>0.105989</td>\n",
       "      <td>0.462448</td>\n",
       "      <td>0.199313</td>\n",
       "      <td>0.171325</td>\n",
       "      <td>0.073841</td>\n",
       "      <td>0.322180</td>\n",
       "    </tr>\n",
       "    <tr>\n",
       "      <th>1</th>\n",
       "      <td>0.181004</td>\n",
       "      <td>0.473119</td>\n",
       "      <td>0.011734</td>\n",
       "      <td>0.213657</td>\n",
       "      <td>0.619678</td>\n",
       "      <td>0.441593</td>\n",
       "      <td>0.230407</td>\n",
       "      <td>0.686013</td>\n",
       "      <td>0.281971</td>\n",
       "      <td>0.238509</td>\n",
       "      <td>...</td>\n",
       "      <td>0.075958</td>\n",
       "      <td>0.062661</td>\n",
       "      <td>0.233470</td>\n",
       "      <td>0.095083</td>\n",
       "      <td>0.065589</td>\n",
       "      <td>0.244381</td>\n",
       "      <td>0.099527</td>\n",
       "      <td>0.201601</td>\n",
       "      <td>0.082104</td>\n",
       "      <td>0.305914</td>\n",
       "    </tr>\n",
       "    <tr>\n",
       "      <th>2</th>\n",
       "      <td>0.182583</td>\n",
       "      <td>0.307431</td>\n",
       "      <td>0.325950</td>\n",
       "      <td>0.207116</td>\n",
       "      <td>0.605699</td>\n",
       "      <td>0.309695</td>\n",
       "      <td>0.493337</td>\n",
       "      <td>0.751107</td>\n",
       "      <td>0.536272</td>\n",
       "      <td>0.286813</td>\n",
       "      <td>...</td>\n",
       "      <td>0.101347</td>\n",
       "      <td>0.049371</td>\n",
       "      <td>0.075936</td>\n",
       "      <td>0.060192</td>\n",
       "      <td>0.140097</td>\n",
       "      <td>0.215482</td>\n",
       "      <td>0.170805</td>\n",
       "      <td>0.104971</td>\n",
       "      <td>0.083207</td>\n",
       "      <td>0.127979</td>\n",
       "    </tr>\n",
       "    <tr>\n",
       "      <th>3</th>\n",
       "      <td>0.180240</td>\n",
       "      <td>0.494592</td>\n",
       "      <td>0.008367</td>\n",
       "      <td>0.223580</td>\n",
       "      <td>0.760618</td>\n",
       "      <td>0.439211</td>\n",
       "      <td>0.432055</td>\n",
       "      <td>0.776147</td>\n",
       "      <td>0.483958</td>\n",
       "      <td>0.260886</td>\n",
       "      <td>...</td>\n",
       "      <td>0.091528</td>\n",
       "      <td>0.033751</td>\n",
       "      <td>0.165336</td>\n",
       "      <td>0.088043</td>\n",
       "      <td>0.086367</td>\n",
       "      <td>0.423088</td>\n",
       "      <td>0.225298</td>\n",
       "      <td>0.156014</td>\n",
       "      <td>0.083079</td>\n",
       "      <td>0.406979</td>\n",
       "    </tr>\n",
       "    <tr>\n",
       "      <th>4</th>\n",
       "      <td>0.177172</td>\n",
       "      <td>0.495513</td>\n",
       "      <td>0.014263</td>\n",
       "      <td>0.548819</td>\n",
       "      <td>0.625396</td>\n",
       "      <td>0.562493</td>\n",
       "      <td>0.117158</td>\n",
       "      <td>0.561255</td>\n",
       "      <td>0.077115</td>\n",
       "      <td>0.158321</td>\n",
       "      <td>...</td>\n",
       "      <td>0.017511</td>\n",
       "      <td>0.042983</td>\n",
       "      <td>0.196092</td>\n",
       "      <td>0.078494</td>\n",
       "      <td>0.014597</td>\n",
       "      <td>0.066591</td>\n",
       "      <td>0.026656</td>\n",
       "      <td>0.163455</td>\n",
       "      <td>0.065429</td>\n",
       "      <td>0.298492</td>\n",
       "    </tr>\n",
       "  </tbody>\n",
       "</table>\n",
       "<p>5 rows × 646 columns</p>\n",
       "</div>"
      ],
      "text/plain": [
       "         f0        f1        f2        f3        f4        f5        f6  \\\n",
       "0  0.205979  0.410993  0.176775  0.223581  0.423543  0.476140  0.413590   \n",
       "1  0.181004  0.473119  0.011734  0.213657  0.619678  0.441593  0.230407   \n",
       "2  0.182583  0.307431  0.325950  0.207116  0.605699  0.309695  0.493337   \n",
       "3  0.180240  0.494592  0.008367  0.223580  0.760618  0.439211  0.432055   \n",
       "4  0.177172  0.495513  0.014263  0.548819  0.625396  0.562493  0.117158   \n",
       "\n",
       "         f7        f8        f9  ...  usefulf_cols_poly343  \\\n",
       "0  0.612021  0.534873  0.147295  ...              0.138217   \n",
       "1  0.686013  0.281971  0.238509  ...              0.075958   \n",
       "2  0.751107  0.536272  0.286813  ...              0.101347   \n",
       "3  0.776147  0.483958  0.260886  ...              0.091528   \n",
       "4  0.561255  0.077115  0.158321  ...              0.017511   \n",
       "\n",
       "   usefulf_cols_poly344  usefulf_cols_poly345  usefulf_cols_poly346  \\\n",
       "0              0.051206              0.223420              0.096293   \n",
       "1              0.062661              0.233470              0.095083   \n",
       "2              0.049371              0.075936              0.060192   \n",
       "3              0.033751              0.165336              0.088043   \n",
       "4              0.042983              0.196092              0.078494   \n",
       "\n",
       "   usefulf_cols_poly347  usefulf_cols_poly348  usefulf_cols_poly349  \\\n",
       "0              0.105989              0.462448              0.199313   \n",
       "1              0.065589              0.244381              0.099527   \n",
       "2              0.140097              0.215482              0.170805   \n",
       "3              0.086367              0.423088              0.225298   \n",
       "4              0.014597              0.066591              0.026656   \n",
       "\n",
       "   usefulf_cols_poly350  usefulf_cols_poly351  usefulf_cols_poly352  \n",
       "0              0.171325              0.073841              0.322180  \n",
       "1              0.201601              0.082104              0.305914  \n",
       "2              0.104971              0.083207              0.127979  \n",
       "3              0.156014              0.083079              0.406979  \n",
       "4              0.163455              0.065429              0.298492  \n",
       "\n",
       "[5 rows x 646 columns]"
      ]
     },
     "execution_count": 21,
     "metadata": {},
     "output_type": "execute_result"
    }
   ],
   "source": [
    "#feature_cols += [\"poly79\", \"poly82\", \"poly66\", \"poly32\", \"poly81\", \"poly80\", \"poly42\", \"poly78\", \"poly59\"]\n",
    "feature_cols += poly_cols\n",
    "train.head()\n",
    "train[feature_cols].head()"
   ]
  },
  {
   "cell_type": "code",
   "execution_count": 22,
   "metadata": {},
   "outputs": [
    {
     "name": "stderr",
     "output_type": "stream",
     "text": [
      "ic| len(feature_cols): 668\n"
     ]
    }
   ],
   "source": [
    "poly = PolynomialFeatures(degree=2, interaction_only=True)\n",
    "\n",
    "X_poly = poly.fit_transform(train[cluster_cols])\n",
    "T_poly = poly.transform(test[cluster_cols])\n",
    "\n",
    "poly_cols = [f\"cluster_poly{i+1}\" for i in range(X_poly.shape[1])]\n",
    "\n",
    "X_poly_df = pd.DataFrame(X_poly, columns=poly_cols, index=train.index)\n",
    "T_poly_df = pd.DataFrame(T_poly, columns=poly_cols, index=test.index)\n",
    "\n",
    "train = pd.concat([train, X_poly_df], axis=1)\n",
    "test = pd.concat([test, T_poly_df], axis=1)\n",
    "\n",
    "feature_cols += poly_cols\n",
    "ic(len(feature_cols));\n"
   ]
  },
  {
   "cell_type": "code",
   "execution_count": 23,
   "metadata": {},
   "outputs": [
    {
     "data": {
      "text/html": [
       "<div>\n",
       "<style scoped>\n",
       "    .dataframe tbody tr th:only-of-type {\n",
       "        vertical-align: middle;\n",
       "    }\n",
       "\n",
       "    .dataframe tbody tr th {\n",
       "        vertical-align: top;\n",
       "    }\n",
       "\n",
       "    .dataframe thead th {\n",
       "        text-align: right;\n",
       "    }\n",
       "</style>\n",
       "<table border=\"1\" class=\"dataframe\">\n",
       "  <thead>\n",
       "    <tr style=\"text-align: right;\">\n",
       "      <th></th>\n",
       "      <th>f0</th>\n",
       "      <th>f1</th>\n",
       "      <th>f2</th>\n",
       "      <th>f3</th>\n",
       "      <th>f4</th>\n",
       "      <th>f5</th>\n",
       "      <th>f6</th>\n",
       "      <th>f7</th>\n",
       "      <th>f8</th>\n",
       "      <th>f9</th>\n",
       "      <th>...</th>\n",
       "      <th>cluster_poly13</th>\n",
       "      <th>cluster_poly14</th>\n",
       "      <th>cluster_poly15</th>\n",
       "      <th>cluster_poly16</th>\n",
       "      <th>cluster_poly17</th>\n",
       "      <th>cluster_poly18</th>\n",
       "      <th>cluster_poly19</th>\n",
       "      <th>cluster_poly20</th>\n",
       "      <th>cluster_poly21</th>\n",
       "      <th>cluster_poly22</th>\n",
       "    </tr>\n",
       "  </thead>\n",
       "  <tbody>\n",
       "    <tr>\n",
       "      <th>0</th>\n",
       "      <td>0.205979</td>\n",
       "      <td>0.410993</td>\n",
       "      <td>0.176775</td>\n",
       "      <td>0.223581</td>\n",
       "      <td>0.423543</td>\n",
       "      <td>0.476140</td>\n",
       "      <td>0.413590</td>\n",
       "      <td>0.612021</td>\n",
       "      <td>0.534873</td>\n",
       "      <td>0.147295</td>\n",
       "      <td>...</td>\n",
       "      <td>0.629666</td>\n",
       "      <td>0.627863</td>\n",
       "      <td>0.836162</td>\n",
       "      <td>0.403370</td>\n",
       "      <td>1.306007</td>\n",
       "      <td>1.739286</td>\n",
       "      <td>0.839043</td>\n",
       "      <td>1.734306</td>\n",
       "      <td>0.836641</td>\n",
       "      <td>1.114203</td>\n",
       "    </tr>\n",
       "    <tr>\n",
       "      <th>1</th>\n",
       "      <td>0.181004</td>\n",
       "      <td>0.473119</td>\n",
       "      <td>0.011734</td>\n",
       "      <td>0.213657</td>\n",
       "      <td>0.619678</td>\n",
       "      <td>0.441593</td>\n",
       "      <td>0.230407</td>\n",
       "      <td>0.686013</td>\n",
       "      <td>0.281971</td>\n",
       "      <td>0.238509</td>\n",
       "      <td>...</td>\n",
       "      <td>0.365912</td>\n",
       "      <td>0.364913</td>\n",
       "      <td>0.502853</td>\n",
       "      <td>0.205748</td>\n",
       "      <td>1.122112</td>\n",
       "      <td>1.546277</td>\n",
       "      <td>0.632678</td>\n",
       "      <td>1.542055</td>\n",
       "      <td>0.630951</td>\n",
       "      <td>0.869454</td>\n",
       "    </tr>\n",
       "    <tr>\n",
       "      <th>2</th>\n",
       "      <td>0.182583</td>\n",
       "      <td>0.307431</td>\n",
       "      <td>0.325950</td>\n",
       "      <td>0.207116</td>\n",
       "      <td>0.605699</td>\n",
       "      <td>0.309695</td>\n",
       "      <td>0.493337</td>\n",
       "      <td>0.751107</td>\n",
       "      <td>0.536272</td>\n",
       "      <td>0.286813</td>\n",
       "      <td>...</td>\n",
       "      <td>1.678233</td>\n",
       "      <td>0.506055</td>\n",
       "      <td>1.240884</td>\n",
       "      <td>1.164800</td>\n",
       "      <td>0.664629</td>\n",
       "      <td>1.629721</td>\n",
       "      <td>1.529795</td>\n",
       "      <td>0.491427</td>\n",
       "      <td>0.461295</td>\n",
       "      <td>1.131129</td>\n",
       "    </tr>\n",
       "    <tr>\n",
       "      <th>3</th>\n",
       "      <td>0.180240</td>\n",
       "      <td>0.494592</td>\n",
       "      <td>0.008367</td>\n",
       "      <td>0.223580</td>\n",
       "      <td>0.760618</td>\n",
       "      <td>0.439211</td>\n",
       "      <td>0.432055</td>\n",
       "      <td>0.776147</td>\n",
       "      <td>0.483958</td>\n",
       "      <td>0.260886</td>\n",
       "      <td>...</td>\n",
       "      <td>0.450952</td>\n",
       "      <td>0.449350</td>\n",
       "      <td>0.612692</td>\n",
       "      <td>0.267900</td>\n",
       "      <td>1.177204</td>\n",
       "      <td>1.605128</td>\n",
       "      <td>0.701842</td>\n",
       "      <td>1.599423</td>\n",
       "      <td>0.699348</td>\n",
       "      <td>0.953567</td>\n",
       "    </tr>\n",
       "    <tr>\n",
       "      <th>4</th>\n",
       "      <td>0.177172</td>\n",
       "      <td>0.495513</td>\n",
       "      <td>0.014263</td>\n",
       "      <td>0.548819</td>\n",
       "      <td>0.625396</td>\n",
       "      <td>0.562493</td>\n",
       "      <td>0.117158</td>\n",
       "      <td>0.561255</td>\n",
       "      <td>0.077115</td>\n",
       "      <td>0.158321</td>\n",
       "      <td>...</td>\n",
       "      <td>1.753893</td>\n",
       "      <td>0.651877</td>\n",
       "      <td>1.324913</td>\n",
       "      <td>1.433057</td>\n",
       "      <td>0.865182</td>\n",
       "      <td>1.758448</td>\n",
       "      <td>1.901978</td>\n",
       "      <td>0.653570</td>\n",
       "      <td>0.706916</td>\n",
       "      <td>1.436779</td>\n",
       "    </tr>\n",
       "  </tbody>\n",
       "</table>\n",
       "<p>5 rows × 668 columns</p>\n",
       "</div>"
      ],
      "text/plain": [
       "         f0        f1        f2        f3        f4        f5        f6  \\\n",
       "0  0.205979  0.410993  0.176775  0.223581  0.423543  0.476140  0.413590   \n",
       "1  0.181004  0.473119  0.011734  0.213657  0.619678  0.441593  0.230407   \n",
       "2  0.182583  0.307431  0.325950  0.207116  0.605699  0.309695  0.493337   \n",
       "3  0.180240  0.494592  0.008367  0.223580  0.760618  0.439211  0.432055   \n",
       "4  0.177172  0.495513  0.014263  0.548819  0.625396  0.562493  0.117158   \n",
       "\n",
       "         f7        f8        f9  ...  cluster_poly13  cluster_poly14  \\\n",
       "0  0.612021  0.534873  0.147295  ...        0.629666        0.627863   \n",
       "1  0.686013  0.281971  0.238509  ...        0.365912        0.364913   \n",
       "2  0.751107  0.536272  0.286813  ...        1.678233        0.506055   \n",
       "3  0.776147  0.483958  0.260886  ...        0.450952        0.449350   \n",
       "4  0.561255  0.077115  0.158321  ...        1.753893        0.651877   \n",
       "\n",
       "   cluster_poly15  cluster_poly16  cluster_poly17  cluster_poly18  \\\n",
       "0        0.836162        0.403370        1.306007        1.739286   \n",
       "1        0.502853        0.205748        1.122112        1.546277   \n",
       "2        1.240884        1.164800        0.664629        1.629721   \n",
       "3        0.612692        0.267900        1.177204        1.605128   \n",
       "4        1.324913        1.433057        0.865182        1.758448   \n",
       "\n",
       "   cluster_poly19  cluster_poly20  cluster_poly21  cluster_poly22  \n",
       "0        0.839043        1.734306        0.836641        1.114203  \n",
       "1        0.632678        1.542055        0.630951        0.869454  \n",
       "2        1.529795        0.491427        0.461295        1.131129  \n",
       "3        0.701842        1.599423        0.699348        0.953567  \n",
       "4        1.901978        0.653570        0.706916        1.436779  \n",
       "\n",
       "[5 rows x 668 columns]"
      ]
     },
     "execution_count": 23,
     "metadata": {},
     "output_type": "execute_result"
    }
   ],
   "source": [
    "train[feature_cols].head()"
   ]
  },
  {
   "cell_type": "markdown",
   "metadata": {},
   "source": [
    "## PCA"
   ]
  },
  {
   "cell_type": "code",
   "execution_count": 24,
   "metadata": {},
   "outputs": [],
   "source": [
    "from sklearn.decomposition import PCA\n",
    "\n",
    "pca = PCA()\n",
    "X_pca = pca.fit_transform(train[useful_features_set])\n",
    "T_pca = pca.transform(test[useful_features_set])\n",
    "\n",
    "pca_cols = [f\"PC{i+1}\" for i in range(X_pca.shape[1])]\n",
    "\n",
    "X_pca = pd.DataFrame(X_pca, columns=pca_cols, index=train.index)\n",
    "T_pca = pd.DataFrame(T_pca, columns=pca_cols, index=test.index)\n",
    "\n",
    "train = pd.concat([train, X_pca], axis=1)\n",
    "test = pd.concat([test, T_pca], axis=1)\n"
   ]
  },
  {
   "cell_type": "code",
   "execution_count": 25,
   "metadata": {},
   "outputs": [
    {
     "name": "stderr",
     "output_type": "stream",
     "text": [
      "ic| len(feature_cols): 694\n"
     ]
    }
   ],
   "source": [
    "feature_cols += pca_cols\n",
    "ic(len(feature_cols));"
   ]
  },
  {
   "cell_type": "code",
   "execution_count": 26,
   "metadata": {},
   "outputs": [
    {
     "data": {
      "text/html": [
       "<div>\n",
       "<style scoped>\n",
       "    .dataframe tbody tr th:only-of-type {\n",
       "        vertical-align: middle;\n",
       "    }\n",
       "\n",
       "    .dataframe tbody tr th {\n",
       "        vertical-align: top;\n",
       "    }\n",
       "\n",
       "    .dataframe thead th {\n",
       "        text-align: right;\n",
       "    }\n",
       "</style>\n",
       "<table border=\"1\" class=\"dataframe\">\n",
       "  <thead>\n",
       "    <tr style=\"text-align: right;\">\n",
       "      <th></th>\n",
       "      <th>f0</th>\n",
       "      <th>f1</th>\n",
       "      <th>f2</th>\n",
       "      <th>f3</th>\n",
       "      <th>f4</th>\n",
       "      <th>f5</th>\n",
       "      <th>f6</th>\n",
       "      <th>f7</th>\n",
       "      <th>f8</th>\n",
       "      <th>f9</th>\n",
       "      <th>...</th>\n",
       "      <th>PC17</th>\n",
       "      <th>PC18</th>\n",
       "      <th>PC19</th>\n",
       "      <th>PC20</th>\n",
       "      <th>PC21</th>\n",
       "      <th>PC22</th>\n",
       "      <th>PC23</th>\n",
       "      <th>PC24</th>\n",
       "      <th>PC25</th>\n",
       "      <th>PC26</th>\n",
       "    </tr>\n",
       "  </thead>\n",
       "  <tbody>\n",
       "    <tr>\n",
       "      <th>0</th>\n",
       "      <td>0.205979</td>\n",
       "      <td>0.410993</td>\n",
       "      <td>0.176775</td>\n",
       "      <td>0.223581</td>\n",
       "      <td>0.423543</td>\n",
       "      <td>0.476140</td>\n",
       "      <td>0.413590</td>\n",
       "      <td>0.612021</td>\n",
       "      <td>0.534873</td>\n",
       "      <td>0.147295</td>\n",
       "      <td>...</td>\n",
       "      <td>-0.007449</td>\n",
       "      <td>0.041742</td>\n",
       "      <td>0.008015</td>\n",
       "      <td>0.008794</td>\n",
       "      <td>-0.056749</td>\n",
       "      <td>0.055197</td>\n",
       "      <td>-0.055726</td>\n",
       "      <td>-0.022102</td>\n",
       "      <td>-0.014230</td>\n",
       "      <td>-0.013506</td>\n",
       "    </tr>\n",
       "    <tr>\n",
       "      <th>1</th>\n",
       "      <td>0.181004</td>\n",
       "      <td>0.473119</td>\n",
       "      <td>0.011734</td>\n",
       "      <td>0.213657</td>\n",
       "      <td>0.619678</td>\n",
       "      <td>0.441593</td>\n",
       "      <td>0.230407</td>\n",
       "      <td>0.686013</td>\n",
       "      <td>0.281971</td>\n",
       "      <td>0.238509</td>\n",
       "      <td>...</td>\n",
       "      <td>0.021862</td>\n",
       "      <td>0.026810</td>\n",
       "      <td>0.019570</td>\n",
       "      <td>0.027590</td>\n",
       "      <td>-0.010346</td>\n",
       "      <td>0.050788</td>\n",
       "      <td>-0.068806</td>\n",
       "      <td>-0.020384</td>\n",
       "      <td>-0.014595</td>\n",
       "      <td>-0.012869</td>\n",
       "    </tr>\n",
       "    <tr>\n",
       "      <th>2</th>\n",
       "      <td>0.182583</td>\n",
       "      <td>0.307431</td>\n",
       "      <td>0.325950</td>\n",
       "      <td>0.207116</td>\n",
       "      <td>0.605699</td>\n",
       "      <td>0.309695</td>\n",
       "      <td>0.493337</td>\n",
       "      <td>0.751107</td>\n",
       "      <td>0.536272</td>\n",
       "      <td>0.286813</td>\n",
       "      <td>...</td>\n",
       "      <td>0.037561</td>\n",
       "      <td>-0.004055</td>\n",
       "      <td>-0.061239</td>\n",
       "      <td>-0.033800</td>\n",
       "      <td>-0.057732</td>\n",
       "      <td>-0.008028</td>\n",
       "      <td>-0.072553</td>\n",
       "      <td>-0.017812</td>\n",
       "      <td>-0.015997</td>\n",
       "      <td>-0.008090</td>\n",
       "    </tr>\n",
       "    <tr>\n",
       "      <th>3</th>\n",
       "      <td>0.180240</td>\n",
       "      <td>0.494592</td>\n",
       "      <td>0.008367</td>\n",
       "      <td>0.223580</td>\n",
       "      <td>0.760618</td>\n",
       "      <td>0.439211</td>\n",
       "      <td>0.432055</td>\n",
       "      <td>0.776147</td>\n",
       "      <td>0.483958</td>\n",
       "      <td>0.260886</td>\n",
       "      <td>...</td>\n",
       "      <td>-0.036675</td>\n",
       "      <td>0.139179</td>\n",
       "      <td>-0.058465</td>\n",
       "      <td>-0.032822</td>\n",
       "      <td>-0.027240</td>\n",
       "      <td>-0.037572</td>\n",
       "      <td>-0.056214</td>\n",
       "      <td>-0.018262</td>\n",
       "      <td>0.235932</td>\n",
       "      <td>0.003494</td>\n",
       "    </tr>\n",
       "    <tr>\n",
       "      <th>4</th>\n",
       "      <td>0.177172</td>\n",
       "      <td>0.495513</td>\n",
       "      <td>0.014263</td>\n",
       "      <td>0.548819</td>\n",
       "      <td>0.625396</td>\n",
       "      <td>0.562493</td>\n",
       "      <td>0.117158</td>\n",
       "      <td>0.561255</td>\n",
       "      <td>0.077115</td>\n",
       "      <td>0.158321</td>\n",
       "      <td>...</td>\n",
       "      <td>-0.003084</td>\n",
       "      <td>0.025693</td>\n",
       "      <td>-0.024514</td>\n",
       "      <td>-0.051906</td>\n",
       "      <td>-0.014463</td>\n",
       "      <td>0.037563</td>\n",
       "      <td>0.269032</td>\n",
       "      <td>-0.031772</td>\n",
       "      <td>-0.014744</td>\n",
       "      <td>-0.009106</td>\n",
       "    </tr>\n",
       "  </tbody>\n",
       "</table>\n",
       "<p>5 rows × 694 columns</p>\n",
       "</div>"
      ],
      "text/plain": [
       "         f0        f1        f2        f3        f4        f5        f6  \\\n",
       "0  0.205979  0.410993  0.176775  0.223581  0.423543  0.476140  0.413590   \n",
       "1  0.181004  0.473119  0.011734  0.213657  0.619678  0.441593  0.230407   \n",
       "2  0.182583  0.307431  0.325950  0.207116  0.605699  0.309695  0.493337   \n",
       "3  0.180240  0.494592  0.008367  0.223580  0.760618  0.439211  0.432055   \n",
       "4  0.177172  0.495513  0.014263  0.548819  0.625396  0.562493  0.117158   \n",
       "\n",
       "         f7        f8        f9  ...      PC17      PC18      PC19      PC20  \\\n",
       "0  0.612021  0.534873  0.147295  ... -0.007449  0.041742  0.008015  0.008794   \n",
       "1  0.686013  0.281971  0.238509  ...  0.021862  0.026810  0.019570  0.027590   \n",
       "2  0.751107  0.536272  0.286813  ...  0.037561 -0.004055 -0.061239 -0.033800   \n",
       "3  0.776147  0.483958  0.260886  ... -0.036675  0.139179 -0.058465 -0.032822   \n",
       "4  0.561255  0.077115  0.158321  ... -0.003084  0.025693 -0.024514 -0.051906   \n",
       "\n",
       "       PC21      PC22      PC23      PC24      PC25      PC26  \n",
       "0 -0.056749  0.055197 -0.055726 -0.022102 -0.014230 -0.013506  \n",
       "1 -0.010346  0.050788 -0.068806 -0.020384 -0.014595 -0.012869  \n",
       "2 -0.057732 -0.008028 -0.072553 -0.017812 -0.015997 -0.008090  \n",
       "3 -0.027240 -0.037572 -0.056214 -0.018262  0.235932  0.003494  \n",
       "4 -0.014463  0.037563  0.269032 -0.031772 -0.014744 -0.009106  \n",
       "\n",
       "[5 rows x 694 columns]"
      ]
     },
     "execution_count": 26,
     "metadata": {},
     "output_type": "execute_result"
    }
   ],
   "source": [
    "train[feature_cols].head()"
   ]
  },
  {
   "cell_type": "markdown",
   "metadata": {},
   "source": [
    "## Mutual Information"
   ]
  },
  {
   "cell_type": "code",
   "execution_count": 27,
   "id": "ebcb7161",
   "metadata": {
    "execution": {
     "iopub.execute_input": "2021-10-17T14:15:53.966372Z",
     "iopub.status.busy": "2021-10-17T14:15:53.965587Z",
     "iopub.status.idle": "2021-10-17T14:16:34.695532Z",
     "shell.execute_reply": "2021-10-17T14:16:34.696066Z",
     "shell.execute_reply.started": "2021-10-17T14:09:07.201281Z"
    },
    "papermill": {
     "duration": 40.751608,
     "end_time": "2021-10-17T14:16:34.696244",
     "exception": false,
     "start_time": "2021-10-17T14:15:53.944636",
     "status": "completed"
    },
    "tags": []
   },
   "outputs": [],
   "source": [
    "from sklearn.feature_selection import mutual_info_regression\n",
    "\n",
    "x = train.iloc[:50000,:][feature_cols] #.copy()\n",
    "y = train.iloc[:50000,:]['target'] #.copy()\n",
    "mi_scores = mutual_info_regression(x, y)\n",
    "mi_scores = pd.Series(mi_scores, name=\"MI Scores\", index=x.columns)\n",
    "mi_scores = mi_scores.sort_values(ascending=False)\n"
   ]
  },
  {
   "cell_type": "code",
   "execution_count": 28,
   "id": "2096d2a0",
   "metadata": {
    "execution": {
     "iopub.execute_input": "2021-10-17T14:16:34.730031Z",
     "iopub.status.busy": "2021-10-17T14:16:34.729399Z",
     "iopub.status.idle": "2021-10-17T14:16:38.377932Z",
     "shell.execute_reply": "2021-10-17T14:16:38.377385Z",
     "shell.execute_reply.started": "2021-10-17T14:09:44.766206Z"
    },
    "papermill": {
     "duration": 3.666617,
     "end_time": "2021-10-17T14:16:38.378081",
     "exception": false,
     "start_time": "2021-10-17T14:16:34.711464",
     "status": "completed"
    },
    "tags": []
   },
   "outputs": [
    {
     "data": {
      "application/vnd.plotly.v1+json": {
       "config": {
        "plotlyServerURL": "https://plot.ly"
       },
       "data": [
        {
         "alignmentgroup": "True",
         "hovertemplate": "x=%{x}<br>y=%{y}<extra></extra>",
         "legendgroup": "",
         "marker": {
          "color": "#636efa",
          "pattern": {
           "shape": ""
          }
         },
         "name": "",
         "offsetgroup": "",
         "orientation": "h",
         "showlegend": false,
         "textposition": "auto",
         "type": "bar",
         "x": [
          0.15052528330520332,
          0.14962622103169565,
          0.14401709290175724,
          0.14230449149065727,
          0.14152790749075628,
          0.1413624006113121,
          0.1410451496671712,
          0.14104491198087743,
          0.1409443397026422,
          0.14037546152969327,
          0.14030147660016645,
          0.14014827425214804,
          0.13980828768552556,
          0.13957819992026543,
          0.13925659884336028,
          0.13914768954592382,
          0.1391335281815227,
          0.13891792400313463,
          0.1377110976508913,
          0.137557457139879
         ],
         "xaxis": "x",
         "y": [
          "PC1",
          "usefulf_cols_poly290",
          "cluster_poly20",
          "usefulf_cols_poly294",
          "PC2",
          "usefulf_cols_poly287",
          "usefulf_cols_poly110",
          "usefulf_cols_poly288",
          "usefulf_cols_poly250",
          "usefulf_cols_poly221",
          "cluster_poly11",
          "usefulf_cols_poly263",
          "usefulf_cols_poly296",
          "usefulf_cols_poly297",
          "usefulf_cols_poly188",
          "cluster_poly13",
          "usefulf_cols_poly205",
          "cluster_poly19",
          "usefulf_cols_poly65",
          "usefulf_cols_poly131"
         ],
         "yaxis": "y"
        }
       ],
       "layout": {
        "barmode": "relative",
        "colorway": [
         "blue"
        ],
        "legend": {
         "tracegroupgap": 0
        },
        "margin": {
         "t": 60
        },
        "template": {
         "data": {
          "bar": [
           {
            "error_x": {
             "color": "#2a3f5f"
            },
            "error_y": {
             "color": "#2a3f5f"
            },
            "marker": {
             "line": {
              "color": "#E5ECF6",
              "width": 0.5
             },
             "pattern": {
              "fillmode": "overlay",
              "size": 10,
              "solidity": 0.2
             }
            },
            "type": "bar"
           }
          ],
          "barpolar": [
           {
            "marker": {
             "line": {
              "color": "#E5ECF6",
              "width": 0.5
             },
             "pattern": {
              "fillmode": "overlay",
              "size": 10,
              "solidity": 0.2
             }
            },
            "type": "barpolar"
           }
          ],
          "carpet": [
           {
            "aaxis": {
             "endlinecolor": "#2a3f5f",
             "gridcolor": "white",
             "linecolor": "white",
             "minorgridcolor": "white",
             "startlinecolor": "#2a3f5f"
            },
            "baxis": {
             "endlinecolor": "#2a3f5f",
             "gridcolor": "white",
             "linecolor": "white",
             "minorgridcolor": "white",
             "startlinecolor": "#2a3f5f"
            },
            "type": "carpet"
           }
          ],
          "choropleth": [
           {
            "colorbar": {
             "outlinewidth": 0,
             "ticks": ""
            },
            "type": "choropleth"
           }
          ],
          "contour": [
           {
            "colorbar": {
             "outlinewidth": 0,
             "ticks": ""
            },
            "colorscale": [
             [
              0,
              "#0d0887"
             ],
             [
              0.1111111111111111,
              "#46039f"
             ],
             [
              0.2222222222222222,
              "#7201a8"
             ],
             [
              0.3333333333333333,
              "#9c179e"
             ],
             [
              0.4444444444444444,
              "#bd3786"
             ],
             [
              0.5555555555555556,
              "#d8576b"
             ],
             [
              0.6666666666666666,
              "#ed7953"
             ],
             [
              0.7777777777777778,
              "#fb9f3a"
             ],
             [
              0.8888888888888888,
              "#fdca26"
             ],
             [
              1,
              "#f0f921"
             ]
            ],
            "type": "contour"
           }
          ],
          "contourcarpet": [
           {
            "colorbar": {
             "outlinewidth": 0,
             "ticks": ""
            },
            "type": "contourcarpet"
           }
          ],
          "heatmap": [
           {
            "colorbar": {
             "outlinewidth": 0,
             "ticks": ""
            },
            "colorscale": [
             [
              0,
              "#0d0887"
             ],
             [
              0.1111111111111111,
              "#46039f"
             ],
             [
              0.2222222222222222,
              "#7201a8"
             ],
             [
              0.3333333333333333,
              "#9c179e"
             ],
             [
              0.4444444444444444,
              "#bd3786"
             ],
             [
              0.5555555555555556,
              "#d8576b"
             ],
             [
              0.6666666666666666,
              "#ed7953"
             ],
             [
              0.7777777777777778,
              "#fb9f3a"
             ],
             [
              0.8888888888888888,
              "#fdca26"
             ],
             [
              1,
              "#f0f921"
             ]
            ],
            "type": "heatmap"
           }
          ],
          "heatmapgl": [
           {
            "colorbar": {
             "outlinewidth": 0,
             "ticks": ""
            },
            "colorscale": [
             [
              0,
              "#0d0887"
             ],
             [
              0.1111111111111111,
              "#46039f"
             ],
             [
              0.2222222222222222,
              "#7201a8"
             ],
             [
              0.3333333333333333,
              "#9c179e"
             ],
             [
              0.4444444444444444,
              "#bd3786"
             ],
             [
              0.5555555555555556,
              "#d8576b"
             ],
             [
              0.6666666666666666,
              "#ed7953"
             ],
             [
              0.7777777777777778,
              "#fb9f3a"
             ],
             [
              0.8888888888888888,
              "#fdca26"
             ],
             [
              1,
              "#f0f921"
             ]
            ],
            "type": "heatmapgl"
           }
          ],
          "histogram": [
           {
            "marker": {
             "pattern": {
              "fillmode": "overlay",
              "size": 10,
              "solidity": 0.2
             }
            },
            "type": "histogram"
           }
          ],
          "histogram2d": [
           {
            "colorbar": {
             "outlinewidth": 0,
             "ticks": ""
            },
            "colorscale": [
             [
              0,
              "#0d0887"
             ],
             [
              0.1111111111111111,
              "#46039f"
             ],
             [
              0.2222222222222222,
              "#7201a8"
             ],
             [
              0.3333333333333333,
              "#9c179e"
             ],
             [
              0.4444444444444444,
              "#bd3786"
             ],
             [
              0.5555555555555556,
              "#d8576b"
             ],
             [
              0.6666666666666666,
              "#ed7953"
             ],
             [
              0.7777777777777778,
              "#fb9f3a"
             ],
             [
              0.8888888888888888,
              "#fdca26"
             ],
             [
              1,
              "#f0f921"
             ]
            ],
            "type": "histogram2d"
           }
          ],
          "histogram2dcontour": [
           {
            "colorbar": {
             "outlinewidth": 0,
             "ticks": ""
            },
            "colorscale": [
             [
              0,
              "#0d0887"
             ],
             [
              0.1111111111111111,
              "#46039f"
             ],
             [
              0.2222222222222222,
              "#7201a8"
             ],
             [
              0.3333333333333333,
              "#9c179e"
             ],
             [
              0.4444444444444444,
              "#bd3786"
             ],
             [
              0.5555555555555556,
              "#d8576b"
             ],
             [
              0.6666666666666666,
              "#ed7953"
             ],
             [
              0.7777777777777778,
              "#fb9f3a"
             ],
             [
              0.8888888888888888,
              "#fdca26"
             ],
             [
              1,
              "#f0f921"
             ]
            ],
            "type": "histogram2dcontour"
           }
          ],
          "mesh3d": [
           {
            "colorbar": {
             "outlinewidth": 0,
             "ticks": ""
            },
            "type": "mesh3d"
           }
          ],
          "parcoords": [
           {
            "line": {
             "colorbar": {
              "outlinewidth": 0,
              "ticks": ""
             }
            },
            "type": "parcoords"
           }
          ],
          "pie": [
           {
            "automargin": true,
            "type": "pie"
           }
          ],
          "scatter": [
           {
            "marker": {
             "colorbar": {
              "outlinewidth": 0,
              "ticks": ""
             }
            },
            "type": "scatter"
           }
          ],
          "scatter3d": [
           {
            "line": {
             "colorbar": {
              "outlinewidth": 0,
              "ticks": ""
             }
            },
            "marker": {
             "colorbar": {
              "outlinewidth": 0,
              "ticks": ""
             }
            },
            "type": "scatter3d"
           }
          ],
          "scattercarpet": [
           {
            "marker": {
             "colorbar": {
              "outlinewidth": 0,
              "ticks": ""
             }
            },
            "type": "scattercarpet"
           }
          ],
          "scattergeo": [
           {
            "marker": {
             "colorbar": {
              "outlinewidth": 0,
              "ticks": ""
             }
            },
            "type": "scattergeo"
           }
          ],
          "scattergl": [
           {
            "marker": {
             "colorbar": {
              "outlinewidth": 0,
              "ticks": ""
             }
            },
            "type": "scattergl"
           }
          ],
          "scattermapbox": [
           {
            "marker": {
             "colorbar": {
              "outlinewidth": 0,
              "ticks": ""
             }
            },
            "type": "scattermapbox"
           }
          ],
          "scatterpolar": [
           {
            "marker": {
             "colorbar": {
              "outlinewidth": 0,
              "ticks": ""
             }
            },
            "type": "scatterpolar"
           }
          ],
          "scatterpolargl": [
           {
            "marker": {
             "colorbar": {
              "outlinewidth": 0,
              "ticks": ""
             }
            },
            "type": "scatterpolargl"
           }
          ],
          "scatterternary": [
           {
            "marker": {
             "colorbar": {
              "outlinewidth": 0,
              "ticks": ""
             }
            },
            "type": "scatterternary"
           }
          ],
          "surface": [
           {
            "colorbar": {
             "outlinewidth": 0,
             "ticks": ""
            },
            "colorscale": [
             [
              0,
              "#0d0887"
             ],
             [
              0.1111111111111111,
              "#46039f"
             ],
             [
              0.2222222222222222,
              "#7201a8"
             ],
             [
              0.3333333333333333,
              "#9c179e"
             ],
             [
              0.4444444444444444,
              "#bd3786"
             ],
             [
              0.5555555555555556,
              "#d8576b"
             ],
             [
              0.6666666666666666,
              "#ed7953"
             ],
             [
              0.7777777777777778,
              "#fb9f3a"
             ],
             [
              0.8888888888888888,
              "#fdca26"
             ],
             [
              1,
              "#f0f921"
             ]
            ],
            "type": "surface"
           }
          ],
          "table": [
           {
            "cells": {
             "fill": {
              "color": "#EBF0F8"
             },
             "line": {
              "color": "white"
             }
            },
            "header": {
             "fill": {
              "color": "#C8D4E3"
             },
             "line": {
              "color": "white"
             }
            },
            "type": "table"
           }
          ]
         },
         "layout": {
          "annotationdefaults": {
           "arrowcolor": "#2a3f5f",
           "arrowhead": 0,
           "arrowwidth": 1
          },
          "autotypenumbers": "strict",
          "coloraxis": {
           "colorbar": {
            "outlinewidth": 0,
            "ticks": ""
           }
          },
          "colorscale": {
           "diverging": [
            [
             0,
             "#8e0152"
            ],
            [
             0.1,
             "#c51b7d"
            ],
            [
             0.2,
             "#de77ae"
            ],
            [
             0.3,
             "#f1b6da"
            ],
            [
             0.4,
             "#fde0ef"
            ],
            [
             0.5,
             "#f7f7f7"
            ],
            [
             0.6,
             "#e6f5d0"
            ],
            [
             0.7,
             "#b8e186"
            ],
            [
             0.8,
             "#7fbc41"
            ],
            [
             0.9,
             "#4d9221"
            ],
            [
             1,
             "#276419"
            ]
           ],
           "sequential": [
            [
             0,
             "#0d0887"
            ],
            [
             0.1111111111111111,
             "#46039f"
            ],
            [
             0.2222222222222222,
             "#7201a8"
            ],
            [
             0.3333333333333333,
             "#9c179e"
            ],
            [
             0.4444444444444444,
             "#bd3786"
            ],
            [
             0.5555555555555556,
             "#d8576b"
            ],
            [
             0.6666666666666666,
             "#ed7953"
            ],
            [
             0.7777777777777778,
             "#fb9f3a"
            ],
            [
             0.8888888888888888,
             "#fdca26"
            ],
            [
             1,
             "#f0f921"
            ]
           ],
           "sequentialminus": [
            [
             0,
             "#0d0887"
            ],
            [
             0.1111111111111111,
             "#46039f"
            ],
            [
             0.2222222222222222,
             "#7201a8"
            ],
            [
             0.3333333333333333,
             "#9c179e"
            ],
            [
             0.4444444444444444,
             "#bd3786"
            ],
            [
             0.5555555555555556,
             "#d8576b"
            ],
            [
             0.6666666666666666,
             "#ed7953"
            ],
            [
             0.7777777777777778,
             "#fb9f3a"
            ],
            [
             0.8888888888888888,
             "#fdca26"
            ],
            [
             1,
             "#f0f921"
            ]
           ]
          },
          "colorway": [
           "#636efa",
           "#EF553B",
           "#00cc96",
           "#ab63fa",
           "#FFA15A",
           "#19d3f3",
           "#FF6692",
           "#B6E880",
           "#FF97FF",
           "#FECB52"
          ],
          "font": {
           "color": "#2a3f5f"
          },
          "geo": {
           "bgcolor": "white",
           "lakecolor": "white",
           "landcolor": "#E5ECF6",
           "showlakes": true,
           "showland": true,
           "subunitcolor": "white"
          },
          "hoverlabel": {
           "align": "left"
          },
          "hovermode": "closest",
          "mapbox": {
           "style": "light"
          },
          "paper_bgcolor": "white",
          "plot_bgcolor": "#E5ECF6",
          "polar": {
           "angularaxis": {
            "gridcolor": "white",
            "linecolor": "white",
            "ticks": ""
           },
           "bgcolor": "#E5ECF6",
           "radialaxis": {
            "gridcolor": "white",
            "linecolor": "white",
            "ticks": ""
           }
          },
          "scene": {
           "xaxis": {
            "backgroundcolor": "#E5ECF6",
            "gridcolor": "white",
            "gridwidth": 2,
            "linecolor": "white",
            "showbackground": true,
            "ticks": "",
            "zerolinecolor": "white"
           },
           "yaxis": {
            "backgroundcolor": "#E5ECF6",
            "gridcolor": "white",
            "gridwidth": 2,
            "linecolor": "white",
            "showbackground": true,
            "ticks": "",
            "zerolinecolor": "white"
           },
           "zaxis": {
            "backgroundcolor": "#E5ECF6",
            "gridcolor": "white",
            "gridwidth": 2,
            "linecolor": "white",
            "showbackground": true,
            "ticks": "",
            "zerolinecolor": "white"
           }
          },
          "shapedefaults": {
           "line": {
            "color": "#2a3f5f"
           }
          },
          "ternary": {
           "aaxis": {
            "gridcolor": "white",
            "linecolor": "white",
            "ticks": ""
           },
           "baxis": {
            "gridcolor": "white",
            "linecolor": "white",
            "ticks": ""
           },
           "bgcolor": "#E5ECF6",
           "caxis": {
            "gridcolor": "white",
            "linecolor": "white",
            "ticks": ""
           }
          },
          "title": {
           "x": 0.05
          },
          "xaxis": {
           "automargin": true,
           "gridcolor": "white",
           "linecolor": "white",
           "ticks": "",
           "title": {
            "standoff": 15
           },
           "zerolinecolor": "white",
           "zerolinewidth": 2
          },
          "yaxis": {
           "automargin": true,
           "gridcolor": "white",
           "linecolor": "white",
           "ticks": "",
           "title": {
            "standoff": 15
           },
           "zerolinecolor": "white",
           "zerolinewidth": 2
          }
         }
        },
        "title": {
         "text": "Top 20 Strong Relationships Between Feature Columns and Target Column"
        },
        "xaxis": {
         "anchor": "y",
         "domain": [
          0,
          1
         ],
         "title": {
          "text": "Relationship with Target"
         }
        },
        "yaxis": {
         "anchor": "x",
         "categoryorder": "total ascending",
         "domain": [
          0,
          1
         ],
         "title": {
          "text": "Feature Columns"
         }
        }
       }
      }
     },
     "metadata": {},
     "output_type": "display_data"
    }
   ],
   "source": [
    "import plotly.figure_factory as ff\n",
    "import plotly.express as px\n",
    "\n",
    "top = 20\n",
    "fig = px.bar(mi_scores, x=mi_scores.values[:top], y=mi_scores.index[:top])\n",
    "fig.update_layout(\n",
    "    title=f\"Top {top} Strong Relationships Between Feature Columns and Target Column\",\n",
    "    xaxis_title=\"Relationship with Target\",\n",
    "    yaxis_title=\"Feature Columns\",\n",
    "    yaxis={'categoryorder':'total ascending'},\n",
    "    colorway=[\"blue\"]\n",
    ")\n",
    "fig.show()\n"
   ]
  },
  {
   "cell_type": "code",
   "execution_count": 29,
   "metadata": {},
   "outputs": [
    {
     "name": "stderr",
     "output_type": "stream",
     "text": [
      "ic| len(feature_cols): 694\n"
     ]
    }
   ],
   "source": [
    "ic(len(feature_cols));"
   ]
  },
  {
   "cell_type": "markdown",
   "metadata": {},
   "source": [
    "# Train Model"
   ]
  },
  {
   "cell_type": "code",
   "execution_count": 30,
   "metadata": {},
   "outputs": [
    {
     "data": {
      "text/plain": [
       "282"
      ]
     },
     "execution_count": 30,
     "metadata": {},
     "output_type": "execute_result"
    }
   ],
   "source": [
    "# Clear memory\n",
    "import gc\n",
    "gc.collect()"
   ]
  },
  {
   "cell_type": "markdown",
   "metadata": {},
   "source": [
    "## Functions"
   ]
  },
  {
   "cell_type": "code",
   "execution_count": 31,
   "metadata": {},
   "outputs": [],
   "source": [
    "# TODO: New approach for evaluation metrics (not fully implemented yet)\n",
    "\n",
    "from sklearn.metrics import roc_auc_score\n",
    "from sklearn.metrics import mean_squared_error\n",
    "from sklearn.metrics import mean_absolute_error\n",
    "from sklearn.metrics import roc_auc_score\n",
    "from sklearn.metrics import r2_score\n",
    "\n",
    "def evaluation_metrics(actual, pred):\n",
    "    rmse = np.sqrt(mean_squared_error(actual, pred))\n",
    "    mae = mean_absolute_error(actual, pred)\n",
    "    r2 = r2_score(actual, pred)\n",
    "\n",
    "    print(\"RMSE: %s\" % rmse)\n",
    "    print(\"MAE: %s\" % mae)\n",
    "    print(\"R2: %s\" % r2)\n",
    "\n",
    "    return rmse, mae, r2"
   ]
  },
  {
   "cell_type": "markdown",
   "metadata": {},
   "source": [
    "## Creating Kfolds"
   ]
  },
  {
   "cell_type": "code",
   "execution_count": 32,
   "metadata": {},
   "outputs": [],
   "source": [
    "from sklearn.model_selection import StratifiedKFold\n",
    "\n",
    "folds = 7\n",
    "train[\"kfold\"] = -1\n",
    "kf = StratifiedKFold(n_splits=folds, shuffle=True, random_state=rnd_state)\n",
    "\n",
    "# Adding folds to dataset\n",
    "for fold, (train_indicies, valid_indicies) in enumerate(kf.split(train,train[\"target\"])):\n",
    "    train.loc[valid_indicies, \"kfold\"] = fold"
   ]
  },
  {
   "cell_type": "code",
   "execution_count": 33,
   "metadata": {},
   "outputs": [
    {
     "data": {
      "text/plain": [
       "0    142858\n",
       "5    142857\n",
       "2    142857\n",
       "3    142857\n",
       "6    142857\n",
       "1    142857\n",
       "4    142857\n",
       "Name: kfold, dtype: int64"
      ]
     },
     "execution_count": 33,
     "metadata": {},
     "output_type": "execute_result"
    }
   ],
   "source": [
    "train['kfold'].value_counts()"
   ]
  },
  {
   "cell_type": "markdown",
   "metadata": {},
   "source": [
    "## Baseline Model"
   ]
  },
  {
   "cell_type": "code",
   "execution_count": 51,
   "metadata": {},
   "outputs": [
    {
     "name": "stdout",
     "output_type": "stream",
     "text": [
      "--\n",
      "run_id: cca52d823b44460d95a4bf475a4c2cb6; status: RUNNING\n",
      "\n"
     ]
    }
   ],
   "source": [
    "print(\"--\")\n",
    "# mlflow.autolog()\n",
    "# mlflow.xgboost.autolog()\n",
    "mlflow.start_run()\n",
    "run = mlflow.active_run()\n",
    "\n",
    "# Log text to a file under the run's root artifact directory\n",
    "mlflow.log_text(\"Test\", \"comments.txt\")\n",
    "\n",
    "# Print run id\n",
    "print(\"run_id: {}; status: {}\\n\".format(run.info.run_id, run.info.status))"
   ]
  },
  {
   "cell_type": "code",
   "execution_count": 52,
   "metadata": {},
   "outputs": [
    {
     "name": "stdout",
     "output_type": "stream",
     "text": [
      "Fold 0 , train: 0.869491 , valid: 0.859991  AVG AUC: 0.8599908229307615\n",
      "Fold 1 , train: 0.870464 , valid: 0.854134  AVG AUC: 0.8570626300763118\n",
      "Fold 2 , train: 0.870029 , valid: 0.856947  AVG AUC: 0.8570239635437513\n",
      "Fold 3 , train: 0.870213 , valid: 0.856027  AVG AUC: 0.8567746176216864\n",
      "Fold 4 , train: 0.869919 , valid: 0.856494  AVG AUC: 0.8567184226501089\n",
      "Fold 5 , train: 0.869793 , valid: 0.856146  AVG AUC: 0.8566230921088716\n",
      "Fold 6 , train: 0.869839 , valid: 0.856803  AVG AUC: 0.8566487584507287\n",
      "AVG AUC: 0.8566487584507287\n"
     ]
    }
   ],
   "source": [
    "from xgboost import XGBClassifier\n",
    "from sklearn.metrics import roc_auc_score\n",
    "\n",
    "final_test_predictions = []\n",
    "scores = []\n",
    "\n",
    "for fold in range(folds):\n",
    "    gc.collect()\n",
    "    x_train = train[train.kfold != fold]  # .copy()\n",
    "    x_valid = train[train.kfold == fold]  # .copy()\n",
    "    x_test = test[feature_cols]  # .copy()\n",
    "\n",
    "    y_train = x_train[\"target\"]\n",
    "    y_valid = x_valid[\"target\"]\n",
    "\n",
    "    x_train = x_train[feature_cols]\n",
    "    x_valid = x_valid[feature_cols]\n",
    "\n",
    "    params = {\n",
    "        \"eval_metric\": \"auc\",\n",
    "        \"objective\": \"binary:logistic\",\n",
    "        \"tree_method\": \"gpu_hist\",\n",
    "        #\"tree_method\": \"hist\",\n",
    "        \"gpu_id\": 0,\n",
    "        #\"n_jobs\": n_cpu,\n",
    "        \"predictor\": \"gpu_predictor\",\n",
    "        \"n_estimators\": 10000,\n",
    "        \"learning_rate\": 0.01063045229441343,\n",
    "        \"gamma\": 0.24652519525750877,\n",
    "        \"max_depth\": 4,\n",
    "        \"seed\": rnd_state,\n",
    "        \"min_child_weight\": 366,\n",
    "        \"subsample\": 0.6423040816299684,\n",
    "        \"colsample_bytree\": 0.7751264493218339,\n",
    "        \"colsample_bylevel\": 0.8675692743597421,\n",
    "        \"use_label_encoder\": False,\n",
    "        \"lambda\": 0,\n",
    "        \"alpha\": 10,\n",
    "    }\n",
    "\n",
    "    model = XGBClassifier(**params)\n",
    "    model.fit(x_train, y_train, eval_set=[(x_valid, y_valid)], verbose=False, early_stopping_rounds=200)\n",
    "\n",
    "    preds_train = model.predict_proba(x_train)[:, 1]\n",
    "    preds_valid = model.predict_proba(x_valid)[:, 1]\n",
    "    auc_train = roc_auc_score(y_train, preds_train)\n",
    "    auc_valid = roc_auc_score(y_valid, preds_valid)\n",
    "    scores.append(auc_valid)\n",
    "\n",
    "    preds_test = model.predict_proba(x_test)[:, 1]\n",
    "    final_test_predictions.append(preds_test)\n",
    "\n",
    "    print(\"Fold\", fold, \", train:\", f\"{auc_train:.6f}\", \", valid:\", f\"{auc_valid:.6f}\", \" AVG AUC:\", np.mean(scores))\n",
    "\n",
    "baseline_auc_score = np.mean(scores)\n",
    "\n",
    "print(\"AVG AUC:\", baseline_auc_score)\n"
   ]
  },
  {
   "cell_type": "code",
   "execution_count": 53,
   "metadata": {},
   "outputs": [
    {
     "name": "stdout",
     "output_type": "stream",
     "text": [
      "Store type: file\n"
     ]
    }
   ],
   "source": [
    "# MLFlow: Get metrics\n",
    "# TODO: Test mlflow.autolog()\n",
    "mlflow.log_params(params)\n",
    "# mlflow.log_metric(\"rmse\", rmse)\n",
    "# mlflow.log_metric(\"r2\", r2)\n",
    "# mlflow.log_metric(\"mae\", mae)\n",
    "mlflow.log_metric(\"AVG AUC\", np.mean(scores))\n",
    "\n",
    "# Save feature list for mlflow\n",
    "# features =\", \".join(str(elem) for elem in feature_cols)\n",
    "features = str(feature_cols)\n",
    "\n",
    "with open(\"features.txt\", \"w\") as f:\n",
    "    f.write(features)\n",
    "\n",
    "mlflow.log_artifact(\"features.txt\", artifact_path=\"features\")\n",
    "\n",
    "\"\"\"\n",
    "tracking_url_type_store = urlparse(mlflow.get_tracking_uri()).scheme\n",
    "\n",
    "# Register Experiment\n",
    "if tracking_url_type_store != \"file\":\n",
    "    # Register the model\n",
    "    # There are other ways to use the Model Registry, which depends on the use case,\n",
    "    # please refer to the doc for more information:\n",
    "    # https://mlflow.org/docs/latest/model-registry.html#api-workflow\n",
    "    \n",
    "    mlflow.xgboost.log_model(\n",
    "        xgb_model=model,\n",
    "        artifact_path=\"xgboost-model\",\n",
    "        registered_model_name=\"XGBClassifier\",\n",
    "    )\n",
    "\n",
    "else:\n",
    "    print('Store type: file')\n",
    "    mlflow.xgboost.log_model(model, \"model\")\n",
    "\"\"\"\n",
    "\n",
    "print(\"Store type: file\")\n",
    "mlflow.xgboost.log_model(model, \"model\")\n"
   ]
  },
  {
   "cell_type": "code",
   "execution_count": 54,
   "metadata": {},
   "outputs": [
    {
     "name": "stdout",
     "output_type": "stream",
     "text": [
      "run_id: cca52d823b44460d95a4bf475a4c2cb6; status: RUNNING\n",
      "--\n",
      "Active run: None\n"
     ]
    }
   ],
   "source": [
    "# End run and get status\n",
    "mlflow.end_run()\n",
    "\n",
    "print(\"run_id: {}; status: {}\".format(run.info.run_id, run.info.status))\n",
    "print(\"--\")\n",
    "\n",
    "# Check for any active runs\n",
    "print(\"Active run: {}\".format(mlflow.active_run()))"
   ]
  },
  {
   "cell_type": "code",
   "execution_count": 55,
   "metadata": {},
   "outputs": [],
   "source": [
    "message = f'XGB Baseline model finished. AVG AUV: {baseline_auc_score}'\n",
    "send_telegram_message(message)"
   ]
  },
  {
   "cell_type": "markdown",
   "metadata": {},
   "source": [
    "##  Submit Baseline Results"
   ]
  },
  {
   "cell_type": "markdown",
   "metadata": {},
   "source": [
    "- 2021-10-20_submission_kmean-pca-fs17-xbg-nop.csv: 0.8569970265985022 | **0.85626**\n",
    "- 2021-10-20_submission_kmean-3pca-fs17-xbg-nop.csv: 0.8568950821125828 | 0.85619\n",
    "- 2021-10-20_submission_kmean-ALLpca-fs13-xbg-nop.csv: 0.8567778822323093 | not submitted\n",
    "- 2021-10-20_submission_13fs-kmean-2pca-4nf-xbg-nop.csv: 0.8568443738048714 | not submitted\n",
    "- 2021-10-20_submission_49fs-kmean-2pca-4nf-xbg-nop.csv: 0.8567888578426363 | 0.85599\n",
    "- 2021-10-20_submission_13fs-kmean-1pca-4nf-poly-xbg-nop.csv: 0.8568639280432698 | 0.85615\n",
    "- 2021-10-25_submission_f64d06226bb94f2fb2b33350b7a40692.csv: 0.8566269081302578 | 0.85600\n",
    "- 2021-10-26_submission_e4bb062717c147ee84b6c5367c25d019.csv: 0.8543231035426082 | 0.85343\n",
    "- 2021-10-26_submission_2eebfcd694b246da9f6f22da55753bf8.csv: 0.8567097047281612 | 0.85596\n",
    "- 2021-10-26_submission_5121f4ce57374a46b5a95235f95d80d2.csv: 0.8569138102302041 | 0.85615\n",
    "- 2021-10-29_submission_d76c94d9ea504d61bccb4762b4ace306.csv: 0.8567225314111455 | 0.85598\n",
    "- 2021-10-30_submission_SHAP_features_only_dc19bfab65cc4e70b5626ef59a2eca00.csv: 0.8432140469452438 | 0.84184\n",
    "- 2021-10-30_submission_SHAP+6way_features_sep_202590310d454132aa124c58635f507a.csv: 0.8567704500416857 | 0.85591"
   ]
  },
  {
   "cell_type": "code",
   "execution_count": 56,
   "metadata": {},
   "outputs": [
    {
     "name": "stdout",
     "output_type": "stream",
     "text": [
      "2021-10-30_submission_SHAP+6way_features_sep_cca52d823b44460d95a4bf475a4c2cb6.csv\n"
     ]
    }
   ],
   "source": [
    "import numpy as np\n",
    "from datetime import datetime\n",
    "\n",
    "# datetime object containing current date and time\n",
    "now = datetime.now()\n",
    "now = now.strftime(\"%Y-%m-%d\")\n",
    "\n",
    "mlflow_run_id = str(run.info.run_id)\n",
    "objective = \"SHAP+6way_features_sep\"\n",
    "\n",
    "curr_submission_fn = f\"{now}_submission_{objective}_{mlflow_run_id}.csv\"\n",
    "\n",
    "sample_df['target'] = np.mean(np.column_stack(final_test_predictions), axis=1)\n",
    "sample_df.to_csv(PATH_SUB + curr_submission_fn, index=False)\n",
    "\n",
    "print(curr_submission_fn)\n"
   ]
  },
  {
   "cell_type": "code",
   "execution_count": 57,
   "metadata": {},
   "outputs": [
    {
     "name": "stdout",
     "output_type": "stream",
     "text": [
      "Successfully submitted to Tabular Playground Series - Oct 2021\n"
     ]
    },
    {
     "name": "stderr",
     "output_type": "stream",
     "text": [
      "\n",
      "  0%|          | 0.00/9.36M [00:00<?, ?B/s]\n",
      "  0%|          | 8.00k/9.36M [00:00<09:08, 17.9kB/s]\n",
      "  1%|          | 112k/9.36M [00:00<00:36, 265kB/s]  \n",
      "  2%|▏         | 208k/9.36M [00:00<00:22, 424kB/s]\n",
      "  3%|▎         | 280k/9.36M [00:00<00:23, 412kB/s]\n",
      "  4%|▎         | 344k/9.36M [00:01<00:24, 383kB/s]\n",
      "  4%|▍         | 400k/9.36M [00:01<00:24, 387kB/s]\n",
      "  5%|▍         | 448k/9.36M [00:01<00:24, 384kB/s]\n",
      "  5%|▌         | 496k/9.36M [00:01<00:24, 382kB/s]\n",
      "  6%|▌         | 544k/9.36M [00:01<00:25, 366kB/s]\n",
      "  6%|▌         | 592k/9.36M [00:01<00:24, 373kB/s]\n",
      "  7%|▋         | 632k/9.36M [00:01<00:24, 372kB/s]\n",
      "  7%|▋         | 672k/9.36M [00:01<00:24, 372kB/s]\n",
      "  7%|▋         | 712k/9.36M [00:02<00:24, 368kB/s]\n",
      "  8%|▊         | 752k/9.36M [00:02<00:24, 366kB/s]\n",
      " 10%|▉         | 920k/9.36M [00:02<00:12, 723kB/s]\n",
      " 10%|█         | 0.98M/9.36M [00:02<00:17, 516kB/s]\n",
      " 11%|█         | 1.04M/9.36M [00:02<00:18, 462kB/s]\n",
      " 12%|█▏        | 1.09M/9.36M [00:02<00:20, 424kB/s]\n",
      " 12%|█▏        | 1.14M/9.36M [00:03<00:20, 421kB/s]\n",
      " 13%|█▎        | 1.19M/9.36M [00:03<00:21, 398kB/s]\n",
      " 13%|█▎        | 1.23M/9.36M [00:03<00:21, 397kB/s]\n",
      " 14%|█▎        | 1.28M/9.36M [00:03<00:21, 387kB/s]\n",
      " 14%|█▍        | 1.32M/9.36M [00:04<00:51, 163kB/s]\n",
      " 16%|█▌        | 1.52M/9.36M [00:04<00:21, 389kB/s]\n",
      " 17%|█▋        | 1.59M/9.36M [00:04<00:21, 377kB/s]\n",
      " 18%|█▊        | 1.66M/9.36M [00:04<00:21, 382kB/s]\n",
      " 18%|█▊        | 1.71M/9.36M [00:04<00:21, 376kB/s]\n",
      " 19%|█▉        | 1.77M/9.36M [00:04<00:21, 375kB/s]\n",
      " 19%|█▉        | 1.81M/9.36M [00:05<00:21, 371kB/s]\n",
      " 20%|█▉        | 1.86M/9.36M [00:05<00:21, 364kB/s]\n",
      " 20%|██        | 1.90M/9.36M [00:05<00:21, 365kB/s]\n",
      " 21%|██        | 1.94M/9.36M [00:05<00:21, 356kB/s]\n",
      " 21%|██        | 1.98M/9.36M [00:05<00:22, 351kB/s]\n",
      " 22%|██▏       | 2.02M/9.36M [00:05<00:21, 361kB/s]\n",
      " 22%|██▏       | 2.05M/9.36M [00:05<00:21, 352kB/s]\n",
      " 22%|██▏       | 2.09M/9.36M [00:05<00:21, 357kB/s]\n",
      " 23%|██▎       | 2.13M/9.36M [00:06<00:21, 352kB/s]\n",
      " 23%|██▎       | 2.17M/9.36M [00:06<00:21, 358kB/s]\n",
      " 24%|██▎       | 2.21M/9.36M [00:06<00:20, 358kB/s]\n",
      " 24%|██▍       | 2.25M/9.36M [00:06<00:20, 357kB/s]\n",
      " 24%|██▍       | 2.29M/9.36M [00:06<00:20, 361kB/s]\n",
      " 25%|██▍       | 2.33M/9.36M [00:06<00:20, 363kB/s]\n",
      " 25%|██▌       | 2.37M/9.36M [00:06<00:19, 367kB/s]\n",
      " 26%|██▌       | 2.41M/9.36M [00:06<00:19, 368kB/s]\n",
      " 26%|██▌       | 2.45M/9.36M [00:06<00:19, 365kB/s]\n",
      " 27%|██▋       | 2.48M/9.36M [00:07<00:19, 367kB/s]\n",
      " 27%|██▋       | 2.52M/9.36M [00:07<00:19, 363kB/s]\n",
      " 27%|██▋       | 2.56M/9.36M [00:07<00:20, 355kB/s]\n",
      " 28%|██▊       | 2.60M/9.36M [00:07<00:19, 362kB/s]\n",
      " 28%|██▊       | 2.64M/9.36M [00:07<00:19, 359kB/s]\n",
      " 29%|██▊       | 2.68M/9.36M [00:07<00:19, 358kB/s]\n",
      " 29%|██▉       | 2.72M/9.36M [00:07<00:20, 345kB/s]\n",
      " 29%|██▉       | 2.76M/9.36M [00:07<00:20, 344kB/s]\n",
      " 30%|██▉       | 2.80M/9.36M [00:08<00:19, 347kB/s]\n",
      " 30%|███       | 2.84M/9.36M [00:08<00:19, 350kB/s]\n",
      " 31%|███       | 2.88M/9.36M [00:08<00:19, 355kB/s]\n",
      " 31%|███       | 2.91M/9.36M [00:08<00:18, 365kB/s]\n",
      " 32%|███▏      | 2.95M/9.36M [00:08<00:18, 366kB/s]\n",
      " 32%|███▏      | 2.99M/9.36M [00:08<00:18, 360kB/s]\n",
      " 32%|███▏      | 3.03M/9.36M [00:08<00:18, 363kB/s]\n",
      " 33%|███▎      | 3.07M/9.36M [00:08<00:18, 366kB/s]\n",
      " 33%|███▎      | 3.11M/9.36M [00:08<00:17, 373kB/s]\n",
      " 34%|███▎      | 3.15M/9.36M [00:09<00:17, 363kB/s]\n",
      " 34%|███▍      | 3.19M/9.36M [00:09<00:17, 360kB/s]\n",
      " 34%|███▍      | 3.23M/9.36M [00:09<00:17, 364kB/s]\n",
      " 35%|███▍      | 3.27M/9.36M [00:09<00:17, 366kB/s]\n",
      " 35%|███▌      | 3.30M/9.36M [00:09<00:17, 372kB/s]\n",
      " 36%|███▌      | 3.34M/9.36M [00:09<00:17, 369kB/s]\n",
      " 36%|███▌      | 3.38M/9.36M [00:09<00:16, 369kB/s]\n",
      " 37%|███▋      | 3.42M/9.36M [00:10<00:42, 147kB/s]\n",
      " 39%|███▉      | 3.66M/9.36M [00:10<00:13, 443kB/s]\n",
      " 40%|███▉      | 3.73M/9.36M [00:10<00:13, 422kB/s]\n",
      " 41%|████      | 3.80M/9.36M [00:10<00:14, 408kB/s]\n",
      " 41%|████▏     | 3.87M/9.36M [00:11<00:14, 389kB/s]\n",
      " 42%|████▏     | 3.92M/9.36M [00:11<00:15, 379kB/s]\n",
      " 42%|████▏     | 3.97M/9.36M [00:11<00:14, 379kB/s]\n",
      " 43%|████▎     | 4.02M/9.36M [00:11<00:15, 372kB/s]\n",
      " 43%|████▎     | 4.06M/9.36M [00:11<00:14, 373kB/s]\n",
      " 44%|████▍     | 4.10M/9.36M [00:11<00:14, 373kB/s]\n",
      " 44%|████▍     | 4.14M/9.36M [00:11<00:14, 369kB/s]\n",
      " 45%|████▍     | 4.18M/9.36M [00:11<00:15, 361kB/s]\n",
      " 45%|████▌     | 4.22M/9.36M [00:12<00:14, 367kB/s]\n",
      " 45%|████▌     | 4.26M/9.36M [00:12<00:14, 360kB/s]\n",
      " 46%|████▌     | 4.30M/9.36M [00:12<00:14, 368kB/s]\n",
      " 46%|████▋     | 4.34M/9.36M [00:12<00:14, 361kB/s]\n",
      " 47%|████▋     | 4.38M/9.36M [00:12<00:14, 368kB/s]\n",
      " 47%|████▋     | 4.41M/9.36M [00:12<00:14, 370kB/s]\n",
      " 48%|████▊     | 4.45M/9.36M [00:12<00:13, 369kB/s]\n",
      " 48%|████▊     | 4.49M/9.36M [00:12<00:13, 368kB/s]\n",
      " 48%|████▊     | 4.53M/9.36M [00:12<00:13, 372kB/s]\n",
      " 49%|████▉     | 4.57M/9.36M [00:13<00:13, 373kB/s]\n",
      " 49%|████▉     | 4.61M/9.36M [00:13<00:13, 368kB/s]\n",
      " 50%|████▉     | 4.65M/9.36M [00:13<00:13, 364kB/s]\n",
      " 50%|█████     | 4.69M/9.36M [00:13<00:13, 373kB/s]\n",
      " 51%|█████     | 4.73M/9.36M [00:13<00:13, 368kB/s]\n",
      " 51%|█████     | 4.77M/9.36M [00:13<00:13, 368kB/s]\n",
      " 51%|█████▏    | 4.80M/9.36M [00:13<00:12, 375kB/s]\n",
      " 52%|█████▏    | 4.84M/9.36M [00:13<00:12, 370kB/s]\n",
      " 52%|█████▏    | 4.88M/9.36M [00:13<00:12, 369kB/s]\n",
      " 53%|█████▎    | 4.92M/9.36M [00:14<00:12, 361kB/s]\n",
      " 53%|█████▎    | 4.96M/9.36M [00:14<00:12, 368kB/s]\n",
      " 53%|█████▎    | 5.00M/9.36M [00:14<00:12, 360kB/s]\n",
      " 54%|█████▍    | 5.05M/9.36M [00:14<00:11, 381kB/s]\n",
      " 54%|█████▍    | 5.09M/9.36M [00:14<00:12, 373kB/s]\n",
      " 55%|█████▍    | 5.12M/9.36M [00:14<00:11, 373kB/s]\n",
      " 55%|█████▌    | 5.16M/9.36M [00:14<00:11, 373kB/s]\n",
      " 56%|█████▌    | 5.20M/9.36M [00:14<00:11, 373kB/s]\n",
      " 56%|█████▌    | 5.24M/9.36M [00:14<00:11, 373kB/s]\n",
      " 56%|█████▋    | 5.28M/9.36M [00:15<00:11, 377kB/s]\n",
      " 57%|█████▋    | 5.32M/9.36M [00:15<00:11, 365kB/s]\n",
      " 57%|█████▋    | 5.36M/9.36M [00:15<00:25, 164kB/s]\n",
      " 59%|█████▉    | 5.56M/9.36M [00:15<00:08, 445kB/s]\n",
      " 60%|██████    | 5.64M/9.36M [00:16<00:09, 423kB/s]\n",
      " 61%|██████    | 5.70M/9.36M [00:16<00:09, 410kB/s]\n",
      " 62%|██████▏   | 5.76M/9.36M [00:16<00:09, 390kB/s]\n",
      " 62%|██████▏   | 5.81M/9.36M [00:16<00:09, 391kB/s]\n",
      " 63%|██████▎   | 5.86M/9.36M [00:16<00:09, 378kB/s]\n",
      " 63%|██████▎   | 5.91M/9.36M [00:16<00:09, 382kB/s]\n",
      " 64%|██████▎   | 5.95M/9.36M [00:17<00:09, 373kB/s]\n",
      " 64%|██████▍   | 5.99M/9.36M [00:17<00:09, 369kB/s]\n",
      " 65%|██████▍   | 6.04M/9.36M [00:17<00:09, 372kB/s]\n",
      " 65%|██████▍   | 6.08M/9.36M [00:17<00:09, 376kB/s]\n",
      " 65%|██████▌   | 6.12M/9.36M [00:17<00:08, 380kB/s]\n",
      " 66%|██████▌   | 6.16M/9.36M [00:17<00:09, 372kB/s]\n",
      " 66%|██████▌   | 6.20M/9.36M [00:17<00:09, 368kB/s]\n",
      " 67%|██████▋   | 6.23M/9.36M [00:17<00:08, 373kB/s]\n",
      " 67%|██████▋   | 6.27M/9.36M [00:17<00:08, 373kB/s]\n",
      " 67%|██████▋   | 6.31M/9.36M [00:18<00:08, 368kB/s]\n",
      " 68%|██████▊   | 6.35M/9.36M [00:18<00:08, 375kB/s]\n",
      " 68%|██████▊   | 6.39M/9.36M [00:18<00:08, 373kB/s]\n",
      " 69%|██████▊   | 6.43M/9.36M [00:18<00:08, 374kB/s]\n",
      " 69%|██████▉   | 6.47M/9.36M [00:18<00:08, 378kB/s]\n",
      " 70%|██████▉   | 6.51M/9.36M [00:18<00:08, 371kB/s]\n",
      " 70%|██████▉   | 6.55M/9.36M [00:18<00:07, 376kB/s]\n",
      " 70%|███████   | 6.59M/9.36M [00:18<00:07, 369kB/s]\n",
      " 71%|███████   | 6.62M/9.36M [00:18<00:07, 376kB/s]\n",
      " 71%|███████   | 6.66M/9.36M [00:19<00:07, 366kB/s]\n",
      " 72%|███████▏  | 6.70M/9.36M [00:19<00:07, 358kB/s]\n",
      " 72%|███████▏  | 6.74M/9.36M [00:19<00:15, 181kB/s]\n",
      " 73%|███████▎  | 6.85M/9.36M [00:19<00:09, 287kB/s]\n",
      " 75%|███████▍  | 6.98M/9.36M [00:19<00:05, 460kB/s]\n",
      " 75%|███████▌  | 7.05M/9.36M [00:20<00:05, 428kB/s]\n",
      " 76%|███████▌  | 7.10M/9.36M [00:20<00:05, 419kB/s]\n",
      " 76%|███████▋  | 7.16M/9.36M [00:20<00:05, 403kB/s]\n",
      " 77%|███████▋  | 7.20M/9.36M [00:20<00:05, 393kB/s]\n",
      " 77%|███████▋  | 7.25M/9.36M [00:20<00:05, 385kB/s]\n",
      " 78%|███████▊  | 7.30M/9.36M [00:20<00:05, 379kB/s]\n",
      " 78%|███████▊  | 7.34M/9.36M [00:20<00:05, 381kB/s]\n",
      " 79%|███████▉  | 7.38M/9.36M [00:21<00:05, 376kB/s]\n",
      " 79%|███████▉  | 7.41M/9.36M [00:21<00:05, 379kB/s]\n",
      " 80%|███████▉  | 7.45M/9.36M [00:21<00:05, 373kB/s]\n",
      " 80%|████████  | 7.49M/9.36M [00:21<00:05, 359kB/s]\n",
      " 80%|████████  | 7.53M/9.36M [00:21<00:05, 362kB/s]\n",
      " 81%|████████  | 7.57M/9.36M [00:21<00:05, 359kB/s]\n",
      " 81%|████████▏ | 7.61M/9.36M [00:21<00:05, 363kB/s]\n",
      " 82%|████████▏ | 7.65M/9.36M [00:21<00:04, 368kB/s]\n",
      " 82%|████████▏ | 7.69M/9.36M [00:21<00:04, 364kB/s]\n",
      " 83%|████████▎ | 7.73M/9.36M [00:22<00:04, 376kB/s]\n",
      " 83%|████████▎ | 7.77M/9.36M [00:22<00:04, 375kB/s]\n",
      " 83%|████████▎ | 7.80M/9.36M [00:22<00:04, 375kB/s]\n",
      " 84%|████████▍ | 7.84M/9.36M [00:22<00:04, 359kB/s]\n",
      " 84%|████████▍ | 7.89M/9.36M [00:22<00:04, 365kB/s]\n",
      " 85%|████████▍ | 7.93M/9.36M [00:22<00:04, 372kB/s]\n",
      " 85%|████████▌ | 7.97M/9.36M [00:22<00:03, 372kB/s]\n",
      " 86%|████████▌ | 8.01M/9.36M [00:22<00:03, 377kB/s]\n",
      " 86%|████████▌ | 8.05M/9.36M [00:22<00:03, 380kB/s]\n",
      " 86%|████████▋ | 8.09M/9.36M [00:23<00:03, 368kB/s]\n",
      " 87%|████████▋ | 8.12M/9.36M [00:23<00:03, 365kB/s]\n",
      " 87%|████████▋ | 8.16M/9.36M [00:23<00:03, 371kB/s]\n",
      " 88%|████████▊ | 8.20M/9.36M [00:23<00:03, 367kB/s]\n",
      " 88%|████████▊ | 8.24M/9.36M [00:23<00:03, 374kB/s]\n",
      " 88%|████████▊ | 8.28M/9.36M [00:23<00:03, 369kB/s]\n",
      " 89%|████████▉ | 8.32M/9.36M [00:23<00:02, 370kB/s]\n",
      " 89%|████████▉ | 8.36M/9.36M [00:23<00:02, 366kB/s]\n",
      " 90%|████████▉ | 8.40M/9.36M [00:23<00:02, 368kB/s]\n",
      " 90%|█████████ | 8.44M/9.36M [00:24<00:02, 368kB/s]\n",
      " 91%|█████████ | 8.48M/9.36M [00:24<00:02, 375kB/s]\n",
      " 91%|█████████ | 8.52M/9.36M [00:24<00:02, 384kB/s]\n",
      " 91%|█████████▏| 8.55M/9.36M [00:24<00:02, 365kB/s]\n",
      " 92%|█████████▏| 8.60M/9.36M [00:24<00:02, 379kB/s]\n",
      " 92%|█████████▏| 8.64M/9.36M [00:24<00:01, 377kB/s]\n",
      " 93%|█████████▎| 8.68M/9.36M [00:24<00:01, 375kB/s]\n",
      " 93%|█████████▎| 8.72M/9.36M [00:24<00:01, 371kB/s]\n",
      " 94%|█████████▎| 8.76M/9.36M [00:25<00:01, 351kB/s]\n",
      " 94%|█████████▍| 8.80M/9.36M [00:25<00:01, 373kB/s]\n",
      " 95%|█████████▍| 8.84M/9.36M [00:25<00:01, 356kB/s]\n",
      " 95%|█████████▌| 8.89M/9.36M [00:25<00:01, 367kB/s]\n",
      " 95%|█████████▌| 8.93M/9.36M [00:25<00:01, 368kB/s]\n",
      " 96%|█████████▌| 8.97M/9.36M [00:25<00:01, 374kB/s]\n",
      " 96%|█████████▋| 9.01M/9.36M [00:25<00:00, 369kB/s]\n",
      " 97%|█████████▋| 9.05M/9.36M [00:25<00:00, 378kB/s]\n",
      " 97%|█████████▋| 9.09M/9.36M [00:25<00:00, 373kB/s]\n",
      " 98%|█████████▊| 9.12M/9.36M [00:26<00:00, 378kB/s]\n",
      " 98%|█████████▊| 9.16M/9.36M [00:26<00:00, 359kB/s]\n",
      " 98%|█████████▊| 9.21M/9.36M [00:26<00:00, 367kB/s]\n",
      " 99%|█████████▉| 9.25M/9.36M [00:26<00:00, 374kB/s]\n",
      " 99%|█████████▉| 9.29M/9.36M [00:26<00:00, 368kB/s]\n",
      "100%|█████████▉| 9.33M/9.36M [00:26<00:00, 369kB/s]\n",
      "100%|██████████| 9.36M/9.36M [00:28<00:00, 346kB/s]\n"
     ]
    }
   ],
   "source": [
    "!kaggle competitions submit tabular-playground-series-oct-2021 -f {PATH_SUB+curr_submission_fn} -m {curr_submission_fn}"
   ]
  },
  {
   "cell_type": "markdown",
   "metadata": {},
   "source": [
    "## Optimize Hyperparameter\n"
   ]
  },
  {
   "cell_type": "code",
   "execution_count": 62,
   "metadata": {},
   "outputs": [
    {
     "data": {
      "text/plain": [
       "189"
      ]
     },
     "execution_count": 62,
     "metadata": {},
     "output_type": "execute_result"
    }
   ],
   "source": [
    "# Clear memory\n",
    "import gc\n",
    "gc.collect()"
   ]
  },
  {
   "cell_type": "code",
   "execution_count": 63,
   "metadata": {},
   "outputs": [],
   "source": [
    "import time\n",
    "import optuna\n",
    "from optuna.samplers import TPESampler\n",
    "from catboost.utils import eval_metric\n",
    "from catboost import CatBoostClassifier\n",
    "from sklearn.metrics import roc_auc_score\n",
    "\n",
    "from xgboost import XGBClassifier\n",
    "from sklearn.metrics import roc_auc_score\n",
    "import time"
   ]
  },
  {
   "cell_type": "code",
   "execution_count": 64,
   "metadata": {},
   "outputs": [],
   "source": [
    "def objective(trial):\n",
    "    scores = []\n",
    "    # ic(scores)\n",
    "\n",
    "    for fold in range(folds):\n",
    "        gc.collect()\n",
    "        x_train = train[train.kfold != fold]#.copy()\n",
    "        x_valid = train[train.kfold == fold]#.copy()\n",
    "        # x_test = test[feature_cols].copy()\n",
    "\n",
    "        y_train = x_train[\"target\"]\n",
    "        y_valid = x_valid[\"target\"]\n",
    "\n",
    "        x_train = x_train[feature_cols]\n",
    "        x_valid = x_valid[feature_cols]\n",
    "\n",
    "        # param_list\n",
    "        # XGBoost Parameters\n",
    "        # tree_method_list = trial.suggest_categorical(\"tree_method\",[\"exact\", \"approx\", \"hist\"])\n",
    "        tree_method_list = trial.suggest_categorical(\"tree_method\", [\"gpu_hist\"])\n",
    "\n",
    "        # booster: Consider only tree booster because it always outperforms the linear booster and thus the later is rarely used\n",
    "        # booster_list = trial.suggest_categorical(\"booster\", [\"gbtree\", \"dart\"])\n",
    "        booster_list = trial.suggest_categorical(\"booster\", [\"gbtree\"])\n",
    "\n",
    "        n_estimators = trial.suggest_int(\"n_estimators\", 3000, 15000) # 1000 - 10000\n",
    "        max_depth = trial.suggest_int(\"max_depth\", 4, 12) # 1-12\n",
    "        min_child_weight = trial.suggest_int(\"min_child_weight\", 100, 500) # 1, 25\n",
    "        alpha_list = trial.suggest_int(\"alpha\", 9, 25) # 1, 25\n",
    "        learning_rate = trial.suggest_float(\"learning_rate\", 0.01, 0.1) # 0.01, 0.3, 0.01\n",
    "        gamma_list = trial.suggest_float(\"gamma\", 0.2, 0.4) # 0.01, 0.3, 0.01\n",
    "\n",
    "        # scale_pos_weight: A value greater than 0 should be used in case of high class imbalance as it helps in faster convergence.\n",
    "        scale_pos_weight = trial.suggest_int(\"scale_pos_weight\", 1, 30)\n",
    "\n",
    "        subsample_list = trial.suggest_float(\"subsample\", 0.1, 1.0) # 0.4, 1.0, 0.1\n",
    "        colsample_bytree_list = trial.suggest_float(\"colsample_bytree\", 0.1, 1.0) # 0.4, 1.0, 0.1\n",
    "        colsample_bylevel_list = trial.suggest_float(\"colsample_bytree\", 0.1, 1.0) # 0.5, 1.0, 0.1\n",
    "        reg_lambda_list = trial.suggest_int(\"reg_lambda\", 0, 5)\n",
    "\n",
    "        # Classification\n",
    "        # objective_list = trial.suggest_categorical(\"objective\", [\"binary:logistic\",\"reg:logistic\",\"binary:hinge\",\"binary:logitraw\"])\n",
    "        objective_list = trial.suggest_categorical(\"objective\", [\"binary:logistic\"])\n",
    "        eval_metric_list = trial.suggest_categorical(\"eval_metric\", [\"auc\"])\n",
    "\n",
    "        params = {\n",
    "            \"objective\": objective_list,\n",
    "            \"eval_metric\": eval_metric_list,\n",
    "            \"booster\": booster_list,\n",
    "            \"random_state\": rnd_state,\n",
    "            \"tree_method\": tree_method_list,\n",
    "            \"n_estimators\": n_estimators,\n",
    "            \"max_depth\": max_depth,\n",
    "            \"min_child_weight\": min_child_weight,\n",
    "            \"learning_rate\": learning_rate,\n",
    "            \"gamma\": gamma_list,\n",
    "            \"scale_pos_weight\": scale_pos_weight,\n",
    "            \"subsample\": subsample_list,\n",
    "            \"colsample_bytree\": colsample_bytree_list,\n",
    "            \"colsample_bylevel\": colsample_bylevel_list,\n",
    "            \"reg_lambda\": reg_lambda_list,\n",
    "            \"alpha\": alpha_list,\n",
    "            \"verbosity\": 1,\n",
    "            \"use_label_encoder\": False,\n",
    "            \"gpu_id\": 0,\n",
    "            #\"n_jobs\": n_cpu,\n",
    "            \"predictor\": \"gpu_predictor\",\n",
    "        }\n",
    "\n",
    "        model = XGBClassifier(**params)\n",
    "        model.fit(x_train, y_train, eval_set=[(x_valid, y_valid)], verbose=False, early_stopping_rounds=200)\n",
    "\n",
    "        preds_train = model.predict_proba(x_train)[:, 1]\n",
    "        preds_valid = model.predict_proba(x_valid)[:, 1]\n",
    "        auc_train = roc_auc_score(y_train, preds_train)\n",
    "        auc_valid = roc_auc_score(y_valid, preds_valid)\n",
    "        scores.append(auc_valid)\n",
    "\n",
    "        avg_auc_score = np.mean(scores)\n",
    "\n",
    "        # preds_test = model.predict_proba(x_test)[:, 1]\n",
    "        # final_test_predictions.append(preds_test)\n",
    "\n",
    "        print(f'Fold: {fold}, AUC Train: {auc_train:.6f}, AUC Valid: {auc_valid:.6f}, AUC Valid AVG: {avg_auc_score:.6f}')\n",
    "\n",
    "        # Stop earlier when avg score is below (adjusted) baseline score\n",
    "        baseline_auc_score = 0.8566487584507287\n",
    "        if avg_auc_score < baseline_auc_score-0.0003:\n",
    "            print('-----')\n",
    "            print(\"Early stop. AVG score is below baseline score. No improvement expected.\")\n",
    "            print('-----')\n",
    "            \n",
    "            return np.nan\n",
    "    \n",
    "    print('-----')\n",
    "    \n",
    "    return avg_auc_score\n"
   ]
  },
  {
   "cell_type": "code",
   "execution_count": 65,
   "metadata": {},
   "outputs": [
    {
     "name": "stderr",
     "output_type": "stream",
     "text": [
      "\u001b[32m[I 2021-10-31 11:36:40,674]\u001b[0m A new study created in memory with name: no-name-c80ff474-1a41-4cd2-bdea-60c43b8270cd\u001b[0m\n"
     ]
    },
    {
     "name": "stdout",
     "output_type": "stream",
     "text": [
      "Fold: 0, AUC Train: 0.912337, AUC Valid: 0.858935, AUC Valid AVG: 0.858935\n"
     ]
    },
    {
     "name": "stderr",
     "output_type": "stream",
     "text": [
      "\u001b[33m[W 2021-10-31 11:51:27,067]\u001b[0m Trial 0 failed, because the objective function returned nan.\u001b[0m\n"
     ]
    },
    {
     "name": "stdout",
     "output_type": "stream",
     "text": [
      "Fold: 1, AUC Train: 0.916648, AUC Valid: 0.853304, AUC Valid AVG: 0.856120\n",
      "-----\n",
      "Early stop. AVG score is below baseline score. No improvement expected.\n",
      "-----\n",
      "Fold: 0, AUC Train: 0.913188, AUC Valid: 0.858764, AUC Valid AVG: 0.858764\n"
     ]
    },
    {
     "name": "stderr",
     "output_type": "stream",
     "text": [
      "\u001b[33m[W 2021-10-31 12:04:27,037]\u001b[0m Trial 1 failed, because the objective function returned nan.\u001b[0m\n"
     ]
    },
    {
     "name": "stdout",
     "output_type": "stream",
     "text": [
      "Fold: 1, AUC Train: 0.907696, AUC Valid: 0.853241, AUC Valid AVG: 0.856002\n",
      "-----\n",
      "Early stop. AVG score is below baseline score. No improvement expected.\n",
      "-----\n",
      "Fold: 0, AUC Train: 0.870817, AUC Valid: 0.859059, AUC Valid AVG: 0.859059\n"
     ]
    },
    {
     "name": "stderr",
     "output_type": "stream",
     "text": [
      "\u001b[33m[W 2021-10-31 12:09:42,142]\u001b[0m Trial 2 failed, because the objective function returned nan.\u001b[0m\n"
     ]
    },
    {
     "name": "stdout",
     "output_type": "stream",
     "text": [
      "Fold: 1, AUC Train: 0.874269, AUC Valid: 0.853257, AUC Valid AVG: 0.856158\n",
      "-----\n",
      "Early stop. AVG score is below baseline score. No improvement expected.\n",
      "-----\n",
      "Fold: 0, AUC Train: 0.861899, AUC Valid: 0.856816, AUC Valid AVG: 0.856816\n"
     ]
    },
    {
     "name": "stderr",
     "output_type": "stream",
     "text": [
      "\u001b[33m[W 2021-10-31 12:12:22,336]\u001b[0m Trial 3 failed, because the objective function returned nan.\u001b[0m\n"
     ]
    },
    {
     "name": "stdout",
     "output_type": "stream",
     "text": [
      "Fold: 1, AUC Train: 0.864087, AUC Valid: 0.850772, AUC Valid AVG: 0.853794\n",
      "-----\n",
      "Early stop. AVG score is below baseline score. No improvement expected.\n",
      "-----\n",
      "Fold: 0, AUC Train: 0.900299, AUC Valid: 0.858424, AUC Valid AVG: 0.858424\n"
     ]
    },
    {
     "name": "stderr",
     "output_type": "stream",
     "text": [
      "\u001b[33m[W 2021-10-31 12:21:49,894]\u001b[0m Trial 4 failed, because the objective function returned nan.\u001b[0m\n"
     ]
    },
    {
     "name": "stdout",
     "output_type": "stream",
     "text": [
      "Fold: 1, AUC Train: 0.907343, AUC Valid: 0.852926, AUC Valid AVG: 0.855675\n",
      "-----\n",
      "Early stop. AVG score is below baseline score. No improvement expected.\n",
      "-----\n",
      "Fold: 0, AUC Train: 0.870818, AUC Valid: 0.857951, AUC Valid AVG: 0.857951\n"
     ]
    },
    {
     "name": "stderr",
     "output_type": "stream",
     "text": [
      "\u001b[33m[W 2021-10-31 12:27:20,739]\u001b[0m Trial 5 failed, because the objective function returned nan.\u001b[0m\n"
     ]
    },
    {
     "name": "stdout",
     "output_type": "stream",
     "text": [
      "Fold: 1, AUC Train: 0.869839, AUC Valid: 0.852214, AUC Valid AVG: 0.855082\n",
      "-----\n",
      "Early stop. AVG score is below baseline score. No improvement expected.\n",
      "-----\n",
      "Fold: 0, AUC Train: 0.875341, AUC Valid: 0.859652, AUC Valid AVG: 0.859652\n",
      "Fold: 1, AUC Train: 0.879658, AUC Valid: 0.854161, AUC Valid AVG: 0.856906\n",
      "Fold: 2, AUC Train: 0.879747, AUC Valid: 0.856748, AUC Valid AVG: 0.856854\n",
      "Fold: 3, AUC Train: 0.880350, AUC Valid: 0.855783, AUC Valid AVG: 0.856586\n",
      "Fold: 4, AUC Train: 0.879113, AUC Valid: 0.856282, AUC Valid AVG: 0.856525\n",
      "Fold: 5, AUC Train: 0.878840, AUC Valid: 0.855878, AUC Valid AVG: 0.856417\n"
     ]
    },
    {
     "name": "stderr",
     "output_type": "stream",
     "text": [
      "\u001b[32m[I 2021-10-31 13:01:31,731]\u001b[0m Trial 6 finished with value: 0.856431293086664 and parameters: {'tree_method': 'gpu_hist', 'booster': 'gbtree', 'n_estimators': 7664, 'max_depth': 6, 'min_child_weight': 432, 'alpha': 15, 'learning_rate': 0.03528410587186427, 'gamma': 0.30853921663164974, 'scale_pos_weight': 5, 'subsample': 0.8219772826786357, 'colsample_bytree': 0.16709557931179375, 'reg_lambda': 5, 'objective': 'binary:logistic', 'eval_metric': 'auc'}. Best is trial 6 with value: 0.856431293086664.\u001b[0m\n"
     ]
    },
    {
     "name": "stdout",
     "output_type": "stream",
     "text": [
      "Fold: 6, AUC Train: 0.879077, AUC Valid: 0.856515, AUC Valid AVG: 0.856431\n",
      "-----\n",
      "Fold: 0, AUC Train: 0.860781, AUC Valid: 0.856788, AUC Valid AVG: 0.856788\n"
     ]
    },
    {
     "name": "stderr",
     "output_type": "stream",
     "text": [
      "\u001b[33m[W 2021-10-31 13:04:32,034]\u001b[0m Trial 7 failed, because the objective function returned nan.\u001b[0m\n"
     ]
    },
    {
     "name": "stdout",
     "output_type": "stream",
     "text": [
      "Fold: 1, AUC Train: 0.863085, AUC Valid: 0.851565, AUC Valid AVG: 0.854176\n",
      "-----\n",
      "Early stop. AVG score is below baseline score. No improvement expected.\n",
      "-----\n",
      "Fold: 0, AUC Train: 0.903619, AUC Valid: 0.857905, AUC Valid AVG: 0.857905\n"
     ]
    },
    {
     "name": "stderr",
     "output_type": "stream",
     "text": [
      "\u001b[33m[W 2021-10-31 13:13:31,698]\u001b[0m Trial 8 failed, because the objective function returned nan.\u001b[0m\n"
     ]
    },
    {
     "name": "stdout",
     "output_type": "stream",
     "text": [
      "Fold: 1, AUC Train: 0.906434, AUC Valid: 0.852233, AUC Valid AVG: 0.855069\n",
      "-----\n",
      "Early stop. AVG score is below baseline score. No improvement expected.\n",
      "-----\n",
      "Fold: 0, AUC Train: 0.879902, AUC Valid: 0.857494, AUC Valid AVG: 0.857494\n"
     ]
    },
    {
     "name": "stderr",
     "output_type": "stream",
     "text": [
      "\u001b[33m[W 2021-10-31 13:18:25,433]\u001b[0m Trial 9 failed, because the objective function returned nan.\u001b[0m\n"
     ]
    },
    {
     "name": "stdout",
     "output_type": "stream",
     "text": [
      "Fold: 1, AUC Train: 0.887448, AUC Valid: 0.851565, AUC Valid AVG: 0.854529\n",
      "-----\n",
      "Early stop. AVG score is below baseline score. No improvement expected.\n",
      "-----\n",
      "Fold: 0, AUC Train: 0.891751, AUC Valid: 0.856944, AUC Valid AVG: 0.856944\n"
     ]
    },
    {
     "name": "stderr",
     "output_type": "stream",
     "text": [
      "\u001b[33m[W 2021-10-31 13:22:01,313]\u001b[0m Trial 10 failed, because the objective function returned nan.\u001b[0m\n"
     ]
    },
    {
     "name": "stdout",
     "output_type": "stream",
     "text": [
      "Fold: 1, AUC Train: 0.897111, AUC Valid: 0.851176, AUC Valid AVG: 0.854060\n",
      "-----\n",
      "Early stop. AVG score is below baseline score. No improvement expected.\n",
      "-----\n",
      "Fold: 0, AUC Train: 0.863874, AUC Valid: 0.857972, AUC Valid AVG: 0.857972\n"
     ]
    },
    {
     "name": "stderr",
     "output_type": "stream",
     "text": [
      "\u001b[33m[W 2021-10-31 13:25:44,647]\u001b[0m Trial 11 failed, because the objective function returned nan.\u001b[0m\n"
     ]
    },
    {
     "name": "stdout",
     "output_type": "stream",
     "text": [
      "Fold: 1, AUC Train: 0.866113, AUC Valid: 0.852573, AUC Valid AVG: 0.855273\n",
      "-----\n",
      "Early stop. AVG score is below baseline score. No improvement expected.\n",
      "-----\n",
      "Fold: 0, AUC Train: 0.938649, AUC Valid: 0.858656, AUC Valid AVG: 0.858656\n"
     ]
    },
    {
     "name": "stderr",
     "output_type": "stream",
     "text": [
      "\u001b[33m[W 2021-10-31 13:45:08,033]\u001b[0m Trial 12 failed, because the objective function returned nan.\u001b[0m\n"
     ]
    },
    {
     "name": "stdout",
     "output_type": "stream",
     "text": [
      "Fold: 1, AUC Train: 0.940390, AUC Valid: 0.852820, AUC Valid AVG: 0.855738\n",
      "-----\n",
      "Early stop. AVG score is below baseline score. No improvement expected.\n",
      "-----\n",
      "Fold: 0, AUC Train: 0.870513, AUC Valid: 0.858427, AUC Valid AVG: 0.858427\n"
     ]
    },
    {
     "name": "stderr",
     "output_type": "stream",
     "text": [
      "\u001b[33m[W 2021-10-31 13:48:39,431]\u001b[0m Trial 13 failed, because the objective function returned nan.\u001b[0m\n"
     ]
    },
    {
     "name": "stdout",
     "output_type": "stream",
     "text": [
      "Fold: 1, AUC Train: 0.874174, AUC Valid: 0.852832, AUC Valid AVG: 0.855630\n",
      "-----\n",
      "Early stop. AVG score is below baseline score. No improvement expected.\n",
      "-----\n",
      "Fold: 0, AUC Train: 0.872020, AUC Valid: 0.859227, AUC Valid AVG: 0.859227\n",
      "Fold: 1, AUC Train: 0.876476, AUC Valid: 0.853744, AUC Valid AVG: 0.856486\n",
      "Fold: 2, AUC Train: 0.876567, AUC Valid: 0.856531, AUC Valid AVG: 0.856501\n"
     ]
    },
    {
     "name": "stderr",
     "output_type": "stream",
     "text": [
      "\u001b[33m[W 2021-10-31 14:06:39,537]\u001b[0m Trial 14 failed, because the objective function returned nan.\u001b[0m\n"
     ]
    },
    {
     "name": "stdout",
     "output_type": "stream",
     "text": [
      "Fold: 3, AUC Train: 0.874739, AUC Valid: 0.855392, AUC Valid AVG: 0.856224\n",
      "-----\n",
      "Early stop. AVG score is below baseline score. No improvement expected.\n",
      "-----\n",
      "Fold: 0, AUC Train: 0.875261, AUC Valid: 0.858156, AUC Valid AVG: 0.858156\n"
     ]
    },
    {
     "name": "stderr",
     "output_type": "stream",
     "text": [
      "\u001b[33m[W 2021-10-31 14:10:06,150]\u001b[0m Trial 15 failed, because the objective function returned nan.\u001b[0m\n"
     ]
    },
    {
     "name": "stdout",
     "output_type": "stream",
     "text": [
      "Fold: 1, AUC Train: 0.879550, AUC Valid: 0.852443, AUC Valid AVG: 0.855300\n",
      "-----\n",
      "Early stop. AVG score is below baseline score. No improvement expected.\n",
      "-----\n",
      "Fold: 0, AUC Train: 0.879319, AUC Valid: 0.859293, AUC Valid AVG: 0.859293\n"
     ]
    }
   ],
   "source": [
    "\n",
    "sampler = TPESampler(seed=rnd_state)\n",
    "study = optuna.create_study(direction=\"maximize\", sampler=sampler)\n",
    "study.optimize(objective, n_trials=200)\n"
   ]
  }
 ],
 "metadata": {
  "interpreter": {
   "hash": "102988cd41447315534c958c58e308e7e3484eb005f63e4d7c4500d870bbba42"
  },
  "kernelspec": {
   "display_name": "Python 3.9.7 64-bit ('kaggle': conda)",
   "name": "python3"
  },
  "language_info": {
   "codemirror_mode": {
    "name": "ipython",
    "version": 3
   },
   "file_extension": ".py",
   "mimetype": "text/x-python",
   "name": "python",
   "nbconvert_exporter": "python",
   "pygments_lexer": "ipython3",
   "version": "3.9.7"
  },
  "papermill": {
   "default_parameters": {},
   "duration": 360.477415,
   "end_time": "2021-10-17T14:16:39.439751",
   "environment_variables": {},
   "exception": null,
   "input_path": "__notebook__.ipynb",
   "output_path": "__notebook__.ipynb",
   "parameters": {},
   "start_time": "2021-10-17T14:10:38.962336",
   "version": "2.3.3"
  }
 },
 "nbformat": 4,
 "nbformat_minor": 5
}
