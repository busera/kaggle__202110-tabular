{
 "cells": [
  {
   "cell_type": "markdown",
   "metadata": {},
   "source": [
    "04b: Version without PCA\n",
    "\n",
    "2021-10-25: \n",
    "  - Clean-up\n",
    "  - Using useful features only to avoid overfitting (if possible)\n",
    "  - Testing MLFlow integration\n",
    "  - Testing 12 clusters and poly degree 3 incl poly for clusters\n",
    "  - Started new approach for evaluation metrics (not fully implemented yet)\n",
    "  - Changed to conda environment (with pip only dependencies)"
   ]
  },
  {
   "cell_type": "code",
   "execution_count": 1,
   "id": "7e6e82a2",
   "metadata": {
    "_cell_guid": "b1076dfc-b9ad-4769-8c92-a6c4dae69d19",
    "_uuid": "8f2839f25d086af736a60e9eeb907d3b93b6e0e5",
    "execution": {
     "iopub.execute_input": "2021-10-17T14:10:49.100187Z",
     "iopub.status.busy": "2021-10-17T14:10:49.099085Z",
     "iopub.status.idle": "2021-10-17T14:10:50.363556Z",
     "shell.execute_reply": "2021-10-17T14:10:50.362751Z",
     "shell.execute_reply.started": "2021-10-17T14:02:39.499327Z"
    },
    "papermill": {
     "duration": 1.296891,
     "end_time": "2021-10-17T14:10:50.363730",
     "exception": false,
     "start_time": "2021-10-17T14:10:49.066839",
     "status": "completed"
    },
    "tags": []
   },
   "outputs": [],
   "source": [
    "# The rest of the modules are loaded when required.\n",
    "# To ensure a standalone character (for easier reusability).\n",
    "\n",
    "import os # for detecting CPU cores\n",
    "import configparser # to load standard config and parameters\n",
    "import pandas as pd\n",
    "import numpy as np\n",
    "import warnings\n",
    "\n",
    "# Visualization\n",
    "import matplotlib.pyplot as plt\n",
    "import seaborn as sns\n",
    "import plotly.figure_factory as ff\n",
    "import plotly.express as px\n",
    "\n",
    "import mlflow\n",
    "import mlflow.xgboost\n",
    "from urllib.parse import urlparse\n",
    "\n",
    "# Debugging\n",
    "from icecream import ic\n",
    "\n",
    "warnings.filterwarnings('ignore')\n",
    "%load_ext watermark\n",
    "%matplotlib inline"
   ]
  },
  {
   "cell_type": "code",
   "execution_count": 2,
   "metadata": {},
   "outputs": [
    {
     "name": "stdout",
     "output_type": "stream",
     "text": [
      "True\n",
      "WARNING:tensorflow:From C:\\Users\\buser\\AppData\\Local\\Temp/ipykernel_8208/3394908276.py:6: is_gpu_available (from tensorflow.python.framework.test_util) is deprecated and will be removed in a future version.\n",
      "Instructions for updating:\n",
      "Use `tf.config.list_physical_devices('GPU')` instead.\n",
      "True\n",
      "[PhysicalDevice(name='/physical_device:GPU:0', device_type='GPU')]\n"
     ]
    }
   ],
   "source": [
    "# importing the tensorflow package\n",
    "import tensorflow as tf\n",
    "\n",
    "# Checking GPU support\n",
    "print(tf.test.is_built_with_cuda()) # True\n",
    "print(tf.test.is_gpu_available(cuda_only=False, min_cuda_compute_capability=None)) # True\n",
    "print(tf.config.list_physical_devices('GPU'))"
   ]
  },
  {
   "cell_type": "code",
   "execution_count": 3,
   "metadata": {},
   "outputs": [
    {
     "name": "stdout",
     "output_type": "stream",
     "text": [
      "Number of CPUs used: 16\n"
     ]
    }
   ],
   "source": [
    "import os\n",
    "import configparser\n",
    "\n",
    "# Load external config file\n",
    "config = configparser.ConfigParser()\n",
    "config.read(\"../resources/config.ini\")\n",
    "\n",
    "PATH_DATA_RAW = config[\"PATHS\"][\"PATH_DATA_RAW\"]\n",
    "PATH_DATA_INT = config[\"PATHS\"][\"PATH_DATA_INT\"]\n",
    "PATH_DATA_PRO = config[\"PATHS\"][\"PATH_DATA_PRO\"]\n",
    "PATH_REPORTS = config[\"PATHS\"][\"PATH_REPORTS\"]\n",
    "PATH_MODELS = config[\"PATHS\"][\"PATH_MODELS\"]\n",
    "PATH_SUB = config[\"PATHS\"][\"PATH_SUB\"]\n",
    "\n",
    "# Telegram Bot\n",
    "token = config[\"TELEGRAM\"][\"token\"]\n",
    "chat_id = config[\"TELEGRAM\"][\"chat_id\"]\n",
    "FILENAME_NB = \"02_baseline_models\" # for Telegram messages\n",
    "\n",
    "# Set global randome state\n",
    "rnd_state = 42\n",
    "\n",
    "# Define available cpu cores\n",
    "n_cpu = os.cpu_count()\n",
    "print(\"Number of CPUs used:\", n_cpu)"
   ]
  },
  {
   "cell_type": "code",
   "execution_count": 4,
   "metadata": {},
   "outputs": [],
   "source": [
    "train_df = pd.read_csv(PATH_DATA_RAW+'train.csv',index_col=0)\n",
    "test_df = pd.read_csv(PATH_DATA_RAW+'test.csv',index_col=0)\n",
    "sample_df = pd.read_csv(PATH_DATA_RAW+'sample_submission.csv')"
   ]
  },
  {
   "cell_type": "code",
   "execution_count": 5,
   "metadata": {},
   "outputs": [
    {
     "data": {
      "text/html": [
       "<div>\n",
       "<style scoped>\n",
       "    .dataframe tbody tr th:only-of-type {\n",
       "        vertical-align: middle;\n",
       "    }\n",
       "\n",
       "    .dataframe tbody tr th {\n",
       "        vertical-align: top;\n",
       "    }\n",
       "\n",
       "    .dataframe thead th {\n",
       "        text-align: right;\n",
       "    }\n",
       "</style>\n",
       "<table border=\"1\" class=\"dataframe\">\n",
       "  <thead>\n",
       "    <tr style=\"text-align: right;\">\n",
       "      <th></th>\n",
       "      <th>f0</th>\n",
       "      <th>f1</th>\n",
       "      <th>f2</th>\n",
       "      <th>f3</th>\n",
       "      <th>f4</th>\n",
       "      <th>f5</th>\n",
       "      <th>f6</th>\n",
       "      <th>f7</th>\n",
       "      <th>f8</th>\n",
       "      <th>f9</th>\n",
       "      <th>...</th>\n",
       "      <th>f276</th>\n",
       "      <th>f277</th>\n",
       "      <th>f278</th>\n",
       "      <th>f279</th>\n",
       "      <th>f280</th>\n",
       "      <th>f281</th>\n",
       "      <th>f282</th>\n",
       "      <th>f283</th>\n",
       "      <th>f284</th>\n",
       "      <th>target</th>\n",
       "    </tr>\n",
       "    <tr>\n",
       "      <th>id</th>\n",
       "      <th></th>\n",
       "      <th></th>\n",
       "      <th></th>\n",
       "      <th></th>\n",
       "      <th></th>\n",
       "      <th></th>\n",
       "      <th></th>\n",
       "      <th></th>\n",
       "      <th></th>\n",
       "      <th></th>\n",
       "      <th></th>\n",
       "      <th></th>\n",
       "      <th></th>\n",
       "      <th></th>\n",
       "      <th></th>\n",
       "      <th></th>\n",
       "      <th></th>\n",
       "      <th></th>\n",
       "      <th></th>\n",
       "      <th></th>\n",
       "      <th></th>\n",
       "    </tr>\n",
       "  </thead>\n",
       "  <tbody>\n",
       "    <tr>\n",
       "      <th>0</th>\n",
       "      <td>0.205979</td>\n",
       "      <td>0.410993</td>\n",
       "      <td>0.176775</td>\n",
       "      <td>0.223581</td>\n",
       "      <td>0.423543</td>\n",
       "      <td>0.476140</td>\n",
       "      <td>0.413590</td>\n",
       "      <td>0.612021</td>\n",
       "      <td>0.534873</td>\n",
       "      <td>0.147295</td>\n",
       "      <td>...</td>\n",
       "      <td>0</td>\n",
       "      <td>1</td>\n",
       "      <td>0</td>\n",
       "      <td>0</td>\n",
       "      <td>0</td>\n",
       "      <td>0</td>\n",
       "      <td>0</td>\n",
       "      <td>0</td>\n",
       "      <td>0</td>\n",
       "      <td>1</td>\n",
       "    </tr>\n",
       "    <tr>\n",
       "      <th>1</th>\n",
       "      <td>0.181004</td>\n",
       "      <td>0.473119</td>\n",
       "      <td>0.011734</td>\n",
       "      <td>0.213657</td>\n",
       "      <td>0.619678</td>\n",
       "      <td>0.441593</td>\n",
       "      <td>0.230407</td>\n",
       "      <td>0.686013</td>\n",
       "      <td>0.281971</td>\n",
       "      <td>0.238509</td>\n",
       "      <td>...</td>\n",
       "      <td>0</td>\n",
       "      <td>1</td>\n",
       "      <td>0</td>\n",
       "      <td>0</td>\n",
       "      <td>0</td>\n",
       "      <td>0</td>\n",
       "      <td>0</td>\n",
       "      <td>0</td>\n",
       "      <td>0</td>\n",
       "      <td>1</td>\n",
       "    </tr>\n",
       "    <tr>\n",
       "      <th>2</th>\n",
       "      <td>0.182583</td>\n",
       "      <td>0.307431</td>\n",
       "      <td>0.325950</td>\n",
       "      <td>0.207116</td>\n",
       "      <td>0.605699</td>\n",
       "      <td>0.309695</td>\n",
       "      <td>0.493337</td>\n",
       "      <td>0.751107</td>\n",
       "      <td>0.536272</td>\n",
       "      <td>0.286813</td>\n",
       "      <td>...</td>\n",
       "      <td>0</td>\n",
       "      <td>0</td>\n",
       "      <td>0</td>\n",
       "      <td>1</td>\n",
       "      <td>1</td>\n",
       "      <td>0</td>\n",
       "      <td>0</td>\n",
       "      <td>0</td>\n",
       "      <td>0</td>\n",
       "      <td>1</td>\n",
       "    </tr>\n",
       "    <tr>\n",
       "      <th>3</th>\n",
       "      <td>0.180240</td>\n",
       "      <td>0.494592</td>\n",
       "      <td>0.008367</td>\n",
       "      <td>0.223580</td>\n",
       "      <td>0.760618</td>\n",
       "      <td>0.439211</td>\n",
       "      <td>0.432055</td>\n",
       "      <td>0.776147</td>\n",
       "      <td>0.483958</td>\n",
       "      <td>0.260886</td>\n",
       "      <td>...</td>\n",
       "      <td>0</td>\n",
       "      <td>0</td>\n",
       "      <td>0</td>\n",
       "      <td>0</td>\n",
       "      <td>1</td>\n",
       "      <td>0</td>\n",
       "      <td>0</td>\n",
       "      <td>0</td>\n",
       "      <td>0</td>\n",
       "      <td>1</td>\n",
       "    </tr>\n",
       "    <tr>\n",
       "      <th>4</th>\n",
       "      <td>0.177172</td>\n",
       "      <td>0.495513</td>\n",
       "      <td>0.014263</td>\n",
       "      <td>0.548819</td>\n",
       "      <td>0.625396</td>\n",
       "      <td>0.562493</td>\n",
       "      <td>0.117158</td>\n",
       "      <td>0.561255</td>\n",
       "      <td>0.077115</td>\n",
       "      <td>0.158321</td>\n",
       "      <td>...</td>\n",
       "      <td>0</td>\n",
       "      <td>1</td>\n",
       "      <td>1</td>\n",
       "      <td>0</td>\n",
       "      <td>1</td>\n",
       "      <td>0</td>\n",
       "      <td>0</td>\n",
       "      <td>1</td>\n",
       "      <td>0</td>\n",
       "      <td>1</td>\n",
       "    </tr>\n",
       "  </tbody>\n",
       "</table>\n",
       "<p>5 rows × 286 columns</p>\n",
       "</div>"
      ],
      "text/plain": [
       "          f0        f1        f2        f3        f4        f5        f6  \\\n",
       "id                                                                         \n",
       "0   0.205979  0.410993  0.176775  0.223581  0.423543  0.476140  0.413590   \n",
       "1   0.181004  0.473119  0.011734  0.213657  0.619678  0.441593  0.230407   \n",
       "2   0.182583  0.307431  0.325950  0.207116  0.605699  0.309695  0.493337   \n",
       "3   0.180240  0.494592  0.008367  0.223580  0.760618  0.439211  0.432055   \n",
       "4   0.177172  0.495513  0.014263  0.548819  0.625396  0.562493  0.117158   \n",
       "\n",
       "          f7        f8        f9  ...  f276  f277  f278  f279  f280  f281  \\\n",
       "id                                ...                                       \n",
       "0   0.612021  0.534873  0.147295  ...     0     1     0     0     0     0   \n",
       "1   0.686013  0.281971  0.238509  ...     0     1     0     0     0     0   \n",
       "2   0.751107  0.536272  0.286813  ...     0     0     0     1     1     0   \n",
       "3   0.776147  0.483958  0.260886  ...     0     0     0     0     1     0   \n",
       "4   0.561255  0.077115  0.158321  ...     0     1     1     0     1     0   \n",
       "\n",
       "    f282  f283  f284  target  \n",
       "id                            \n",
       "0      0     0     0       1  \n",
       "1      0     0     0       1  \n",
       "2      0     0     0       1  \n",
       "3      0     0     0       1  \n",
       "4      0     1     0       1  \n",
       "\n",
       "[5 rows x 286 columns]"
      ]
     },
     "execution_count": 5,
     "metadata": {},
     "output_type": "execute_result"
    }
   ],
   "source": [
    "train_df.head()"
   ]
  },
  {
   "cell_type": "code",
   "execution_count": 6,
   "metadata": {},
   "outputs": [
    {
     "data": {
      "text/plain": [
       "2189.63623046875"
      ]
     },
     "execution_count": 6,
     "metadata": {},
     "output_type": "execute_result"
    }
   ],
   "source": [
    "memory_usage = train_df.memory_usage(deep=True) / 1024 ** 2\n",
    "start_mem = memory_usage.sum()\n",
    "start_mem"
   ]
  },
  {
   "cell_type": "code",
   "execution_count": 7,
   "id": "56f120a1",
   "metadata": {
    "execution": {
     "iopub.execute_input": "2021-10-17T14:12:29.537157Z",
     "iopub.status.busy": "2021-10-17T14:12:29.536402Z",
     "iopub.status.idle": "2021-10-17T14:14:15.272246Z",
     "shell.execute_reply": "2021-10-17T14:14:15.271300Z",
     "shell.execute_reply.started": "2021-10-17T14:03:51.505616Z"
    },
    "papermill": {
     "duration": 105.759009,
     "end_time": "2021-10-17T14:14:15.272456",
     "exception": false,
     "start_time": "2021-10-17T14:12:29.513447",
     "status": "completed"
    },
    "tags": []
   },
   "outputs": [
    {
     "name": "stderr",
     "output_type": "stream",
     "text": [
      "ic| len(feature_cols): 285\n",
      "ic| len(cnt_features): 240\n",
      "ic| len(cat_features): 45\n"
     ]
    }
   ],
   "source": [
    "feature_cols = train_df.drop(['target'], axis=1).columns.tolist()\n",
    "cnt_features = train_df.drop(['target'], axis=1).select_dtypes(exclude=['int64']).columns.tolist()\n",
    "cat_features = train_df.drop(['target'], axis=1).select_dtypes(exclude=['float64']).columns.tolist()\n",
    "\n",
    "ic(len(feature_cols))\n",
    "ic(len(cnt_features))\n",
    "ic(len(cat_features));"
   ]
  },
  {
   "cell_type": "code",
   "execution_count": 30,
   "metadata": {},
   "outputs": [
    {
     "name": "stderr",
     "output_type": "stream",
     "text": [
      "ic| len(useful_features): 13\n"
     ]
    }
   ],
   "source": [
    "#useful_features = useful_features = [\"f22\", \"f179\", \"f69\", \"f58\", \"f214\", \"f78\", \"f136\", \"f156\", \"f8\", \"f3\", \"f77\", \"f200\", \"f92\", \"f185\", \"f142\", \"f115\", \"f284\"]\n",
    "useful_features = pd.read_csv(PATH_DATA_INT+'features_selected_6way_140.csv')['Feature'].head(13).tolist()\n",
    "ic(len(useful_features));"
   ]
  },
  {
   "cell_type": "code",
   "execution_count": 31,
   "metadata": {},
   "outputs": [],
   "source": [
    "feature_cols = useful_features"
   ]
  },
  {
   "cell_type": "code",
   "execution_count": 10,
   "metadata": {},
   "outputs": [],
   "source": [
    "train_df[cnt_features] = train_df[cnt_features].astype('float32')\n",
    "train_df[cat_features] = train_df[cat_features].astype('uint8')\n",
    "\n",
    "test_df[cnt_features] = test_df[cnt_features].astype('float32')\n",
    "test_df[cat_features] = test_df[cat_features].astype('uint8')"
   ]
  },
  {
   "cell_type": "code",
   "execution_count": 32,
   "metadata": {},
   "outputs": [
    {
     "data": {
      "text/plain": [
       "1005.9515151977539"
      ]
     },
     "execution_count": 32,
     "metadata": {},
     "output_type": "execute_result"
    }
   ],
   "source": [
    "memory_usage = train_df.memory_usage(deep=True) / 1024 ** 2\n",
    "end_mem = memory_usage.sum()\n",
    "end_mem"
   ]
  },
  {
   "cell_type": "code",
   "execution_count": 33,
   "id": "0488ea1f",
   "metadata": {
    "execution": {
     "iopub.execute_input": "2021-10-17T14:14:15.300157Z",
     "iopub.status.busy": "2021-10-17T14:14:15.299447Z",
     "iopub.status.idle": "2021-10-17T14:14:15.302612Z",
     "shell.execute_reply": "2021-10-17T14:14:15.303123Z",
     "shell.execute_reply.started": "2021-10-17T14:05:38.232603Z"
    },
    "papermill": {
     "duration": 0.019794,
     "end_time": "2021-10-17T14:14:15.303309",
     "exception": false,
     "start_time": "2021-10-17T14:14:15.283515",
     "status": "completed"
    },
    "tags": []
   },
   "outputs": [
    {
     "name": "stdout",
     "output_type": "stream",
     "text": [
      "Mem. usage decreased from 2189.64 MB to 1005.95 MB (54.06% reduction)\n"
     ]
    }
   ],
   "source": [
    "print(\"Mem. usage decreased from {:.2f} MB to {:.2f} MB ({:.2f}% reduction)\".format(start_mem, end_mem, 100 * (start_mem - end_mem) / start_mem))"
   ]
  },
  {
   "cell_type": "markdown",
   "metadata": {},
   "source": [
    "# Feature Engineering"
   ]
  },
  {
   "cell_type": "markdown",
   "metadata": {},
   "source": [
    "## KMeans Clustering"
   ]
  },
  {
   "cell_type": "code",
   "execution_count": 34,
   "metadata": {},
   "outputs": [
    {
     "name": "stderr",
     "output_type": "stream",
     "text": [
      "ic| n_clusters_1: 6\n"
     ]
    },
    {
     "data": {
      "text/plain": [
       "6"
      ]
     },
     "execution_count": 34,
     "metadata": {},
     "output_type": "execute_result"
    }
   ],
   "source": [
    "from sklearn.cluster import KMeans\n",
    "\n",
    "n_clusters_1 = 6\n",
    "cluster_cols = [f\"cluster{i+1}\" for i in range(n_clusters_1)]\n",
    "kmeans = KMeans(n_clusters=n_clusters_1, n_init=50, max_iter=500, random_state=rnd_state)\n",
    "\n",
    "ic(n_clusters_1)\n",
    "#ic(cluster_cols);"
   ]
  },
  {
   "cell_type": "code",
   "execution_count": 35,
   "id": "c204f8bf",
   "metadata": {
    "execution": {
     "iopub.execute_input": "2021-10-17T14:14:15.336900Z",
     "iopub.status.busy": "2021-10-17T14:14:15.336109Z",
     "iopub.status.idle": "2021-10-17T14:15:10.593911Z",
     "shell.execute_reply": "2021-10-17T14:15:10.593190Z",
     "shell.execute_reply.started": "2021-10-17T14:05:38.239391Z"
    },
    "papermill": {
     "duration": 55.27928,
     "end_time": "2021-10-17T14:15:10.594081",
     "exception": false,
     "start_time": "2021-10-17T14:14:15.314801",
     "status": "completed"
    },
    "tags": []
   },
   "outputs": [],
   "source": [
    "# cluster distance instead of cluster number\n",
    "\n",
    "# train\n",
    "X_cd = kmeans.fit_transform(train_df[useful_features])\n",
    "X_cd = pd.DataFrame(X_cd, columns=cluster_cols, index=train_df.index)\n",
    "train = train_df.join(X_cd)\n",
    "\n",
    "# test\n",
    "X_cd = kmeans.transform(test_df[useful_features])\n",
    "X_cd = pd.DataFrame(X_cd, columns=cluster_cols, index=test_df.index)\n",
    "test = test_df.join(X_cd)"
   ]
  },
  {
   "cell_type": "code",
   "execution_count": 36,
   "metadata": {},
   "outputs": [
    {
     "data": {
      "text/html": [
       "<div>\n",
       "<style scoped>\n",
       "    .dataframe tbody tr th:only-of-type {\n",
       "        vertical-align: middle;\n",
       "    }\n",
       "\n",
       "    .dataframe tbody tr th {\n",
       "        vertical-align: top;\n",
       "    }\n",
       "\n",
       "    .dataframe thead th {\n",
       "        text-align: right;\n",
       "    }\n",
       "</style>\n",
       "<table border=\"1\" class=\"dataframe\">\n",
       "  <thead>\n",
       "    <tr style=\"text-align: right;\">\n",
       "      <th></th>\n",
       "      <th>f92</th>\n",
       "      <th>f8</th>\n",
       "      <th>f78</th>\n",
       "      <th>f77</th>\n",
       "      <th>f69</th>\n",
       "      <th>f58</th>\n",
       "      <th>f3</th>\n",
       "      <th>f22</th>\n",
       "      <th>f214</th>\n",
       "      <th>f179</th>\n",
       "      <th>f156</th>\n",
       "      <th>f136</th>\n",
       "      <th>f12</th>\n",
       "      <th>cluster1</th>\n",
       "      <th>cluster2</th>\n",
       "      <th>cluster3</th>\n",
       "      <th>cluster4</th>\n",
       "      <th>cluster5</th>\n",
       "      <th>cluster6</th>\n",
       "    </tr>\n",
       "    <tr>\n",
       "      <th>id</th>\n",
       "      <th></th>\n",
       "      <th></th>\n",
       "      <th></th>\n",
       "      <th></th>\n",
       "      <th></th>\n",
       "      <th></th>\n",
       "      <th></th>\n",
       "      <th></th>\n",
       "      <th></th>\n",
       "      <th></th>\n",
       "      <th></th>\n",
       "      <th></th>\n",
       "      <th></th>\n",
       "      <th></th>\n",
       "      <th></th>\n",
       "      <th></th>\n",
       "      <th></th>\n",
       "      <th></th>\n",
       "      <th></th>\n",
       "    </tr>\n",
       "  </thead>\n",
       "  <tbody>\n",
       "    <tr>\n",
       "      <th>0</th>\n",
       "      <td>0.618696</td>\n",
       "      <td>0.534873</td>\n",
       "      <td>0.198157</td>\n",
       "      <td>0.372637</td>\n",
       "      <td>0.199588</td>\n",
       "      <td>0.075109</td>\n",
       "      <td>0.223581</td>\n",
       "      <td>1</td>\n",
       "      <td>0.006978</td>\n",
       "      <td>0.112764</td>\n",
       "      <td>0.864594</td>\n",
       "      <td>0.822459</td>\n",
       "      <td>0.200924</td>\n",
       "      <td>0.189223</td>\n",
       "      <td>1.050896</td>\n",
       "      <td>1.017506</td>\n",
       "      <td>1.130244</td>\n",
       "      <td>0.323917</td>\n",
       "      <td>0.527002</td>\n",
       "    </tr>\n",
       "    <tr>\n",
       "      <th>1</th>\n",
       "      <td>0.688726</td>\n",
       "      <td>0.281971</td>\n",
       "      <td>0.232610</td>\n",
       "      <td>0.352968</td>\n",
       "      <td>0.228739</td>\n",
       "      <td>0.241071</td>\n",
       "      <td>0.213657</td>\n",
       "      <td>1</td>\n",
       "      <td>0.164553</td>\n",
       "      <td>0.008115</td>\n",
       "      <td>0.866689</td>\n",
       "      <td>0.820548</td>\n",
       "      <td>0.231828</td>\n",
       "      <td>0.305138</td>\n",
       "      <td>1.039516</td>\n",
       "      <td>1.045487</td>\n",
       "      <td>1.146268</td>\n",
       "      <td>0.284001</td>\n",
       "      <td>0.559371</td>\n",
       "    </tr>\n",
       "    <tr>\n",
       "      <th>2</th>\n",
       "      <td>0.512464</td>\n",
       "      <td>0.536272</td>\n",
       "      <td>0.261242</td>\n",
       "      <td>0.318504</td>\n",
       "      <td>0.164643</td>\n",
       "      <td>0.078052</td>\n",
       "      <td>0.207116</td>\n",
       "      <td>0</td>\n",
       "      <td>0.010954</td>\n",
       "      <td>0.011306</td>\n",
       "      <td>0.401814</td>\n",
       "      <td>0.819017</td>\n",
       "      <td>0.247791</td>\n",
       "      <td>1.115489</td>\n",
       "      <td>0.556324</td>\n",
       "      <td>0.493650</td>\n",
       "      <td>0.182968</td>\n",
       "      <td>1.144580</td>\n",
       "      <td>1.016904</td>\n",
       "    </tr>\n",
       "    <tr>\n",
       "      <th>3</th>\n",
       "      <td>0.459905</td>\n",
       "      <td>0.483958</td>\n",
       "      <td>0.178460</td>\n",
       "      <td>0.465532</td>\n",
       "      <td>0.179141</td>\n",
       "      <td>0.177084</td>\n",
       "      <td>0.223580</td>\n",
       "      <td>1</td>\n",
       "      <td>0.010339</td>\n",
       "      <td>0.012912</td>\n",
       "      <td>0.874224</td>\n",
       "      <td>0.819892</td>\n",
       "      <td>0.287755</td>\n",
       "      <td>0.203052</td>\n",
       "      <td>1.052789</td>\n",
       "      <td>1.020134</td>\n",
       "      <td>1.137029</td>\n",
       "      <td>0.329684</td>\n",
       "      <td>0.541285</td>\n",
       "    </tr>\n",
       "    <tr>\n",
       "      <th>4</th>\n",
       "      <td>0.511809</td>\n",
       "      <td>0.077115</td>\n",
       "      <td>0.189286</td>\n",
       "      <td>0.345664</td>\n",
       "      <td>0.149717</td>\n",
       "      <td>0.085606</td>\n",
       "      <td>0.548819</td>\n",
       "      <td>0</td>\n",
       "      <td>0.003894</td>\n",
       "      <td>0.188779</td>\n",
       "      <td>0.863533</td>\n",
       "      <td>0.821810</td>\n",
       "      <td>0.265285</td>\n",
       "      <td>1.119016</td>\n",
       "      <td>0.569530</td>\n",
       "      <td>0.502388</td>\n",
       "      <td>0.703449</td>\n",
       "      <td>1.150751</td>\n",
       "      <td>1.221849</td>\n",
       "    </tr>\n",
       "  </tbody>\n",
       "</table>\n",
       "</div>"
      ],
      "text/plain": [
       "         f92        f8       f78       f77       f69       f58        f3  f22  \\\n",
       "id                                                                              \n",
       "0   0.618696  0.534873  0.198157  0.372637  0.199588  0.075109  0.223581    1   \n",
       "1   0.688726  0.281971  0.232610  0.352968  0.228739  0.241071  0.213657    1   \n",
       "2   0.512464  0.536272  0.261242  0.318504  0.164643  0.078052  0.207116    0   \n",
       "3   0.459905  0.483958  0.178460  0.465532  0.179141  0.177084  0.223580    1   \n",
       "4   0.511809  0.077115  0.189286  0.345664  0.149717  0.085606  0.548819    0   \n",
       "\n",
       "        f214      f179      f156      f136       f12  cluster1  cluster2  \\\n",
       "id                                                                         \n",
       "0   0.006978  0.112764  0.864594  0.822459  0.200924  0.189223  1.050896   \n",
       "1   0.164553  0.008115  0.866689  0.820548  0.231828  0.305138  1.039516   \n",
       "2   0.010954  0.011306  0.401814  0.819017  0.247791  1.115489  0.556324   \n",
       "3   0.010339  0.012912  0.874224  0.819892  0.287755  0.203052  1.052789   \n",
       "4   0.003894  0.188779  0.863533  0.821810  0.265285  1.119016  0.569530   \n",
       "\n",
       "    cluster3  cluster4  cluster5  cluster6  \n",
       "id                                          \n",
       "0   1.017506  1.130244  0.323917  0.527002  \n",
       "1   1.045487  1.146268  0.284001  0.559371  \n",
       "2   0.493650  0.182968  1.144580  1.016904  \n",
       "3   1.020134  1.137029  0.329684  0.541285  \n",
       "4   0.502388  0.703449  1.150751  1.221849  "
      ]
     },
     "execution_count": 36,
     "metadata": {},
     "output_type": "execute_result"
    }
   ],
   "source": [
    "feature_cols += cluster_cols\n",
    "train[feature_cols].head()"
   ]
  },
  {
   "cell_type": "code",
   "execution_count": 37,
   "metadata": {},
   "outputs": [
    {
     "name": "stderr",
     "output_type": "stream",
     "text": [
      "ic| len(feature_cols): 19\n"
     ]
    },
    {
     "data": {
      "text/plain": [
       "19"
      ]
     },
     "execution_count": 37,
     "metadata": {},
     "output_type": "execute_result"
    }
   ],
   "source": [
    "ic(len(feature_cols))\n",
    "#ic(feature_cols);"
   ]
  },
  {
   "cell_type": "markdown",
   "metadata": {},
   "source": [
    "## Polynomial Features"
   ]
  },
  {
   "cell_type": "markdown",
   "metadata": {},
   "source": [
    "- https://scikit-learn.org/stable/modules/generated/sklearn.preprocessing.PolynomialFeatures.html"
   ]
  },
  {
   "cell_type": "code",
   "execution_count": 38,
   "metadata": {},
   "outputs": [],
   "source": [
    "from sklearn.preprocessing import PolynomialFeatures\n",
    "\n",
    "poly = PolynomialFeatures(degree=2, interaction_only=True)\n",
    "\n",
    "X_poly = poly.fit_transform(train[feature_cols])\n",
    "T_poly = poly.transform(test[feature_cols])\n",
    "\n",
    "poly_cols = [f\"poly{i+1}\" for i in range(X_poly.shape[1])]\n",
    "\n",
    "X_poly_df = pd.DataFrame(X_poly, columns=poly_cols, index=train.index)\n",
    "T_poly_df = pd.DataFrame(T_poly, columns=poly_cols, index=test.index)\n",
    "\n",
    "train = pd.concat([train, X_poly_df], axis=1)\n",
    "test = pd.concat([test, T_poly_df], axis=1)\n"
   ]
  },
  {
   "cell_type": "code",
   "execution_count": 39,
   "metadata": {},
   "outputs": [
    {
     "data": {
      "text/html": [
       "<div>\n",
       "<style scoped>\n",
       "    .dataframe tbody tr th:only-of-type {\n",
       "        vertical-align: middle;\n",
       "    }\n",
       "\n",
       "    .dataframe tbody tr th {\n",
       "        vertical-align: top;\n",
       "    }\n",
       "\n",
       "    .dataframe thead th {\n",
       "        text-align: right;\n",
       "    }\n",
       "</style>\n",
       "<table border=\"1\" class=\"dataframe\">\n",
       "  <thead>\n",
       "    <tr style=\"text-align: right;\">\n",
       "      <th></th>\n",
       "      <th>f0</th>\n",
       "      <th>f1</th>\n",
       "      <th>f2</th>\n",
       "      <th>f3</th>\n",
       "      <th>f4</th>\n",
       "      <th>f5</th>\n",
       "      <th>f6</th>\n",
       "      <th>f7</th>\n",
       "      <th>f8</th>\n",
       "      <th>f9</th>\n",
       "      <th>...</th>\n",
       "      <th>poly182</th>\n",
       "      <th>poly183</th>\n",
       "      <th>poly184</th>\n",
       "      <th>poly185</th>\n",
       "      <th>poly186</th>\n",
       "      <th>poly187</th>\n",
       "      <th>poly188</th>\n",
       "      <th>poly189</th>\n",
       "      <th>poly190</th>\n",
       "      <th>poly191</th>\n",
       "    </tr>\n",
       "    <tr>\n",
       "      <th>id</th>\n",
       "      <th></th>\n",
       "      <th></th>\n",
       "      <th></th>\n",
       "      <th></th>\n",
       "      <th></th>\n",
       "      <th></th>\n",
       "      <th></th>\n",
       "      <th></th>\n",
       "      <th></th>\n",
       "      <th></th>\n",
       "      <th></th>\n",
       "      <th></th>\n",
       "      <th></th>\n",
       "      <th></th>\n",
       "      <th></th>\n",
       "      <th></th>\n",
       "      <th></th>\n",
       "      <th></th>\n",
       "      <th></th>\n",
       "      <th></th>\n",
       "      <th></th>\n",
       "    </tr>\n",
       "  </thead>\n",
       "  <tbody>\n",
       "    <tr>\n",
       "      <th>0</th>\n",
       "      <td>0.205979</td>\n",
       "      <td>0.410993</td>\n",
       "      <td>0.176775</td>\n",
       "      <td>0.223581</td>\n",
       "      <td>0.423543</td>\n",
       "      <td>0.476140</td>\n",
       "      <td>0.413590</td>\n",
       "      <td>0.612021</td>\n",
       "      <td>0.534873</td>\n",
       "      <td>0.147295</td>\n",
       "      <td>...</td>\n",
       "      <td>1.069293</td>\n",
       "      <td>1.187769</td>\n",
       "      <td>0.340403</td>\n",
       "      <td>0.553824</td>\n",
       "      <td>1.150030</td>\n",
       "      <td>0.329587</td>\n",
       "      <td>0.536227</td>\n",
       "      <td>0.366105</td>\n",
       "      <td>0.595640</td>\n",
       "      <td>0.170705</td>\n",
       "    </tr>\n",
       "    <tr>\n",
       "      <th>1</th>\n",
       "      <td>0.181004</td>\n",
       "      <td>0.473119</td>\n",
       "      <td>0.011734</td>\n",
       "      <td>0.213657</td>\n",
       "      <td>0.619678</td>\n",
       "      <td>0.441593</td>\n",
       "      <td>0.230407</td>\n",
       "      <td>0.686013</td>\n",
       "      <td>0.281971</td>\n",
       "      <td>0.238509</td>\n",
       "      <td>...</td>\n",
       "      <td>1.086800</td>\n",
       "      <td>1.191563</td>\n",
       "      <td>0.295224</td>\n",
       "      <td>0.581475</td>\n",
       "      <td>1.198408</td>\n",
       "      <td>0.296919</td>\n",
       "      <td>0.584815</td>\n",
       "      <td>0.325541</td>\n",
       "      <td>0.641189</td>\n",
       "      <td>0.158862</td>\n",
       "    </tr>\n",
       "    <tr>\n",
       "      <th>2</th>\n",
       "      <td>0.182583</td>\n",
       "      <td>0.307431</td>\n",
       "      <td>0.325950</td>\n",
       "      <td>0.207116</td>\n",
       "      <td>0.605699</td>\n",
       "      <td>0.309695</td>\n",
       "      <td>0.493337</td>\n",
       "      <td>0.751107</td>\n",
       "      <td>0.536272</td>\n",
       "      <td>0.286813</td>\n",
       "      <td>...</td>\n",
       "      <td>0.274629</td>\n",
       "      <td>0.101789</td>\n",
       "      <td>0.636757</td>\n",
       "      <td>0.565727</td>\n",
       "      <td>0.090322</td>\n",
       "      <td>0.565021</td>\n",
       "      <td>0.501994</td>\n",
       "      <td>0.209421</td>\n",
       "      <td>0.186060</td>\n",
       "      <td>1.163927</td>\n",
       "    </tr>\n",
       "    <tr>\n",
       "      <th>3</th>\n",
       "      <td>0.180240</td>\n",
       "      <td>0.494592</td>\n",
       "      <td>0.008367</td>\n",
       "      <td>0.223580</td>\n",
       "      <td>0.760618</td>\n",
       "      <td>0.439211</td>\n",
       "      <td>0.432055</td>\n",
       "      <td>0.776147</td>\n",
       "      <td>0.483958</td>\n",
       "      <td>0.260886</td>\n",
       "      <td>...</td>\n",
       "      <td>1.073985</td>\n",
       "      <td>1.197051</td>\n",
       "      <td>0.347088</td>\n",
       "      <td>0.569859</td>\n",
       "      <td>1.159921</td>\n",
       "      <td>0.336322</td>\n",
       "      <td>0.552183</td>\n",
       "      <td>0.374860</td>\n",
       "      <td>0.615457</td>\n",
       "      <td>0.178453</td>\n",
       "    </tr>\n",
       "    <tr>\n",
       "      <th>4</th>\n",
       "      <td>0.177172</td>\n",
       "      <td>0.495513</td>\n",
       "      <td>0.014263</td>\n",
       "      <td>0.548819</td>\n",
       "      <td>0.625396</td>\n",
       "      <td>0.562493</td>\n",
       "      <td>0.117158</td>\n",
       "      <td>0.561255</td>\n",
       "      <td>0.077115</td>\n",
       "      <td>0.158321</td>\n",
       "      <td>...</td>\n",
       "      <td>0.286125</td>\n",
       "      <td>0.400636</td>\n",
       "      <td>0.655388</td>\n",
       "      <td>0.695880</td>\n",
       "      <td>0.353404</td>\n",
       "      <td>0.578123</td>\n",
       "      <td>0.613842</td>\n",
       "      <td>0.809494</td>\n",
       "      <td>0.859508</td>\n",
       "      <td>1.406043</td>\n",
       "    </tr>\n",
       "  </tbody>\n",
       "</table>\n",
       "<p>5 rows × 483 columns</p>\n",
       "</div>"
      ],
      "text/plain": [
       "          f0        f1        f2        f3        f4        f5        f6  \\\n",
       "id                                                                         \n",
       "0   0.205979  0.410993  0.176775  0.223581  0.423543  0.476140  0.413590   \n",
       "1   0.181004  0.473119  0.011734  0.213657  0.619678  0.441593  0.230407   \n",
       "2   0.182583  0.307431  0.325950  0.207116  0.605699  0.309695  0.493337   \n",
       "3   0.180240  0.494592  0.008367  0.223580  0.760618  0.439211  0.432055   \n",
       "4   0.177172  0.495513  0.014263  0.548819  0.625396  0.562493  0.117158   \n",
       "\n",
       "          f7        f8        f9  ...   poly182   poly183   poly184   poly185  \\\n",
       "id                                ...                                           \n",
       "0   0.612021  0.534873  0.147295  ...  1.069293  1.187769  0.340403  0.553824   \n",
       "1   0.686013  0.281971  0.238509  ...  1.086800  1.191563  0.295224  0.581475   \n",
       "2   0.751107  0.536272  0.286813  ...  0.274629  0.101789  0.636757  0.565727   \n",
       "3   0.776147  0.483958  0.260886  ...  1.073985  1.197051  0.347088  0.569859   \n",
       "4   0.561255  0.077115  0.158321  ...  0.286125  0.400636  0.655388  0.695880   \n",
       "\n",
       "     poly186   poly187   poly188   poly189   poly190   poly191  \n",
       "id                                                              \n",
       "0   1.150030  0.329587  0.536227  0.366105  0.595640  0.170705  \n",
       "1   1.198408  0.296919  0.584815  0.325541  0.641189  0.158862  \n",
       "2   0.090322  0.565021  0.501994  0.209421  0.186060  1.163927  \n",
       "3   1.159921  0.336322  0.552183  0.374860  0.615457  0.178453  \n",
       "4   0.353404  0.578123  0.613842  0.809494  0.859508  1.406043  \n",
       "\n",
       "[5 rows x 483 columns]"
      ]
     },
     "execution_count": 39,
     "metadata": {},
     "output_type": "execute_result"
    }
   ],
   "source": [
    "#feature_cols += [\"poly79\", \"poly82\", \"poly66\", \"poly32\", \"poly81\", \"poly80\", \"poly42\", \"poly78\", \"poly59\"]\n",
    "feature_cols += poly_cols\n",
    "train.head()"
   ]
  },
  {
   "cell_type": "markdown",
   "metadata": {},
   "source": [
    "## Mutual Information"
   ]
  },
  {
   "cell_type": "code",
   "execution_count": 40,
   "id": "ebcb7161",
   "metadata": {
    "execution": {
     "iopub.execute_input": "2021-10-17T14:15:53.966372Z",
     "iopub.status.busy": "2021-10-17T14:15:53.965587Z",
     "iopub.status.idle": "2021-10-17T14:16:34.695532Z",
     "shell.execute_reply": "2021-10-17T14:16:34.696066Z",
     "shell.execute_reply.started": "2021-10-17T14:09:07.201281Z"
    },
    "papermill": {
     "duration": 40.751608,
     "end_time": "2021-10-17T14:16:34.696244",
     "exception": false,
     "start_time": "2021-10-17T14:15:53.944636",
     "status": "completed"
    },
    "tags": []
   },
   "outputs": [],
   "source": [
    "from sklearn.feature_selection import mutual_info_regression\n",
    "\n",
    "x = train.iloc[:5000,:][feature_cols] #.copy()\n",
    "y = train.iloc[:5000,:]['target'] #.copy()\n",
    "mi_scores = mutual_info_regression(x, y)\n",
    "mi_scores = pd.Series(mi_scores, name=\"MI Scores\", index=x.columns)\n",
    "mi_scores = mi_scores.sort_values(ascending=False)"
   ]
  },
  {
   "cell_type": "code",
   "execution_count": 41,
   "id": "2096d2a0",
   "metadata": {
    "execution": {
     "iopub.execute_input": "2021-10-17T14:16:34.730031Z",
     "iopub.status.busy": "2021-10-17T14:16:34.729399Z",
     "iopub.status.idle": "2021-10-17T14:16:38.377932Z",
     "shell.execute_reply": "2021-10-17T14:16:38.377385Z",
     "shell.execute_reply.started": "2021-10-17T14:09:44.766206Z"
    },
    "papermill": {
     "duration": 3.666617,
     "end_time": "2021-10-17T14:16:38.378081",
     "exception": false,
     "start_time": "2021-10-17T14:16:34.711464",
     "status": "completed"
    },
    "tags": []
   },
   "outputs": [
    {
     "data": {
      "application/vnd.plotly.v1+json": {
       "config": {
        "plotlyServerURL": "https://plot.ly"
       },
       "data": [
        {
         "alignmentgroup": "True",
         "hovertemplate": "x=%{x}<br>y=%{y}<extra></extra>",
         "legendgroup": "",
         "marker": {
          "color": "#636efa",
          "pattern": {
           "shape": ""
          }
         },
         "name": "",
         "offsetgroup": "",
         "orientation": "h",
         "showlegend": false,
         "textposition": "auto",
         "type": "bar",
         "x": [
          0.16498479295719015,
          0.16493479295719027,
          0.15822399652937857,
          0.15738963488137436,
          0.15478165858783743,
          0.15477738508356342,
          0.1535569612245835,
          0.15343877940640205,
          0.15340486607677484,
          0.15276487964360896,
          0.15270229641496513,
          0.15037185309102963,
          0.15036879753547439,
          0.15026714527621454,
          0.14873594338723173,
          0.14861003629945913,
          0.1483855517356698,
          0.14823597394597066,
          0.147572522296187,
          0.14753478390845398
         ],
         "xaxis": "x",
         "y": [
          "cluster4",
          "poly18",
          "poly97",
          "poly186",
          "poly20",
          "cluster6",
          "poly17",
          "cluster3",
          "poly170",
          "poly126",
          "poly166",
          "cluster1",
          "poly15",
          "poly136",
          "poly9",
          "poly130",
          "poly129",
          "poly181",
          "poly191",
          "poly89"
         ],
         "yaxis": "y"
        }
       ],
       "layout": {
        "barmode": "relative",
        "colorway": [
         "blue"
        ],
        "legend": {
         "tracegroupgap": 0
        },
        "margin": {
         "t": 60
        },
        "template": {
         "data": {
          "bar": [
           {
            "error_x": {
             "color": "#2a3f5f"
            },
            "error_y": {
             "color": "#2a3f5f"
            },
            "marker": {
             "line": {
              "color": "#E5ECF6",
              "width": 0.5
             },
             "pattern": {
              "fillmode": "overlay",
              "size": 10,
              "solidity": 0.2
             }
            },
            "type": "bar"
           }
          ],
          "barpolar": [
           {
            "marker": {
             "line": {
              "color": "#E5ECF6",
              "width": 0.5
             },
             "pattern": {
              "fillmode": "overlay",
              "size": 10,
              "solidity": 0.2
             }
            },
            "type": "barpolar"
           }
          ],
          "carpet": [
           {
            "aaxis": {
             "endlinecolor": "#2a3f5f",
             "gridcolor": "white",
             "linecolor": "white",
             "minorgridcolor": "white",
             "startlinecolor": "#2a3f5f"
            },
            "baxis": {
             "endlinecolor": "#2a3f5f",
             "gridcolor": "white",
             "linecolor": "white",
             "minorgridcolor": "white",
             "startlinecolor": "#2a3f5f"
            },
            "type": "carpet"
           }
          ],
          "choropleth": [
           {
            "colorbar": {
             "outlinewidth": 0,
             "ticks": ""
            },
            "type": "choropleth"
           }
          ],
          "contour": [
           {
            "colorbar": {
             "outlinewidth": 0,
             "ticks": ""
            },
            "colorscale": [
             [
              0,
              "#0d0887"
             ],
             [
              0.1111111111111111,
              "#46039f"
             ],
             [
              0.2222222222222222,
              "#7201a8"
             ],
             [
              0.3333333333333333,
              "#9c179e"
             ],
             [
              0.4444444444444444,
              "#bd3786"
             ],
             [
              0.5555555555555556,
              "#d8576b"
             ],
             [
              0.6666666666666666,
              "#ed7953"
             ],
             [
              0.7777777777777778,
              "#fb9f3a"
             ],
             [
              0.8888888888888888,
              "#fdca26"
             ],
             [
              1,
              "#f0f921"
             ]
            ],
            "type": "contour"
           }
          ],
          "contourcarpet": [
           {
            "colorbar": {
             "outlinewidth": 0,
             "ticks": ""
            },
            "type": "contourcarpet"
           }
          ],
          "heatmap": [
           {
            "colorbar": {
             "outlinewidth": 0,
             "ticks": ""
            },
            "colorscale": [
             [
              0,
              "#0d0887"
             ],
             [
              0.1111111111111111,
              "#46039f"
             ],
             [
              0.2222222222222222,
              "#7201a8"
             ],
             [
              0.3333333333333333,
              "#9c179e"
             ],
             [
              0.4444444444444444,
              "#bd3786"
             ],
             [
              0.5555555555555556,
              "#d8576b"
             ],
             [
              0.6666666666666666,
              "#ed7953"
             ],
             [
              0.7777777777777778,
              "#fb9f3a"
             ],
             [
              0.8888888888888888,
              "#fdca26"
             ],
             [
              1,
              "#f0f921"
             ]
            ],
            "type": "heatmap"
           }
          ],
          "heatmapgl": [
           {
            "colorbar": {
             "outlinewidth": 0,
             "ticks": ""
            },
            "colorscale": [
             [
              0,
              "#0d0887"
             ],
             [
              0.1111111111111111,
              "#46039f"
             ],
             [
              0.2222222222222222,
              "#7201a8"
             ],
             [
              0.3333333333333333,
              "#9c179e"
             ],
             [
              0.4444444444444444,
              "#bd3786"
             ],
             [
              0.5555555555555556,
              "#d8576b"
             ],
             [
              0.6666666666666666,
              "#ed7953"
             ],
             [
              0.7777777777777778,
              "#fb9f3a"
             ],
             [
              0.8888888888888888,
              "#fdca26"
             ],
             [
              1,
              "#f0f921"
             ]
            ],
            "type": "heatmapgl"
           }
          ],
          "histogram": [
           {
            "marker": {
             "pattern": {
              "fillmode": "overlay",
              "size": 10,
              "solidity": 0.2
             }
            },
            "type": "histogram"
           }
          ],
          "histogram2d": [
           {
            "colorbar": {
             "outlinewidth": 0,
             "ticks": ""
            },
            "colorscale": [
             [
              0,
              "#0d0887"
             ],
             [
              0.1111111111111111,
              "#46039f"
             ],
             [
              0.2222222222222222,
              "#7201a8"
             ],
             [
              0.3333333333333333,
              "#9c179e"
             ],
             [
              0.4444444444444444,
              "#bd3786"
             ],
             [
              0.5555555555555556,
              "#d8576b"
             ],
             [
              0.6666666666666666,
              "#ed7953"
             ],
             [
              0.7777777777777778,
              "#fb9f3a"
             ],
             [
              0.8888888888888888,
              "#fdca26"
             ],
             [
              1,
              "#f0f921"
             ]
            ],
            "type": "histogram2d"
           }
          ],
          "histogram2dcontour": [
           {
            "colorbar": {
             "outlinewidth": 0,
             "ticks": ""
            },
            "colorscale": [
             [
              0,
              "#0d0887"
             ],
             [
              0.1111111111111111,
              "#46039f"
             ],
             [
              0.2222222222222222,
              "#7201a8"
             ],
             [
              0.3333333333333333,
              "#9c179e"
             ],
             [
              0.4444444444444444,
              "#bd3786"
             ],
             [
              0.5555555555555556,
              "#d8576b"
             ],
             [
              0.6666666666666666,
              "#ed7953"
             ],
             [
              0.7777777777777778,
              "#fb9f3a"
             ],
             [
              0.8888888888888888,
              "#fdca26"
             ],
             [
              1,
              "#f0f921"
             ]
            ],
            "type": "histogram2dcontour"
           }
          ],
          "mesh3d": [
           {
            "colorbar": {
             "outlinewidth": 0,
             "ticks": ""
            },
            "type": "mesh3d"
           }
          ],
          "parcoords": [
           {
            "line": {
             "colorbar": {
              "outlinewidth": 0,
              "ticks": ""
             }
            },
            "type": "parcoords"
           }
          ],
          "pie": [
           {
            "automargin": true,
            "type": "pie"
           }
          ],
          "scatter": [
           {
            "marker": {
             "colorbar": {
              "outlinewidth": 0,
              "ticks": ""
             }
            },
            "type": "scatter"
           }
          ],
          "scatter3d": [
           {
            "line": {
             "colorbar": {
              "outlinewidth": 0,
              "ticks": ""
             }
            },
            "marker": {
             "colorbar": {
              "outlinewidth": 0,
              "ticks": ""
             }
            },
            "type": "scatter3d"
           }
          ],
          "scattercarpet": [
           {
            "marker": {
             "colorbar": {
              "outlinewidth": 0,
              "ticks": ""
             }
            },
            "type": "scattercarpet"
           }
          ],
          "scattergeo": [
           {
            "marker": {
             "colorbar": {
              "outlinewidth": 0,
              "ticks": ""
             }
            },
            "type": "scattergeo"
           }
          ],
          "scattergl": [
           {
            "marker": {
             "colorbar": {
              "outlinewidth": 0,
              "ticks": ""
             }
            },
            "type": "scattergl"
           }
          ],
          "scattermapbox": [
           {
            "marker": {
             "colorbar": {
              "outlinewidth": 0,
              "ticks": ""
             }
            },
            "type": "scattermapbox"
           }
          ],
          "scatterpolar": [
           {
            "marker": {
             "colorbar": {
              "outlinewidth": 0,
              "ticks": ""
             }
            },
            "type": "scatterpolar"
           }
          ],
          "scatterpolargl": [
           {
            "marker": {
             "colorbar": {
              "outlinewidth": 0,
              "ticks": ""
             }
            },
            "type": "scatterpolargl"
           }
          ],
          "scatterternary": [
           {
            "marker": {
             "colorbar": {
              "outlinewidth": 0,
              "ticks": ""
             }
            },
            "type": "scatterternary"
           }
          ],
          "surface": [
           {
            "colorbar": {
             "outlinewidth": 0,
             "ticks": ""
            },
            "colorscale": [
             [
              0,
              "#0d0887"
             ],
             [
              0.1111111111111111,
              "#46039f"
             ],
             [
              0.2222222222222222,
              "#7201a8"
             ],
             [
              0.3333333333333333,
              "#9c179e"
             ],
             [
              0.4444444444444444,
              "#bd3786"
             ],
             [
              0.5555555555555556,
              "#d8576b"
             ],
             [
              0.6666666666666666,
              "#ed7953"
             ],
             [
              0.7777777777777778,
              "#fb9f3a"
             ],
             [
              0.8888888888888888,
              "#fdca26"
             ],
             [
              1,
              "#f0f921"
             ]
            ],
            "type": "surface"
           }
          ],
          "table": [
           {
            "cells": {
             "fill": {
              "color": "#EBF0F8"
             },
             "line": {
              "color": "white"
             }
            },
            "header": {
             "fill": {
              "color": "#C8D4E3"
             },
             "line": {
              "color": "white"
             }
            },
            "type": "table"
           }
          ]
         },
         "layout": {
          "annotationdefaults": {
           "arrowcolor": "#2a3f5f",
           "arrowhead": 0,
           "arrowwidth": 1
          },
          "autotypenumbers": "strict",
          "coloraxis": {
           "colorbar": {
            "outlinewidth": 0,
            "ticks": ""
           }
          },
          "colorscale": {
           "diverging": [
            [
             0,
             "#8e0152"
            ],
            [
             0.1,
             "#c51b7d"
            ],
            [
             0.2,
             "#de77ae"
            ],
            [
             0.3,
             "#f1b6da"
            ],
            [
             0.4,
             "#fde0ef"
            ],
            [
             0.5,
             "#f7f7f7"
            ],
            [
             0.6,
             "#e6f5d0"
            ],
            [
             0.7,
             "#b8e186"
            ],
            [
             0.8,
             "#7fbc41"
            ],
            [
             0.9,
             "#4d9221"
            ],
            [
             1,
             "#276419"
            ]
           ],
           "sequential": [
            [
             0,
             "#0d0887"
            ],
            [
             0.1111111111111111,
             "#46039f"
            ],
            [
             0.2222222222222222,
             "#7201a8"
            ],
            [
             0.3333333333333333,
             "#9c179e"
            ],
            [
             0.4444444444444444,
             "#bd3786"
            ],
            [
             0.5555555555555556,
             "#d8576b"
            ],
            [
             0.6666666666666666,
             "#ed7953"
            ],
            [
             0.7777777777777778,
             "#fb9f3a"
            ],
            [
             0.8888888888888888,
             "#fdca26"
            ],
            [
             1,
             "#f0f921"
            ]
           ],
           "sequentialminus": [
            [
             0,
             "#0d0887"
            ],
            [
             0.1111111111111111,
             "#46039f"
            ],
            [
             0.2222222222222222,
             "#7201a8"
            ],
            [
             0.3333333333333333,
             "#9c179e"
            ],
            [
             0.4444444444444444,
             "#bd3786"
            ],
            [
             0.5555555555555556,
             "#d8576b"
            ],
            [
             0.6666666666666666,
             "#ed7953"
            ],
            [
             0.7777777777777778,
             "#fb9f3a"
            ],
            [
             0.8888888888888888,
             "#fdca26"
            ],
            [
             1,
             "#f0f921"
            ]
           ]
          },
          "colorway": [
           "#636efa",
           "#EF553B",
           "#00cc96",
           "#ab63fa",
           "#FFA15A",
           "#19d3f3",
           "#FF6692",
           "#B6E880",
           "#FF97FF",
           "#FECB52"
          ],
          "font": {
           "color": "#2a3f5f"
          },
          "geo": {
           "bgcolor": "white",
           "lakecolor": "white",
           "landcolor": "#E5ECF6",
           "showlakes": true,
           "showland": true,
           "subunitcolor": "white"
          },
          "hoverlabel": {
           "align": "left"
          },
          "hovermode": "closest",
          "mapbox": {
           "style": "light"
          },
          "paper_bgcolor": "white",
          "plot_bgcolor": "#E5ECF6",
          "polar": {
           "angularaxis": {
            "gridcolor": "white",
            "linecolor": "white",
            "ticks": ""
           },
           "bgcolor": "#E5ECF6",
           "radialaxis": {
            "gridcolor": "white",
            "linecolor": "white",
            "ticks": ""
           }
          },
          "scene": {
           "xaxis": {
            "backgroundcolor": "#E5ECF6",
            "gridcolor": "white",
            "gridwidth": 2,
            "linecolor": "white",
            "showbackground": true,
            "ticks": "",
            "zerolinecolor": "white"
           },
           "yaxis": {
            "backgroundcolor": "#E5ECF6",
            "gridcolor": "white",
            "gridwidth": 2,
            "linecolor": "white",
            "showbackground": true,
            "ticks": "",
            "zerolinecolor": "white"
           },
           "zaxis": {
            "backgroundcolor": "#E5ECF6",
            "gridcolor": "white",
            "gridwidth": 2,
            "linecolor": "white",
            "showbackground": true,
            "ticks": "",
            "zerolinecolor": "white"
           }
          },
          "shapedefaults": {
           "line": {
            "color": "#2a3f5f"
           }
          },
          "ternary": {
           "aaxis": {
            "gridcolor": "white",
            "linecolor": "white",
            "ticks": ""
           },
           "baxis": {
            "gridcolor": "white",
            "linecolor": "white",
            "ticks": ""
           },
           "bgcolor": "#E5ECF6",
           "caxis": {
            "gridcolor": "white",
            "linecolor": "white",
            "ticks": ""
           }
          },
          "title": {
           "x": 0.05
          },
          "xaxis": {
           "automargin": true,
           "gridcolor": "white",
           "linecolor": "white",
           "ticks": "",
           "title": {
            "standoff": 15
           },
           "zerolinecolor": "white",
           "zerolinewidth": 2
          },
          "yaxis": {
           "automargin": true,
           "gridcolor": "white",
           "linecolor": "white",
           "ticks": "",
           "title": {
            "standoff": 15
           },
           "zerolinecolor": "white",
           "zerolinewidth": 2
          }
         }
        },
        "title": {
         "text": "Top 20 Strong Relationships Between Feature Columns and Target Column"
        },
        "xaxis": {
         "anchor": "y",
         "domain": [
          0,
          1
         ],
         "title": {
          "text": "Relationship with Target"
         }
        },
        "yaxis": {
         "anchor": "x",
         "categoryorder": "total ascending",
         "domain": [
          0,
          1
         ],
         "title": {
          "text": "Feature Columns"
         }
        }
       }
      }
     },
     "metadata": {},
     "output_type": "display_data"
    }
   ],
   "source": [
    "import plotly.figure_factory as ff\n",
    "import plotly.express as px\n",
    "\n",
    "top = 20\n",
    "fig = px.bar(mi_scores, x=mi_scores.values[:top], y=mi_scores.index[:top])\n",
    "fig.update_layout(\n",
    "    title=f\"Top {top} Strong Relationships Between Feature Columns and Target Column\",\n",
    "    xaxis_title=\"Relationship with Target\",\n",
    "    yaxis_title=\"Feature Columns\",\n",
    "    yaxis={'categoryorder':'total ascending'},\n",
    "    colorway=[\"blue\"]\n",
    ")\n",
    "fig.show()"
   ]
  },
  {
   "cell_type": "code",
   "execution_count": 42,
   "metadata": {},
   "outputs": [
    {
     "name": "stderr",
     "output_type": "stream",
     "text": [
      "ic| len(feature_cols): 210\n"
     ]
    },
    {
     "data": {
      "text/plain": [
       "210"
      ]
     },
     "execution_count": 42,
     "metadata": {},
     "output_type": "execute_result"
    }
   ],
   "source": [
    "ic(len(feature_cols))"
   ]
  },
  {
   "cell_type": "markdown",
   "metadata": {},
   "source": [
    "# Model Training"
   ]
  },
  {
   "cell_type": "markdown",
   "metadata": {},
   "source": [
    "## Functions"
   ]
  },
  {
   "cell_type": "code",
   "execution_count": 43,
   "metadata": {},
   "outputs": [],
   "source": [
    "# TODO: New approach for evaluation metrics (not fully implemented yet)\n",
    "\n",
    "from sklearn.metrics import roc_auc_score\n",
    "from sklearn.metrics import mean_squared_error\n",
    "from sklearn.metrics import mean_absolute_error\n",
    "from sklearn.metrics import roc_auc_score\n",
    "from sklearn.metrics import r2_score\n",
    "\n",
    "def evaluation_metrics(actual, pred):\n",
    "    rmse = np.sqrt(mean_squared_error(actual, pred))\n",
    "    mae = mean_absolute_error(actual, pred)\n",
    "    r2 = r2_score(actual, pred)\n",
    "\n",
    "    print(\"RMSE: %s\" % rmse)\n",
    "    print(\"MAE: %s\" % mae)\n",
    "    print(\"R2: %s\" % r2)\n",
    "\n",
    "    return rmse, mae, r2"
   ]
  },
  {
   "cell_type": "markdown",
   "metadata": {},
   "source": [
    "## Creating Kfolds"
   ]
  },
  {
   "cell_type": "code",
   "execution_count": 44,
   "metadata": {},
   "outputs": [],
   "source": [
    "from sklearn.model_selection import StratifiedKFold\n",
    "\n",
    "folds = 5\n",
    "train[\"kfold\"] = -1\n",
    "kf = StratifiedKFold(n_splits=folds, shuffle=True, random_state=rnd_state)\n",
    "\n",
    "# Adding folds to dataset\n",
    "for fold, (train_indicies, valid_indicies) in enumerate(kf.split(train,train[\"target\"])):\n",
    "    train.loc[valid_indicies, \"kfold\"] = fold"
   ]
  },
  {
   "cell_type": "code",
   "execution_count": 45,
   "metadata": {},
   "outputs": [
    {
     "data": {
      "text/plain": [
       "3    200000\n",
       "2    200000\n",
       "4    200000\n",
       "0    200000\n",
       "1    200000\n",
       "Name: kfold, dtype: int64"
      ]
     },
     "execution_count": 45,
     "metadata": {},
     "output_type": "execute_result"
    }
   ],
   "source": [
    "train['kfold'].value_counts()"
   ]
  },
  {
   "cell_type": "code",
   "execution_count": 48,
   "metadata": {},
   "outputs": [
    {
     "name": "stdout",
     "output_type": "stream",
     "text": [
      "--\n",
      "run_id: d453540400dd4b3b9d059b400aed34f1; status: RUNNING\n",
      "\n"
     ]
    }
   ],
   "source": [
    "print(\"--\")\n",
    "# mlflow.autolog()\n",
    "# mlflow.xgboost.autolog()\n",
    "mlflow.start_run()\n",
    "run = mlflow.active_run()\n",
    "\n",
    "# Log text to a file under the run's root artifact directory\n",
    "mlflow.log_text(\"Test\", \"comments.txt\")\n",
    "\n",
    "# Print run id\n",
    "print(\"run_id: {}; status: {}\\n\".format(run.info.run_id, run.info.status))"
   ]
  },
  {
   "cell_type": "code",
   "execution_count": 49,
   "metadata": {},
   "outputs": [
    {
     "ename": "KeyboardInterrupt",
     "evalue": "",
     "output_type": "error",
     "traceback": [
      "\u001b[1;31m---------------------------------------------------------------------------\u001b[0m",
      "\u001b[1;31mKeyboardInterrupt\u001b[0m                         Traceback (most recent call last)",
      "\u001b[1;32m~\\AppData\\Local\\Temp/ipykernel_8208/1040620729.py\u001b[0m in \u001b[0;36m<module>\u001b[1;34m\u001b[0m\n\u001b[0;32m     39\u001b[0m \u001b[1;33m\u001b[0m\u001b[0m\n\u001b[0;32m     40\u001b[0m     \u001b[0mmodel\u001b[0m \u001b[1;33m=\u001b[0m \u001b[0mXGBClassifier\u001b[0m\u001b[1;33m(\u001b[0m\u001b[1;33m**\u001b[0m\u001b[0mxgb_params\u001b[0m\u001b[1;33m)\u001b[0m\u001b[1;33m\u001b[0m\u001b[1;33m\u001b[0m\u001b[0m\n\u001b[1;32m---> 41\u001b[1;33m     \u001b[0mmodel\u001b[0m\u001b[1;33m.\u001b[0m\u001b[0mfit\u001b[0m\u001b[1;33m(\u001b[0m\u001b[0mx_train\u001b[0m\u001b[1;33m,\u001b[0m \u001b[0my_train\u001b[0m\u001b[1;33m,\u001b[0m \u001b[0meval_set\u001b[0m\u001b[1;33m=\u001b[0m\u001b[1;33m[\u001b[0m\u001b[1;33m(\u001b[0m\u001b[0mx_valid\u001b[0m\u001b[1;33m,\u001b[0m \u001b[0my_valid\u001b[0m\u001b[1;33m)\u001b[0m\u001b[1;33m]\u001b[0m\u001b[1;33m,\u001b[0m \u001b[0mverbose\u001b[0m\u001b[1;33m=\u001b[0m\u001b[1;32mFalse\u001b[0m\u001b[1;33m)\u001b[0m\u001b[1;33m\u001b[0m\u001b[1;33m\u001b[0m\u001b[0m\n\u001b[0m\u001b[0;32m     42\u001b[0m \u001b[1;33m\u001b[0m\u001b[0m\n\u001b[0;32m     43\u001b[0m     \u001b[0mpreds_train\u001b[0m \u001b[1;33m=\u001b[0m \u001b[0mmodel\u001b[0m\u001b[1;33m.\u001b[0m\u001b[0mpredict_proba\u001b[0m\u001b[1;33m(\u001b[0m\u001b[0mx_train\u001b[0m\u001b[1;33m)\u001b[0m\u001b[1;33m[\u001b[0m\u001b[1;33m:\u001b[0m\u001b[1;33m,\u001b[0m \u001b[1;36m1\u001b[0m\u001b[1;33m]\u001b[0m\u001b[1;33m\u001b[0m\u001b[1;33m\u001b[0m\u001b[0m\n",
      "\u001b[1;32m~\\miniconda3\\envs\\kaggle-competition\\lib\\site-packages\\xgboost\\core.py\u001b[0m in \u001b[0;36minner_f\u001b[1;34m(*args, **kwargs)\u001b[0m\n\u001b[0;32m    504\u001b[0m         \u001b[1;32mfor\u001b[0m \u001b[0mk\u001b[0m\u001b[1;33m,\u001b[0m \u001b[0marg\u001b[0m \u001b[1;32min\u001b[0m \u001b[0mzip\u001b[0m\u001b[1;33m(\u001b[0m\u001b[0msig\u001b[0m\u001b[1;33m.\u001b[0m\u001b[0mparameters\u001b[0m\u001b[1;33m,\u001b[0m \u001b[0margs\u001b[0m\u001b[1;33m)\u001b[0m\u001b[1;33m:\u001b[0m\u001b[1;33m\u001b[0m\u001b[1;33m\u001b[0m\u001b[0m\n\u001b[0;32m    505\u001b[0m             \u001b[0mkwargs\u001b[0m\u001b[1;33m[\u001b[0m\u001b[0mk\u001b[0m\u001b[1;33m]\u001b[0m \u001b[1;33m=\u001b[0m \u001b[0marg\u001b[0m\u001b[1;33m\u001b[0m\u001b[1;33m\u001b[0m\u001b[0m\n\u001b[1;32m--> 506\u001b[1;33m         \u001b[1;32mreturn\u001b[0m \u001b[0mf\u001b[0m\u001b[1;33m(\u001b[0m\u001b[1;33m**\u001b[0m\u001b[0mkwargs\u001b[0m\u001b[1;33m)\u001b[0m\u001b[1;33m\u001b[0m\u001b[1;33m\u001b[0m\u001b[0m\n\u001b[0m\u001b[0;32m    507\u001b[0m \u001b[1;33m\u001b[0m\u001b[0m\n\u001b[0;32m    508\u001b[0m     \u001b[1;32mreturn\u001b[0m \u001b[0minner_f\u001b[0m\u001b[1;33m\u001b[0m\u001b[1;33m\u001b[0m\u001b[0m\n",
      "\u001b[1;32m~\\miniconda3\\envs\\kaggle-competition\\lib\\site-packages\\xgboost\\sklearn.py\u001b[0m in \u001b[0;36mfit\u001b[1;34m(self, X, y, sample_weight, base_margin, eval_set, eval_metric, early_stopping_rounds, verbose, xgb_model, sample_weight_eval_set, base_margin_eval_set, feature_weights, callbacks)\u001b[0m\n\u001b[0;32m   1248\u001b[0m         )\n\u001b[0;32m   1249\u001b[0m \u001b[1;33m\u001b[0m\u001b[0m\n\u001b[1;32m-> 1250\u001b[1;33m         self._Booster = train(\n\u001b[0m\u001b[0;32m   1251\u001b[0m             \u001b[0mparams\u001b[0m\u001b[1;33m,\u001b[0m\u001b[1;33m\u001b[0m\u001b[1;33m\u001b[0m\u001b[0m\n\u001b[0;32m   1252\u001b[0m             \u001b[0mtrain_dmatrix\u001b[0m\u001b[1;33m,\u001b[0m\u001b[1;33m\u001b[0m\u001b[1;33m\u001b[0m\u001b[0m\n",
      "\u001b[1;32m~\\miniconda3\\envs\\kaggle-competition\\lib\\site-packages\\xgboost\\training.py\u001b[0m in \u001b[0;36mtrain\u001b[1;34m(params, dtrain, num_boost_round, evals, obj, feval, maximize, early_stopping_rounds, evals_result, verbose_eval, xgb_model, callbacks)\u001b[0m\n\u001b[0;32m    186\u001b[0m     \u001b[0mBooster\u001b[0m \u001b[1;33m:\u001b[0m \u001b[0ma\u001b[0m \u001b[0mtrained\u001b[0m \u001b[0mbooster\u001b[0m \u001b[0mmodel\u001b[0m\u001b[1;33m\u001b[0m\u001b[1;33m\u001b[0m\u001b[0m\n\u001b[0;32m    187\u001b[0m     \"\"\"\n\u001b[1;32m--> 188\u001b[1;33m     bst = _train_internal(params, dtrain,\n\u001b[0m\u001b[0;32m    189\u001b[0m                           \u001b[0mnum_boost_round\u001b[0m\u001b[1;33m=\u001b[0m\u001b[0mnum_boost_round\u001b[0m\u001b[1;33m,\u001b[0m\u001b[1;33m\u001b[0m\u001b[1;33m\u001b[0m\u001b[0m\n\u001b[0;32m    190\u001b[0m                           \u001b[0mevals\u001b[0m\u001b[1;33m=\u001b[0m\u001b[0mevals\u001b[0m\u001b[1;33m,\u001b[0m\u001b[1;33m\u001b[0m\u001b[1;33m\u001b[0m\u001b[0m\n",
      "\u001b[1;32m~\\miniconda3\\envs\\kaggle-competition\\lib\\site-packages\\xgboost\\training.py\u001b[0m in \u001b[0;36m_train_internal\u001b[1;34m(params, dtrain, num_boost_round, evals, obj, feval, xgb_model, callbacks, evals_result, maximize, verbose_eval, early_stopping_rounds)\u001b[0m\n\u001b[0;32m     79\u001b[0m         \u001b[1;32mif\u001b[0m \u001b[0mcallbacks\u001b[0m\u001b[1;33m.\u001b[0m\u001b[0mbefore_iteration\u001b[0m\u001b[1;33m(\u001b[0m\u001b[0mbst\u001b[0m\u001b[1;33m,\u001b[0m \u001b[0mi\u001b[0m\u001b[1;33m,\u001b[0m \u001b[0mdtrain\u001b[0m\u001b[1;33m,\u001b[0m \u001b[0mevals\u001b[0m\u001b[1;33m)\u001b[0m\u001b[1;33m:\u001b[0m\u001b[1;33m\u001b[0m\u001b[1;33m\u001b[0m\u001b[0m\n\u001b[0;32m     80\u001b[0m             \u001b[1;32mbreak\u001b[0m\u001b[1;33m\u001b[0m\u001b[1;33m\u001b[0m\u001b[0m\n\u001b[1;32m---> 81\u001b[1;33m         \u001b[0mbst\u001b[0m\u001b[1;33m.\u001b[0m\u001b[0mupdate\u001b[0m\u001b[1;33m(\u001b[0m\u001b[0mdtrain\u001b[0m\u001b[1;33m,\u001b[0m \u001b[0mi\u001b[0m\u001b[1;33m,\u001b[0m \u001b[0mobj\u001b[0m\u001b[1;33m)\u001b[0m\u001b[1;33m\u001b[0m\u001b[1;33m\u001b[0m\u001b[0m\n\u001b[0m\u001b[0;32m     82\u001b[0m         \u001b[1;32mif\u001b[0m \u001b[0mcallbacks\u001b[0m\u001b[1;33m.\u001b[0m\u001b[0mafter_iteration\u001b[0m\u001b[1;33m(\u001b[0m\u001b[0mbst\u001b[0m\u001b[1;33m,\u001b[0m \u001b[0mi\u001b[0m\u001b[1;33m,\u001b[0m \u001b[0mdtrain\u001b[0m\u001b[1;33m,\u001b[0m \u001b[0mevals\u001b[0m\u001b[1;33m)\u001b[0m\u001b[1;33m:\u001b[0m\u001b[1;33m\u001b[0m\u001b[1;33m\u001b[0m\u001b[0m\n\u001b[0;32m     83\u001b[0m             \u001b[1;32mbreak\u001b[0m\u001b[1;33m\u001b[0m\u001b[1;33m\u001b[0m\u001b[0m\n",
      "\u001b[1;32m~\\miniconda3\\envs\\kaggle-competition\\lib\\site-packages\\xgboost\\core.py\u001b[0m in \u001b[0;36mupdate\u001b[1;34m(self, dtrain, iteration, fobj)\u001b[0m\n\u001b[0;32m   1678\u001b[0m \u001b[1;33m\u001b[0m\u001b[0m\n\u001b[0;32m   1679\u001b[0m         \u001b[1;32mif\u001b[0m \u001b[0mfobj\u001b[0m \u001b[1;32mis\u001b[0m \u001b[1;32mNone\u001b[0m\u001b[1;33m:\u001b[0m\u001b[1;33m\u001b[0m\u001b[1;33m\u001b[0m\u001b[0m\n\u001b[1;32m-> 1680\u001b[1;33m             _check_call(_LIB.XGBoosterUpdateOneIter(self.handle,\n\u001b[0m\u001b[0;32m   1681\u001b[0m                                                     \u001b[0mctypes\u001b[0m\u001b[1;33m.\u001b[0m\u001b[0mc_int\u001b[0m\u001b[1;33m(\u001b[0m\u001b[0miteration\u001b[0m\u001b[1;33m)\u001b[0m\u001b[1;33m,\u001b[0m\u001b[1;33m\u001b[0m\u001b[1;33m\u001b[0m\u001b[0m\n\u001b[0;32m   1682\u001b[0m                                                     dtrain.handle))\n",
      "\u001b[1;31mKeyboardInterrupt\u001b[0m: "
     ]
    }
   ],
   "source": [
    "from xgboost import XGBClassifier\n",
    "from sklearn.metrics import roc_auc_score\n",
    "import time\n",
    "\n",
    "final_test_predictions = []\n",
    "scores = []\n",
    "\n",
    "for fold in range(folds):\n",
    "    x_train = train[train.kfold != fold].copy()\n",
    "    x_valid = train[train.kfold == fold].copy()\n",
    "    x_test = test[feature_cols].copy()\n",
    "\n",
    "    y_train = x_train[\"target\"]\n",
    "    y_valid = x_valid[\"target\"]\n",
    "\n",
    "    x_train = x_train[feature_cols]\n",
    "    x_valid = x_valid[feature_cols]\n",
    "\n",
    "    xgb_params = {\n",
    "        \"eval_metric\": \"auc\",\n",
    "        \"objective\": \"binary:logistic\",\n",
    "        \"tree_method\": \"gpu_hist\",\n",
    "        \"gpu_id\": 0,\n",
    "        #\"n_jobs\": n_cpu,\n",
    "        \"predictor\": \"gpu_predictor\",\n",
    "        \"n_estimators\": 10000,\n",
    "        \"learning_rate\": 0.01063045229441343,\n",
    "        \"gamma\": 0.24652519525750877,\n",
    "        \"max_depth\": 4,\n",
    "        \"seed\": rnd_state,\n",
    "        \"min_child_weight\": 366,\n",
    "        \"subsample\": 0.6423040816299684,\n",
    "        \"colsample_bytree\": 0.7751264493218339,\n",
    "        \"colsample_bylevel\": 0.8675692743597421,\n",
    "        \"use_label_encoder\": False,\n",
    "        \"lambda\": 0,\n",
    "        \"alpha\": 10,\n",
    "    }\n",
    "\n",
    "    model = XGBClassifier(**xgb_params)\n",
    "    model.fit(x_train, y_train, eval_set=[(x_valid, y_valid)], verbose=False)\n",
    "\n",
    "    preds_train = model.predict_proba(x_train)[:, 1]\n",
    "    preds_valid = model.predict_proba(x_valid)[:, 1]\n",
    "    auc_train = roc_auc_score(y_train, preds_train)\n",
    "    auc = roc_auc_score(y_valid, preds_valid)\n",
    "    print(\"Fold\", fold, \", train:\", f\"{auc_train:.6f}\", \", valid:\", f\"{auc:.6f}\")\n",
    "    scores.append(auc)\n",
    "\n",
    "    preds_test = model.predict_proba(x_test)[:, 1]\n",
    "    final_test_predictions.append(preds_test)\n",
    "\n",
    "\n",
    "print(\"AVG AUC:\", np.mean(scores))"
   ]
  },
  {
   "cell_type": "code",
   "execution_count": null,
   "metadata": {},
   "outputs": [
    {
     "name": "stdout",
     "output_type": "stream",
     "text": [
      "Store type: file\n"
     ]
    }
   ],
   "source": [
    "# MLFlow: Get metrics\n",
    "# TODO: Test mlflow.autolog()\n",
    "mlflow.log_params(params)\n",
    "#mlflow.log_metric(\"rmse\", rmse)\n",
    "#mlflow.log_metric(\"r2\", r2)\n",
    "#mlflow.log_metric(\"mae\", mae)\n",
    "mlflow.log_metric(\"AVG AUC\", np.mean(scores))\n",
    "\n",
    "#features =\", \".join(str(elem) for elem in feature_cols)\n",
    "features = str(feature_cols)\n",
    "\n",
    "with open(\"features.txt\", 'w') as f:\n",
    "    f.write(features)\n",
    "    \n",
    "mlflow.log_artifact(\"features.txt\", artifact_path=\"features\")\n",
    "\n",
    "tracking_url_type_store = urlparse(mlflow.get_tracking_uri()).scheme\n",
    "\n",
    "# Register Experiment\n",
    "if tracking_url_type_store != \"file\":\n",
    "    # Register the model\n",
    "    # There are other ways to use the Model Registry, which depends on the use case,\n",
    "    # please refer to the doc for more information:\n",
    "    # https://mlflow.org/docs/latest/model-registry.html#api-workflow\n",
    "    \n",
    "    mlflow.xgboost.log_model(\n",
    "        xgb_model=model,\n",
    "        artifact_path=\"xgboost-model\",\n",
    "        registered_model_name=\"XGBClassifier\",\n",
    "    )\n",
    "\n",
    "else:\n",
    "    print('Store type: file')\n",
    "    mlflow.xgboost.log_model(model, \"model\")\n"
   ]
  },
  {
   "cell_type": "code",
   "execution_count": null,
   "metadata": {},
   "outputs": [
    {
     "name": "stdout",
     "output_type": "stream",
     "text": [
      "run_id: eed7c979be864de3838955b2ddf60c40; status: FINISHED\n",
      "--\n",
      "Active run: None\n"
     ]
    }
   ],
   "source": [
    "# End run and get status\n",
    "mlflow.end_run()\n",
    "run = mlflow.get_run(run.info.run_id)\n",
    "print(\"run_id: {}; status: {}\".format(run.info.run_id, run.info.status))\n",
    "print(\"--\")\n",
    "\n",
    "# Check for any active runs\n",
    "print(\"Active run: {}\".format(mlflow.active_run()))"
   ]
  },
  {
   "cell_type": "markdown",
   "metadata": {},
   "source": [
    "#  Submit results"
   ]
  },
  {
   "cell_type": "markdown",
   "metadata": {},
   "source": [
    "- 2021-10-20_submission_kmean-pca-fs17-xbg-nop.csv: 0.8569970265985022 | **0.85626**\n",
    "- 2021-10-20_submission_kmean-3pca-fs17-xbg-nop.csv: 0.8568950821125828 | 0.85619\n",
    "- 2021-10-20_submission_kmean-ALLpca-fs13-xbg-nop.csv: 0.8567778822323093 | not submitted\n",
    "- 2021-10-20_submission_13fs-kmean-2pca-4nf-xbg-nop.csv: 0.8568443738048714 | not submitted\n",
    "- 2021-10-20_submission_49fs-kmean-2pca-4nf-xbg-nop.csv: 0.8567888578426363 | 0.85599\n",
    "- 2021-10-20_submission_13fs-kmean-1pca-4nf-poly-xbg-nop.csv: 0.8568639280432698 | 0.85615\n",
    "- 2021-10-25_submission_f64d06226bb94f2fb2b33350b7a40692.csv: 0.8566269081302578 | 0.85600"
   ]
  },
  {
   "cell_type": "code",
   "execution_count": null,
   "metadata": {},
   "outputs": [
    {
     "name": "stdout",
     "output_type": "stream",
     "text": [
      "2021-10-25_submission_f64d06226bb94f2fb2b33350b7a40692.csv\n"
     ]
    }
   ],
   "source": [
    "import numpy as np\n",
    "from datetime import datetime\n",
    "\n",
    "# datetime object containing current date and time\n",
    "now = datetime.now()\n",
    "now = now.strftime(\"%Y-%m-%d\")\n",
    "\n",
    "objective = str(run.info.run_id)\n",
    "\n",
    "curr_submission_fn = f\"{now}_submission_{objective}.csv\"\n",
    "\n",
    "sample_df['target'] = np.mean(np.column_stack(final_test_predictions), axis=1)\n",
    "sample_df.to_csv(PATH_SUB + curr_submission_fn, index=False)\n",
    "\n",
    "print(curr_submission_fn)\n"
   ]
  },
  {
   "cell_type": "code",
   "execution_count": null,
   "metadata": {},
   "outputs": [
    {
     "name": "stdout",
     "output_type": "stream",
     "text": [
      "Successfully submitted to Tabular Playground Series - Oct 2021"
     ]
    },
    {
     "name": "stderr",
     "output_type": "stream",
     "text": [
      "\n",
      "  0%|          | 0.00/9.36M [00:00<?, ?B/s]\n",
      "  0%|          | 8.00k/9.36M [00:00<07:18, 22.4kB/s]\n",
      "  1%|          | 96.0k/9.36M [00:00<00:42, 229kB/s] \n",
      "  1%|▏         | 136k/9.36M [00:01<01:11, 135kB/s] \n",
      "  2%|▏         | 168k/9.36M [00:01<01:04, 149kB/s]\n",
      "  2%|▏         | 192k/9.36M [00:01<01:31, 105kB/s]\n",
      "  2%|▏         | 216k/9.36M [00:01<01:18, 122kB/s]\n",
      "  3%|▎         | 240k/9.36M [00:01<01:08, 140kB/s]\n",
      "  3%|▎         | 264k/9.36M [00:01<01:00, 157kB/s]\n",
      "  3%|▎         | 304k/9.36M [00:02<00:47, 200kB/s]\n",
      "  4%|▎         | 336k/9.36M [00:02<00:43, 216kB/s]\n",
      "  4%|▍         | 368k/9.36M [00:02<00:39, 239kB/s]\n",
      "  4%|▍         | 408k/9.36M [00:02<00:34, 273kB/s]\n",
      "  5%|▍         | 448k/9.36M [00:02<00:30, 303kB/s]\n",
      "  5%|▌         | 480k/9.36M [00:02<00:30, 305kB/s]\n",
      "  5%|▌         | 512k/9.36M [00:02<00:30, 306kB/s]\n",
      "  6%|▌         | 552k/9.36M [00:02<00:29, 315kB/s]\n",
      "  6%|▋         | 600k/9.36M [00:02<00:26, 342kB/s]\n",
      "  7%|▋         | 640k/9.36M [00:03<00:28, 326kB/s]\n",
      "  7%|▋         | 688k/9.36M [00:03<00:26, 338kB/s]\n",
      "  8%|▊         | 728k/9.36M [00:03<00:25, 352kB/s]\n",
      "  8%|▊         | 768k/9.36M [00:03<00:25, 357kB/s]\n",
      "  8%|▊         | 808k/9.36M [00:03<00:25, 353kB/s]\n",
      "  9%|▉         | 848k/9.36M [00:03<00:24, 364kB/s]\n",
      "  9%|▉         | 888k/9.36M [00:03<00:24, 368kB/s]\n",
      " 10%|▉         | 928k/9.36M [00:03<00:23, 372kB/s]\n",
      " 10%|█         | 968k/9.36M [00:04<00:23, 370kB/s]\n",
      " 11%|█         | 0.98M/9.36M [00:04<00:24, 355kB/s]\n",
      " 11%|█         | 1.03M/9.36M [00:04<00:23, 376kB/s]\n",
      " 11%|█▏        | 1.07M/9.36M [00:04<00:23, 373kB/s]\n",
      " 12%|█▏        | 1.11M/9.36M [00:04<00:25, 336kB/s]\n",
      " 12%|█▏        | 1.16M/9.36M [00:04<00:24, 356kB/s]\n",
      " 13%|█▎        | 1.20M/9.36M [00:04<00:23, 364kB/s]\n",
      " 13%|█▎        | 1.24M/9.36M [00:04<00:22, 373kB/s]\n",
      " 14%|█▎        | 1.28M/9.36M [00:05<00:23, 354kB/s]\n",
      " 14%|█▍        | 1.32M/9.36M [00:05<00:24, 348kB/s]\n",
      " 15%|█▍        | 1.36M/9.36M [00:05<00:23, 360kB/s]\n",
      " 15%|█▍        | 1.40M/9.36M [00:05<00:23, 353kB/s]\n",
      " 15%|█▌        | 1.44M/9.36M [00:05<00:23, 349kB/s]\n",
      " 16%|█▌        | 1.48M/9.36M [00:05<00:24, 343kB/s]\n",
      " 16%|█▌        | 1.52M/9.36M [00:05<00:24, 332kB/s]\n",
      " 17%|█▋        | 1.55M/9.36M [00:05<00:23, 348kB/s]\n",
      " 17%|█▋        | 1.59M/9.36M [00:05<00:24, 332kB/s]\n",
      " 18%|█▊        | 1.64M/9.36M [00:06<00:22, 354kB/s]\n",
      " 18%|█▊        | 1.68M/9.36M [00:06<00:22, 363kB/s]\n",
      " 18%|█▊        | 1.72M/9.36M [00:06<00:23, 348kB/s]\n",
      " 19%|█▉        | 1.76M/9.36M [00:06<00:23, 346kB/s]\n",
      " 19%|█▉        | 1.80M/9.36M [00:06<00:22, 356kB/s]\n",
      " 20%|█▉        | 1.84M/9.36M [00:06<00:22, 344kB/s]\n",
      " 20%|██        | 1.88M/9.36M [00:06<00:21, 359kB/s]\n",
      " 20%|██        | 1.91M/9.36M [00:06<00:21, 356kB/s]\n",
      " 21%|██        | 1.95M/9.36M [00:07<00:21, 361kB/s]\n",
      " 22%|██▏       | 2.05M/9.36M [00:07<00:14, 522kB/s]\n",
      " 23%|██▎       | 2.11M/9.36M [00:07<00:16, 475kB/s]\n",
      " 23%|██▎       | 2.16M/9.36M [00:07<00:16, 445kB/s]\n",
      " 24%|██▎       | 2.20M/9.36M [00:07<00:17, 421kB/s]\n",
      " 24%|██▍       | 2.25M/9.36M [00:07<00:18, 408kB/s]\n",
      " 25%|██▍       | 2.30M/9.36M [00:07<00:19, 384kB/s]\n",
      " 25%|██▍       | 2.34M/9.36M [00:07<00:18, 389kB/s]\n",
      " 25%|██▌       | 2.38M/9.36M [00:08<00:19, 385kB/s]\n",
      " 26%|██▌       | 2.41M/9.36M [00:08<00:19, 380kB/s]\n",
      " 26%|██▌       | 2.45M/9.36M [00:08<00:19, 377kB/s]\n",
      " 27%|██▋       | 2.49M/9.36M [00:08<00:19, 369kB/s]\n",
      " 27%|██▋       | 2.53M/9.36M [00:08<00:19, 360kB/s]\n",
      " 28%|██▊       | 2.58M/9.36M [00:08<00:18, 380kB/s]\n",
      " 29%|██▉       | 2.74M/9.36M [00:08<00:09, 704kB/s]\n",
      " 30%|███       | 2.81M/9.36M [00:08<00:11, 576kB/s]\n",
      " 31%|███       | 2.88M/9.36M [00:09<00:14, 485kB/s]\n",
      " 31%|███▏      | 2.93M/9.36M [00:09<00:15, 434kB/s]\n",
      " 32%|███▏      | 2.98M/9.36M [00:09<00:31, 214kB/s]\n",
      " 34%|███▍      | 3.17M/9.36M [00:10<00:14, 439kB/s]\n",
      " 35%|███▍      | 3.25M/9.36M [00:10<00:15, 410kB/s]\n",
      " 35%|███▌      | 3.32M/9.36M [00:10<00:21, 292kB/s]\n",
      " 37%|███▋      | 3.45M/9.36M [00:10<00:14, 423kB/s]\n",
      " 38%|███▊      | 3.53M/9.36M [00:11<00:15, 407kB/s]\n",
      " 38%|███▊      | 3.59M/9.36M [00:11<00:15, 395kB/s]\n",
      " 39%|███▉      | 3.65M/9.36M [00:11<00:15, 385kB/s]\n",
      " 40%|███▉      | 3.70M/9.36M [00:11<00:15, 380kB/s]\n",
      " 40%|████      | 3.75M/9.36M [00:11<00:15, 386kB/s]\n",
      " 41%|████      | 3.80M/9.36M [00:11<00:15, 380kB/s]\n",
      " 41%|████      | 3.84M/9.36M [00:11<00:15, 371kB/s]\n",
      " 41%|████▏     | 3.88M/9.36M [00:12<00:15, 367kB/s]\n",
      " 42%|████▏     | 3.92M/9.36M [00:12<00:15, 371kB/s]\n",
      " 42%|████▏     | 3.96M/9.36M [00:12<00:15, 361kB/s]\n",
      " 43%|████▎     | 4.00M/9.36M [00:12<00:15, 367kB/s]\n",
      " 43%|████▎     | 4.05M/9.36M [00:12<00:14, 380kB/s]\n",
      " 44%|████▎     | 4.09M/9.36M [00:12<00:15, 354kB/s]\n",
      " 44%|████▍     | 4.13M/9.36M [00:12<00:14, 371kB/s]\n",
      " 45%|████▍     | 4.17M/9.36M [00:12<00:14, 371kB/s]\n",
      " 45%|████▍     | 4.21M/9.36M [00:13<00:14, 367kB/s]\n",
      " 45%|████▌     | 4.25M/9.36M [00:13<00:14, 360kB/s]\n",
      " 46%|████▌     | 4.30M/9.36M [00:13<00:14, 374kB/s]\n",
      " 46%|████▋     | 4.34M/9.36M [00:13<00:14, 365kB/s]\n",
      " 47%|████▋     | 4.38M/9.36M [00:13<00:14, 357kB/s]\n",
      " 47%|████▋     | 4.41M/9.36M [00:13<00:14, 366kB/s]\n",
      " 48%|████▊     | 4.45M/9.36M [00:13<00:14, 357kB/s]\n",
      " 48%|████▊     | 4.49M/9.36M [00:13<00:13, 366kB/s]\n",
      " 48%|████▊     | 4.53M/9.36M [00:13<00:13, 373kB/s]\n",
      " 49%|████▉     | 4.57M/9.36M [00:14<00:13, 375kB/s]\n",
      " 49%|████▉     | 4.61M/9.36M [00:14<00:14, 350kB/s]\n",
      " 50%|████▉     | 4.65M/9.36M [00:14<00:13, 360kB/s]\n",
      " 50%|█████     | 4.69M/9.36M [00:14<00:13, 354kB/s]\n",
      " 51%|█████     | 4.73M/9.36M [00:14<00:13, 365kB/s]\n",
      " 51%|█████     | 4.78M/9.36M [00:15<00:24, 195kB/s]\n",
      " 53%|█████▎    | 4.95M/9.36M [00:15<00:11, 420kB/s]\n",
      " 54%|█████▎    | 5.01M/9.36M [00:15<00:11, 409kB/s]\n",
      " 54%|█████▍    | 5.06M/9.36M [00:15<00:12, 366kB/s]\n",
      " 55%|█████▍    | 5.11M/9.36M [00:15<00:11, 375kB/s]\n",
      " 55%|█████▌    | 5.16M/9.36M [00:15<00:12, 362kB/s]\n",
      " 56%|█████▌    | 5.20M/9.36M [00:15<00:12, 352kB/s]\n",
      " 56%|█████▌    | 5.25M/9.36M [00:16<00:11, 376kB/s]\n",
      " 57%|█████▋    | 5.29M/9.36M [00:16<00:11, 366kB/s]\n",
      " 57%|█████▋    | 5.33M/9.36M [00:16<00:12, 348kB/s]\n",
      " 57%|█████▋    | 5.37M/9.36M [00:16<00:11, 358kB/s]\n",
      " 58%|█████▊    | 5.41M/9.36M [00:16<00:11, 365kB/s]\n",
      " 58%|█████▊    | 5.45M/9.36M [00:16<00:11, 367kB/s]\n",
      " 59%|█████▊    | 5.48M/9.36M [00:16<00:11, 349kB/s]\n",
      " 59%|█████▉    | 5.53M/9.36M [00:16<00:10, 377kB/s]\n",
      " 60%|█████▉    | 5.57M/9.36M [00:17<00:10, 366kB/s]\n",
      " 60%|█████▉    | 5.61M/9.36M [00:17<00:10, 372kB/s]\n",
      " 60%|██████    | 5.65M/9.36M [00:17<00:10, 374kB/s]\n",
      " 61%|██████    | 5.69M/9.36M [00:17<00:10, 373kB/s]\n",
      " 61%|██████    | 5.73M/9.36M [00:17<00:10, 368kB/s]\n",
      " 62%|██████▏   | 5.77M/9.36M [00:17<00:10, 373kB/s]\n",
      " 62%|██████▏   | 5.80M/9.36M [00:17<00:10, 349kB/s]\n",
      " 62%|██████▏   | 5.84M/9.36M [00:17<00:10, 360kB/s]\n",
      " 63%|██████▎   | 5.88M/9.36M [00:17<00:09, 367kB/s]\n",
      " 63%|██████▎   | 5.93M/9.36M [00:18<00:09, 380kB/s]\n",
      " 64%|██████▍   | 5.97M/9.36M [00:18<00:09, 365kB/s]\n",
      " 64%|██████▍   | 6.01M/9.36M [00:18<00:09, 368kB/s]\n",
      " 65%|██████▍   | 6.05M/9.36M [00:18<00:09, 377kB/s]\n",
      " 65%|██████▌   | 6.09M/9.36M [00:18<00:09, 379kB/s]\n",
      " 65%|██████▌   | 6.12M/9.36M [00:18<00:09, 368kB/s]\n",
      " 66%|██████▌   | 6.16M/9.36M [00:18<00:09, 365kB/s]\n",
      " 66%|██████▋   | 6.20M/9.36M [00:18<00:08, 376kB/s]\n",
      " 67%|██████▋   | 6.24M/9.36M [00:18<00:08, 373kB/s]\n",
      " 67%|██████▋   | 6.28M/9.36M [00:19<00:08, 376kB/s]\n",
      " 68%|██████▊   | 6.32M/9.36M [00:19<00:08, 367kB/s]\n",
      " 68%|██████▊   | 6.36M/9.36M [00:19<00:08, 354kB/s]\n",
      " 68%|██████▊   | 6.40M/9.36M [00:19<00:08, 349kB/s]\n",
      " 69%|██████▉   | 6.45M/9.36M [00:19<00:08, 379kB/s]\n",
      " 69%|██████▉   | 6.48M/9.36M [00:19<00:08, 368kB/s]\n",
      " 70%|██████▉   | 6.52M/9.36M [00:19<00:08, 367kB/s]\n",
      " 70%|███████   | 6.56M/9.36M [00:19<00:08, 362kB/s]\n",
      " 71%|███████   | 6.60M/9.36M [00:19<00:08, 328kB/s]\n",
      " 71%|███████   | 6.65M/9.36M [00:20<00:07, 358kB/s]\n",
      " 71%|███████▏  | 6.69M/9.36M [00:20<00:07, 358kB/s]\n",
      " 72%|███████▏  | 6.73M/9.36M [00:20<00:07, 358kB/s]\n",
      " 72%|███████▏  | 6.77M/9.36M [00:20<00:07, 345kB/s]\n",
      " 73%|███████▎  | 6.80M/9.36M [00:20<00:07, 356kB/s]\n",
      " 73%|███████▎  | 6.84M/9.36M [00:20<00:07, 331kB/s]\n",
      " 74%|███████▎  | 6.88M/9.36M [00:20<00:07, 325kB/s]\n",
      " 74%|███████▍  | 6.92M/9.36M [00:20<00:07, 341kB/s]\n",
      " 74%|███████▍  | 6.96M/9.36M [00:21<00:07, 342kB/s]\n",
      " 75%|███████▍  | 7.00M/9.36M [00:21<00:07, 347kB/s]\n",
      " 75%|███████▌  | 7.04M/9.36M [00:21<00:07, 335kB/s]\n"
     ]
    },
    {
     "name": "stdout",
     "output_type": "stream",
     "text": [
      "\n"
     ]
    },
    {
     "name": "stderr",
     "output_type": "stream",
     "text": [
      " 76%|███████▌  | 7.08M/9.36M [00:21<00:06, 349kB/s]\n",
      " 76%|███████▌  | 7.12M/9.36M [00:21<00:06, 359kB/s]\n",
      " 76%|███████▋  | 7.16M/9.36M [00:21<00:06, 341kB/s]\n",
      " 77%|███████▋  | 7.20M/9.36M [00:21<00:06, 361kB/s]\n",
      " 77%|███████▋  | 7.24M/9.36M [00:21<00:05, 373kB/s]\n",
      " 78%|███████▊  | 7.28M/9.36M [00:21<00:05, 370kB/s]\n",
      " 78%|███████▊  | 7.32M/9.36M [00:22<00:06, 345kB/s]\n",
      " 79%|███████▊  | 7.37M/9.36M [00:22<00:05, 377kB/s]\n",
      " 79%|███████▉  | 7.41M/9.36M [00:22<00:05, 353kB/s]\n",
      " 80%|███████▉  | 7.45M/9.36M [00:22<00:05, 357kB/s]\n",
      " 80%|███████▉  | 7.48M/9.36M [00:22<00:05, 357kB/s]\n",
      " 80%|████████  | 7.52M/9.36M [00:22<00:05, 334kB/s]\n",
      " 81%|████████  | 7.56M/9.36M [00:22<00:05, 349kB/s]\n",
      " 81%|████████  | 7.60M/9.36M [00:22<00:05, 359kB/s]\n",
      " 82%|████████▏ | 7.64M/9.36M [00:23<00:04, 362kB/s]\n",
      " 82%|████████▏ | 7.68M/9.36M [00:23<00:04, 360kB/s]\n",
      " 82%|████████▏ | 7.72M/9.36M [00:23<00:04, 365kB/s]\n",
      " 83%|████████▎ | 7.76M/9.36M [00:23<00:04, 360kB/s]\n",
      " 83%|████████▎ | 7.80M/9.36M [00:23<00:04, 353kB/s]\n",
      " 84%|████████▍ | 7.84M/9.36M [00:23<00:04, 367kB/s]\n",
      " 84%|████████▍ | 7.88M/9.36M [00:23<00:04, 359kB/s]\n",
      " 85%|████████▍ | 7.92M/9.36M [00:23<00:04, 352kB/s]\n",
      " 85%|████████▌ | 7.96M/9.36M [00:23<00:04, 362kB/s]\n",
      " 85%|████████▌ | 8.00M/9.36M [00:24<00:04, 353kB/s]\n",
      " 86%|████████▌ | 8.04M/9.36M [00:24<00:03, 350kB/s]\n",
      " 86%|████████▋ | 8.08M/9.36M [00:24<00:03, 358kB/s]\n",
      " 87%|████████▋ | 8.12M/9.36M [00:24<00:03, 368kB/s]\n",
      " 87%|████████▋ | 8.16M/9.36M [00:24<00:03, 358kB/s]\n",
      " 88%|████████▊ | 8.20M/9.36M [00:24<00:03, 366kB/s]\n",
      " 88%|████████▊ | 8.23M/9.36M [00:24<00:03, 372kB/s]\n",
      " 88%|████████▊ | 8.27M/9.36M [00:24<00:03, 374kB/s]\n",
      " 89%|████████▉ | 8.31M/9.36M [00:25<00:03, 351kB/s]\n",
      " 89%|████████▉ | 8.35M/9.36M [00:25<00:06, 173kB/s]\n",
      " 90%|████████▉ | 8.38M/9.36M [00:25<00:05, 190kB/s]\n",
      " 92%|█████████▏| 8.57M/9.36M [00:25<00:01, 493kB/s]\n",
      " 92%|█████████▏| 8.64M/9.36M [00:26<00:02, 363kB/s]\n",
      " 93%|█████████▎| 8.70M/9.36M [00:27<00:04, 152kB/s]\n",
      " 94%|█████████▍| 8.84M/9.36M [00:27<00:02, 255kB/s]\n",
      " 95%|█████████▌| 8.91M/9.36M [00:27<00:01, 274kB/s]\n",
      " 96%|█████████▌| 8.98M/9.36M [00:27<00:01, 294kB/s]\n",
      " 96%|█████████▋| 9.03M/9.36M [00:27<00:01, 299kB/s]\n",
      " 97%|█████████▋| 9.08M/9.36M [00:28<00:00, 321kB/s]\n",
      " 97%|█████████▋| 9.12M/9.36M [00:28<00:00, 331kB/s]\n",
      " 98%|█████████▊| 9.17M/9.36M [00:28<00:00, 331kB/s]\n",
      " 98%|█████████▊| 9.21M/9.36M [00:28<00:00, 341kB/s]\n",
      " 99%|█████████▉| 9.25M/9.36M [00:28<00:00, 351kB/s]\n",
      " 99%|█████████▉| 9.29M/9.36M [00:28<00:00, 359kB/s]\n",
      "100%|█████████▉| 9.33M/9.36M [00:28<00:00, 354kB/s]\n",
      "100%|██████████| 9.36M/9.36M [00:30<00:00, 321kB/s]\n"
     ]
    }
   ],
   "source": [
    "#!kaggle competitions submit tabular-playground-series-oct-2021 -f {PATH_SUB+curr_submission_fn} -m {curr_submission_fn}"
   ]
  },
  {
   "cell_type": "markdown",
   "metadata": {},
   "source": [
    "# Optimizing Hyperparameter\n"
   ]
  },
  {
   "cell_type": "code",
   "execution_count": 50,
   "metadata": {},
   "outputs": [],
   "source": [
    "import time\n",
    "import optuna\n",
    "from optuna.samplers import TPESampler\n",
    "from catboost.utils import eval_metric\n",
    "from catboost import CatBoostClassifier\n",
    "from sklearn.metrics import roc_auc_score"
   ]
  },
  {
   "cell_type": "code",
   "execution_count": 51,
   "metadata": {},
   "outputs": [],
   "source": [
    "\n",
    "def objective(trial):\n",
    "    scores = []\n",
    "    #ic(scores)\n",
    "\n",
    "    for fold in range(folds):\n",
    "        time.sleep(2)\n",
    "        x_train = train[train.kfold != fold].copy()\n",
    "        x_valid = train[train.kfold == fold].copy()\n",
    "        # x_test = test[feature_cols].copy()\n",
    "\n",
    "        y_train = x_train[\"target\"]\n",
    "        y_valid = x_valid[\"target\"]\n",
    "\n",
    "        x_train = x_train[feature_cols]\n",
    "        x_valid = x_valid[feature_cols]\n",
    "\n",
    "        params = {\n",
    "            # \"objective\": trial.suggest_categorical(\"objective\", [\"Logloss\", \"CrossEntropy\"]),\n",
    "            \"objective\": trial.suggest_categorical(\"objective\", [\"CrossEntropy\"]),\n",
    "            # \"bootstrap_type\": trial.suggest_categorical(\"bootstrap_type\", [\"Bayesian\", \"Bernoulli\", \"MVS\"]),\n",
    "            \"learning_rate\": trial.suggest_float(\"learning_rate\", 0.01, 0.1),\n",
    "            \"iterations\": trial.suggest_int(\"iterations\", 1400, 3400),\n",
    "            \"depth\": trial.suggest_int(\"depth\", 4, 6),\n",
    "            \"l2_leaf_reg\": trial.suggest_float(\"l2_leaf_reg\", 1, 10),\n",
    "            \"boosting_type\": trial.suggest_categorical(\n",
    "                \"boosting_type\", [\"Ordered\", \"Plain\"]\n",
    "            ),\n",
    "        }\n",
    "\n",
    "        # if params[\"bootstrap_type\"] == \"Bayesian\":\n",
    "        #    params[\"bagging_temperature\"] = trial.suggest_float(\"bagging_temperature\", 0, 10)\n",
    "\n",
    "        # elif params[\"bootstrap_type\"] == \"Bernoulli\":\n",
    "        #    params[\"subsample\"] = trial.suggest_float(\"subsample\", 0.1, 1)\n",
    "\n",
    "        #print(\"Fitting...\")\n",
    "        model = CatBoostClassifier(\n",
    "            **params, \n",
    "            random_seed=rnd_state,\n",
    "            task_type=\"GPU\", \n",
    "            devices=\"0:1\", \n",
    "            eval_metric=\"AUC\"\n",
    "        )\n",
    "        \n",
    "        model.fit(\n",
    "            x_train,\n",
    "            y_train,\n",
    "            eval_set=[(x_valid, y_valid)],\n",
    "            verbose=False,\n",
    "            early_stopping_rounds=100,\n",
    "        )\n",
    "\n",
    "        #print(\"Predicting...\")\n",
    "        preds_train = model.predict_proba(x_train)[:, 1]\n",
    "        preds_valid = model.predict_proba(x_valid)[:, 1]\n",
    "        auc_train = roc_auc_score(y_train, preds_train)\n",
    "        auc = roc_auc_score(y_valid, preds_valid)\n",
    "        print(\"Fold\", fold, \", train:\", f\"{auc_train:.6f}\", \", valid:\", f\"{auc:.6f}\")\n",
    "        scores.append(auc)\n",
    "\n",
    "    return np.mean(scores)\n"
   ]
  },
  {
   "cell_type": "code",
   "execution_count": 52,
   "metadata": {},
   "outputs": [
    {
     "name": "stderr",
     "output_type": "stream",
     "text": [
      "\u001b[32m[I 2021-10-25 20:54:28,830]\u001b[0m A new study created in memory with name: no-name-febd97c0-8372-4c43-a6bf-36e8d3e32c46\u001b[0m\n",
      "Warning: less than 75% gpu memory available for training. Free: 4279.75 Total: 6143.5\n"
     ]
    },
    {
     "ename": "KeyboardInterrupt",
     "evalue": "",
     "output_type": "error",
     "traceback": [
      "\u001b[1;31m---------------------------------------------------------------------------\u001b[0m",
      "\u001b[1;31mKeyboardInterrupt\u001b[0m                         Traceback (most recent call last)",
      "\u001b[1;32m~\\AppData\\Local\\Temp/ipykernel_8208/966199683.py\u001b[0m in \u001b[0;36m<module>\u001b[1;34m\u001b[0m\n\u001b[0;32m      1\u001b[0m \u001b[0msampler\u001b[0m \u001b[1;33m=\u001b[0m \u001b[0mTPESampler\u001b[0m\u001b[1;33m(\u001b[0m\u001b[0mseed\u001b[0m\u001b[1;33m=\u001b[0m\u001b[0mrnd_state\u001b[0m\u001b[1;33m)\u001b[0m\u001b[1;33m\u001b[0m\u001b[1;33m\u001b[0m\u001b[0m\n\u001b[0;32m      2\u001b[0m \u001b[0mstudy\u001b[0m \u001b[1;33m=\u001b[0m \u001b[0moptuna\u001b[0m\u001b[1;33m.\u001b[0m\u001b[0mcreate_study\u001b[0m\u001b[1;33m(\u001b[0m\u001b[0mdirection\u001b[0m\u001b[1;33m=\u001b[0m\u001b[1;34m\"maximize\"\u001b[0m\u001b[1;33m,\u001b[0m \u001b[0msampler\u001b[0m\u001b[1;33m=\u001b[0m\u001b[0msampler\u001b[0m\u001b[1;33m)\u001b[0m\u001b[1;33m\u001b[0m\u001b[1;33m\u001b[0m\u001b[0m\n\u001b[1;32m----> 3\u001b[1;33m \u001b[0mstudy\u001b[0m\u001b[1;33m.\u001b[0m\u001b[0moptimize\u001b[0m\u001b[1;33m(\u001b[0m\u001b[0mobjective\u001b[0m\u001b[1;33m,\u001b[0m \u001b[0mn_trials\u001b[0m\u001b[1;33m=\u001b[0m\u001b[1;36m100\u001b[0m\u001b[1;33m)\u001b[0m\u001b[1;33m\u001b[0m\u001b[1;33m\u001b[0m\u001b[0m\n\u001b[0m",
      "\u001b[1;32m~\\miniconda3\\envs\\kaggle-competition\\lib\\site-packages\\optuna\\study\\study.py\u001b[0m in \u001b[0;36moptimize\u001b[1;34m(self, func, n_trials, timeout, n_jobs, catch, callbacks, gc_after_trial, show_progress_bar)\u001b[0m\n\u001b[0;32m    398\u001b[0m             )\n\u001b[0;32m    399\u001b[0m \u001b[1;33m\u001b[0m\u001b[0m\n\u001b[1;32m--> 400\u001b[1;33m         _optimize(\n\u001b[0m\u001b[0;32m    401\u001b[0m             \u001b[0mstudy\u001b[0m\u001b[1;33m=\u001b[0m\u001b[0mself\u001b[0m\u001b[1;33m,\u001b[0m\u001b[1;33m\u001b[0m\u001b[1;33m\u001b[0m\u001b[0m\n\u001b[0;32m    402\u001b[0m             \u001b[0mfunc\u001b[0m\u001b[1;33m=\u001b[0m\u001b[0mfunc\u001b[0m\u001b[1;33m,\u001b[0m\u001b[1;33m\u001b[0m\u001b[1;33m\u001b[0m\u001b[0m\n",
      "\u001b[1;32m~\\miniconda3\\envs\\kaggle-competition\\lib\\site-packages\\optuna\\study\\_optimize.py\u001b[0m in \u001b[0;36m_optimize\u001b[1;34m(study, func, n_trials, timeout, n_jobs, catch, callbacks, gc_after_trial, show_progress_bar)\u001b[0m\n\u001b[0;32m     64\u001b[0m     \u001b[1;32mtry\u001b[0m\u001b[1;33m:\u001b[0m\u001b[1;33m\u001b[0m\u001b[1;33m\u001b[0m\u001b[0m\n\u001b[0;32m     65\u001b[0m         \u001b[1;32mif\u001b[0m \u001b[0mn_jobs\u001b[0m \u001b[1;33m==\u001b[0m \u001b[1;36m1\u001b[0m\u001b[1;33m:\u001b[0m\u001b[1;33m\u001b[0m\u001b[1;33m\u001b[0m\u001b[0m\n\u001b[1;32m---> 66\u001b[1;33m             _optimize_sequential(\n\u001b[0m\u001b[0;32m     67\u001b[0m                 \u001b[0mstudy\u001b[0m\u001b[1;33m,\u001b[0m\u001b[1;33m\u001b[0m\u001b[1;33m\u001b[0m\u001b[0m\n\u001b[0;32m     68\u001b[0m                 \u001b[0mfunc\u001b[0m\u001b[1;33m,\u001b[0m\u001b[1;33m\u001b[0m\u001b[1;33m\u001b[0m\u001b[0m\n",
      "\u001b[1;32m~\\miniconda3\\envs\\kaggle-competition\\lib\\site-packages\\optuna\\study\\_optimize.py\u001b[0m in \u001b[0;36m_optimize_sequential\u001b[1;34m(study, func, n_trials, timeout, catch, callbacks, gc_after_trial, reseed_sampler_rng, time_start, progress_bar)\u001b[0m\n\u001b[0;32m    161\u001b[0m \u001b[1;33m\u001b[0m\u001b[0m\n\u001b[0;32m    162\u001b[0m         \u001b[1;32mtry\u001b[0m\u001b[1;33m:\u001b[0m\u001b[1;33m\u001b[0m\u001b[1;33m\u001b[0m\u001b[0m\n\u001b[1;32m--> 163\u001b[1;33m             \u001b[0mtrial\u001b[0m \u001b[1;33m=\u001b[0m \u001b[0m_run_trial\u001b[0m\u001b[1;33m(\u001b[0m\u001b[0mstudy\u001b[0m\u001b[1;33m,\u001b[0m \u001b[0mfunc\u001b[0m\u001b[1;33m,\u001b[0m \u001b[0mcatch\u001b[0m\u001b[1;33m)\u001b[0m\u001b[1;33m\u001b[0m\u001b[1;33m\u001b[0m\u001b[0m\n\u001b[0m\u001b[0;32m    164\u001b[0m         \u001b[1;32mexcept\u001b[0m \u001b[0mException\u001b[0m\u001b[1;33m:\u001b[0m\u001b[1;33m\u001b[0m\u001b[1;33m\u001b[0m\u001b[0m\n\u001b[0;32m    165\u001b[0m             \u001b[1;32mraise\u001b[0m\u001b[1;33m\u001b[0m\u001b[1;33m\u001b[0m\u001b[0m\n",
      "\u001b[1;32m~\\miniconda3\\envs\\kaggle-competition\\lib\\site-packages\\optuna\\study\\_optimize.py\u001b[0m in \u001b[0;36m_run_trial\u001b[1;34m(study, func, catch)\u001b[0m\n\u001b[0;32m    211\u001b[0m \u001b[1;33m\u001b[0m\u001b[0m\n\u001b[0;32m    212\u001b[0m     \u001b[1;32mtry\u001b[0m\u001b[1;33m:\u001b[0m\u001b[1;33m\u001b[0m\u001b[1;33m\u001b[0m\u001b[0m\n\u001b[1;32m--> 213\u001b[1;33m         \u001b[0mvalue_or_values\u001b[0m \u001b[1;33m=\u001b[0m \u001b[0mfunc\u001b[0m\u001b[1;33m(\u001b[0m\u001b[0mtrial\u001b[0m\u001b[1;33m)\u001b[0m\u001b[1;33m\u001b[0m\u001b[1;33m\u001b[0m\u001b[0m\n\u001b[0m\u001b[0;32m    214\u001b[0m     \u001b[1;32mexcept\u001b[0m \u001b[0mexceptions\u001b[0m\u001b[1;33m.\u001b[0m\u001b[0mTrialPruned\u001b[0m \u001b[1;32mas\u001b[0m \u001b[0me\u001b[0m\u001b[1;33m:\u001b[0m\u001b[1;33m\u001b[0m\u001b[1;33m\u001b[0m\u001b[0m\n\u001b[0;32m    215\u001b[0m         \u001b[1;31m# TODO(mamu): Handle multi-objective cases.\u001b[0m\u001b[1;33m\u001b[0m\u001b[1;33m\u001b[0m\u001b[0m\n",
      "\u001b[1;32m~\\AppData\\Local\\Temp/ipykernel_8208/1529300782.py\u001b[0m in \u001b[0;36mobjective\u001b[1;34m(trial)\u001b[0m\n\u001b[0;32m     43\u001b[0m         )\n\u001b[0;32m     44\u001b[0m \u001b[1;33m\u001b[0m\u001b[0m\n\u001b[1;32m---> 45\u001b[1;33m         model.fit(\n\u001b[0m\u001b[0;32m     46\u001b[0m             \u001b[0mx_train\u001b[0m\u001b[1;33m,\u001b[0m\u001b[1;33m\u001b[0m\u001b[1;33m\u001b[0m\u001b[0m\n\u001b[0;32m     47\u001b[0m             \u001b[0my_train\u001b[0m\u001b[1;33m,\u001b[0m\u001b[1;33m\u001b[0m\u001b[1;33m\u001b[0m\u001b[0m\n",
      "\u001b[1;32m~\\miniconda3\\envs\\kaggle-competition\\lib\\site-packages\\catboost\\core.py\u001b[0m in \u001b[0;36mfit\u001b[1;34m(self, X, y, cat_features, text_features, embedding_features, sample_weight, baseline, use_best_model, eval_set, verbose, logging_level, plot, column_description, verbose_eval, metric_period, silent, early_stopping_rounds, save_snapshot, snapshot_file, snapshot_interval, init_model, callbacks, log_cout, log_cerr)\u001b[0m\n\u001b[0;32m   4715\u001b[0m             \u001b[0mCatBoostClassifier\u001b[0m\u001b[1;33m.\u001b[0m\u001b[0m_check_is_compatible_loss\u001b[0m\u001b[1;33m(\u001b[0m\u001b[0mparams\u001b[0m\u001b[1;33m[\u001b[0m\u001b[1;34m'loss_function'\u001b[0m\u001b[1;33m]\u001b[0m\u001b[1;33m)\u001b[0m\u001b[1;33m\u001b[0m\u001b[1;33m\u001b[0m\u001b[0m\n\u001b[0;32m   4716\u001b[0m \u001b[1;33m\u001b[0m\u001b[0m\n\u001b[1;32m-> 4717\u001b[1;33m         self._fit(X, y, cat_features, text_features, embedding_features, None, sample_weight, None, None, None, None, baseline, use_best_model,\n\u001b[0m\u001b[0;32m   4718\u001b[0m                   \u001b[0meval_set\u001b[0m\u001b[1;33m,\u001b[0m \u001b[0mverbose\u001b[0m\u001b[1;33m,\u001b[0m \u001b[0mlogging_level\u001b[0m\u001b[1;33m,\u001b[0m \u001b[0mplot\u001b[0m\u001b[1;33m,\u001b[0m \u001b[0mcolumn_description\u001b[0m\u001b[1;33m,\u001b[0m \u001b[0mverbose_eval\u001b[0m\u001b[1;33m,\u001b[0m \u001b[0mmetric_period\u001b[0m\u001b[1;33m,\u001b[0m\u001b[1;33m\u001b[0m\u001b[1;33m\u001b[0m\u001b[0m\n\u001b[0;32m   4719\u001b[0m                   silent, early_stopping_rounds, save_snapshot, snapshot_file, snapshot_interval, init_model, callbacks, log_cout, log_cerr)\n",
      "\u001b[1;32m~\\miniconda3\\envs\\kaggle-competition\\lib\\site-packages\\catboost\\core.py\u001b[0m in \u001b[0;36m_fit\u001b[1;34m(self, X, y, cat_features, text_features, embedding_features, pairs, sample_weight, group_id, group_weight, subgroup_id, pairs_weight, baseline, use_best_model, eval_set, verbose, logging_level, plot, column_description, verbose_eval, metric_period, silent, early_stopping_rounds, save_snapshot, snapshot_file, snapshot_interval, init_model, callbacks, log_cout, log_cerr)\u001b[0m\n\u001b[0;32m   2035\u001b[0m         \u001b[1;32mwith\u001b[0m \u001b[0mlog_fixup\u001b[0m\u001b[1;33m(\u001b[0m\u001b[0mlog_cout\u001b[0m\u001b[1;33m,\u001b[0m \u001b[0mlog_cerr\u001b[0m\u001b[1;33m)\u001b[0m\u001b[1;33m,\u001b[0m\u001b[0;31m \u001b[0m\u001b[0;31m\\\u001b[0m\u001b[1;33m\u001b[0m\u001b[1;33m\u001b[0m\u001b[0m\n\u001b[0;32m   2036\u001b[0m             \u001b[0mplot_wrapper\u001b[0m\u001b[1;33m(\u001b[0m\u001b[0mplot\u001b[0m\u001b[1;33m,\u001b[0m \u001b[1;33m[\u001b[0m\u001b[0m_get_train_dir\u001b[0m\u001b[1;33m(\u001b[0m\u001b[0mself\u001b[0m\u001b[1;33m.\u001b[0m\u001b[0mget_params\u001b[0m\u001b[1;33m(\u001b[0m\u001b[1;33m)\u001b[0m\u001b[1;33m)\u001b[0m\u001b[1;33m]\u001b[0m\u001b[1;33m)\u001b[0m\u001b[1;33m:\u001b[0m\u001b[1;33m\u001b[0m\u001b[1;33m\u001b[0m\u001b[0m\n\u001b[1;32m-> 2037\u001b[1;33m             self._train(\n\u001b[0m\u001b[0;32m   2038\u001b[0m                 \u001b[0mtrain_pool\u001b[0m\u001b[1;33m,\u001b[0m\u001b[1;33m\u001b[0m\u001b[1;33m\u001b[0m\u001b[0m\n\u001b[0;32m   2039\u001b[0m                 \u001b[0mtrain_params\u001b[0m\u001b[1;33m[\u001b[0m\u001b[1;34m\"eval_sets\"\u001b[0m\u001b[1;33m]\u001b[0m\u001b[1;33m,\u001b[0m\u001b[1;33m\u001b[0m\u001b[1;33m\u001b[0m\u001b[0m\n",
      "\u001b[1;32m~\\miniconda3\\envs\\kaggle-competition\\lib\\site-packages\\catboost\\core.py\u001b[0m in \u001b[0;36m_train\u001b[1;34m(self, train_pool, test_pool, params, allow_clear_pool, init_model)\u001b[0m\n\u001b[0;32m   1462\u001b[0m \u001b[1;33m\u001b[0m\u001b[0m\n\u001b[0;32m   1463\u001b[0m     \u001b[1;32mdef\u001b[0m \u001b[0m_train\u001b[0m\u001b[1;33m(\u001b[0m\u001b[0mself\u001b[0m\u001b[1;33m,\u001b[0m \u001b[0mtrain_pool\u001b[0m\u001b[1;33m,\u001b[0m \u001b[0mtest_pool\u001b[0m\u001b[1;33m,\u001b[0m \u001b[0mparams\u001b[0m\u001b[1;33m,\u001b[0m \u001b[0mallow_clear_pool\u001b[0m\u001b[1;33m,\u001b[0m \u001b[0minit_model\u001b[0m\u001b[1;33m)\u001b[0m\u001b[1;33m:\u001b[0m\u001b[1;33m\u001b[0m\u001b[1;33m\u001b[0m\u001b[0m\n\u001b[1;32m-> 1464\u001b[1;33m         \u001b[0mself\u001b[0m\u001b[1;33m.\u001b[0m\u001b[0m_object\u001b[0m\u001b[1;33m.\u001b[0m\u001b[0m_train\u001b[0m\u001b[1;33m(\u001b[0m\u001b[0mtrain_pool\u001b[0m\u001b[1;33m,\u001b[0m \u001b[0mtest_pool\u001b[0m\u001b[1;33m,\u001b[0m \u001b[0mparams\u001b[0m\u001b[1;33m,\u001b[0m \u001b[0mallow_clear_pool\u001b[0m\u001b[1;33m,\u001b[0m \u001b[0minit_model\u001b[0m\u001b[1;33m.\u001b[0m\u001b[0m_object\u001b[0m \u001b[1;32mif\u001b[0m \u001b[0minit_model\u001b[0m \u001b[1;32melse\u001b[0m \u001b[1;32mNone\u001b[0m\u001b[1;33m)\u001b[0m\u001b[1;33m\u001b[0m\u001b[1;33m\u001b[0m\u001b[0m\n\u001b[0m\u001b[0;32m   1465\u001b[0m         \u001b[0mself\u001b[0m\u001b[1;33m.\u001b[0m\u001b[0m_set_trained_model_attributes\u001b[0m\u001b[1;33m(\u001b[0m\u001b[1;33m)\u001b[0m\u001b[1;33m\u001b[0m\u001b[1;33m\u001b[0m\u001b[0m\n\u001b[0;32m   1466\u001b[0m \u001b[1;33m\u001b[0m\u001b[0m\n",
      "\u001b[1;32m_catboost.pyx\u001b[0m in \u001b[0;36m_catboost._CatBoost._train\u001b[1;34m()\u001b[0m\n",
      "\u001b[1;32m_catboost.pyx\u001b[0m in \u001b[0;36m_catboost._CatBoost._train\u001b[1;34m()\u001b[0m\n",
      "\u001b[1;31mKeyboardInterrupt\u001b[0m: "
     ]
    }
   ],
   "source": [
    "\n",
    "sampler = TPESampler(seed=rnd_state)\n",
    "study = optuna.create_study(direction=\"maximize\", sampler=sampler)\n",
    "study.optimize(objective, n_trials=100)\n"
   ]
  }
 ],
 "metadata": {
  "interpreter": {
   "hash": "79c27f56f82a3e636d8c32f16194805e02194739f32cfb292b3e6d4616b1ccd0"
  },
  "kernelspec": {
   "display_name": "Python 3.9.7 64-bit ('kaggle-competition': conda)",
   "name": "python3"
  },
  "language_info": {
   "codemirror_mode": {
    "name": "ipython",
    "version": 3
   },
   "file_extension": ".py",
   "mimetype": "text/x-python",
   "name": "python",
   "nbconvert_exporter": "python",
   "pygments_lexer": "ipython3",
   "version": "3.9.7"
  },
  "papermill": {
   "default_parameters": {},
   "duration": 360.477415,
   "end_time": "2021-10-17T14:16:39.439751",
   "environment_variables": {},
   "exception": null,
   "input_path": "__notebook__.ipynb",
   "output_path": "__notebook__.ipynb",
   "parameters": {},
   "start_time": "2021-10-17T14:10:38.962336",
   "version": "2.3.3"
  }
 },
 "nbformat": 4,
 "nbformat_minor": 5
}
