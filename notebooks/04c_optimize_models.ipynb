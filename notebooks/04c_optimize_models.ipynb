{
 "cells": [
  {
   "cell_type": "markdown",
   "metadata": {},
   "source": [
    "04c: Version without PCA\n",
    "\n",
    "2021-10-25: \n",
    "  - Clean-up\n",
    "  - Using useful features only to avoid overfitting (if possible)\n",
    "  - Testing 6 clusters and poly degree 2 incl poly for clusters"
   ]
  },
  {
   "cell_type": "code",
   "execution_count": 64,
   "id": "7e6e82a2",
   "metadata": {
    "_cell_guid": "b1076dfc-b9ad-4769-8c92-a6c4dae69d19",
    "_uuid": "8f2839f25d086af736a60e9eeb907d3b93b6e0e5",
    "execution": {
     "iopub.execute_input": "2021-10-17T14:10:49.100187Z",
     "iopub.status.busy": "2021-10-17T14:10:49.099085Z",
     "iopub.status.idle": "2021-10-17T14:10:50.363556Z",
     "shell.execute_reply": "2021-10-17T14:10:50.362751Z",
     "shell.execute_reply.started": "2021-10-17T14:02:39.499327Z"
    },
    "papermill": {
     "duration": 1.296891,
     "end_time": "2021-10-17T14:10:50.363730",
     "exception": false,
     "start_time": "2021-10-17T14:10:49.066839",
     "status": "completed"
    },
    "tags": []
   },
   "outputs": [
    {
     "name": "stdout",
     "output_type": "stream",
     "text": [
      "The watermark extension is already loaded. To reload it, use:\n",
      "  %reload_ext watermark\n"
     ]
    }
   ],
   "source": [
    "# The rest of the modules are loaded when required.\n",
    "# To ensure a standalone character (for easier reusability).\n",
    "\n",
    "import os # for detecting CPU cores\n",
    "import configparser # to load standard config and parameters\n",
    "import pandas as pd\n",
    "import numpy as np\n",
    "import warnings\n",
    "\n",
    "# Visualization\n",
    "import matplotlib.pyplot as plt\n",
    "import seaborn as sns\n",
    "import plotly.figure_factory as ff\n",
    "import plotly.express as px\n",
    "\n",
    "import mlflow\n",
    "import mlflow.xgboost\n",
    "from urllib.parse import urlparse\n",
    "\n",
    "# Debugging\n",
    "from icecream import ic\n",
    "\n",
    "warnings.filterwarnings('ignore')\n",
    "%load_ext watermark\n",
    "%matplotlib inline"
   ]
  },
  {
   "cell_type": "code",
   "execution_count": 65,
   "metadata": {},
   "outputs": [
    {
     "name": "stdout",
     "output_type": "stream",
     "text": [
      "True\n",
      "True\n",
      "[PhysicalDevice(name='/physical_device:GPU:0', device_type='GPU')]\n"
     ]
    }
   ],
   "source": [
    "# importing the tensorflow package\n",
    "import tensorflow as tf\n",
    "\n",
    "# Checking GPU support\n",
    "print(tf.test.is_built_with_cuda()) # True\n",
    "print(tf.test.is_gpu_available(cuda_only=False, min_cuda_compute_capability=None)) # True\n",
    "print(tf.config.list_physical_devices('GPU'))"
   ]
  },
  {
   "cell_type": "code",
   "execution_count": 66,
   "metadata": {},
   "outputs": [
    {
     "name": "stdout",
     "output_type": "stream",
     "text": [
      "Number of CPUs used: 16\n"
     ]
    }
   ],
   "source": [
    "import os\n",
    "import configparser\n",
    "\n",
    "# Load external config file\n",
    "config = configparser.ConfigParser()\n",
    "config.read(\"../resources/config.ini\")\n",
    "\n",
    "PATH_DATA_RAW = config[\"PATHS\"][\"PATH_DATA_RAW\"]\n",
    "PATH_DATA_INT = config[\"PATHS\"][\"PATH_DATA_INT\"]\n",
    "PATH_DATA_PRO = config[\"PATHS\"][\"PATH_DATA_PRO\"]\n",
    "PATH_REPORTS = config[\"PATHS\"][\"PATH_REPORTS\"]\n",
    "PATH_MODELS = config[\"PATHS\"][\"PATH_MODELS\"]\n",
    "PATH_SUB = config[\"PATHS\"][\"PATH_SUB\"]\n",
    "\n",
    "# Telegram Bot\n",
    "token = config[\"TELEGRAM\"][\"token\"]\n",
    "chat_id = config[\"TELEGRAM\"][\"chat_id\"]\n",
    "FILENAME_NB = \"02_baseline_models\" # for Telegram messages\n",
    "\n",
    "# Set global randome state\n",
    "rnd_state = 42\n",
    "\n",
    "# Define available cpu cores\n",
    "n_cpu = os.cpu_count()\n",
    "print(\"Number of CPUs used:\", n_cpu)"
   ]
  },
  {
   "cell_type": "code",
   "execution_count": 67,
   "metadata": {},
   "outputs": [],
   "source": [
    "#train_df = pd.read_csv(PATH_DATA_RAW+'train.csv',index_col=0)\n",
    "#test_df = pd.read_csv(PATH_DATA_RAW+'test.csv',index_col=0)\n",
    "\n",
    "train_df = pd.read_pickle(PATH_DATA_INT+'train-opt.pkl')\n",
    "test_df = pd.read_pickle(PATH_DATA_INT+'test-opt.pkl')\n",
    "\n",
    "sample_df = pd.read_csv(PATH_DATA_RAW+'sample_submission.csv')"
   ]
  },
  {
   "cell_type": "code",
   "execution_count": 68,
   "metadata": {},
   "outputs": [
    {
     "data": {
      "text/html": [
       "<div>\n",
       "<style scoped>\n",
       "    .dataframe tbody tr th:only-of-type {\n",
       "        vertical-align: middle;\n",
       "    }\n",
       "\n",
       "    .dataframe tbody tr th {\n",
       "        vertical-align: top;\n",
       "    }\n",
       "\n",
       "    .dataframe thead th {\n",
       "        text-align: right;\n",
       "    }\n",
       "</style>\n",
       "<table border=\"1\" class=\"dataframe\">\n",
       "  <thead>\n",
       "    <tr style=\"text-align: right;\">\n",
       "      <th></th>\n",
       "      <th>id</th>\n",
       "      <th>f0</th>\n",
       "      <th>f1</th>\n",
       "      <th>f2</th>\n",
       "      <th>f3</th>\n",
       "      <th>f4</th>\n",
       "      <th>f5</th>\n",
       "      <th>f6</th>\n",
       "      <th>f7</th>\n",
       "      <th>f8</th>\n",
       "      <th>...</th>\n",
       "      <th>f276</th>\n",
       "      <th>f277</th>\n",
       "      <th>f278</th>\n",
       "      <th>f279</th>\n",
       "      <th>f280</th>\n",
       "      <th>f281</th>\n",
       "      <th>f282</th>\n",
       "      <th>f283</th>\n",
       "      <th>f284</th>\n",
       "      <th>target</th>\n",
       "    </tr>\n",
       "  </thead>\n",
       "  <tbody>\n",
       "    <tr>\n",
       "      <th>0</th>\n",
       "      <td>0</td>\n",
       "      <td>0.205979</td>\n",
       "      <td>0.410993</td>\n",
       "      <td>0.176775</td>\n",
       "      <td>0.223581</td>\n",
       "      <td>0.423543</td>\n",
       "      <td>0.476140</td>\n",
       "      <td>0.413590</td>\n",
       "      <td>0.612021</td>\n",
       "      <td>0.534873</td>\n",
       "      <td>...</td>\n",
       "      <td>0</td>\n",
       "      <td>1</td>\n",
       "      <td>0</td>\n",
       "      <td>0</td>\n",
       "      <td>0</td>\n",
       "      <td>0</td>\n",
       "      <td>0</td>\n",
       "      <td>0</td>\n",
       "      <td>0</td>\n",
       "      <td>1</td>\n",
       "    </tr>\n",
       "    <tr>\n",
       "      <th>1</th>\n",
       "      <td>1</td>\n",
       "      <td>0.181004</td>\n",
       "      <td>0.473119</td>\n",
       "      <td>0.011734</td>\n",
       "      <td>0.213657</td>\n",
       "      <td>0.619678</td>\n",
       "      <td>0.441593</td>\n",
       "      <td>0.230407</td>\n",
       "      <td>0.686013</td>\n",
       "      <td>0.281971</td>\n",
       "      <td>...</td>\n",
       "      <td>0</td>\n",
       "      <td>1</td>\n",
       "      <td>0</td>\n",
       "      <td>0</td>\n",
       "      <td>0</td>\n",
       "      <td>0</td>\n",
       "      <td>0</td>\n",
       "      <td>0</td>\n",
       "      <td>0</td>\n",
       "      <td>1</td>\n",
       "    </tr>\n",
       "    <tr>\n",
       "      <th>2</th>\n",
       "      <td>2</td>\n",
       "      <td>0.182583</td>\n",
       "      <td>0.307431</td>\n",
       "      <td>0.325950</td>\n",
       "      <td>0.207116</td>\n",
       "      <td>0.605699</td>\n",
       "      <td>0.309695</td>\n",
       "      <td>0.493337</td>\n",
       "      <td>0.751107</td>\n",
       "      <td>0.536272</td>\n",
       "      <td>...</td>\n",
       "      <td>0</td>\n",
       "      <td>0</td>\n",
       "      <td>0</td>\n",
       "      <td>1</td>\n",
       "      <td>1</td>\n",
       "      <td>0</td>\n",
       "      <td>0</td>\n",
       "      <td>0</td>\n",
       "      <td>0</td>\n",
       "      <td>1</td>\n",
       "    </tr>\n",
       "    <tr>\n",
       "      <th>3</th>\n",
       "      <td>3</td>\n",
       "      <td>0.180240</td>\n",
       "      <td>0.494592</td>\n",
       "      <td>0.008367</td>\n",
       "      <td>0.223580</td>\n",
       "      <td>0.760618</td>\n",
       "      <td>0.439211</td>\n",
       "      <td>0.432055</td>\n",
       "      <td>0.776147</td>\n",
       "      <td>0.483958</td>\n",
       "      <td>...</td>\n",
       "      <td>0</td>\n",
       "      <td>0</td>\n",
       "      <td>0</td>\n",
       "      <td>0</td>\n",
       "      <td>1</td>\n",
       "      <td>0</td>\n",
       "      <td>0</td>\n",
       "      <td>0</td>\n",
       "      <td>0</td>\n",
       "      <td>1</td>\n",
       "    </tr>\n",
       "    <tr>\n",
       "      <th>4</th>\n",
       "      <td>4</td>\n",
       "      <td>0.177172</td>\n",
       "      <td>0.495513</td>\n",
       "      <td>0.014263</td>\n",
       "      <td>0.548819</td>\n",
       "      <td>0.625396</td>\n",
       "      <td>0.562493</td>\n",
       "      <td>0.117158</td>\n",
       "      <td>0.561255</td>\n",
       "      <td>0.077115</td>\n",
       "      <td>...</td>\n",
       "      <td>0</td>\n",
       "      <td>1</td>\n",
       "      <td>1</td>\n",
       "      <td>0</td>\n",
       "      <td>1</td>\n",
       "      <td>0</td>\n",
       "      <td>0</td>\n",
       "      <td>1</td>\n",
       "      <td>0</td>\n",
       "      <td>1</td>\n",
       "    </tr>\n",
       "  </tbody>\n",
       "</table>\n",
       "<p>5 rows × 287 columns</p>\n",
       "</div>"
      ],
      "text/plain": [
       "   id        f0        f1        f2        f3        f4        f5        f6  \\\n",
       "0   0  0.205979  0.410993  0.176775  0.223581  0.423543  0.476140  0.413590   \n",
       "1   1  0.181004  0.473119  0.011734  0.213657  0.619678  0.441593  0.230407   \n",
       "2   2  0.182583  0.307431  0.325950  0.207116  0.605699  0.309695  0.493337   \n",
       "3   3  0.180240  0.494592  0.008367  0.223580  0.760618  0.439211  0.432055   \n",
       "4   4  0.177172  0.495513  0.014263  0.548819  0.625396  0.562493  0.117158   \n",
       "\n",
       "         f7        f8  ...  f276  f277  f278  f279  f280  f281  f282  f283  \\\n",
       "0  0.612021  0.534873  ...     0     1     0     0     0     0     0     0   \n",
       "1  0.686013  0.281971  ...     0     1     0     0     0     0     0     0   \n",
       "2  0.751107  0.536272  ...     0     0     0     1     1     0     0     0   \n",
       "3  0.776147  0.483958  ...     0     0     0     0     1     0     0     0   \n",
       "4  0.561255  0.077115  ...     0     1     1     0     1     0     0     1   \n",
       "\n",
       "   f284  target  \n",
       "0     0       1  \n",
       "1     0       1  \n",
       "2     0       1  \n",
       "3     0       1  \n",
       "4     0       1  \n",
       "\n",
       "[5 rows x 287 columns]"
      ]
     },
     "execution_count": 68,
     "metadata": {},
     "output_type": "execute_result"
    }
   ],
   "source": [
    "train_df.head()"
   ]
  },
  {
   "cell_type": "code",
   "execution_count": 69,
   "metadata": {},
   "outputs": [
    {
     "name": "stdout",
     "output_type": "stream",
     "text": [
      "<class 'pandas.core.frame.DataFrame'>\n",
      "RangeIndex: 1000000 entries, 0 to 999999\n",
      "Columns: 287 entries, id to target\n",
      "dtypes: float32(240), int32(1), int8(46)\n",
      "memory usage: 963.2 MB\n"
     ]
    }
   ],
   "source": [
    "train_df.info()"
   ]
  },
  {
   "cell_type": "code",
   "execution_count": 70,
   "id": "56f120a1",
   "metadata": {
    "execution": {
     "iopub.execute_input": "2021-10-17T14:12:29.537157Z",
     "iopub.status.busy": "2021-10-17T14:12:29.536402Z",
     "iopub.status.idle": "2021-10-17T14:14:15.272246Z",
     "shell.execute_reply": "2021-10-17T14:14:15.271300Z",
     "shell.execute_reply.started": "2021-10-17T14:03:51.505616Z"
    },
    "papermill": {
     "duration": 105.759009,
     "end_time": "2021-10-17T14:14:15.272456",
     "exception": false,
     "start_time": "2021-10-17T14:12:29.513447",
     "status": "completed"
    },
    "tags": []
   },
   "outputs": [
    {
     "name": "stderr",
     "output_type": "stream",
     "text": [
      "ic| len(feature_cols): 285\n",
      "ic| len(cnt_features): 240\n",
      "ic| len(cat_features): 45\n"
     ]
    }
   ],
   "source": [
    "feature_cols = train_df.drop(['target','id'], axis=1).columns.tolist()\n",
    "cnt_features = train_df.drop(['target', 'id'], axis=1).select_dtypes(exclude=['int32', 'int8']).columns.tolist()\n",
    "cat_features = train_df.drop(['target', 'id'], axis=1).select_dtypes(exclude=['float32']).columns.tolist()\n",
    "\n",
    "ic(len(feature_cols))\n",
    "ic(len(cnt_features))\n",
    "ic(len(cat_features));"
   ]
  },
  {
   "cell_type": "code",
   "execution_count": 71,
   "metadata": {},
   "outputs": [],
   "source": [
    "# useful_features = useful_features = [\"f22\", \"f179\", \"f69\", \"f58\", \"f214\", \"f78\", \"f136\", \"f156\", \"f8\", \"f3\", \"f77\", \"f200\", \"f92\", \"f185\", \"f142\", \"f115\", \"f284\"]\n",
    "useful_features_set1 = (\n",
    "    pd.read_csv(PATH_DATA_INT + \"features_selected_6way_140.csv\")[\"Feature\"]\n",
    "    .head(16)\n",
    "    .tolist()\n",
    ")\n",
    "\n",
    "useful_features_set2 = [\n",
    "    \"f1\",\n",
    "    \"f103\",\n",
    "    \"f107\",\n",
    "    \"f112\",\n",
    "    \"f119\",\n",
    "    \"f12\",\n",
    "    \"f125\",\n",
    "    \"f127\",\n",
    "    \"f13\",\n",
    "    \"f130\",\n",
    "    \"f134\",\n",
    "    \"f136\",\n",
    "    \"f138\",\n",
    "    \"f139\",\n",
    "    \"f14\",\n",
    "    \"f141\",\n",
    "    \"f143\",\n",
    "    \"f144\",\n",
    "    \"f150\",\n",
    "    \"f152\",\n",
    "    \"f154\",\n",
    "    \"f156\",\n",
    "    \"f16\",\n",
    "    \"f163\",\n",
    "    \"f169\",\n",
    "    \"f17\",\n",
    "    \"f173\",\n",
    "    \"f179\",\n",
    "    \"f18\",\n",
    "    \"f187\",\n",
    "    \"f19\",\n",
    "    \"f192\",\n",
    "    \"f195\",\n",
    "    \"f198\",\n",
    "    \"f2\",\n",
    "    \"f20\",\n",
    "    \"f200\",\n",
    "    \"f201\",\n",
    "    \"f211\",\n",
    "    \"f213\",\n",
    "    \"f214\",\n",
    "    \"f22\",\n",
    "    \"f222\",\n",
    "    \"f227\",\n",
    "    \"f231\",\n",
    "    \"f239\",\n",
    "    \"f241\",\n",
    "    \"f243\",\n",
    "    \"f247\",\n",
    "    \"f252\",\n",
    "    \"f258\",\n",
    "    \"f26\",\n",
    "    \"f266\",\n",
    "    \"f27\",\n",
    "    \"f29\",\n",
    "    \"f3\",\n",
    "    \"f33\",\n",
    "    \"f4\",\n",
    "    \"f40\",\n",
    "    \"f42\",\n",
    "    \"f43\",\n",
    "    \"f44\",\n",
    "    \"f48\",\n",
    "    \"f5\",\n",
    "    \"f52\",\n",
    "    \"f53\",\n",
    "    \"f56\",\n",
    "    \"f58\",\n",
    "    \"f6\",\n",
    "    \"f60\",\n",
    "    \"f62\",\n",
    "    \"f63\",\n",
    "    \"f64\",\n",
    "    \"f65\",\n",
    "    \"f69\",\n",
    "    \"f7\",\n",
    "    \"f71\",\n",
    "    \"f72\",\n",
    "    \"f73\",\n",
    "    \"f74\",\n",
    "    \"f75\",\n",
    "    \"f77\",\n",
    "    \"f78\",\n",
    "    \"f8\",\n",
    "    \"f82\",\n",
    "    \"f83\",\n",
    "    \"f85\",\n",
    "    \"f86\",\n",
    "    \"f90\",\n",
    "    \"f92\",\n",
    "    \"f93\",\n",
    "    \"f95\",\n",
    "    \"f96\",\n",
    "    \"f98\",\n",
    "    \"f99\",\n",
    "]\n"
   ]
  },
  {
   "cell_type": "code",
   "execution_count": 72,
   "metadata": {},
   "outputs": [
    {
     "name": "stderr",
     "output_type": "stream",
     "text": [
      "ic| len(feature_cols): 285\n"
     ]
    },
    {
     "data": {
      "text/plain": [
       "285"
      ]
     },
     "execution_count": 72,
     "metadata": {},
     "output_type": "execute_result"
    }
   ],
   "source": [
    "#feature_cols = useful_features_set2\n",
    "ic(len(feature_cols))\n"
   ]
  },
  {
   "cell_type": "markdown",
   "metadata": {},
   "source": [
    "# Feature Engineering"
   ]
  },
  {
   "cell_type": "code",
   "execution_count": 73,
   "metadata": {},
   "outputs": [],
   "source": [
    "train_df['mean_numeric'] = train_df[cnt_features].mean(axis=1)\n",
    "train_df['std_numeric'] = train_df[cnt_features].std(axis=1)\n",
    "#train_df['min_numeric'] = train_df[cnt_features].min(axis=1)\n",
    "#train_df['max_numeric'] = train_df[cnt_features].max(axis=1)\n",
    "train_df['sum_categoricals'] = train_df[cat_features].sum(axis=1)\n",
    "\n",
    "test_df['mean_numeric'] = test_df[cnt_features].mean(axis=1)\n",
    "test_df['std_numeric'] = test_df[cnt_features].std(axis=1)\n",
    "#test_df['min_numeric'] = test_df[cnt_features].min(axis=1)\n",
    "#test_df['max_numeric'] = test_df[cnt_features].max(axis=1)\n",
    "test_df['sum_categoricals'] = test_df[cat_features].sum(axis=1)"
   ]
  },
  {
   "cell_type": "code",
   "execution_count": 74,
   "metadata": {},
   "outputs": [
    {
     "name": "stderr",
     "output_type": "stream",
     "text": [
      "ic| len(feature_cols): 288\n"
     ]
    }
   ],
   "source": [
    "feature_cols += ['mean_numeric', 'std_numeric','sum_categoricals']\n",
    "ic(len(feature_cols));"
   ]
  },
  {
   "cell_type": "code",
   "execution_count": 75,
   "metadata": {},
   "outputs": [
    {
     "data": {
      "text/html": [
       "<div>\n",
       "<style scoped>\n",
       "    .dataframe tbody tr th:only-of-type {\n",
       "        vertical-align: middle;\n",
       "    }\n",
       "\n",
       "    .dataframe tbody tr th {\n",
       "        vertical-align: top;\n",
       "    }\n",
       "\n",
       "    .dataframe thead th {\n",
       "        text-align: right;\n",
       "    }\n",
       "</style>\n",
       "<table border=\"1\" class=\"dataframe\">\n",
       "  <thead>\n",
       "    <tr style=\"text-align: right;\">\n",
       "      <th></th>\n",
       "      <th>id</th>\n",
       "      <th>f0</th>\n",
       "      <th>f1</th>\n",
       "      <th>f2</th>\n",
       "      <th>f3</th>\n",
       "      <th>f4</th>\n",
       "      <th>f5</th>\n",
       "      <th>f6</th>\n",
       "      <th>f7</th>\n",
       "      <th>f8</th>\n",
       "      <th>...</th>\n",
       "      <th>f279</th>\n",
       "      <th>f280</th>\n",
       "      <th>f281</th>\n",
       "      <th>f282</th>\n",
       "      <th>f283</th>\n",
       "      <th>f284</th>\n",
       "      <th>target</th>\n",
       "      <th>mean_numeric</th>\n",
       "      <th>std_numeric</th>\n",
       "      <th>sum_categoricals</th>\n",
       "    </tr>\n",
       "  </thead>\n",
       "  <tbody>\n",
       "    <tr>\n",
       "      <th>0</th>\n",
       "      <td>0</td>\n",
       "      <td>0.205979</td>\n",
       "      <td>0.410993</td>\n",
       "      <td>0.176775</td>\n",
       "      <td>0.223581</td>\n",
       "      <td>0.423543</td>\n",
       "      <td>0.476140</td>\n",
       "      <td>0.413590</td>\n",
       "      <td>0.612021</td>\n",
       "      <td>0.534873</td>\n",
       "      <td>...</td>\n",
       "      <td>0</td>\n",
       "      <td>0</td>\n",
       "      <td>0</td>\n",
       "      <td>0</td>\n",
       "      <td>0</td>\n",
       "      <td>0</td>\n",
       "      <td>1</td>\n",
       "      <td>0.233355</td>\n",
       "      <td>0.208569</td>\n",
       "      <td>17</td>\n",
       "    </tr>\n",
       "    <tr>\n",
       "      <th>1</th>\n",
       "      <td>1</td>\n",
       "      <td>0.181004</td>\n",
       "      <td>0.473119</td>\n",
       "      <td>0.011734</td>\n",
       "      <td>0.213657</td>\n",
       "      <td>0.619678</td>\n",
       "      <td>0.441593</td>\n",
       "      <td>0.230407</td>\n",
       "      <td>0.686013</td>\n",
       "      <td>0.281971</td>\n",
       "      <td>...</td>\n",
       "      <td>0</td>\n",
       "      <td>0</td>\n",
       "      <td>0</td>\n",
       "      <td>0</td>\n",
       "      <td>0</td>\n",
       "      <td>0</td>\n",
       "      <td>1</td>\n",
       "      <td>0.228840</td>\n",
       "      <td>0.208500</td>\n",
       "      <td>16</td>\n",
       "    </tr>\n",
       "    <tr>\n",
       "      <th>2</th>\n",
       "      <td>2</td>\n",
       "      <td>0.182583</td>\n",
       "      <td>0.307431</td>\n",
       "      <td>0.325950</td>\n",
       "      <td>0.207116</td>\n",
       "      <td>0.605699</td>\n",
       "      <td>0.309695</td>\n",
       "      <td>0.493337</td>\n",
       "      <td>0.751107</td>\n",
       "      <td>0.536272</td>\n",
       "      <td>...</td>\n",
       "      <td>1</td>\n",
       "      <td>1</td>\n",
       "      <td>0</td>\n",
       "      <td>0</td>\n",
       "      <td>0</td>\n",
       "      <td>0</td>\n",
       "      <td>1</td>\n",
       "      <td>0.220909</td>\n",
       "      <td>0.196083</td>\n",
       "      <td>13</td>\n",
       "    </tr>\n",
       "    <tr>\n",
       "      <th>3</th>\n",
       "      <td>3</td>\n",
       "      <td>0.180240</td>\n",
       "      <td>0.494592</td>\n",
       "      <td>0.008367</td>\n",
       "      <td>0.223580</td>\n",
       "      <td>0.760618</td>\n",
       "      <td>0.439211</td>\n",
       "      <td>0.432055</td>\n",
       "      <td>0.776147</td>\n",
       "      <td>0.483958</td>\n",
       "      <td>...</td>\n",
       "      <td>0</td>\n",
       "      <td>1</td>\n",
       "      <td>0</td>\n",
       "      <td>0</td>\n",
       "      <td>0</td>\n",
       "      <td>0</td>\n",
       "      <td>1</td>\n",
       "      <td>0.230246</td>\n",
       "      <td>0.211794</td>\n",
       "      <td>17</td>\n",
       "    </tr>\n",
       "    <tr>\n",
       "      <th>4</th>\n",
       "      <td>4</td>\n",
       "      <td>0.177172</td>\n",
       "      <td>0.495513</td>\n",
       "      <td>0.014263</td>\n",
       "      <td>0.548819</td>\n",
       "      <td>0.625396</td>\n",
       "      <td>0.562493</td>\n",
       "      <td>0.117158</td>\n",
       "      <td>0.561255</td>\n",
       "      <td>0.077115</td>\n",
       "      <td>...</td>\n",
       "      <td>0</td>\n",
       "      <td>1</td>\n",
       "      <td>0</td>\n",
       "      <td>0</td>\n",
       "      <td>1</td>\n",
       "      <td>0</td>\n",
       "      <td>1</td>\n",
       "      <td>0.216252</td>\n",
       "      <td>0.202080</td>\n",
       "      <td>18</td>\n",
       "    </tr>\n",
       "  </tbody>\n",
       "</table>\n",
       "<p>5 rows × 290 columns</p>\n",
       "</div>"
      ],
      "text/plain": [
       "   id        f0        f1        f2        f3        f4        f5        f6  \\\n",
       "0   0  0.205979  0.410993  0.176775  0.223581  0.423543  0.476140  0.413590   \n",
       "1   1  0.181004  0.473119  0.011734  0.213657  0.619678  0.441593  0.230407   \n",
       "2   2  0.182583  0.307431  0.325950  0.207116  0.605699  0.309695  0.493337   \n",
       "3   3  0.180240  0.494592  0.008367  0.223580  0.760618  0.439211  0.432055   \n",
       "4   4  0.177172  0.495513  0.014263  0.548819  0.625396  0.562493  0.117158   \n",
       "\n",
       "         f7        f8  ...  f279  f280  f281  f282  f283  f284  target  \\\n",
       "0  0.612021  0.534873  ...     0     0     0     0     0     0       1   \n",
       "1  0.686013  0.281971  ...     0     0     0     0     0     0       1   \n",
       "2  0.751107  0.536272  ...     1     1     0     0     0     0       1   \n",
       "3  0.776147  0.483958  ...     0     1     0     0     0     0       1   \n",
       "4  0.561255  0.077115  ...     0     1     0     0     1     0       1   \n",
       "\n",
       "   mean_numeric  std_numeric  sum_categoricals  \n",
       "0      0.233355     0.208569                17  \n",
       "1      0.228840     0.208500                16  \n",
       "2      0.220909     0.196083                13  \n",
       "3      0.230246     0.211794                17  \n",
       "4      0.216252     0.202080                18  \n",
       "\n",
       "[5 rows x 290 columns]"
      ]
     },
     "execution_count": 75,
     "metadata": {},
     "output_type": "execute_result"
    }
   ],
   "source": [
    "train_df.head()"
   ]
  },
  {
   "cell_type": "markdown",
   "metadata": {},
   "source": [
    "## KMeans Clustering"
   ]
  },
  {
   "cell_type": "code",
   "execution_count": 76,
   "metadata": {},
   "outputs": [
    {
     "name": "stderr",
     "output_type": "stream",
     "text": [
      "ic| n_clusters_1: 6\n"
     ]
    },
    {
     "data": {
      "text/plain": [
       "6"
      ]
     },
     "execution_count": 76,
     "metadata": {},
     "output_type": "execute_result"
    }
   ],
   "source": [
    "from sklearn.cluster import KMeans\n",
    "\n",
    "n_clusters_1 = 6\n",
    "cluster_cols = [f\"cluster1{i+1}\" for i in range(n_clusters_1)]\n",
    "#kmeans = KMeans(n_clusters=n_clusters_1, n_init=50, max_iter=500, random_state=rnd_state)\n",
    "kmeans = KMeans(n_clusters=n_clusters_1, init=\"k-means++\", max_iter=500, random_state=rnd_state)\n",
    "\n",
    "ic(n_clusters_1)\n",
    "#ic(cluster_cols);"
   ]
  },
  {
   "cell_type": "code",
   "execution_count": 77,
   "id": "c204f8bf",
   "metadata": {
    "execution": {
     "iopub.execute_input": "2021-10-17T14:14:15.336900Z",
     "iopub.status.busy": "2021-10-17T14:14:15.336109Z",
     "iopub.status.idle": "2021-10-17T14:15:10.593911Z",
     "shell.execute_reply": "2021-10-17T14:15:10.593190Z",
     "shell.execute_reply.started": "2021-10-17T14:05:38.239391Z"
    },
    "papermill": {
     "duration": 55.27928,
     "end_time": "2021-10-17T14:15:10.594081",
     "exception": false,
     "start_time": "2021-10-17T14:14:15.314801",
     "status": "completed"
    },
    "tags": []
   },
   "outputs": [],
   "source": [
    "# cluster distance instead of cluster number\n",
    "\n",
    "# train\n",
    "X_cd = kmeans.fit_transform(train_df[useful_features_set1])\n",
    "X_cd = pd.DataFrame(X_cd, columns=cluster_cols, index=train_df.index)\n",
    "train = train_df.join(X_cd)\n",
    "\n",
    "# test\n",
    "X_cd = kmeans.transform(test_df[useful_features_set1])\n",
    "X_cd = pd.DataFrame(X_cd, columns=cluster_cols, index=test_df.index)\n",
    "test = test_df.join(X_cd)"
   ]
  },
  {
   "cell_type": "code",
   "execution_count": 78,
   "metadata": {},
   "outputs": [
    {
     "name": "stderr",
     "output_type": "stream",
     "text": [
      "ic| len(feature_cols): 294\n"
     ]
    }
   ],
   "source": [
    "feature_cols += cluster_cols\n",
    "ic(len(feature_cols));"
   ]
  },
  {
   "cell_type": "code",
   "execution_count": 79,
   "metadata": {},
   "outputs": [
    {
     "data": {
      "text/html": [
       "<div>\n",
       "<style scoped>\n",
       "    .dataframe tbody tr th:only-of-type {\n",
       "        vertical-align: middle;\n",
       "    }\n",
       "\n",
       "    .dataframe tbody tr th {\n",
       "        vertical-align: top;\n",
       "    }\n",
       "\n",
       "    .dataframe thead th {\n",
       "        text-align: right;\n",
       "    }\n",
       "</style>\n",
       "<table border=\"1\" class=\"dataframe\">\n",
       "  <thead>\n",
       "    <tr style=\"text-align: right;\">\n",
       "      <th></th>\n",
       "      <th>f0</th>\n",
       "      <th>f1</th>\n",
       "      <th>f2</th>\n",
       "      <th>f3</th>\n",
       "      <th>f4</th>\n",
       "      <th>f5</th>\n",
       "      <th>f6</th>\n",
       "      <th>f7</th>\n",
       "      <th>f8</th>\n",
       "      <th>f9</th>\n",
       "      <th>...</th>\n",
       "      <th>f284</th>\n",
       "      <th>mean_numeric</th>\n",
       "      <th>std_numeric</th>\n",
       "      <th>sum_categoricals</th>\n",
       "      <th>cluster11</th>\n",
       "      <th>cluster12</th>\n",
       "      <th>cluster13</th>\n",
       "      <th>cluster14</th>\n",
       "      <th>cluster15</th>\n",
       "      <th>cluster16</th>\n",
       "    </tr>\n",
       "  </thead>\n",
       "  <tbody>\n",
       "    <tr>\n",
       "      <th>0</th>\n",
       "      <td>0.205979</td>\n",
       "      <td>0.410993</td>\n",
       "      <td>0.176775</td>\n",
       "      <td>0.223581</td>\n",
       "      <td>0.423543</td>\n",
       "      <td>0.476140</td>\n",
       "      <td>0.413590</td>\n",
       "      <td>0.612021</td>\n",
       "      <td>0.534873</td>\n",
       "      <td>0.147295</td>\n",
       "      <td>...</td>\n",
       "      <td>0</td>\n",
       "      <td>0.233355</td>\n",
       "      <td>0.208569</td>\n",
       "      <td>17</td>\n",
       "      <td>0.739584</td>\n",
       "      <td>1.242293</td>\n",
       "      <td>0.585885</td>\n",
       "      <td>1.158385</td>\n",
       "      <td>0.418936</td>\n",
       "      <td>1.083924</td>\n",
       "    </tr>\n",
       "    <tr>\n",
       "      <th>1</th>\n",
       "      <td>0.181004</td>\n",
       "      <td>0.473119</td>\n",
       "      <td>0.011734</td>\n",
       "      <td>0.213657</td>\n",
       "      <td>0.619678</td>\n",
       "      <td>0.441593</td>\n",
       "      <td>0.230407</td>\n",
       "      <td>0.686013</td>\n",
       "      <td>0.281971</td>\n",
       "      <td>0.238509</td>\n",
       "      <td>...</td>\n",
       "      <td>0</td>\n",
       "      <td>0.228840</td>\n",
       "      <td>0.208500</td>\n",
       "      <td>16</td>\n",
       "      <td>0.564936</td>\n",
       "      <td>1.149203</td>\n",
       "      <td>0.279204</td>\n",
       "      <td>1.038267</td>\n",
       "      <td>0.531407</td>\n",
       "      <td>1.131821</td>\n",
       "    </tr>\n",
       "    <tr>\n",
       "      <th>2</th>\n",
       "      <td>0.182583</td>\n",
       "      <td>0.307431</td>\n",
       "      <td>0.325950</td>\n",
       "      <td>0.207116</td>\n",
       "      <td>0.605699</td>\n",
       "      <td>0.309695</td>\n",
       "      <td>0.493337</td>\n",
       "      <td>0.751107</td>\n",
       "      <td>0.536272</td>\n",
       "      <td>0.286813</td>\n",
       "      <td>...</td>\n",
       "      <td>0</td>\n",
       "      <td>0.220909</td>\n",
       "      <td>0.196083</td>\n",
       "      <td>13</td>\n",
       "      <td>1.019494</td>\n",
       "      <td>0.197808</td>\n",
       "      <td>1.119335</td>\n",
       "      <td>0.502227</td>\n",
       "      <td>1.196503</td>\n",
       "      <td>0.657885</td>\n",
       "    </tr>\n",
       "    <tr>\n",
       "      <th>3</th>\n",
       "      <td>0.180240</td>\n",
       "      <td>0.494592</td>\n",
       "      <td>0.008367</td>\n",
       "      <td>0.223580</td>\n",
       "      <td>0.760618</td>\n",
       "      <td>0.439211</td>\n",
       "      <td>0.432055</td>\n",
       "      <td>0.776147</td>\n",
       "      <td>0.483958</td>\n",
       "      <td>0.260886</td>\n",
       "      <td>...</td>\n",
       "      <td>0</td>\n",
       "      <td>0.230246</td>\n",
       "      <td>0.211794</td>\n",
       "      <td>17</td>\n",
       "      <td>0.595213</td>\n",
       "      <td>1.163702</td>\n",
       "      <td>0.322403</td>\n",
       "      <td>1.050408</td>\n",
       "      <td>0.555903</td>\n",
       "      <td>1.143232</td>\n",
       "    </tr>\n",
       "    <tr>\n",
       "      <th>4</th>\n",
       "      <td>0.177172</td>\n",
       "      <td>0.495513</td>\n",
       "      <td>0.014263</td>\n",
       "      <td>0.548819</td>\n",
       "      <td>0.625396</td>\n",
       "      <td>0.562493</td>\n",
       "      <td>0.117158</td>\n",
       "      <td>0.561255</td>\n",
       "      <td>0.077115</td>\n",
       "      <td>0.158321</td>\n",
       "      <td>...</td>\n",
       "      <td>0</td>\n",
       "      <td>0.216252</td>\n",
       "      <td>0.202080</td>\n",
       "      <td>18</td>\n",
       "      <td>1.224616</td>\n",
       "      <td>0.708701</td>\n",
       "      <td>1.123572</td>\n",
       "      <td>0.512460</td>\n",
       "      <td>1.210390</td>\n",
       "      <td>0.680379</td>\n",
       "    </tr>\n",
       "  </tbody>\n",
       "</table>\n",
       "<p>5 rows × 294 columns</p>\n",
       "</div>"
      ],
      "text/plain": [
       "         f0        f1        f2        f3        f4        f5        f6  \\\n",
       "0  0.205979  0.410993  0.176775  0.223581  0.423543  0.476140  0.413590   \n",
       "1  0.181004  0.473119  0.011734  0.213657  0.619678  0.441593  0.230407   \n",
       "2  0.182583  0.307431  0.325950  0.207116  0.605699  0.309695  0.493337   \n",
       "3  0.180240  0.494592  0.008367  0.223580  0.760618  0.439211  0.432055   \n",
       "4  0.177172  0.495513  0.014263  0.548819  0.625396  0.562493  0.117158   \n",
       "\n",
       "         f7        f8        f9  ...  f284  mean_numeric  std_numeric  \\\n",
       "0  0.612021  0.534873  0.147295  ...     0      0.233355     0.208569   \n",
       "1  0.686013  0.281971  0.238509  ...     0      0.228840     0.208500   \n",
       "2  0.751107  0.536272  0.286813  ...     0      0.220909     0.196083   \n",
       "3  0.776147  0.483958  0.260886  ...     0      0.230246     0.211794   \n",
       "4  0.561255  0.077115  0.158321  ...     0      0.216252     0.202080   \n",
       "\n",
       "   sum_categoricals  cluster11  cluster12  cluster13  cluster14  cluster15  \\\n",
       "0                17   0.739584   1.242293   0.585885   1.158385   0.418936   \n",
       "1                16   0.564936   1.149203   0.279204   1.038267   0.531407   \n",
       "2                13   1.019494   0.197808   1.119335   0.502227   1.196503   \n",
       "3                17   0.595213   1.163702   0.322403   1.050408   0.555903   \n",
       "4                18   1.224616   0.708701   1.123572   0.512460   1.210390   \n",
       "\n",
       "   cluster16  \n",
       "0   1.083924  \n",
       "1   1.131821  \n",
       "2   0.657885  \n",
       "3   1.143232  \n",
       "4   0.680379  \n",
       "\n",
       "[5 rows x 294 columns]"
      ]
     },
     "execution_count": 79,
     "metadata": {},
     "output_type": "execute_result"
    }
   ],
   "source": [
    "train[feature_cols].head()"
   ]
  },
  {
   "cell_type": "markdown",
   "metadata": {},
   "source": [
    "## Polynomial Features"
   ]
  },
  {
   "cell_type": "markdown",
   "metadata": {},
   "source": [
    "- https://scikit-learn.org/stable/modules/generated/sklearn.preprocessing.PolynomialFeatures.html"
   ]
  },
  {
   "cell_type": "code",
   "execution_count": 80,
   "metadata": {},
   "outputs": [],
   "source": [
    "from sklearn.preprocessing import PolynomialFeatures\n",
    "\n",
    "\n"
   ]
  },
  {
   "cell_type": "code",
   "execution_count": 81,
   "metadata": {},
   "outputs": [],
   "source": [
    "poly = PolynomialFeatures(degree=2, interaction_only=True)\n",
    "\n",
    "X_poly = poly.fit_transform(train[useful_features_set1])\n",
    "T_poly = poly.transform(test[useful_features_set1])\n",
    "\n",
    "poly_cols = [f\"usefulfset1_poly{i+1}\" for i in range(X_poly.shape[1])]\n",
    "\n",
    "X_poly_df = pd.DataFrame(X_poly, columns=poly_cols, index=train.index)\n",
    "T_poly_df = pd.DataFrame(T_poly, columns=poly_cols, index=test.index)\n",
    "\n",
    "train = pd.concat([train, X_poly_df], axis=1)\n",
    "test = pd.concat([test, T_poly_df], axis=1)\n"
   ]
  },
  {
   "cell_type": "code",
   "execution_count": 82,
   "metadata": {},
   "outputs": [
    {
     "data": {
      "text/html": [
       "<div>\n",
       "<style scoped>\n",
       "    .dataframe tbody tr th:only-of-type {\n",
       "        vertical-align: middle;\n",
       "    }\n",
       "\n",
       "    .dataframe tbody tr th {\n",
       "        vertical-align: top;\n",
       "    }\n",
       "\n",
       "    .dataframe thead th {\n",
       "        text-align: right;\n",
       "    }\n",
       "</style>\n",
       "<table border=\"1\" class=\"dataframe\">\n",
       "  <thead>\n",
       "    <tr style=\"text-align: right;\">\n",
       "      <th></th>\n",
       "      <th>id</th>\n",
       "      <th>f0</th>\n",
       "      <th>f1</th>\n",
       "      <th>f2</th>\n",
       "      <th>f3</th>\n",
       "      <th>f4</th>\n",
       "      <th>f5</th>\n",
       "      <th>f6</th>\n",
       "      <th>f7</th>\n",
       "      <th>f8</th>\n",
       "      <th>...</th>\n",
       "      <th>usefulfset1_poly8</th>\n",
       "      <th>usefulfset1_poly9</th>\n",
       "      <th>usefulfset1_poly10</th>\n",
       "      <th>usefulfset1_poly11</th>\n",
       "      <th>usefulfset1_poly12</th>\n",
       "      <th>usefulfset1_poly13</th>\n",
       "      <th>usefulfset1_poly14</th>\n",
       "      <th>usefulfset1_poly15</th>\n",
       "      <th>usefulfset1_poly16</th>\n",
       "      <th>usefulfset1_poly17</th>\n",
       "    </tr>\n",
       "  </thead>\n",
       "  <tbody>\n",
       "    <tr>\n",
       "      <th>0</th>\n",
       "      <td>0</td>\n",
       "      <td>0.205979</td>\n",
       "      <td>0.410993</td>\n",
       "      <td>0.176775</td>\n",
       "      <td>0.223581</td>\n",
       "      <td>0.423543</td>\n",
       "      <td>0.476140</td>\n",
       "      <td>0.413590</td>\n",
       "      <td>0.612021</td>\n",
       "      <td>0.534873</td>\n",
       "      <td>...</td>\n",
       "      <td>0.223581</td>\n",
       "      <td>1.0</td>\n",
       "      <td>0.006978</td>\n",
       "      <td>0.112764</td>\n",
       "      <td>0.864594</td>\n",
       "      <td>0.822459</td>\n",
       "      <td>0.200924</td>\n",
       "      <td>0.112203</td>\n",
       "      <td>0.573640</td>\n",
       "      <td>0.559151</td>\n",
       "    </tr>\n",
       "    <tr>\n",
       "      <th>1</th>\n",
       "      <td>1</td>\n",
       "      <td>0.181004</td>\n",
       "      <td>0.473119</td>\n",
       "      <td>0.011734</td>\n",
       "      <td>0.213657</td>\n",
       "      <td>0.619678</td>\n",
       "      <td>0.441593</td>\n",
       "      <td>0.230407</td>\n",
       "      <td>0.686013</td>\n",
       "      <td>0.281971</td>\n",
       "      <td>...</td>\n",
       "      <td>0.213657</td>\n",
       "      <td>1.0</td>\n",
       "      <td>0.164553</td>\n",
       "      <td>0.008115</td>\n",
       "      <td>0.866689</td>\n",
       "      <td>0.820548</td>\n",
       "      <td>0.231828</td>\n",
       "      <td>0.111834</td>\n",
       "      <td>0.162314</td>\n",
       "      <td>0.145737</td>\n",
       "    </tr>\n",
       "    <tr>\n",
       "      <th>2</th>\n",
       "      <td>2</td>\n",
       "      <td>0.182583</td>\n",
       "      <td>0.307431</td>\n",
       "      <td>0.325950</td>\n",
       "      <td>0.207116</td>\n",
       "      <td>0.605699</td>\n",
       "      <td>0.309695</td>\n",
       "      <td>0.493337</td>\n",
       "      <td>0.751107</td>\n",
       "      <td>0.536272</td>\n",
       "      <td>...</td>\n",
       "      <td>0.207116</td>\n",
       "      <td>0.0</td>\n",
       "      <td>0.010954</td>\n",
       "      <td>0.011306</td>\n",
       "      <td>0.401814</td>\n",
       "      <td>0.819017</td>\n",
       "      <td>0.247791</td>\n",
       "      <td>0.110486</td>\n",
       "      <td>0.163786</td>\n",
       "      <td>0.144596</td>\n",
       "    </tr>\n",
       "    <tr>\n",
       "      <th>3</th>\n",
       "      <td>3</td>\n",
       "      <td>0.180240</td>\n",
       "      <td>0.494592</td>\n",
       "      <td>0.008367</td>\n",
       "      <td>0.223580</td>\n",
       "      <td>0.760618</td>\n",
       "      <td>0.439211</td>\n",
       "      <td>0.432055</td>\n",
       "      <td>0.776147</td>\n",
       "      <td>0.483958</td>\n",
       "      <td>...</td>\n",
       "      <td>0.223580</td>\n",
       "      <td>1.0</td>\n",
       "      <td>0.010339</td>\n",
       "      <td>0.012912</td>\n",
       "      <td>0.874224</td>\n",
       "      <td>0.819892</td>\n",
       "      <td>0.287755</td>\n",
       "      <td>0.361132</td>\n",
       "      <td>0.162876</td>\n",
       "      <td>0.146811</td>\n",
       "    </tr>\n",
       "    <tr>\n",
       "      <th>4</th>\n",
       "      <td>4</td>\n",
       "      <td>0.177172</td>\n",
       "      <td>0.495513</td>\n",
       "      <td>0.014263</td>\n",
       "      <td>0.548819</td>\n",
       "      <td>0.625396</td>\n",
       "      <td>0.562493</td>\n",
       "      <td>0.117158</td>\n",
       "      <td>0.561255</td>\n",
       "      <td>0.077115</td>\n",
       "      <td>...</td>\n",
       "      <td>0.548819</td>\n",
       "      <td>0.0</td>\n",
       "      <td>0.003894</td>\n",
       "      <td>0.188779</td>\n",
       "      <td>0.863533</td>\n",
       "      <td>0.821810</td>\n",
       "      <td>0.265285</td>\n",
       "      <td>0.113454</td>\n",
       "      <td>0.162357</td>\n",
       "      <td>0.148517</td>\n",
       "    </tr>\n",
       "  </tbody>\n",
       "</table>\n",
       "<p>5 rows × 313 columns</p>\n",
       "</div>"
      ],
      "text/plain": [
       "   id        f0        f1        f2        f3        f4        f5        f6  \\\n",
       "0   0  0.205979  0.410993  0.176775  0.223581  0.423543  0.476140  0.413590   \n",
       "1   1  0.181004  0.473119  0.011734  0.213657  0.619678  0.441593  0.230407   \n",
       "2   2  0.182583  0.307431  0.325950  0.207116  0.605699  0.309695  0.493337   \n",
       "3   3  0.180240  0.494592  0.008367  0.223580  0.760618  0.439211  0.432055   \n",
       "4   4  0.177172  0.495513  0.014263  0.548819  0.625396  0.562493  0.117158   \n",
       "\n",
       "         f7        f8  ...  usefulfset1_poly8  usefulfset1_poly9  \\\n",
       "0  0.612021  0.534873  ...           0.223581                1.0   \n",
       "1  0.686013  0.281971  ...           0.213657                1.0   \n",
       "2  0.751107  0.536272  ...           0.207116                0.0   \n",
       "3  0.776147  0.483958  ...           0.223580                1.0   \n",
       "4  0.561255  0.077115  ...           0.548819                0.0   \n",
       "\n",
       "   usefulfset1_poly10  usefulfset1_poly11  usefulfset1_poly12  \\\n",
       "0            0.006978            0.112764            0.864594   \n",
       "1            0.164553            0.008115            0.866689   \n",
       "2            0.010954            0.011306            0.401814   \n",
       "3            0.010339            0.012912            0.874224   \n",
       "4            0.003894            0.188779            0.863533   \n",
       "\n",
       "   usefulfset1_poly13  usefulfset1_poly14  usefulfset1_poly15  \\\n",
       "0            0.822459            0.200924            0.112203   \n",
       "1            0.820548            0.231828            0.111834   \n",
       "2            0.819017            0.247791            0.110486   \n",
       "3            0.819892            0.287755            0.361132   \n",
       "4            0.821810            0.265285            0.113454   \n",
       "\n",
       "   usefulfset1_poly16  usefulfset1_poly17  \n",
       "0            0.573640            0.559151  \n",
       "1            0.162314            0.145737  \n",
       "2            0.163786            0.144596  \n",
       "3            0.162876            0.146811  \n",
       "4            0.162357            0.148517  \n",
       "\n",
       "[5 rows x 313 columns]"
      ]
     },
     "execution_count": 82,
     "metadata": {},
     "output_type": "execute_result"
    }
   ],
   "source": [
    "#feature_cols += [\"poly79\", \"poly82\", \"poly66\", \"poly32\", \"poly81\", \"poly80\", \"poly42\", \"poly78\", \"poly59\"]\n",
    "feature_cols += poly_cols\n",
    "train.head()"
   ]
  },
  {
   "cell_type": "code",
   "execution_count": 83,
   "metadata": {},
   "outputs": [],
   "source": [
    "poly = PolynomialFeatures(degree=1, interaction_only=True)\n",
    "\n",
    "X_poly = poly.fit_transform(train[cluster_cols])\n",
    "T_poly = poly.transform(test[cluster_cols])\n",
    "\n",
    "poly_cols = [f\"cluster_poly{i+1}\" for i in range(X_poly.shape[1])]\n",
    "\n",
    "X_poly_df = pd.DataFrame(X_poly, columns=poly_cols, index=train.index)\n",
    "T_poly_df = pd.DataFrame(T_poly, columns=poly_cols, index=test.index)\n",
    "\n",
    "train = pd.concat([train, X_poly_df], axis=1)\n",
    "test = pd.concat([test, T_poly_df], axis=1)\n",
    "\n"
   ]
  },
  {
   "cell_type": "code",
   "execution_count": 84,
   "metadata": {},
   "outputs": [
    {
     "name": "stderr",
     "output_type": "stream",
     "text": [
      "ic| len(feature_cols): 318\n"
     ]
    }
   ],
   "source": [
    "feature_cols += poly_cols\n",
    "ic(len(feature_cols));"
   ]
  },
  {
   "cell_type": "code",
   "execution_count": 85,
   "metadata": {},
   "outputs": [
    {
     "data": {
      "text/html": [
       "<div>\n",
       "<style scoped>\n",
       "    .dataframe tbody tr th:only-of-type {\n",
       "        vertical-align: middle;\n",
       "    }\n",
       "\n",
       "    .dataframe tbody tr th {\n",
       "        vertical-align: top;\n",
       "    }\n",
       "\n",
       "    .dataframe thead th {\n",
       "        text-align: right;\n",
       "    }\n",
       "</style>\n",
       "<table border=\"1\" class=\"dataframe\">\n",
       "  <thead>\n",
       "    <tr style=\"text-align: right;\">\n",
       "      <th></th>\n",
       "      <th>id</th>\n",
       "      <th>f0</th>\n",
       "      <th>f1</th>\n",
       "      <th>f2</th>\n",
       "      <th>f3</th>\n",
       "      <th>f4</th>\n",
       "      <th>f5</th>\n",
       "      <th>f6</th>\n",
       "      <th>f7</th>\n",
       "      <th>f8</th>\n",
       "      <th>...</th>\n",
       "      <th>usefulfset1_poly15</th>\n",
       "      <th>usefulfset1_poly16</th>\n",
       "      <th>usefulfset1_poly17</th>\n",
       "      <th>cluster_poly1</th>\n",
       "      <th>cluster_poly2</th>\n",
       "      <th>cluster_poly3</th>\n",
       "      <th>cluster_poly4</th>\n",
       "      <th>cluster_poly5</th>\n",
       "      <th>cluster_poly6</th>\n",
       "      <th>cluster_poly7</th>\n",
       "    </tr>\n",
       "  </thead>\n",
       "  <tbody>\n",
       "    <tr>\n",
       "      <th>0</th>\n",
       "      <td>0</td>\n",
       "      <td>0.205979</td>\n",
       "      <td>0.410993</td>\n",
       "      <td>0.176775</td>\n",
       "      <td>0.223581</td>\n",
       "      <td>0.423543</td>\n",
       "      <td>0.476140</td>\n",
       "      <td>0.413590</td>\n",
       "      <td>0.612021</td>\n",
       "      <td>0.534873</td>\n",
       "      <td>...</td>\n",
       "      <td>0.112203</td>\n",
       "      <td>0.573640</td>\n",
       "      <td>0.559151</td>\n",
       "      <td>1.0</td>\n",
       "      <td>0.739584</td>\n",
       "      <td>1.242293</td>\n",
       "      <td>0.585885</td>\n",
       "      <td>1.158385</td>\n",
       "      <td>0.418936</td>\n",
       "      <td>1.083924</td>\n",
       "    </tr>\n",
       "    <tr>\n",
       "      <th>1</th>\n",
       "      <td>1</td>\n",
       "      <td>0.181004</td>\n",
       "      <td>0.473119</td>\n",
       "      <td>0.011734</td>\n",
       "      <td>0.213657</td>\n",
       "      <td>0.619678</td>\n",
       "      <td>0.441593</td>\n",
       "      <td>0.230407</td>\n",
       "      <td>0.686013</td>\n",
       "      <td>0.281971</td>\n",
       "      <td>...</td>\n",
       "      <td>0.111834</td>\n",
       "      <td>0.162314</td>\n",
       "      <td>0.145737</td>\n",
       "      <td>1.0</td>\n",
       "      <td>0.564936</td>\n",
       "      <td>1.149203</td>\n",
       "      <td>0.279204</td>\n",
       "      <td>1.038267</td>\n",
       "      <td>0.531407</td>\n",
       "      <td>1.131821</td>\n",
       "    </tr>\n",
       "    <tr>\n",
       "      <th>2</th>\n",
       "      <td>2</td>\n",
       "      <td>0.182583</td>\n",
       "      <td>0.307431</td>\n",
       "      <td>0.325950</td>\n",
       "      <td>0.207116</td>\n",
       "      <td>0.605699</td>\n",
       "      <td>0.309695</td>\n",
       "      <td>0.493337</td>\n",
       "      <td>0.751107</td>\n",
       "      <td>0.536272</td>\n",
       "      <td>...</td>\n",
       "      <td>0.110486</td>\n",
       "      <td>0.163786</td>\n",
       "      <td>0.144596</td>\n",
       "      <td>1.0</td>\n",
       "      <td>1.019494</td>\n",
       "      <td>0.197808</td>\n",
       "      <td>1.119335</td>\n",
       "      <td>0.502227</td>\n",
       "      <td>1.196503</td>\n",
       "      <td>0.657885</td>\n",
       "    </tr>\n",
       "    <tr>\n",
       "      <th>3</th>\n",
       "      <td>3</td>\n",
       "      <td>0.180240</td>\n",
       "      <td>0.494592</td>\n",
       "      <td>0.008367</td>\n",
       "      <td>0.223580</td>\n",
       "      <td>0.760618</td>\n",
       "      <td>0.439211</td>\n",
       "      <td>0.432055</td>\n",
       "      <td>0.776147</td>\n",
       "      <td>0.483958</td>\n",
       "      <td>...</td>\n",
       "      <td>0.361132</td>\n",
       "      <td>0.162876</td>\n",
       "      <td>0.146811</td>\n",
       "      <td>1.0</td>\n",
       "      <td>0.595213</td>\n",
       "      <td>1.163702</td>\n",
       "      <td>0.322403</td>\n",
       "      <td>1.050408</td>\n",
       "      <td>0.555903</td>\n",
       "      <td>1.143232</td>\n",
       "    </tr>\n",
       "    <tr>\n",
       "      <th>4</th>\n",
       "      <td>4</td>\n",
       "      <td>0.177172</td>\n",
       "      <td>0.495513</td>\n",
       "      <td>0.014263</td>\n",
       "      <td>0.548819</td>\n",
       "      <td>0.625396</td>\n",
       "      <td>0.562493</td>\n",
       "      <td>0.117158</td>\n",
       "      <td>0.561255</td>\n",
       "      <td>0.077115</td>\n",
       "      <td>...</td>\n",
       "      <td>0.113454</td>\n",
       "      <td>0.162357</td>\n",
       "      <td>0.148517</td>\n",
       "      <td>1.0</td>\n",
       "      <td>1.224616</td>\n",
       "      <td>0.708701</td>\n",
       "      <td>1.123572</td>\n",
       "      <td>0.512460</td>\n",
       "      <td>1.210390</td>\n",
       "      <td>0.680379</td>\n",
       "    </tr>\n",
       "  </tbody>\n",
       "</table>\n",
       "<p>5 rows × 320 columns</p>\n",
       "</div>"
      ],
      "text/plain": [
       "   id        f0        f1        f2        f3        f4        f5        f6  \\\n",
       "0   0  0.205979  0.410993  0.176775  0.223581  0.423543  0.476140  0.413590   \n",
       "1   1  0.181004  0.473119  0.011734  0.213657  0.619678  0.441593  0.230407   \n",
       "2   2  0.182583  0.307431  0.325950  0.207116  0.605699  0.309695  0.493337   \n",
       "3   3  0.180240  0.494592  0.008367  0.223580  0.760618  0.439211  0.432055   \n",
       "4   4  0.177172  0.495513  0.014263  0.548819  0.625396  0.562493  0.117158   \n",
       "\n",
       "         f7        f8  ...  usefulfset1_poly15  usefulfset1_poly16  \\\n",
       "0  0.612021  0.534873  ...            0.112203            0.573640   \n",
       "1  0.686013  0.281971  ...            0.111834            0.162314   \n",
       "2  0.751107  0.536272  ...            0.110486            0.163786   \n",
       "3  0.776147  0.483958  ...            0.361132            0.162876   \n",
       "4  0.561255  0.077115  ...            0.113454            0.162357   \n",
       "\n",
       "   usefulfset1_poly17  cluster_poly1  cluster_poly2  cluster_poly3  \\\n",
       "0            0.559151            1.0       0.739584       1.242293   \n",
       "1            0.145737            1.0       0.564936       1.149203   \n",
       "2            0.144596            1.0       1.019494       0.197808   \n",
       "3            0.146811            1.0       0.595213       1.163702   \n",
       "4            0.148517            1.0       1.224616       0.708701   \n",
       "\n",
       "   cluster_poly4  cluster_poly5  cluster_poly6  cluster_poly7  \n",
       "0       0.585885       1.158385       0.418936       1.083924  \n",
       "1       0.279204       1.038267       0.531407       1.131821  \n",
       "2       1.119335       0.502227       1.196503       0.657885  \n",
       "3       0.322403       1.050408       0.555903       1.143232  \n",
       "4       1.123572       0.512460       1.210390       0.680379  \n",
       "\n",
       "[5 rows x 320 columns]"
      ]
     },
     "execution_count": 85,
     "metadata": {},
     "output_type": "execute_result"
    }
   ],
   "source": [
    "train.head()"
   ]
  },
  {
   "cell_type": "markdown",
   "metadata": {},
   "source": [
    "## Mutual Information"
   ]
  },
  {
   "cell_type": "code",
   "execution_count": 86,
   "id": "ebcb7161",
   "metadata": {
    "execution": {
     "iopub.execute_input": "2021-10-17T14:15:53.966372Z",
     "iopub.status.busy": "2021-10-17T14:15:53.965587Z",
     "iopub.status.idle": "2021-10-17T14:16:34.695532Z",
     "shell.execute_reply": "2021-10-17T14:16:34.696066Z",
     "shell.execute_reply.started": "2021-10-17T14:09:07.201281Z"
    },
    "papermill": {
     "duration": 40.751608,
     "end_time": "2021-10-17T14:16:34.696244",
     "exception": false,
     "start_time": "2021-10-17T14:15:53.944636",
     "status": "completed"
    },
    "tags": []
   },
   "outputs": [],
   "source": [
    "from sklearn.feature_selection import mutual_info_regression\n",
    "\n",
    "x = train.iloc[:5000,:][feature_cols] #.copy()\n",
    "y = train.iloc[:5000,:]['target'] #.copy()\n",
    "mi_scores = mutual_info_regression(x, y)\n",
    "mi_scores = pd.Series(mi_scores, name=\"MI Scores\", index=x.columns)\n",
    "mi_scores = mi_scores.sort_values(ascending=False)"
   ]
  },
  {
   "cell_type": "code",
   "execution_count": 87,
   "id": "2096d2a0",
   "metadata": {
    "execution": {
     "iopub.execute_input": "2021-10-17T14:16:34.730031Z",
     "iopub.status.busy": "2021-10-17T14:16:34.729399Z",
     "iopub.status.idle": "2021-10-17T14:16:38.377932Z",
     "shell.execute_reply": "2021-10-17T14:16:38.377385Z",
     "shell.execute_reply.started": "2021-10-17T14:09:44.766206Z"
    },
    "papermill": {
     "duration": 3.666617,
     "end_time": "2021-10-17T14:16:38.378081",
     "exception": false,
     "start_time": "2021-10-17T14:16:34.711464",
     "status": "completed"
    },
    "tags": []
   },
   "outputs": [
    {
     "data": {
      "application/vnd.plotly.v1+json": {
       "config": {
        "plotlyServerURL": "https://plot.ly"
       },
       "data": [
        {
         "alignmentgroup": "True",
         "hovertemplate": "x=%{x}<br>y=%{y}<extra></extra>",
         "legendgroup": "",
         "marker": {
          "color": "#636efa",
          "pattern": {
           "shape": ""
          }
         },
         "name": "",
         "offsetgroup": "",
         "orientation": "h",
         "showlegend": false,
         "textposition": "auto",
         "type": "bar",
         "x": [
          0.1679179724191906,
          0.14999661572567557,
          0.14999661572567557,
          0.14786340935574316,
          0.14781992000259692,
          0.14770155742949687,
          0.14516482714610834,
          0.14511807389935516,
          0.14338581191496846,
          0.14335224548140157,
          0.13419014952798403,
          0.13417476491259972,
          0.1297937583083062,
          0.12972709164163998,
          0.028649081079628935,
          0.024616084771047042,
          0.023658059194088032,
          0.02096050021730278,
          0.01972001074375651,
          0.01959614392288156
         ],
         "xaxis": "x",
         "y": [
          "f22",
          "cluster_poly7",
          "cluster16",
          "usefulfset1_poly9",
          "cluster11",
          "cluster_poly2",
          "cluster12",
          "cluster_poly3",
          "cluster_poly6",
          "cluster15",
          "cluster_poly5",
          "cluster14",
          "cluster_poly4",
          "cluster13",
          "f266",
          "f281",
          "sum_categoricals",
          "f185",
          "f142",
          "f115"
         ],
         "yaxis": "y"
        }
       ],
       "layout": {
        "barmode": "relative",
        "colorway": [
         "blue"
        ],
        "legend": {
         "tracegroupgap": 0
        },
        "margin": {
         "t": 60
        },
        "template": {
         "data": {
          "bar": [
           {
            "error_x": {
             "color": "#2a3f5f"
            },
            "error_y": {
             "color": "#2a3f5f"
            },
            "marker": {
             "line": {
              "color": "#E5ECF6",
              "width": 0.5
             },
             "pattern": {
              "fillmode": "overlay",
              "size": 10,
              "solidity": 0.2
             }
            },
            "type": "bar"
           }
          ],
          "barpolar": [
           {
            "marker": {
             "line": {
              "color": "#E5ECF6",
              "width": 0.5
             },
             "pattern": {
              "fillmode": "overlay",
              "size": 10,
              "solidity": 0.2
             }
            },
            "type": "barpolar"
           }
          ],
          "carpet": [
           {
            "aaxis": {
             "endlinecolor": "#2a3f5f",
             "gridcolor": "white",
             "linecolor": "white",
             "minorgridcolor": "white",
             "startlinecolor": "#2a3f5f"
            },
            "baxis": {
             "endlinecolor": "#2a3f5f",
             "gridcolor": "white",
             "linecolor": "white",
             "minorgridcolor": "white",
             "startlinecolor": "#2a3f5f"
            },
            "type": "carpet"
           }
          ],
          "choropleth": [
           {
            "colorbar": {
             "outlinewidth": 0,
             "ticks": ""
            },
            "type": "choropleth"
           }
          ],
          "contour": [
           {
            "colorbar": {
             "outlinewidth": 0,
             "ticks": ""
            },
            "colorscale": [
             [
              0,
              "#0d0887"
             ],
             [
              0.1111111111111111,
              "#46039f"
             ],
             [
              0.2222222222222222,
              "#7201a8"
             ],
             [
              0.3333333333333333,
              "#9c179e"
             ],
             [
              0.4444444444444444,
              "#bd3786"
             ],
             [
              0.5555555555555556,
              "#d8576b"
             ],
             [
              0.6666666666666666,
              "#ed7953"
             ],
             [
              0.7777777777777778,
              "#fb9f3a"
             ],
             [
              0.8888888888888888,
              "#fdca26"
             ],
             [
              1,
              "#f0f921"
             ]
            ],
            "type": "contour"
           }
          ],
          "contourcarpet": [
           {
            "colorbar": {
             "outlinewidth": 0,
             "ticks": ""
            },
            "type": "contourcarpet"
           }
          ],
          "heatmap": [
           {
            "colorbar": {
             "outlinewidth": 0,
             "ticks": ""
            },
            "colorscale": [
             [
              0,
              "#0d0887"
             ],
             [
              0.1111111111111111,
              "#46039f"
             ],
             [
              0.2222222222222222,
              "#7201a8"
             ],
             [
              0.3333333333333333,
              "#9c179e"
             ],
             [
              0.4444444444444444,
              "#bd3786"
             ],
             [
              0.5555555555555556,
              "#d8576b"
             ],
             [
              0.6666666666666666,
              "#ed7953"
             ],
             [
              0.7777777777777778,
              "#fb9f3a"
             ],
             [
              0.8888888888888888,
              "#fdca26"
             ],
             [
              1,
              "#f0f921"
             ]
            ],
            "type": "heatmap"
           }
          ],
          "heatmapgl": [
           {
            "colorbar": {
             "outlinewidth": 0,
             "ticks": ""
            },
            "colorscale": [
             [
              0,
              "#0d0887"
             ],
             [
              0.1111111111111111,
              "#46039f"
             ],
             [
              0.2222222222222222,
              "#7201a8"
             ],
             [
              0.3333333333333333,
              "#9c179e"
             ],
             [
              0.4444444444444444,
              "#bd3786"
             ],
             [
              0.5555555555555556,
              "#d8576b"
             ],
             [
              0.6666666666666666,
              "#ed7953"
             ],
             [
              0.7777777777777778,
              "#fb9f3a"
             ],
             [
              0.8888888888888888,
              "#fdca26"
             ],
             [
              1,
              "#f0f921"
             ]
            ],
            "type": "heatmapgl"
           }
          ],
          "histogram": [
           {
            "marker": {
             "pattern": {
              "fillmode": "overlay",
              "size": 10,
              "solidity": 0.2
             }
            },
            "type": "histogram"
           }
          ],
          "histogram2d": [
           {
            "colorbar": {
             "outlinewidth": 0,
             "ticks": ""
            },
            "colorscale": [
             [
              0,
              "#0d0887"
             ],
             [
              0.1111111111111111,
              "#46039f"
             ],
             [
              0.2222222222222222,
              "#7201a8"
             ],
             [
              0.3333333333333333,
              "#9c179e"
             ],
             [
              0.4444444444444444,
              "#bd3786"
             ],
             [
              0.5555555555555556,
              "#d8576b"
             ],
             [
              0.6666666666666666,
              "#ed7953"
             ],
             [
              0.7777777777777778,
              "#fb9f3a"
             ],
             [
              0.8888888888888888,
              "#fdca26"
             ],
             [
              1,
              "#f0f921"
             ]
            ],
            "type": "histogram2d"
           }
          ],
          "histogram2dcontour": [
           {
            "colorbar": {
             "outlinewidth": 0,
             "ticks": ""
            },
            "colorscale": [
             [
              0,
              "#0d0887"
             ],
             [
              0.1111111111111111,
              "#46039f"
             ],
             [
              0.2222222222222222,
              "#7201a8"
             ],
             [
              0.3333333333333333,
              "#9c179e"
             ],
             [
              0.4444444444444444,
              "#bd3786"
             ],
             [
              0.5555555555555556,
              "#d8576b"
             ],
             [
              0.6666666666666666,
              "#ed7953"
             ],
             [
              0.7777777777777778,
              "#fb9f3a"
             ],
             [
              0.8888888888888888,
              "#fdca26"
             ],
             [
              1,
              "#f0f921"
             ]
            ],
            "type": "histogram2dcontour"
           }
          ],
          "mesh3d": [
           {
            "colorbar": {
             "outlinewidth": 0,
             "ticks": ""
            },
            "type": "mesh3d"
           }
          ],
          "parcoords": [
           {
            "line": {
             "colorbar": {
              "outlinewidth": 0,
              "ticks": ""
             }
            },
            "type": "parcoords"
           }
          ],
          "pie": [
           {
            "automargin": true,
            "type": "pie"
           }
          ],
          "scatter": [
           {
            "marker": {
             "colorbar": {
              "outlinewidth": 0,
              "ticks": ""
             }
            },
            "type": "scatter"
           }
          ],
          "scatter3d": [
           {
            "line": {
             "colorbar": {
              "outlinewidth": 0,
              "ticks": ""
             }
            },
            "marker": {
             "colorbar": {
              "outlinewidth": 0,
              "ticks": ""
             }
            },
            "type": "scatter3d"
           }
          ],
          "scattercarpet": [
           {
            "marker": {
             "colorbar": {
              "outlinewidth": 0,
              "ticks": ""
             }
            },
            "type": "scattercarpet"
           }
          ],
          "scattergeo": [
           {
            "marker": {
             "colorbar": {
              "outlinewidth": 0,
              "ticks": ""
             }
            },
            "type": "scattergeo"
           }
          ],
          "scattergl": [
           {
            "marker": {
             "colorbar": {
              "outlinewidth": 0,
              "ticks": ""
             }
            },
            "type": "scattergl"
           }
          ],
          "scattermapbox": [
           {
            "marker": {
             "colorbar": {
              "outlinewidth": 0,
              "ticks": ""
             }
            },
            "type": "scattermapbox"
           }
          ],
          "scatterpolar": [
           {
            "marker": {
             "colorbar": {
              "outlinewidth": 0,
              "ticks": ""
             }
            },
            "type": "scatterpolar"
           }
          ],
          "scatterpolargl": [
           {
            "marker": {
             "colorbar": {
              "outlinewidth": 0,
              "ticks": ""
             }
            },
            "type": "scatterpolargl"
           }
          ],
          "scatterternary": [
           {
            "marker": {
             "colorbar": {
              "outlinewidth": 0,
              "ticks": ""
             }
            },
            "type": "scatterternary"
           }
          ],
          "surface": [
           {
            "colorbar": {
             "outlinewidth": 0,
             "ticks": ""
            },
            "colorscale": [
             [
              0,
              "#0d0887"
             ],
             [
              0.1111111111111111,
              "#46039f"
             ],
             [
              0.2222222222222222,
              "#7201a8"
             ],
             [
              0.3333333333333333,
              "#9c179e"
             ],
             [
              0.4444444444444444,
              "#bd3786"
             ],
             [
              0.5555555555555556,
              "#d8576b"
             ],
             [
              0.6666666666666666,
              "#ed7953"
             ],
             [
              0.7777777777777778,
              "#fb9f3a"
             ],
             [
              0.8888888888888888,
              "#fdca26"
             ],
             [
              1,
              "#f0f921"
             ]
            ],
            "type": "surface"
           }
          ],
          "table": [
           {
            "cells": {
             "fill": {
              "color": "#EBF0F8"
             },
             "line": {
              "color": "white"
             }
            },
            "header": {
             "fill": {
              "color": "#C8D4E3"
             },
             "line": {
              "color": "white"
             }
            },
            "type": "table"
           }
          ]
         },
         "layout": {
          "annotationdefaults": {
           "arrowcolor": "#2a3f5f",
           "arrowhead": 0,
           "arrowwidth": 1
          },
          "autotypenumbers": "strict",
          "coloraxis": {
           "colorbar": {
            "outlinewidth": 0,
            "ticks": ""
           }
          },
          "colorscale": {
           "diverging": [
            [
             0,
             "#8e0152"
            ],
            [
             0.1,
             "#c51b7d"
            ],
            [
             0.2,
             "#de77ae"
            ],
            [
             0.3,
             "#f1b6da"
            ],
            [
             0.4,
             "#fde0ef"
            ],
            [
             0.5,
             "#f7f7f7"
            ],
            [
             0.6,
             "#e6f5d0"
            ],
            [
             0.7,
             "#b8e186"
            ],
            [
             0.8,
             "#7fbc41"
            ],
            [
             0.9,
             "#4d9221"
            ],
            [
             1,
             "#276419"
            ]
           ],
           "sequential": [
            [
             0,
             "#0d0887"
            ],
            [
             0.1111111111111111,
             "#46039f"
            ],
            [
             0.2222222222222222,
             "#7201a8"
            ],
            [
             0.3333333333333333,
             "#9c179e"
            ],
            [
             0.4444444444444444,
             "#bd3786"
            ],
            [
             0.5555555555555556,
             "#d8576b"
            ],
            [
             0.6666666666666666,
             "#ed7953"
            ],
            [
             0.7777777777777778,
             "#fb9f3a"
            ],
            [
             0.8888888888888888,
             "#fdca26"
            ],
            [
             1,
             "#f0f921"
            ]
           ],
           "sequentialminus": [
            [
             0,
             "#0d0887"
            ],
            [
             0.1111111111111111,
             "#46039f"
            ],
            [
             0.2222222222222222,
             "#7201a8"
            ],
            [
             0.3333333333333333,
             "#9c179e"
            ],
            [
             0.4444444444444444,
             "#bd3786"
            ],
            [
             0.5555555555555556,
             "#d8576b"
            ],
            [
             0.6666666666666666,
             "#ed7953"
            ],
            [
             0.7777777777777778,
             "#fb9f3a"
            ],
            [
             0.8888888888888888,
             "#fdca26"
            ],
            [
             1,
             "#f0f921"
            ]
           ]
          },
          "colorway": [
           "#636efa",
           "#EF553B",
           "#00cc96",
           "#ab63fa",
           "#FFA15A",
           "#19d3f3",
           "#FF6692",
           "#B6E880",
           "#FF97FF",
           "#FECB52"
          ],
          "font": {
           "color": "#2a3f5f"
          },
          "geo": {
           "bgcolor": "white",
           "lakecolor": "white",
           "landcolor": "#E5ECF6",
           "showlakes": true,
           "showland": true,
           "subunitcolor": "white"
          },
          "hoverlabel": {
           "align": "left"
          },
          "hovermode": "closest",
          "mapbox": {
           "style": "light"
          },
          "paper_bgcolor": "white",
          "plot_bgcolor": "#E5ECF6",
          "polar": {
           "angularaxis": {
            "gridcolor": "white",
            "linecolor": "white",
            "ticks": ""
           },
           "bgcolor": "#E5ECF6",
           "radialaxis": {
            "gridcolor": "white",
            "linecolor": "white",
            "ticks": ""
           }
          },
          "scene": {
           "xaxis": {
            "backgroundcolor": "#E5ECF6",
            "gridcolor": "white",
            "gridwidth": 2,
            "linecolor": "white",
            "showbackground": true,
            "ticks": "",
            "zerolinecolor": "white"
           },
           "yaxis": {
            "backgroundcolor": "#E5ECF6",
            "gridcolor": "white",
            "gridwidth": 2,
            "linecolor": "white",
            "showbackground": true,
            "ticks": "",
            "zerolinecolor": "white"
           },
           "zaxis": {
            "backgroundcolor": "#E5ECF6",
            "gridcolor": "white",
            "gridwidth": 2,
            "linecolor": "white",
            "showbackground": true,
            "ticks": "",
            "zerolinecolor": "white"
           }
          },
          "shapedefaults": {
           "line": {
            "color": "#2a3f5f"
           }
          },
          "ternary": {
           "aaxis": {
            "gridcolor": "white",
            "linecolor": "white",
            "ticks": ""
           },
           "baxis": {
            "gridcolor": "white",
            "linecolor": "white",
            "ticks": ""
           },
           "bgcolor": "#E5ECF6",
           "caxis": {
            "gridcolor": "white",
            "linecolor": "white",
            "ticks": ""
           }
          },
          "title": {
           "x": 0.05
          },
          "xaxis": {
           "automargin": true,
           "gridcolor": "white",
           "linecolor": "white",
           "ticks": "",
           "title": {
            "standoff": 15
           },
           "zerolinecolor": "white",
           "zerolinewidth": 2
          },
          "yaxis": {
           "automargin": true,
           "gridcolor": "white",
           "linecolor": "white",
           "ticks": "",
           "title": {
            "standoff": 15
           },
           "zerolinecolor": "white",
           "zerolinewidth": 2
          }
         }
        },
        "title": {
         "text": "Top 20 Strong Relationships Between Feature Columns and Target Column"
        },
        "xaxis": {
         "anchor": "y",
         "domain": [
          0,
          1
         ],
         "title": {
          "text": "Relationship with Target"
         }
        },
        "yaxis": {
         "anchor": "x",
         "categoryorder": "total ascending",
         "domain": [
          0,
          1
         ],
         "title": {
          "text": "Feature Columns"
         }
        }
       }
      }
     },
     "metadata": {},
     "output_type": "display_data"
    }
   ],
   "source": [
    "import plotly.figure_factory as ff\n",
    "import plotly.express as px\n",
    "\n",
    "top = 20\n",
    "fig = px.bar(mi_scores, x=mi_scores.values[:top], y=mi_scores.index[:top])\n",
    "fig.update_layout(\n",
    "    title=f\"Top {top} Strong Relationships Between Feature Columns and Target Column\",\n",
    "    xaxis_title=\"Relationship with Target\",\n",
    "    yaxis_title=\"Feature Columns\",\n",
    "    yaxis={'categoryorder':'total ascending'},\n",
    "    colorway=[\"blue\"]\n",
    ")\n",
    "fig.show()"
   ]
  },
  {
   "cell_type": "code",
   "execution_count": 88,
   "metadata": {},
   "outputs": [
    {
     "name": "stderr",
     "output_type": "stream",
     "text": [
      "ic| len(feature_cols): 318\n"
     ]
    }
   ],
   "source": [
    "ic(len(feature_cols));"
   ]
  },
  {
   "cell_type": "markdown",
   "metadata": {},
   "source": [
    "# Train Model"
   ]
  },
  {
   "cell_type": "code",
   "execution_count": 89,
   "metadata": {},
   "outputs": [
    {
     "data": {
      "text/plain": [
       "2498"
      ]
     },
     "execution_count": 89,
     "metadata": {},
     "output_type": "execute_result"
    }
   ],
   "source": [
    "# Clear memory\n",
    "import gc\n",
    "gc.collect()"
   ]
  },
  {
   "cell_type": "markdown",
   "metadata": {},
   "source": [
    "## Functions"
   ]
  },
  {
   "cell_type": "code",
   "execution_count": 90,
   "metadata": {},
   "outputs": [],
   "source": [
    "# TODO: New approach for evaluation metrics (not fully implemented yet)\n",
    "\n",
    "from sklearn.metrics import roc_auc_score\n",
    "from sklearn.metrics import mean_squared_error\n",
    "from sklearn.metrics import mean_absolute_error\n",
    "from sklearn.metrics import roc_auc_score\n",
    "from sklearn.metrics import r2_score\n",
    "\n",
    "def evaluation_metrics(actual, pred):\n",
    "    rmse = np.sqrt(mean_squared_error(actual, pred))\n",
    "    mae = mean_absolute_error(actual, pred)\n",
    "    r2 = r2_score(actual, pred)\n",
    "\n",
    "    print(\"RMSE: %s\" % rmse)\n",
    "    print(\"MAE: %s\" % mae)\n",
    "    print(\"R2: %s\" % r2)\n",
    "\n",
    "    return rmse, mae, r2"
   ]
  },
  {
   "cell_type": "markdown",
   "metadata": {},
   "source": [
    "## Creating Kfolds"
   ]
  },
  {
   "cell_type": "code",
   "execution_count": 91,
   "metadata": {},
   "outputs": [],
   "source": [
    "from sklearn.model_selection import StratifiedKFold\n",
    "\n",
    "folds = 5\n",
    "train[\"kfold\"] = -1\n",
    "kf = StratifiedKFold(n_splits=folds, shuffle=True, random_state=rnd_state)\n",
    "\n",
    "# Adding folds to dataset\n",
    "for fold, (train_indicies, valid_indicies) in enumerate(kf.split(train,train[\"target\"])):\n",
    "    train.loc[valid_indicies, \"kfold\"] = fold"
   ]
  },
  {
   "cell_type": "code",
   "execution_count": 92,
   "metadata": {},
   "outputs": [
    {
     "data": {
      "text/plain": [
       "3    200000\n",
       "2    200000\n",
       "4    200000\n",
       "0    200000\n",
       "1    200000\n",
       "Name: kfold, dtype: int64"
      ]
     },
     "execution_count": 92,
     "metadata": {},
     "output_type": "execute_result"
    }
   ],
   "source": [
    "train['kfold'].value_counts()"
   ]
  },
  {
   "cell_type": "markdown",
   "metadata": {},
   "source": [
    "## Baseline Model"
   ]
  },
  {
   "cell_type": "code",
   "execution_count": 93,
   "metadata": {},
   "outputs": [
    {
     "name": "stdout",
     "output_type": "stream",
     "text": [
      "--\n",
      "run_id: 5121f4ce57374a46b5a95235f95d80d2; status: RUNNING\n",
      "\n"
     ]
    }
   ],
   "source": [
    "print(\"--\")\n",
    "# mlflow.autolog()\n",
    "# mlflow.xgboost.autolog()\n",
    "mlflow.start_run()\n",
    "run = mlflow.active_run()\n",
    "\n",
    "# Log text to a file under the run's root artifact directory\n",
    "mlflow.log_text(\"Test\", \"comments.txt\")\n",
    "\n",
    "# Print run id\n",
    "print(\"run_id: {}; status: {}\\n\".format(run.info.run_id, run.info.status))"
   ]
  },
  {
   "cell_type": "code",
   "execution_count": 94,
   "metadata": {},
   "outputs": [
    {
     "name": "stdout",
     "output_type": "stream",
     "text": [
      "Fold 0 , train: 0.869683 , valid: 0.858583\n",
      "Fold 1 , train: 0.870319 , valid: 0.855754\n",
      "Fold 2 , train: 0.869954 , valid: 0.857577\n",
      "Fold 3 , train: 0.870421 , valid: 0.856007\n",
      "Fold 4 , train: 0.870162 , valid: 0.856647\n",
      "AVG AUC: 0.8569138102302041\n"
     ]
    }
   ],
   "source": [
    "from xgboost import XGBClassifier\n",
    "from sklearn.metrics import roc_auc_score\n",
    "import time\n",
    "\n",
    "final_test_predictions = []\n",
    "scores = []\n",
    "\n",
    "for fold in range(folds):\n",
    "    x_train = train[train.kfold != fold]  # .copy()\n",
    "    x_valid = train[train.kfold == fold]  # .copy()\n",
    "    x_test = test[feature_cols]  # .copy()\n",
    "\n",
    "    y_train = x_train[\"target\"]\n",
    "    y_valid = x_valid[\"target\"]\n",
    "\n",
    "    x_train = x_train[feature_cols]\n",
    "    x_valid = x_valid[feature_cols]\n",
    "\n",
    "    params = {\n",
    "        \"eval_metric\": \"auc\",\n",
    "        \"objective\": \"binary:logistic\",\n",
    "        \"tree_method\": \"gpu_hist\",\n",
    "        \"gpu_id\": 0,\n",
    "        # \"n_jobs\": n_cpu,\n",
    "        \"predictor\": \"gpu_predictor\",\n",
    "        \"n_estimators\": 10000,\n",
    "        \"learning_rate\": 0.01063045229441343,\n",
    "        \"gamma\": 0.24652519525750877,\n",
    "        \"max_depth\": 4,\n",
    "        \"seed\": rnd_state,\n",
    "        \"min_child_weight\": 366,\n",
    "        \"subsample\": 0.6423040816299684,\n",
    "        \"colsample_bytree\": 0.7751264493218339,\n",
    "        \"colsample_bylevel\": 0.8675692743597421,\n",
    "        \"use_label_encoder\": False,\n",
    "        \"lambda\": 0,\n",
    "        \"alpha\": 10,\n",
    "    }\n",
    "\n",
    "    model = XGBClassifier(**params)\n",
    "    model.fit(x_train, y_train, eval_set=[(x_valid, y_valid)], verbose=False)\n",
    "\n",
    "    preds_train = model.predict_proba(x_train)[:, 1]\n",
    "    preds_valid = model.predict_proba(x_valid)[:, 1]\n",
    "    auc_train = roc_auc_score(y_train, preds_train)\n",
    "    auc_valid = roc_auc_score(y_valid, preds_valid)\n",
    "    scores.append(auc_valid)\n",
    "\n",
    "    preds_test = model.predict_proba(x_test)[:, 1]\n",
    "    final_test_predictions.append(preds_test)\n",
    "\n",
    "    print(\"Fold\", fold, \", train:\", f\"{auc_train:.6f}\", \", valid:\", f\"{auc_valid:.6f}\", \" AVG AUC:\", np.mean(scores))\n",
    "\n",
    "print(\"AVG AUC:\", np.mean(scores))\n"
   ]
  },
  {
   "cell_type": "code",
   "execution_count": 95,
   "metadata": {},
   "outputs": [
    {
     "name": "stdout",
     "output_type": "stream",
     "text": [
      "Store type: file\n"
     ]
    }
   ],
   "source": [
    "# MLFlow: Get metrics\n",
    "# TODO: Test mlflow.autolog()\n",
    "mlflow.log_params(params)\n",
    "# mlflow.log_metric(\"rmse\", rmse)\n",
    "# mlflow.log_metric(\"r2\", r2)\n",
    "# mlflow.log_metric(\"mae\", mae)\n",
    "mlflow.log_metric(\"AVG AUC\", np.mean(scores))\n",
    "\n",
    "# Save feature list for mlflow\n",
    "# features =\", \".join(str(elem) for elem in feature_cols)\n",
    "features = str(feature_cols)\n",
    "\n",
    "with open(\"features.txt\", \"w\") as f:\n",
    "    f.write(features)\n",
    "\n",
    "mlflow.log_artifact(\"features.txt\", artifact_path=\"features\")\n",
    "\n",
    "\"\"\"\n",
    "tracking_url_type_store = urlparse(mlflow.get_tracking_uri()).scheme\n",
    "\n",
    "# Register Experiment\n",
    "if tracking_url_type_store != \"file\":\n",
    "    # Register the model\n",
    "    # There are other ways to use the Model Registry, which depends on the use case,\n",
    "    # please refer to the doc for more information:\n",
    "    # https://mlflow.org/docs/latest/model-registry.html#api-workflow\n",
    "    \n",
    "    mlflow.xgboost.log_model(\n",
    "        xgb_model=model,\n",
    "        artifact_path=\"xgboost-model\",\n",
    "        registered_model_name=\"XGBClassifier\",\n",
    "    )\n",
    "\n",
    "else:\n",
    "    print('Store type: file')\n",
    "    mlflow.xgboost.log_model(model, \"model\")\n",
    "\"\"\"\n",
    "\n",
    "print(\"Store type: file\")\n",
    "mlflow.xgboost.log_model(model, \"model\")\n"
   ]
  },
  {
   "cell_type": "code",
   "execution_count": 96,
   "metadata": {},
   "outputs": [
    {
     "name": "stdout",
     "output_type": "stream",
     "text": [
      "run_id: 5121f4ce57374a46b5a95235f95d80d2; status: RUNNING\n",
      "--\n",
      "Active run: None\n"
     ]
    }
   ],
   "source": [
    "# End run and get status\n",
    "mlflow.end_run()\n",
    "\n",
    "print(\"run_id: {}; status: {}\".format(run.info.run_id, run.info.status))\n",
    "print(\"--\")\n",
    "\n",
    "# Check for any active runs\n",
    "print(\"Active run: {}\".format(mlflow.active_run()))"
   ]
  },
  {
   "cell_type": "markdown",
   "metadata": {},
   "source": [
    "##  Submit Baseline Results"
   ]
  },
  {
   "cell_type": "markdown",
   "metadata": {},
   "source": [
    "- 2021-10-20_submission_kmean-pca-fs17-xbg-nop.csv: 0.8569970265985022 | **0.85626**\n",
    "- 2021-10-20_submission_kmean-3pca-fs17-xbg-nop.csv: 0.8568950821125828 | 0.85619\n",
    "- 2021-10-20_submission_kmean-ALLpca-fs13-xbg-nop.csv: 0.8567778822323093 | not submitted\n",
    "- 2021-10-20_submission_13fs-kmean-2pca-4nf-xbg-nop.csv: 0.8568443738048714 | not submitted\n",
    "- 2021-10-20_submission_49fs-kmean-2pca-4nf-xbg-nop.csv: 0.8567888578426363 | 0.85599\n",
    "- 2021-10-20_submission_13fs-kmean-1pca-4nf-poly-xbg-nop.csv: 0.8568639280432698 | 0.85615\n",
    "- 2021-10-25_submission_f64d06226bb94f2fb2b33350b7a40692.csv: 0.8566269081302578 | 0.85600\n",
    "- 2021-10-26_submission_e4bb062717c147ee84b6c5367c25d019.csv: 0.8543231035426082 | 0.85343\n",
    "- 2021-10-26_submission_2eebfcd694b246da9f6f22da55753bf8.csv: 0.8567097047281612 | 0.85596\n",
    "- 2021-10-26_submission_5121f4ce57374a46b5a95235f95d80d2.csv: 0.8569138102302041 | 0.85615"
   ]
  },
  {
   "cell_type": "code",
   "execution_count": 97,
   "metadata": {},
   "outputs": [
    {
     "name": "stdout",
     "output_type": "stream",
     "text": [
      "2021-10-26_submission_5121f4ce57374a46b5a95235f95d80d2.csv\n"
     ]
    }
   ],
   "source": [
    "import numpy as np\n",
    "from datetime import datetime\n",
    "\n",
    "# datetime object containing current date and time\n",
    "now = datetime.now()\n",
    "now = now.strftime(\"%Y-%m-%d\")\n",
    "\n",
    "objective = str(run.info.run_id)\n",
    "\n",
    "curr_submission_fn = f\"{now}_submission_{objective}.csv\"\n",
    "\n",
    "sample_df['target'] = np.mean(np.column_stack(final_test_predictions), axis=1)\n",
    "sample_df.to_csv(PATH_SUB + curr_submission_fn, index=False)\n",
    "\n",
    "print(curr_submission_fn)\n"
   ]
  },
  {
   "cell_type": "code",
   "execution_count": 101,
   "metadata": {},
   "outputs": [
    {
     "name": "stdout",
     "output_type": "stream",
     "text": [
      "Successfully submitted to Tabular Playground Series - Oct 2021\n"
     ]
    },
    {
     "name": "stderr",
     "output_type": "stream",
     "text": [
      "\n",
      "  0%|          | 0.00/9.36M [00:00<?, ?B/s]\n",
      "  0%|          | 8.00k/9.36M [00:00<08:07, 20.1kB/s]\n",
      "  1%|          | 88.0k/9.36M [00:00<00:44, 216kB/s] \n",
      "  2%|▏         | 192k/9.36M [00:00<00:22, 431kB/s] \n",
      "  3%|▎         | 264k/9.36M [00:01<00:39, 244kB/s]\n",
      "  3%|▎         | 312k/9.36M [00:01<00:37, 256kB/s]\n",
      "  4%|▍         | 360k/9.36M [00:01<00:32, 292kB/s]\n",
      "  4%|▍         | 408k/9.36M [00:01<00:30, 308kB/s]\n",
      "  5%|▍         | 448k/9.36M [00:01<00:29, 316kB/s]\n",
      "  5%|▌         | 488k/9.36M [00:01<00:28, 331kB/s]\n",
      "  6%|▌         | 528k/9.36M [00:01<00:26, 344kB/s]\n",
      "  6%|▌         | 568k/9.36M [00:02<00:26, 343kB/s]\n",
      "  6%|▋         | 608k/9.36M [00:02<00:26, 341kB/s]\n",
      "  7%|▋         | 648k/9.36M [00:02<00:25, 353kB/s]\n",
      "  7%|▋         | 688k/9.36M [00:02<00:25, 361kB/s]\n",
      "  8%|▊         | 728k/9.36M [00:02<00:24, 367kB/s]\n",
      "  8%|▊         | 768k/9.36M [00:02<00:25, 359kB/s]\n",
      "  8%|▊         | 808k/9.36M [00:02<00:25, 353kB/s]\n",
      "  9%|▉         | 848k/9.36M [00:02<00:26, 335kB/s]\n",
      "  9%|▉         | 888k/9.36M [00:03<00:54, 164kB/s]\n",
      " 10%|▉         | 944k/9.36M [00:03<00:39, 222kB/s]\n",
      " 10%|█         | 984k/9.36M [00:03<00:35, 245kB/s]\n",
      " 11%|█         | 1.00M/9.36M [00:03<00:32, 273kB/s]\n",
      " 11%|█         | 1.04M/9.36M [00:03<00:29, 298kB/s]\n",
      " 12%|█▏        | 1.08M/9.36M [00:03<00:28, 309kB/s]\n",
      " 12%|█▏        | 1.12M/9.36M [00:04<00:26, 328kB/s]\n",
      " 12%|█▏        | 1.16M/9.36M [00:04<00:26, 330kB/s]\n",
      " 13%|█▎        | 1.20M/9.36M [00:04<00:24, 345kB/s]\n",
      " 13%|█▎        | 1.23M/9.36M [00:04<00:26, 319kB/s]\n",
      " 14%|█▎        | 1.27M/9.36M [00:04<00:25, 334kB/s]\n",
      " 14%|█▍        | 1.31M/9.36M [00:04<00:24, 338kB/s]\n",
      " 14%|█▍        | 1.35M/9.36M [00:04<00:25, 326kB/s]\n",
      " 15%|█▍        | 1.40M/9.36M [00:04<00:23, 348kB/s]\n",
      " 15%|█▌        | 1.44M/9.36M [00:05<00:23, 359kB/s]\n",
      " 16%|█▌        | 1.48M/9.36M [00:05<00:25, 328kB/s]\n",
      " 16%|█▋        | 1.52M/9.36M [00:05<00:22, 364kB/s]\n",
      " 17%|█▋        | 1.56M/9.36M [00:05<00:22, 356kB/s]\n",
      " 17%|█▋        | 1.60M/9.36M [00:05<00:23, 351kB/s]\n",
      " 18%|█▊        | 1.64M/9.36M [00:05<00:22, 361kB/s]\n",
      " 18%|█▊        | 1.68M/9.36M [00:05<00:21, 368kB/s]\n",
      " 18%|█▊        | 1.72M/9.36M [00:05<00:23, 344kB/s]\n",
      " 19%|█▉        | 1.76M/9.36M [00:05<00:24, 331kB/s]\n",
      " 19%|█▉        | 1.80M/9.36M [00:06<00:23, 345kB/s]\n",
      " 20%|█▉        | 1.84M/9.36M [00:06<00:23, 341kB/s]\n",
      " 20%|██        | 1.88M/9.36M [00:06<00:22, 354kB/s]\n",
      " 20%|██        | 1.91M/9.36M [00:06<00:22, 348kB/s]\n",
      " 21%|██        | 1.95M/9.36M [00:06<00:22, 345kB/s]\n",
      " 21%|██▏       | 2.00M/9.36M [00:06<00:21, 363kB/s]\n",
      " 22%|██▏       | 2.04M/9.36M [00:06<00:21, 355kB/s]\n",
      " 22%|██▏       | 2.08M/9.36M [00:06<00:21, 351kB/s]\n",
      " 23%|██▎       | 2.12M/9.36M [00:07<00:21, 353kB/s]\n",
      " 23%|██▎       | 2.17M/9.36M [00:07<00:20, 369kB/s]\n",
      " 24%|██▎       | 2.21M/9.36M [00:07<00:20, 359kB/s]\n",
      " 24%|██▍       | 2.25M/9.36M [00:07<00:20, 366kB/s]\n",
      " 24%|██▍       | 2.29M/9.36M [00:07<00:23, 319kB/s]\n",
      " 25%|██▌       | 2.35M/9.36M [00:07<00:19, 381kB/s]\n",
      " 26%|██▌       | 2.39M/9.36M [00:07<00:19, 369kB/s]\n",
      " 26%|██▌       | 2.43M/9.36M [00:07<00:20, 360kB/s]\n",
      " 26%|██▋       | 2.47M/9.36M [00:08<00:19, 367kB/s]\n",
      " 27%|██▋       | 2.51M/9.36M [00:08<00:20, 358kB/s]\n",
      " 27%|██▋       | 2.55M/9.36M [00:08<00:22, 317kB/s]\n",
      " 28%|██▊       | 2.59M/9.36M [00:08<00:20, 354kB/s]\n",
      " 28%|██▊       | 2.63M/9.36M [00:08<00:20, 349kB/s]\n",
      " 29%|██▊       | 2.68M/9.36M [00:08<00:19, 366kB/s]\n",
      " 29%|██▉       | 2.72M/9.36M [00:08<00:18, 372kB/s]\n",
      " 29%|██▉       | 2.76M/9.36M [00:08<00:18, 375kB/s]\n",
      " 30%|██▉       | 2.80M/9.36M [00:09<00:18, 379kB/s]\n",
      " 30%|███       | 2.84M/9.36M [00:09<00:17, 386kB/s]\n",
      " 31%|███       | 2.88M/9.36M [00:09<00:17, 386kB/s]\n",
      " 31%|███       | 2.92M/9.36M [00:09<00:17, 384kB/s]\n",
      " 32%|███▏      | 2.96M/9.36M [00:09<00:17, 382kB/s]\n",
      " 32%|███▏      | 3.00M/9.36M [00:09<00:17, 371kB/s]\n",
      " 32%|███▏      | 3.04M/9.36M [00:09<00:18, 361kB/s]\n",
      " 33%|███▎      | 3.08M/9.36M [00:09<00:18, 354kB/s]\n",
      " 33%|███▎      | 3.12M/9.36M [00:09<00:17, 383kB/s]\n",
      " 34%|███▍      | 3.16M/9.36M [00:10<00:17, 377kB/s]\n",
      " 34%|███▍      | 3.20M/9.36M [00:10<00:17, 373kB/s]\n",
      " 35%|███▍      | 3.24M/9.36M [00:10<00:17, 373kB/s]\n",
      " 35%|███▌      | 3.28M/9.36M [00:10<00:17, 365kB/s]\n",
      " 35%|███▌      | 3.32M/9.36M [00:10<00:17, 370kB/s]\n",
      " 36%|███▌      | 3.36M/9.36M [00:10<00:16, 374kB/s]\n",
      " 36%|███▋      | 3.40M/9.36M [00:10<00:16, 374kB/s]\n",
      " 37%|███▋      | 3.44M/9.36M [00:10<00:16, 375kB/s]\n",
      " 37%|███▋      | 3.48M/9.36M [00:10<00:17, 352kB/s]\n",
      " 38%|███▊      | 3.52M/9.36M [00:11<00:16, 362kB/s]\n",
      " 38%|███▊      | 3.55M/9.36M [00:11<00:16, 370kB/s]\n",
      " 38%|███▊      | 3.59M/9.36M [00:11<00:16, 358kB/s]\n",
      " 39%|███▉      | 3.63M/9.36M [00:11<00:16, 366kB/s]\n",
      " 39%|███▉      | 3.67M/9.36M [00:11<00:16, 371kB/s]\n",
      " 40%|███▉      | 3.71M/9.36M [00:11<00:15, 372kB/s]\n",
      " 40%|████      | 3.75M/9.36M [00:11<00:15, 375kB/s]\n",
      " 40%|████      | 3.79M/9.36M [00:11<00:15, 368kB/s]\n",
      " 41%|████      | 3.83M/9.36M [00:11<00:15, 368kB/s]\n",
      " 41%|████▏     | 3.87M/9.36M [00:12<00:15, 363kB/s]\n",
      " 42%|████▏     | 3.91M/9.36M [00:12<00:15, 362kB/s]\n",
      " 42%|████▏     | 3.95M/9.36M [00:12<00:15, 363kB/s]\n",
      " 43%|████▎     | 3.98M/9.36M [00:12<00:15, 357kB/s]\n",
      " 43%|████▎     | 4.02M/9.36M [00:12<00:15, 364kB/s]\n",
      " 43%|████▎     | 4.06M/9.36M [00:12<00:15, 356kB/s]\n",
      " 44%|████▍     | 4.10M/9.36M [00:12<00:15, 350kB/s]\n",
      " 44%|████▍     | 4.14M/9.36M [00:12<00:15, 347kB/s]\n",
      " 45%|████▍     | 4.18M/9.36M [00:12<00:15, 357kB/s]\n",
      " 45%|████▌     | 4.23M/9.36M [00:13<00:14, 378kB/s]\n",
      " 46%|████▌     | 4.27M/9.36M [00:13<00:18, 295kB/s]\n",
      " 46%|████▋     | 4.33M/9.36M [00:13<00:14, 369kB/s]\n",
      " 47%|████▋     | 4.37M/9.36M [00:13<00:14, 360kB/s]\n",
      " 47%|████▋     | 4.41M/9.36M [00:13<00:14, 367kB/s]\n",
      " 48%|████▊     | 4.45M/9.36M [00:13<00:14, 349kB/s]\n",
      " 48%|████▊     | 4.48M/9.36M [00:13<00:14, 361kB/s]\n",
      " 48%|████▊     | 4.52M/9.36M [00:14<00:16, 299kB/s]\n",
      " 49%|████▊     | 4.55M/9.36M [00:14<00:20, 249kB/s]\n",
      " 49%|████▉     | 4.62M/9.36M [00:14<00:14, 349kB/s]\n",
      " 50%|████▉     | 4.66M/9.36M [00:14<00:14, 346kB/s]\n",
      " 50%|█████     | 4.70M/9.36M [00:14<00:13, 355kB/s]\n",
      " 51%|█████     | 4.74M/9.36M [00:14<00:13, 350kB/s]\n",
      " 51%|█████     | 4.79M/9.36M [00:14<00:13, 365kB/s]\n",
      " 52%|█████▏    | 4.83M/9.36M [00:14<00:13, 365kB/s]\n",
      " 52%|█████▏    | 4.87M/9.36M [00:15<00:13, 338kB/s]\n",
      " 53%|█████▎    | 4.91M/9.36M [00:15<00:13, 357kB/s]\n",
      " 53%|█████▎    | 4.95M/9.36M [00:15<00:13, 352kB/s]\n",
      " 53%|█████▎    | 4.99M/9.36M [00:15<00:12, 360kB/s]\n",
      " 54%|█████▍    | 5.03M/9.36M [00:15<00:12, 373kB/s]\n",
      " 54%|█████▍    | 5.07M/9.36M [00:15<00:12, 361kB/s]\n",
      " 55%|█████▍    | 5.11M/9.36M [00:15<00:12, 361kB/s]\n",
      " 55%|█████▌    | 5.15M/9.36M [00:15<00:12, 367kB/s]\n",
      " 55%|█████▌    | 5.19M/9.36M [00:16<00:11, 371kB/s]\n",
      " 56%|█████▌    | 5.23M/9.36M [00:16<00:12, 360kB/s]\n",
      " 56%|█████▋    | 5.27M/9.36M [00:16<00:11, 370kB/s]\n",
      " 57%|█████▋    | 5.30M/9.36M [00:16<00:11, 357kB/s]\n",
      " 57%|█████▋    | 5.34M/9.36M [00:16<00:11, 351kB/s]\n",
      " 58%|█████▊    | 5.39M/9.36M [00:16<00:11, 365kB/s]\n",
      " 58%|█████▊    | 5.43M/9.36M [00:16<00:11, 371kB/s]\n",
      " 58%|█████▊    | 5.47M/9.36M [00:16<00:11, 364kB/s]\n",
      " 59%|█████▉    | 5.51M/9.36M [00:16<00:11, 362kB/s]\n",
      " 59%|█████▉    | 5.55M/9.36M [00:17<00:12, 332kB/s]\n",
      " 60%|█████▉    | 5.59M/9.36M [00:17<00:11, 350kB/s]\n",
      " 60%|██████    | 5.63M/9.36M [00:17<00:11, 339kB/s]\n",
      " 61%|██████    | 5.68M/9.36M [00:17<00:10, 357kB/s]\n",
      " 61%|██████    | 5.72M/9.36M [00:17<00:10, 367kB/s]\n",
      " 62%|██████▏   | 5.76M/9.36M [00:17<00:10, 358kB/s]\n",
      " 62%|██████▏   | 5.80M/9.36M [00:17<00:10, 368kB/s]\n",
      " 62%|██████▏   | 5.84M/9.36M [00:17<00:10, 365kB/s]\n",
      " 63%|██████▎   | 5.88M/9.36M [00:18<00:10, 360kB/s]\n",
      " 63%|██████▎   | 5.91M/9.36M [00:18<00:09, 372kB/s]\n",
      " 64%|██████▎   | 5.95M/9.36M [00:18<00:10, 357kB/s]\n",
      " 64%|██████▍   | 5.99M/9.36M [00:18<00:09, 365kB/s]\n",
      " 64%|██████▍   | 6.03M/9.36M [00:18<00:09, 356kB/s]\n",
      " 65%|██████▍   | 6.08M/9.36M [00:18<00:08, 386kB/s]\n",
      " 65%|██████▌   | 6.12M/9.36M [00:18<00:09, 376kB/s]\n",
      " 66%|██████▌   | 6.16M/9.36M [00:18<00:08, 374kB/s]\n",
      " 66%|██████▌   | 6.20M/9.36M [00:18<00:08, 375kB/s]\n",
      " 67%|██████▋   | 6.23M/9.36M [00:19<00:09, 363kB/s]\n",
      " 67%|██████▋   | 6.27M/9.36M [00:19<00:08, 375kB/s]\n",
      " 67%|██████▋   | 6.31M/9.36M [00:19<00:08, 373kB/s]\n",
      " 68%|██████▊   | 6.35M/9.36M [00:19<00:08, 367kB/s]\n",
      " 68%|██████▊   | 6.39M/9.36M [00:19<00:08, 370kB/s]\n",
      " 69%|██████▊   | 6.43M/9.36M [00:19<00:08, 373kB/s]\n",
      " 69%|██████▉   | 6.47M/9.36M [00:19<00:08, 369kB/s]\n",
      " 70%|██████▉   | 6.51M/9.36M [00:19<00:07, 376kB/s]\n",
      " 70%|██████▉   | 6.55M/9.36M [00:19<00:07, 371kB/s]\n",
      " 70%|███████   | 6.59M/9.36M [00:20<00:07, 364kB/s]\n",
      " 71%|███████   | 6.62M/9.36M [00:20<00:08, 357kB/s]\n",
      " 71%|███████   | 6.66M/9.36M [00:20<00:07, 366kB/s]\n",
      " 72%|███████▏  | 6.70M/9.36M [00:20<00:07, 371kB/s]\n",
      " 72%|███████▏  | 6.74M/9.36M [00:20<00:07, 372kB/s]\n",
      " 72%|███████▏  | 6.78M/9.36M [00:20<00:07, 376kB/s]\n",
      " 73%|███████▎  | 6.82M/9.36M [00:20<00:07, 364kB/s]\n",
      " 73%|███████▎  | 6.86M/9.36M [00:20<00:07, 355kB/s]\n",
      " 74%|███████▎  | 6.90M/9.36M [00:20<00:07, 351kB/s]\n",
      " 74%|███████▍  | 6.95M/9.36M [00:21<00:06, 366kB/s]\n",
      " 75%|███████▍  | 6.98M/9.36M [00:21<00:07, 344kB/s]\n",
      " 75%|███████▌  | 7.02M/9.36M [00:21<00:06, 356kB/s]\n",
      " 75%|███████▌  | 7.06M/9.36M [00:21<00:06, 363kB/s]\n",
      " 76%|███████▌  | 7.11M/9.36M [00:21<00:06, 376kB/s]\n",
      " 76%|███████▋  | 7.15M/9.36M [00:21<00:06, 351kB/s]\n",
      " 77%|███████▋  | 7.20M/9.36M [00:21<00:06, 372kB/s]\n",
      " 77%|███████▋  | 7.23M/9.36M [00:21<00:06, 366kB/s]\n",
      " 78%|███████▊  | 7.27M/9.36M [00:22<00:05, 368kB/s]\n",
      " 78%|███████▊  | 7.31M/9.36M [00:22<00:06, 352kB/s]\n",
      " 79%|███████▊  | 7.36M/9.36M [00:22<00:05, 367kB/s]\n",
      " 79%|███████▉  | 7.40M/9.36M [00:22<00:05, 359kB/s]\n",
      " 79%|███████▉  | 7.44M/9.36M [00:22<00:05, 372kB/s]\n",
      " 80%|███████▉  | 7.48M/9.36M [00:22<00:05, 367kB/s]\n",
      " 80%|████████  | 7.52M/9.36M [00:22<00:05, 377kB/s]\n",
      " 81%|████████  | 7.55M/9.36M [00:22<00:05, 374kB/s]\n",
      " 81%|████████  | 7.59M/9.36M [00:22<00:05, 342kB/s]\n",
      " 82%|████████▏ | 7.64M/9.36M [00:23<00:04, 375kB/s]\n",
      " 82%|████████▏ | 7.68M/9.36M [00:23<00:04, 377kB/s]\n",
      " 82%|████████▏ | 7.72M/9.36M [00:23<00:04, 378kB/s]\n",
      " 83%|████████▎ | 7.76M/9.36M [00:23<00:04, 363kB/s]\n",
      " 83%|████████▎ | 7.80M/9.36M [00:23<00:04, 368kB/s]\n",
      " 84%|████████▎ | 7.84M/9.36M [00:23<00:04, 377kB/s]\n",
      " 85%|████████▌ | 7.99M/9.36M [00:23<00:02, 706kB/s]\n",
      " 86%|████████▌ | 8.06M/9.36M [00:23<00:02, 589kB/s]\n",
      " 87%|████████▋ | 8.12M/9.36M [00:24<00:02, 505kB/s]\n",
      " 87%|████████▋ | 8.18M/9.36M [00:24<00:02, 443kB/s]\n",
      " 88%|████████▊ | 8.23M/9.36M [00:24<00:02, 445kB/s]\n",
      " 88%|████████▊ | 8.27M/9.36M [00:25<00:05, 195kB/s]\n",
      " 91%|█████████ | 8.48M/9.36M [00:25<00:02, 443kB/s]\n",
      " 92%|█████████▏| 8.57M/9.36M [00:25<00:01, 419kB/s]\n",
      " 92%|█████████▏| 8.64M/9.36M [00:25<00:02, 305kB/s]\n",
      " 94%|█████████▎| 8.77M/9.36M [00:25<00:01, 422kB/s]\n",
      " 95%|█████████▍| 8.84M/9.36M [00:26<00:01, 405kB/s]\n",
      " 95%|█████████▌| 8.91M/9.36M [00:26<00:01, 391kB/s]\n",
      " 96%|█████████▌| 8.96M/9.36M [00:26<00:01, 383kB/s]\n",
      " 96%|█████████▋| 9.01M/9.36M [00:26<00:00, 380kB/s]\n",
      " 97%|█████████▋| 9.05M/9.36M [00:26<00:00, 373kB/s]\n",
      " 97%|█████████▋| 9.10M/9.36M [00:26<00:00, 381kB/s]\n",
      " 98%|█████████▊| 9.15M/9.36M [00:27<00:00, 372kB/s]\n",
      " 98%|█████████▊| 9.19M/9.36M [00:27<00:00, 379kB/s]\n",
      " 99%|█████████▊| 9.23M/9.36M [00:27<00:00, 366kB/s]\n",
      " 99%|█████████▉| 9.27M/9.36M [00:27<00:00, 366kB/s]\n",
      " 99%|█████████▉| 9.30M/9.36M [00:27<00:00, 371kB/s]\n",
      "100%|█████████▉| 9.34M/9.36M [00:27<00:00, 366kB/s]\n",
      "100%|██████████| 9.36M/9.36M [00:29<00:00, 334kB/s]\n"
     ]
    }
   ],
   "source": [
    "!kaggle competitions submit tabular-playground-series-oct-2021 -f {PATH_SUB+curr_submission_fn} -m {curr_submission_fn}"
   ]
  },
  {
   "cell_type": "markdown",
   "metadata": {},
   "source": [
    "## Optimize Hyperparameter\n"
   ]
  },
  {
   "cell_type": "code",
   "execution_count": 118,
   "metadata": {},
   "outputs": [
    {
     "data": {
      "text/plain": [
       "465"
      ]
     },
     "execution_count": 118,
     "metadata": {},
     "output_type": "execute_result"
    }
   ],
   "source": [
    "# Clear memory\n",
    "import gc\n",
    "gc.collect()"
   ]
  },
  {
   "cell_type": "code",
   "execution_count": 119,
   "metadata": {},
   "outputs": [],
   "source": [
    "import time\n",
    "import optuna\n",
    "from optuna.samplers import TPESampler\n",
    "from catboost.utils import eval_metric\n",
    "from catboost import CatBoostClassifier\n",
    "from sklearn.metrics import roc_auc_score"
   ]
  },
  {
   "cell_type": "code",
   "execution_count": 120,
   "metadata": {},
   "outputs": [],
   "source": [
    "def objective(trial):\n",
    "    time.sleep(2)\n",
    "    scores = []\n",
    "    # ic(scores)\n",
    "\n",
    "    for fold in range(folds):\n",
    "        x_train = train[train.kfold != fold]#.copy()\n",
    "        x_valid = train[train.kfold == fold]#.copy()\n",
    "        # x_test = test[feature_cols].copy()\n",
    "\n",
    "        y_train = x_train[\"target\"]\n",
    "        y_valid = x_valid[\"target\"]\n",
    "\n",
    "        x_train = x_train[feature_cols]\n",
    "        x_valid = x_valid[feature_cols]\n",
    "\n",
    "        # param_list\n",
    "        # XGBoost Parameters\n",
    "        # tree_method_list = trial.suggest_categorical(\"tree_method\",[\"exact\", \"approx\", \"hist\"])\n",
    "        tree_method_list = trial.suggest_categorical(\"tree_method\", [\"gpu_hist\"])\n",
    "\n",
    "        # booster: Consider only tree booster because it always outperforms the linear booster and thus the later is rarely used\n",
    "        # booster_list = trial.suggest_categorical(\"booster\", [\"gbtree\", \"dart\"])\n",
    "        booster_list = trial.suggest_categorical(\"booster\", [\"gbtree\"])\n",
    "\n",
    "        n_estimators = trial.suggest_int(\"n_estimators\", 3000, 15000) # 1000 - 10000\n",
    "        max_depth = trial.suggest_int(\"max_depth\", 4, 12) # 1-12\n",
    "        min_child_weight = trial.suggest_int(\"min_child_weight\", 100, 500) # 1, 25\n",
    "        alpha_list = trial.suggest_int(\"alpha\", 9, 25) # 1, 25\n",
    "        learning_rate = trial.suggest_float(\"learning_rate\", 0.01, 0.1) # 0.01, 0.3, 0.01\n",
    "        gamma_list = trial.suggest_float(\"gamma\", 0.2, 0.4) # 0.01, 0.3, 0.01\n",
    "\n",
    "        # scale_pos_weight: A value greater than 0 should be used in case of high class imbalance as it helps in faster convergence.\n",
    "        scale_pos_weight = trial.suggest_int(\"scale_pos_weight\", 1, 30)\n",
    "\n",
    "        subsample_list = trial.suggest_float(\"subsample\", 0.1, 1.0) # 0.4, 1.0, 0.1\n",
    "        colsample_bytree_list = trial.suggest_float(\"colsample_bytree\", 0.1, 1.0) # 0.4, 1.0, 0.1\n",
    "        colsample_bylevel_list = trial.suggest_float(\"colsample_bytree\", 0.1, 1.0) # 0.5, 1.0, 0.1\n",
    "        reg_lambda_list = trial.suggest_int(\"reg_lambda\", 0, 5)\n",
    "\n",
    "        # Classification\n",
    "        # objective_list = trial.suggest_categorical(\"objective\", [\"binary:logistic\",\"reg:logistic\",\"binary:hinge\",\"binary:logitraw\"])\n",
    "        objective_list = trial.suggest_categorical(\"objective\", [\"binary:logistic\"])\n",
    "        eval_metric_list = trial.suggest_categorical(\"eval_metric\", [\"auc\"])\n",
    "\n",
    "        params = {\n",
    "            \"objective\": objective_list,\n",
    "            \"eval_metric\": eval_metric_list,\n",
    "            \"booster\": booster_list,\n",
    "            \"random_state\": rnd_state,\n",
    "            \"tree_method\": tree_method_list,\n",
    "            \"n_estimators\": n_estimators,\n",
    "            \"max_depth\": max_depth,\n",
    "            \"min_child_weight\": min_child_weight,\n",
    "            \"learning_rate\": learning_rate,\n",
    "            \"gamma\": gamma_list,\n",
    "            \"scale_pos_weight\": scale_pos_weight,\n",
    "            \"subsample\": subsample_list,\n",
    "            \"colsample_bytree\": colsample_bytree_list,\n",
    "            \"colsample_bylevel\": colsample_bylevel_list,\n",
    "            \"reg_lambda\": reg_lambda_list,\n",
    "            \"alpha\": alpha_list,\n",
    "            \"verbosity\": 1,\n",
    "            \"use_label_encoder\": False,\n",
    "            \"gpu_id\": 0,\n",
    "            # \"n_jobs\": n_cpu,\n",
    "            \"predictor\": \"gpu_predictor\",\n",
    "        }\n",
    "\n",
    "        model = XGBClassifier(**params)\n",
    "        model.fit(x_train, y_train, eval_set=[(x_valid, y_valid)], verbose=False)\n",
    "\n",
    "        preds_train = model.predict_proba(x_train)[:, 1]\n",
    "        preds_valid = model.predict_proba(x_valid)[:, 1]\n",
    "        auc_train = roc_auc_score(y_train, preds_train)\n",
    "        auc_valid = roc_auc_score(y_valid, preds_valid)\n",
    "        scores.append(auc_valid)\n",
    "\n",
    "        avg_auc_score = np.mean(scores)\n",
    "\n",
    "        # preds_test = model.predict_proba(x_test)[:, 1]\n",
    "        # final_test_predictions.append(preds_test)\n",
    "\n",
    "        print(f'Fold: {fold}, AUC Train: {auc_train:.6f}, AUC Valid: {auc_valid:.6f}, AUC Valid AVG: {avg_auc_score:.6f}')\n",
    "\n",
    "    return avg_auc_score\n"
   ]
  },
  {
   "cell_type": "code",
   "execution_count": 121,
   "metadata": {},
   "outputs": [
    {
     "name": "stderr",
     "output_type": "stream",
     "text": [
      "\u001b[32m[I 2021-10-27 09:01:00,887]\u001b[0m A new study created in memory with name: no-name-51636e7c-05f1-4524-a396-5405c44b9047\u001b[0m\n"
     ]
    },
    {
     "name": "stdout",
     "output_type": "stream",
     "text": [
      "Fold: 0, AUC Train: 0.990014, AUC Valid: 0.855864, AUC Valid AVG: 0.855864\n"
     ]
    }
   ],
   "source": [
    "\n",
    "sampler = TPESampler(seed=rnd_state)\n",
    "study = optuna.create_study(direction=\"maximize\", sampler=sampler)\n",
    "study.optimize(objective, n_trials=100)\n"
   ]
  }
 ],
 "metadata": {
  "interpreter": {
   "hash": "79c27f56f82a3e636d8c32f16194805e02194739f32cfb292b3e6d4616b1ccd0"
  },
  "kernelspec": {
   "display_name": "Python 3.9.7 64-bit ('kaggle-competition': conda)",
   "name": "python3"
  },
  "language_info": {
   "codemirror_mode": {
    "name": "ipython",
    "version": 3
   },
   "file_extension": ".py",
   "mimetype": "text/x-python",
   "name": "python",
   "nbconvert_exporter": "python",
   "pygments_lexer": "ipython3",
   "version": "3.9.7"
  },
  "papermill": {
   "default_parameters": {},
   "duration": 360.477415,
   "end_time": "2021-10-17T14:16:39.439751",
   "environment_variables": {},
   "exception": null,
   "input_path": "__notebook__.ipynb",
   "output_path": "__notebook__.ipynb",
   "parameters": {},
   "start_time": "2021-10-17T14:10:38.962336",
   "version": "2.3.3"
  }
 },
 "nbformat": 4,
 "nbformat_minor": 5
}
